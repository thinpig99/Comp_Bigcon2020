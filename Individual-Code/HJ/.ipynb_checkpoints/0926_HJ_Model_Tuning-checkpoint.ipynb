{
 "cells": [
  {
   "cell_type": "code",
   "execution_count": 54,
   "metadata": {
    "ExecuteTime": {
     "end_time": "2020-09-24T03:51:51.918699Z",
     "start_time": "2020-09-24T03:51:51.895743Z"
    }
   },
   "outputs": [],
   "source": [
    "import pandas as pd\n",
    "import requests\n",
    "from bs4 import BeautifulSoup\n",
    "import re\n",
    "import numpy as np\n",
    "from datetime import datetime\n",
    "import datetime\n",
    "import time\n",
    "from sklearn.preprocessing import LabelEncoder\n",
    "from sklearn.model_selection import train_test_split\n",
    "from matplotlib import font_manager, rc\n",
    "import matplotlib as mpl\n",
    "import matplotlib.pyplot as plt\n",
    "import seaborn as sns\n",
    "%matplotlib inline\n",
    "mpl.rcParams['axes.unicode_minus'] = False\n",
    "import warnings\n",
    "warnings.filterwarnings('ignore')\n",
    "import platform\n",
    "plt.rc('font', family='NanumBarunGothic') \n",
    "\n",
    "from sklearn.ensemble import RandomForestRegressor\n",
    "\n",
    "import matplotlib.font_manager as fm\n",
    "#fm._rebuild()\n",
    "plt.rc('font', family='NanumBarunGothic') \n",
    "\n",
    "import lightgbm as lgb"
   ]
  },
  {
   "cell_type": "code",
   "execution_count": 205,
   "metadata": {
    "ExecuteTime": {
     "end_time": "2020-09-26T07:34:19.032626Z",
     "start_time": "2020-09-26T07:34:18.646688Z"
    },
    "code_folding": [
     0,
     87,
     101,
     149,
     175,
     186,
     218,
     228,
     236,
     288,
     312,
     336,
     355
    ]
   },
   "outputs": [],
   "source": [
    "def make_cast_time(train): # nan값이 있는 초기 데이터셋을 써야 하기 때문에 가장 먼저 돌려줍니다. 자세한 알고리즘은 창고에서 찾아보세요.\n",
    "\n",
    "    # 일단 nan값을 노출칼럼에만 남기기 위해서 나머지 nan값 전처리 미리 해버리겠습니다.\n",
    "    train['취급액'] = train['취급액'].fillna('0')\n",
    "    train = train[train.상품군 != '무형']\n",
    "\n",
    "    # nan값 있는 애들을 따로 저장해둡니다.\n",
    "    train_yes_nan = train[train['노출(분)'].isnull()]\n",
    "    # nan값 없는 애들을 따로 저장해줍니다. 이놈들로 작업할겁니다.\n",
    "    train_not_nan = train.dropna()\n",
    "\n",
    "    # 인덱스 꼬여서 포문 안 돌아가기 때문에 인덱스 리셋하고 나중에 불러와주기 위해서 따로 저장해줍니다.\n",
    "    train_not_nan_index = train_not_nan.index\n",
    "    # 리셋 인덱스 해줍니다.\n",
    "    train_not_nan_reset_index = train_not_nan.reset_index(drop=True)\n",
    "\n",
    "    # 여기서부터 cast_time, cast_count 포문-----------------------------------------------------\n",
    "    cast_time = []\n",
    "    cast_count = []\n",
    "    time = 0.\n",
    "    count = 1\n",
    "\n",
    "    for i in range(len(train_not_nan_reset_index)):\n",
    "        if i == 0: # 첫번째 행은 이걸로 하십쇼.\n",
    "            time = train_not_nan_reset_index['노출(분)'][i] # 더하지 않고, 자기 노출을 그대로 가져옵니다.\n",
    "            count = 1 # count도 1로 초기화 합니다.\n",
    "            cast_time.append(time) # 그리고 어펜드.\n",
    "            cast_count.append(count) # 그리고 어펜드.\n",
    "        elif train_not_nan_reset_index['상품코드'][i] == train_not_nan_reset_index['상품코드'][i-1]: # 자기의 상품코드가 앞행의 상품코드와 같을 때\n",
    "            time += train_not_nan_reset_index['노출(분)'][i] # 기존 누적된 노출에 자기 노출을 더한다.\n",
    "            count += 1 # count도 1을 더해줍니다.\n",
    "            cast_time.append(time) # 그리고 어펜드.\n",
    "            cast_count.append(count) # 그리고 어펜드.\n",
    "        else: # 근데 자기 상품코드와 앞행의 상품코드가 다르다면, 새로운 방송이 시작된 거겠죠?\n",
    "            time = train_not_nan_reset_index['노출(분)'][i] # 더하지 않고, 자기 노출을 그대로 가져옵니다.\n",
    "            count = 1 # count도 1로 초기화 합니다.\n",
    "            cast_time.append(time) # 그리고 어펜드.\n",
    "            cast_count.append(count) # 그리고 어펜드.\n",
    "    # 포문 끝------------------------------------------------------------  \n",
    "    # 컬럼으로 박아줍니다.\n",
    "    train_not_nan_reset_index['cast_time'] = cast_time\n",
    "    train_not_nan_reset_index['cast_count'] = cast_count\n",
    "    \n",
    "    # 여기서부터 cast_time_sum, cast_count_sum 포문-------------------------------------------------\n",
    "    cast_time_sum = []\n",
    "    cast_count_sum = []\n",
    "\n",
    "    for i in range(len(train_not_nan_reset_index)):\n",
    "        if i == max(train_not_nan_reset_index.index): #마지막은 비교할 다음타자가 없으니 바로 넣기.\n",
    "            cast_time_sum.append(train_not_nan_reset_index['cast_time'][i])\n",
    "            cast_count_sum.append(train_not_nan_reset_index['cast_count'][i])\n",
    "        elif train_not_nan_reset_index['상품코드'][i] == train_not_nan_reset_index['상품코드'][i+1]: # 자기와 다음타자의 상품코드가 같으면\n",
    "            cast_time_sum.append(np.nan)\n",
    "            cast_count_sum.append(np.nan)\n",
    "        else: # 자기와 다음타자의 상품코드가 다르면\n",
    "            cast_time_sum.append(train_not_nan_reset_index['cast_time'][i])\n",
    "            cast_count_sum.append(train_not_nan_reset_index['cast_count'][i])\n",
    "            \n",
    "    # 포문 끝----------------------------------------------------------------------\n",
    "    # 칼럼으로 박아줍니다.\n",
    "    train_not_nan_reset_index['cast_time_sum'] = cast_time_sum\n",
    "    train_not_nan_reset_index['cast_count_sum'] = cast_count_sum\n",
    "    # 백필로 nan값 채워줍니다.\n",
    "    train_not_nan_reset_index.fillna(method='bfill', inplace=True)\n",
    "    \n",
    "\n",
    "    # 원래 인덱스 다시 넣어줍니다.\n",
    "    train_not_nan_reset_index.index = train_not_nan_index\n",
    "    # 컨캣으로 밑으로 붙여주고,\n",
    "    train_concat = pd.concat([train_not_nan_reset_index, train_yes_nan], axis=0)\n",
    "    # 소트 인덱스 먼저 하고,\n",
    "    train_concat_sort_index = train_concat.sort_index()\n",
    "    # ffill 로 채워줍니다. 끝. 이거 너무 힘들었다 진짜 레알.\n",
    "    train = train_concat_sort_index.fillna(method='ffill')\n",
    "    \n",
    "    # 누적 방송 시간 비율 칼럼을 만들어줍니다.\n",
    "    train['cast_time_ratio'] = train.cast_time / train.cast_time_sum\n",
    "    \n",
    "    # 인덱스 리셋해줍니다.\n",
    "    train = train.reset_index(drop=True)\n",
    "    \n",
    "    # 다이어트\n",
    "    train['cast_count'] = train.cast_count.astype(np.int16)\n",
    "    \n",
    "    return train\n",
    "\n",
    "# 기본 전처리 함수\n",
    "def preprocessing_1(df):\n",
    "    \n",
    "    # 취급액과 판매단가 수치형 변수로 바꾸기.\n",
    "    df['취급액'] = df['취급액'].apply(lambda x: x.replace(',', ''))\n",
    "    df['판매단가'] = df['판매단가'].apply(lambda x: x.replace(',', ''))\n",
    "    df['취급액'] = df['취급액'].astype(np.int32)\n",
    "    df['판매단가'] = df['판매단가'].astype(np.int32)\n",
    "    \n",
    "    # 칼럼명 너무 어려우니까 쪼금만 바꿔줍니다.\n",
    "    #df = df.rename(columns = {' 취급액 ':'취급액'})\n",
    "    \n",
    "    return df\n",
    "\n",
    "# 상품명 전처리 함수\n",
    "def preprocessing_3(train):\n",
    "    # 1. 일시불/무이자/없음\n",
    "    train.loc[train['상품명'].str.contains('일시불') == True, \"상품명_plan\"] = '1'\n",
    "    train.loc[train['상품명'].str.contains('일\\)') == True, \"상품명_plan\"] = '1'\n",
    "    train.loc[train['상품명'].str.contains('무이자') == True, \"상품명_plan\"] = '2'\n",
    "    train.loc[train['상품명'].str.contains('무\\)') == True, \"상품명_plan\"] = '2'\n",
    "    train['상품명_plan'] = train['상품명_plan'].fillna('0')\n",
    "\n",
    "    # 2. 추가구성/단품구성\n",
    "    train.loc[train['상품명'].str.contains('\\+') == True, \"상품명_add\"] = '1'\n",
    "    train['상품명_add'] = train['상품명_add'].fillna('0')\n",
    "\n",
    "    # 3. 기타/삼성/LG\n",
    "    train.loc[train['상품명'].str.contains('삼성') == True, \"상품명_maker\"] = '1'\n",
    "    train.loc[train['상품명'].str.contains('LG') == True, \"상품명_maker\"] = '2'\n",
    "    train['상품명_maker'] = train['상품명_maker'].fillna('0')\n",
    "\n",
    "    # 4. 세트구성/단품구성\n",
    "    train.loc[train['상품명'].str.contains('세트') == True, \"상품명_set\"] = '1'\n",
    "    train['상품명_set'] = train['상품명_set'].fillna('0')\n",
    "\n",
    "    # 5. 여성/남성/없음\n",
    "    train.loc[train['상품명'].str.contains('여성') == True, \"상품명_sex\"] = '1'\n",
    "    train.loc[train['상품명'].str.contains('브라') == True, \"상품명_sex\"] = '1'\n",
    "    train.loc[train['상품명'].str.contains('란쥬') == True, \"상품명_sex\"] = '1'\n",
    "    train.loc[train['상품명'].str.contains('블라우스') == True, \"상품명_sex\"] = '1'\n",
    "    train.loc[train['상품명'].str.contains('밍크') == True, \"상품명_sex\"] = '1'\n",
    "    train.loc[train['상품명'].str.contains('남성') == True, \"상품명_sex\"] = '2'\n",
    "    train.loc[train['상품명'].str.contains('드로즈') == True, \"상품명_sex\"] = '2'\n",
    "    train.loc[train['상품명'].str.contains('트렁크') == True, \"상품명_sex\"] = '2'\n",
    "    train['상품명_sex'] = train['상품명_sex'].fillna('0')\n",
    "    \n",
    "    # 6. 아동/성인\n",
    "    train.loc[train['상품명'].str.contains('주니어') == True, \"상품명_kid\"] = '1'\n",
    "    train.loc[train['상품명'].str.contains('여아') == True, \"상품명_kid\"] = '1'\n",
    "    train.loc[train['상품명'].str.contains('남아') == True, \"상품명_kid\"] = '1'\n",
    "    train.loc[train['상품명'].str.contains('아동') == True, \"상품명_kid\"] = '1'\n",
    "    train['상품명_kid'] = train['상품명_kid'].fillna('0')\n",
    "\n",
    "    # category로 형변환해서 다이어트 시켜줍니다.\n",
    "    train['상품명_plan'] = train['상품명_plan'].astype('category')\n",
    "    train['상품명_add'] = train['상품명_add'].astype('category')\n",
    "    train['상품명_maker'] = train['상품명_maker'].astype('category')\n",
    "    train['상품명_set'] = train['상품명_set'].astype('category')\n",
    "    train['상품명_sex'] = train['상품명_sex'].astype('category')\n",
    "    \n",
    "    return train\n",
    "\n",
    "def make_fake_weight(train):\n",
    "    fake_weight = []\n",
    "    weight = 1\n",
    "\n",
    "    for i in range(len(train)):\n",
    "        if i == 0: # 첫번째 행은 이걸로 하십쇼.\n",
    "            weight = 1 # count도 1로 초기화 합니다.\n",
    "            fake_weight.append(weight) # 그리고 어펜드.\n",
    "            \n",
    "        elif train['마더코드'][i] == train['마더코드'][i-1]: # 자기의 마더코드가 앞행의 것과 같을 때\n",
    "            if train['판매단가'][i] < train['판매단가'][i-1]: # 자기의 단가가 앞행의 것보다 작으면(같으면 안됨)\n",
    "                weight +=1 # 가중치 1을 더하고,\n",
    "                fake_weight.append(weight) # 그리고 어펜드\n",
    "            else: # 자기의 단가가 앞행의 것과 같거나 더 크면(더 클 수는 없음.)\n",
    "                weight = 1 # 가중치 1로 초기화\n",
    "                fake_weight.append(weight)\n",
    "                \n",
    "        else: # 근데 자기 마더코드와 앞행의 마더코드가 다르다면, 새로운 방송이 시작된 거겠죠?\n",
    "            weight = 1 # 가중치 1로 초기화\n",
    "            fake_weight.append(weight)\n",
    "            \n",
    "    train['fake_weight'] = fake_weight\n",
    "    train['fake_weight'] = train.fake_weight.apply(lambda x: -(x*x))\n",
    "    \n",
    "    return train\n",
    "\n",
    "def make_train_fake(train):\n",
    "    \n",
    "    # 더 정확한 변수 생성을 위해 기계가 걸러내지 못하는 조건을 쳐내줍니다.\n",
    "    train_fake = train[train.상품명_plan == '0'] # 할부플랜이 다른 애들 쳐내기\n",
    "    train_fake = train_fake[train_fake.상품명_sex == '0'] # 성별이 다른 애들 쳐내기.\n",
    "    \n",
    "    # 포문 돌리기 위해 인덱스 리셋 해줍니다.\n",
    "    train_fake.reset_index(drop=True, inplace=True)\n",
    "\n",
    "    return train_fake\n",
    "\n",
    "def make_fake_weight2(train):\n",
    "    fake_weight = []\n",
    "    weight = 0\n",
    "\n",
    "    for i in range(len(train)):\n",
    "        if i == 0: # 첫번째 행은 이걸로 하십쇼.\n",
    "            weight = 0 # count도 1로 초기화 합니다.\n",
    "            fake_weight.append(weight) # 그리고 어펜드.\n",
    "            \n",
    "        elif train['마더코드'][i] == train['마더코드'][i-1]: # 자기의 마더코드가 앞행의 것과 같을 때\n",
    "            if train['판매단가'][i] == train['판매단가'][i-1]: # 자기의 단가가 앞행의 것과 같을 때\n",
    "                if train['방송일시'][i] == train['방송일시'][i-1]:\n",
    "                    if train['상품코드'][i] != train['상품코드'][i-1]: # 상품코드는 일치하지 않으면 조건 성립\n",
    "                        weight -=1 # 가중치 1을 빼고,\n",
    "                        fake_weight.append(weight) # 그리고 어펜드\n",
    "                    else: # 상품코드까지 같으면 동일 상품.\n",
    "                        weight = 0\n",
    "                        fake_weight.append(weight)\n",
    "                else: #방송일시가 다르면 새로운 방송 시작\n",
    "                    weight = 0 # 가중치 0로 초기화\n",
    "                    fake_weight.append(weight)\n",
    "            else: # 판매단가가 다르면 다른 상품\n",
    "                weight = 0 # 가중치 0로 초기화\n",
    "                fake_weight.append(weight)\n",
    "        else: # 근데 자기 마더코드와 앞행의 마더코드가 다르다면, 새로운 방송이 시작된 거겠죠?\n",
    "            weight = 0 # 가중치 1로 초기화\n",
    "            fake_weight.append(weight)\n",
    "            \n",
    "    train['fake_weight2'] = fake_weight\n",
    "    \n",
    "    return train\n",
    "\n",
    "def preprocessing_to_merge(df):\n",
    "    # merge를 위해 datetime으로 바꿔줍니다..\n",
    "    df['방송일시'] = pd.to_datetime(df['방송일시'], errors='coerce')\n",
    "    df['방송일시'] = df['방송일시'].astype(str)\n",
    "    \n",
    "    # key 칼럼을 만들어줍니다. 방송일시만으로는 안되니, 방송일시+상품명을 해줍니다.\n",
    "    df['key'] = df['방송일시'] + df['상품명']\n",
    "    \n",
    "    return df\n",
    "\n",
    "def preprocessing_merging(df1, df2):\n",
    "    # df1이 왼쪽, df2가 오른쪽입니다.\n",
    "    df3 = pd.merge(df1, df2[['key','ratings_mean','cat1','cat2','cat3']], how='left', on=['key'])\n",
    "    df3 = df3.drop('key', axis=1) # key 칼럼은 드랍.\n",
    "    \n",
    "    return df3\n",
    "\n",
    "# 방송일시 쪼개기 전처리 함수\n",
    "def preprocessing_4(train):\n",
    "    # datetime으로 바꿔줍니다.\n",
    "    train['방송일시'] = pd.to_datetime(train['방송일시'], errors='coerce')\n",
    "   \n",
    "    # 월일이 다음날로 넘어가는 것을 막기 위해서 3시간씩 앞으로 땡겨줍니다. 마지막에 다시 더해줘야 합니다.\n",
    "    delta = datetime.timedelta(hours=3)\n",
    "    train['방송일시'] = train.방송일시.apply(lambda x: x - delta)\n",
    "\n",
    "    # dayofweek는 날짜에서 요일(월~일)을 가져오는 기능입니다.\n",
    "    # 값은 0(월), 1(화), 2(수), 3(목), 4(금), 5(토), 6(일) 을 나타냅니다.\n",
    "    train[\"방송일시_dow\"] = train[\"방송일시\"].dt.dayofweek\n",
    "\n",
    "    # 요일 외에 다른 정보를 가져오기 위해서 다시 string으로 바꿔줍니다.\n",
    "    train['방송일시'] = train.방송일시.astype(str)\n",
    "\n",
    "    # MMDDhhmm 정보를 가져옵니다.\n",
    "    train['방송일시_MM'] = train['방송일시'].apply(lambda x: x[5:7])\n",
    "    train['방송일시_DD'] = train['방송일시'].apply(lambda x: x[8:10])\n",
    "    train['방송일시_hh'] = train['방송일시'].apply(lambda x: x[11:13])\n",
    "    train['방송일시_mm'] = train['방송일시'].apply(lambda x: x[14:16])\n",
    "\n",
    "    # schedule 관련 칼럼을 더 만들어보겠습니다. # MMDD # DDHH # HHMM # weekday/weekends\n",
    "    train['방송일시_MMDD'] = train['방송일시_MM'] + train['방송일시_DD']\n",
    "    train['방송일시_DDhh'] = train['방송일시_DD'] + train['방송일시_hh']\n",
    "    train['방송일시_hhmm'] = train['방송일시_hh'] + train['방송일시_mm']\n",
    "    train['방송일시_MMDDhh'] = train['방송일시_MM'] + train['방송일시_DD'] + train['방송일시_hh']\n",
    "\n",
    "    # mmmm_1 은 1일 사이클로 분단위로 환산한 것\n",
    "    # mmmm_2 는 1달 사이클로 분단위로 환산한 것\n",
    "    # mmmm_3 는 1년 사이클로 분단위로 환산한 것\n",
    "    train['방송일시_mmmm_1'] = train['방송일시_hh'].astype(int) * train['방송일시_mm'].astype(int) * 60\n",
    "    train['방송일시_mmmm_2'] = train['방송일시_DD'].astype(int) * train['방송일시_hh'].astype(int) * train['방송일시_mm'].astype(int) * 60\n",
    "    train['방송일시_mmmm_3'] = train['방송일시_MM'].astype(int) * train['방송일시_DD'].astype(int) * train['방송일시_hh'].astype(int) * train['방송일시_mm'].astype(int) * 60\n",
    "\n",
    "    # weekday = 1 / weekends = 0\n",
    "    train.loc[train.방송일시_dow == 5, '방송일시_dow2'] = '0'\n",
    "    train.loc[train.방송일시_dow == 6, '방송일시_dow2'] = '0'\n",
    "    train['방송일시_dow2'] = train.방송일시_dow2.fillna('1')\n",
    "    \n",
    "    #다이어트\n",
    "    train['방송일시_dow'] = train.방송일시_dow.astype(np.int16)\n",
    "    train['방송일시_MM'] = train.방송일시_MM.astype('category')\n",
    "    train['방송일시_DD'] = train.방송일시_DD.astype('category')\n",
    "    train['방송일시_hh'] = train.방송일시_hh.astype('category')\n",
    "    train['방송일시_mm'] = train.방송일시_mm.astype('category')\n",
    "    train['방송일시_MMDD'] = train.방송일시_MMDD.astype('category')\n",
    "    train['방송일시_DDhh'] = train.방송일시_DDhh.astype('category')\n",
    "    train['방송일시_hhmm'] = train.방송일시_hhmm.astype('category')\n",
    "    train['방송일시_dow2'] = train.방송일시_dow2.astype('category')\n",
    "    \n",
    "    return train\n",
    "\n",
    "def pre_nlp(train):\n",
    "    # 제품명에서 불필요한 요소 전처리\n",
    "    new_product_name = []\n",
    "\n",
    "    re_stop = re.compile(\"\"\"\\([가-힣]{1,5}\\+[가-힣]{1,5}\\)|\\(?무이자\\)?\\s?|\\(?일시불\\)?\\s?|\\(?초특가\\)?\\s?|\\(?무\\)\\s?|\\(?유\\)\\s?|\\(?일\\)\\s?|무료체험|\n",
    "    |포함|국내[가-힣]+\\s|무료설치|\\s?신제품\\s?|\\s?패키지\\s?|[0-9]+종|풀코디|set|SET|풀세트|[0-9]+세트|더블팩|싱글팩|[0-9]{1,2}\\+[0-9]{1,2}|[0-9]{1,2}인용|[0-9]{1,2}박스|[0-9\\.]{1,4}미터|[0-9\\.]{1,4}kg|[0-9\\.]{1,4}[kKgG]|[0-9]{1,3}[벌롤종단구대P개통병포미봉팩장gL매]|\n",
    "    |\\s[0-9\\.]{1,4}[Mm]|\\(.{1,10}\\)$|^\\(.?\\)|^[0-9]{2,4}\\s|\\s+[0-9]{2,4}\\s|[0-9]{2,4}년\\s|[0-9]{2,4}년형\\s|시즌[0-9]|[0-9]{1,3}\\%|\\(.{1,20}\\)$|기본형|고급형|오리지널|[대중소大中小]형|.{1,10}by|,|\\s?총[0-9\\s]|^[가-힣a-zA-Z]{3,3}의|\n",
    "    |S\\/S|F\\/W|f\\/w|s\\/s|[가-힣]+형\\s|[슈퍼]{0,2}싱글|\\s[SQK퀸킹]{1,2}\\s|[SQK퀸킹]{1,2}$|[가-힣]{0,2}사이즈\"\"\")\n",
    "\n",
    "    remnants = re.compile('[\",g\\+lL-]\\s|ml|_|\\sx|[\\[\\]\\］!\"#$%&\\'()*+,./:;<=>?@\\^_`{|}~-]|\\s종$|\\s[0-9]+\\s|\\s{2,}')\n",
    "\n",
    "    for i in train.상품명:\n",
    "        tmp = re_stop.sub(' ',i)\n",
    "        tmp = tmp.strip()\n",
    "        tmp = remnants.sub(' ',tmp)\n",
    "        new_product_name.append(tmp.strip())\n",
    "    \n",
    "    train['new_상품명'] = new_product_name\n",
    "    \n",
    "    # 상품명에서 브랜드 추출\n",
    "    train['상품명_brand'] = train['new_상품명'].apply(lambda x: x[:2])\n",
    "    \n",
    "    return train\n",
    "\n",
    "def outside_feature_naver(train, naver):\n",
    "    # 먼저 합쳐줍니다.\n",
    "    train = pd.merge(train, naver, on='상품명', how='left')\n",
    "    \n",
    "    # 전처리 해줍니다.\n",
    "    train['review_counts'] = train['review_counts'].fillna(0)\n",
    "    train['internet_price'] = train['internet_price'].fillna(0)\n",
    "    train['review_counts'] = train['review_counts'].astype(str)\n",
    "    train['internet_price'] = train['internet_price'].astype(str)\n",
    "    train['review_counts'] = train['review_counts'].apply(lambda x: x.replace(',',''))\n",
    "    train['internet_price'] = train['internet_price'].apply(lambda x: x.replace(',',''))\n",
    "    train['internet_price'] = train['internet_price'].apply(lambda x: x.replace('원',''))\n",
    "    train['review_counts'] = train['review_counts'].astype(int)\n",
    "    train['internet_price'] = train['internet_price'].astype(int)\n",
    "\n",
    "    # 오차를 컬럼으로 만들어줍니다.\n",
    "    train['price_minus'] = train['판매단가'] - train['internet_price']\n",
    "\n",
    "    # 네이버에 서칭이 되는지 여부를 알려줍니다.\n",
    "    train['search_naver'] = train['internet_price'] + train['review_counts']\n",
    "    train['search_naver'] = train['search_naver'].apply(lambda x: 0 if x == 0 else 1)\n",
    "    \n",
    "    return train\n",
    "\n",
    "def outside_feature_weather(weather):\n",
    "    # datetime으로 바꿔줍니다.\n",
    "    weather['date'] = pd.to_datetime(weather['date'], errors='coerce')\n",
    "\n",
    "    # 월일이 다음날로 넘어가는 것을 막기 위해서 3시간씩 앞으로 땡겨줍니다. 마지막에 다시 더해줘야 합니다.\n",
    "    delta = datetime.timedelta(hours=3)\n",
    "    weather['date'] = weather.date.apply(lambda x: x - delta)\n",
    "\n",
    "    # 요일 외에 다른 정보를 가져오기 위해서 다시 string으로 바꿔줍니다.\n",
    "    weather['date'] = weather.date.astype(str)\n",
    "    \n",
    "    # key column 만들어주기.\n",
    "    weather['방송일시_MMDDhh'] = weather['date'].apply(lambda x: x[5:7]) + weather['date'].apply(lambda x: x[8:10]) + weather['date'].apply(lambda x: x[11:13])\n",
    "\n",
    "    # 필요없는 칼럼은 미리 버려줍니다.\n",
    "    weather.drop(['location_id', 'location', 'date'], axis=1, inplace=True)\n",
    "    \n",
    "    return weather\n",
    "\n",
    "def stock_crawler(code):\n",
    "\n",
    "    for c, i in zip(code, range(len(code))):\n",
    "        \n",
    "        url = 'https://finance.naver.com/item/sise_day.nhn' # URL은 고정\n",
    "        result = []\n",
    "        tdtext_list = ['날짜', c]\n",
    "\n",
    "        for num in range(16, 43): # 페이지 범위 지정\n",
    "            params = {'code' : c, # 지수 코드 지정\n",
    "                      'page' : f'{num}'}\n",
    "\n",
    "            resp = requests.get(url, params = params)\n",
    "            soup = BeautifulSoup(resp.content, 'html.parser')\n",
    "\n",
    "            for tr in soup.find_all('tr')[2:14]:\n",
    "                new_dict = { }\n",
    "                td_list = tr.find_all('td')\n",
    "                if not td_list[0].text.strip():\n",
    "                    continue\n",
    "                for i in range(2):\n",
    "                    new_dict[tdtext_list[i]] = td_list[i].text.strip()\n",
    "                result.append(new_dict)\n",
    "\n",
    "        globals()['stock_{}'.format(c)] = pd.DataFrame(result, columns = tdtext_list)\n",
    "        \n",
    "# 라벨인코딩 숫자가 많아지니 함수로 만들어버립니다.\n",
    "def label_encoding(train_, columns, number):\n",
    "    length = range(number)\n",
    "    for c, i in zip(columns, length):\n",
    "        # 라벨인코더 피팅\n",
    "        globals()['encoder_{}:'.format(i)] = LabelEncoder()\n",
    "        globals()['encoder_{}:'.format(i)].fit(train_[c].values)\n",
    "        \n",
    "        # 트레인셋에 트랜스폼\n",
    "        train_['encoding_{}:'.format(c)] = globals()['encoder_{}:'.format(i)].transform(train_[c])\n",
    "        \n",
    "def mape(y_true, y_pred):\n",
    "    assert len(y_true) == len(y_pred)\n",
    "    y_true, y_pred = np.array(y_true), np.array(y_pred)\n",
    "    return np.mean(np.abs((y_true - y_pred) / y_true)) * 100\n",
    "\n",
    "def mape2(y_true, logged_y_pred):\n",
    "    assert len(y_true) == len(logged_y_pred)\n",
    "    y_pred=np.exp(1)**logged_y_pred\n",
    "    y_true, y_pred = np.array(y_true), np.array(y_pred)\n",
    "    return np.mean(np.abs((y_true - y_pred) / y_true)) * 100\n"
   ]
  },
  {
   "cell_type": "code",
   "execution_count": 56,
   "metadata": {
    "ExecuteTime": {
     "end_time": "2020-09-24T03:51:53.295963Z",
     "start_time": "2020-09-24T03:51:52.175996Z"
    }
   },
   "outputs": [],
   "source": [
    "pd.set_option('display.max_columns', None)\n",
    "\n",
    "train = pd.read_csv('C:/Users/SHJ/Documents/GIS/Bigcon2020/data/train_new.csv')\n",
    "test = pd.read_csv('C:/Users/SHJ/Documents/GIS/Bigcon2020/data/test_new.csv')\n",
    "ratings = pd.read_csv('C:/Users/SHJ/Documents/GIS/Bigcon2020/data/tv_new.csv')\n",
    "category = pd.read_csv('C:/Users/SHJ/Documents/GIS/Bigcon2020/data/categorized_HJ2.csv') # 카테고리 추가되었습니다.\n",
    "\n",
    "# 난 값 먼저 채워 줍니다.\n",
    "category['cat3'] = category.apply(lambda x: x['cat2'] if x['cat3'] != x['cat3'] else x['cat3'], axis=1)\n",
    "\n",
    "naver = pd.read_csv('C:/Users/SHJ/Documents/GIS/Bigcon2020/data/naver.csv')\n",
    "\n",
    "# 기상청 통계 파일 읽기\n",
    "weather = pd.read_csv('C:/Users/SHJ/Documents/GIS/Bigcon2020/data/OBS_ASOS_TIM_20200902192155.csv', encoding='latin1')\n",
    "columns = ['location_id','location','date','temperature']\n",
    "weather.columns = columns\n",
    "\n",
    "kospi = pd.read_csv('C:/Users/SHJ/Documents/GIS/Bigcon2020/data/코스피지수 내역.csv')\n",
    "search = pd.read_excel('C:/Users/SHJ/Documents/GIS/Bigcon2020/data/datalab.xlsx',skiprows=6)\n"
   ]
  },
  {
   "cell_type": "code",
   "execution_count": 57,
   "metadata": {
    "ExecuteTime": {
     "end_time": "2020-09-24T03:51:53.325884Z",
     "start_time": "2020-09-24T03:51:53.296962Z"
    }
   },
   "outputs": [],
   "source": [
    "# train셋의 취급액 이름이 달라서 통일시켜줍니다. 우리의 소원은 통일.\n",
    "train = train.rename(columns = {' 취급액 ':'취급액'})\n",
    "# 전처리를 한 번에 해주기 위해서 train, test를 합쳐줍니다.\n",
    "df_all = pd.concat([train, test]).reset_index()"
   ]
  },
  {
   "cell_type": "code",
   "execution_count": 58,
   "metadata": {
    "ExecuteTime": {
     "end_time": "2020-09-24T03:52:51.835147Z",
     "start_time": "2020-09-24T03:51:53.328879Z"
    }
   },
   "outputs": [],
   "source": [
    "df_all = make_cast_time(df_all)\n",
    "\n",
    "df_all = preprocessing_1(df_all)\n",
    "\n",
    "df_all = preprocessing_3(df_all)\n",
    "\n",
    "df_all = make_fake_weight(df_all)\n",
    "\n",
    "df_fake = make_train_fake(df_all)\n",
    "df_fake = make_fake_weight2(df_fake)\n",
    "\n",
    "# 기존 데이터에 합쳐줍니다.\n",
    "df_all = pd.merge(df_all, df_fake[['방송일시','마더코드','상품코드','상품명','판매단가', 'fake_weight2']],\n",
    "                 on=['방송일시','마더코드','상품코드','상품명','판매단가'], how='left')\n",
    "\n",
    "# 빈 값은 전부 0으로 채워줍니다.\n",
    "df_all['fake_weight2'] = df_all['fake_weight2'].fillna(0)\n",
    "\n",
    "df_all = preprocessing_to_merge(df_all)\n",
    "category = preprocessing_to_merge(category)\n",
    "df_all = preprocessing_merging(df_all, category)\n",
    "\n",
    "df_all = preprocessing_4(df_all)\n",
    "\n",
    "df_all = pre_nlp(df_all)\n",
    "\n",
    "df_all = outside_feature_naver(df_all, naver)\n",
    "\n",
    "weather = outside_feature_weather(weather)\n",
    "\n",
    "df_all = pd.merge(df_all, weather, on='방송일시_MMDDhh', how='left')\n",
    "\n",
    "# 합치기 좋게 행렬 축을 바꿔줍니다.\n",
    "ratings_melt = pd.melt(ratings, id_vars=['시간대'])\n",
    "# 평균 시청률이 있습니다. 없애줍니다.\n",
    "ratings_melt.drop(ratings_melt[ratings_melt['variable'].str.contains('to')].index, axis=0, inplace=True)\n",
    "ratings_melt.drop(ratings_melt[ratings_melt['시간대'].str.contains('월')].index, axis=0, inplace=True)\n",
    "\n",
    "\n",
    "change = 0\n",
    "change_label = []\n",
    "\n",
    "for i in range(len(df_all)):\n",
    "    if i == 0: # 첫번째 행은 이걸로 하십쇼.\n",
    "        change = 1 # 방송 시작이니 1을 줍니다.\n",
    "        change_label.append(change) # 그리고 어펜드.\n",
    "\n",
    "    elif df_all['마더코드'][i] == df_all['마더코드'][i-1]: # 자기의 마더코드가 앞행의 것과 같을 때\n",
    "        change = 0 # 기존 방송이니 0을 줍니다.\n",
    "        change_label.append(change) # 그리고 어펜드.\n",
    "        \n",
    "    else: # 근데 자기 마더코드와 앞행의 마더코드가 다르다면, 새로운 방송이 시작된 거겠죠?\n",
    "        change = 1 # 방송 시작이니 1을 줍니다.\n",
    "        change_label.append(change) # 그리고 어펜드.\n",
    "\n",
    "df_all['change_label'] = change_label\n",
    "\n",
    "# 시청률 df는 편하게 change_label 을 그냥 1로 때려박습니다.\n",
    "ratings_melt['change_label'] = 1\n",
    "\n",
    "# train의 방송일시를 datetime 으로 바꿔서 키 값으로 줍니다.\n",
    "df_all['ratings_key'] = pd.to_datetime(df_all.방송일시)\n",
    "# ratings 도 마찬가지.\n",
    "ratings_melt['ratings_key'] = pd.to_datetime((ratings_melt.variable + \" \" + ratings_melt.시간대))\n",
    "# train이 3시간 당겨져 있으니, ratings도 3시간 당겨줍니다.\n",
    "delta = datetime.timedelta(hours=3)\n",
    "ratings_melt['ratings_key'] = ratings_melt.ratings_key.apply(lambda x: x - delta)\n",
    "\n",
    "# 합쳐줍니다.\n",
    "df_all = pd.merge(df_all, ratings_melt[['ratings_key','change_label', 'value']], on=['change_label','ratings_key'], how='left')\n",
    "\n",
    "# 방송 시작 시청률만 넣어주기 때문에 nan값이 생깁니다. 전부 ffill로 채워주면 점수가 떨어지고 0을 넣어주면 올라갑니다... \n",
    "df_all.value = df_all.value.fillna(0)\n",
    "\n",
    "# 키값은 드랍\n",
    "df_all.drop('ratings_key', axis=1, inplace=True)\n",
    "# 칼럼명은 변경\n",
    "df_all.rename(columns = {'value':'ratings_start'}, inplace=True)\n",
    "\n",
    "# 가격이 끝에 9xxxx 으로 끝나는 애들을 따로 피쳐로 빼봅시다.\n",
    "\n",
    "df_all['판매단가'] = df_all['판매단가'].astype(str)\n",
    "df_all.loc[df_all['판매단가'].str.contains('900') == True, \"가격_9x\"] = '1'\n",
    "df_all.loc[df_all['판매단가'].str.contains('900') == False, \"가격_9x\"] = '0'\n",
    "df_all['판매단가'] = df_all['판매단가'].astype(int)\n",
    "\n"
   ]
  },
  {
   "cell_type": "code",
   "execution_count": 59,
   "metadata": {
    "ExecuteTime": {
     "end_time": "2020-09-24T03:53:02.636251Z",
     "start_time": "2020-09-24T03:52:51.837148Z"
    }
   },
   "outputs": [],
   "source": [
    "code = ['143860', '098560', '228790', '228800', '227560', '227550', '307510']\n",
    "stock_crawler(code)"
   ]
  },
  {
   "cell_type": "code",
   "execution_count": 60,
   "metadata": {
    "ExecuteTime": {
     "end_time": "2020-09-24T03:53:10.280797Z",
     "start_time": "2020-09-24T03:53:02.638244Z"
    }
   },
   "outputs": [],
   "source": [
    "# 다 합쳐줍니다. 함수로 하고 싶은데,너무 귀찮습니다. 알고리즘 짜기. 그냥 노가다 뜁니다.\n",
    "stock_all = pd.merge(stock_098560, stock_143860, on='날짜')\n",
    "stock_all = pd.merge(stock_all, stock_227550, on='날짜')\n",
    "stock_all = pd.merge(stock_all, stock_227560, on='날짜')\n",
    "stock_all = pd.merge(stock_all, stock_228790, on='날짜')\n",
    "stock_all = pd.merge(stock_all, stock_228800, on='날짜')\n",
    "stock_all = pd.merge(stock_all, stock_307510, on='날짜')\n",
    "\n",
    "# key값을 만들기 위해 귀찮지만 형변환 두 단계\n",
    "stock_all['날짜'] = pd.to_datetime(stock_all['날짜'], errors='coerce')\n",
    "stock_all['날짜'] = stock_all['날짜'].astype(str)\n",
    "\n",
    "# 1월 1일 자료가 없는 관계로 그 이전 종가를 가져온다.\n",
    "stock_all.replace({'2018-12-28': '2019-01-01'}, inplace=True)\n",
    "\n",
    "# 컴퓨터가 인식하도록 int 로 수치를 바꿔줍니다.\n",
    "\n",
    "for col in stock_all.columns:\n",
    "    stock_all[col] = stock_all[col].apply(lambda x: x.replace(',',''))\n",
    "    if col == '날짜':\n",
    "        pass\n",
    "    else:\n",
    "        stock_all[col] = stock_all[col].astype(np.int16)\n",
    "\n",
    "# 귀찮지만 train에도 만들어주기.\n",
    "df_all['날짜'] = df_all['방송일시'].apply(lambda x: x[:10])\n",
    "df_all['날짜'] = df_all['날짜'].astype(str)\n",
    "\n",
    "df_all = pd.merge(df_all, stock_all, on='날짜', how='left')\n",
    "\n",
    "df_all= df_all.fillna(method='ffill')\n",
    "df_all.drop(['날짜'], axis=1, inplace=True)\n",
    "\n",
    "# 상품별 최대 판매단가 추가\n",
    "\n",
    "tmp = df_all[['상품명','판매단가']].groupby('상품명').max()[['판매단가']].reset_index()\n",
    "df_all = pd.merge(df_all, tmp, on='상품명', how='left')\n",
    "df_all.rename({'판매단가_x':'판매단가','판매단가_y':'할인'}, axis=1, inplace= True)\n",
    "df_all['할인여부'] = df_all['할인'] - df_all['판매단가']\n",
    "\n",
    "df_all.drop(['할인'], axis=1, inplace=True)\n",
    "\n",
    "# 시간대별 평균 취급액 추가(train default 변수)\n",
    "\n",
    "tmp = df_all.groupby('방송일시_hhmm').mean()[['취급액']].reset_index()\n",
    "df_all = pd.merge(df_all, tmp, on='방송일시_hhmm', how='left')\n",
    "df_all.rename({'취급액_y':'mean_amt_by_hhmm','취급액_x':'취급액'}, axis=1, inplace=True)\n",
    "\n",
    "# 시간대별로 4파트로 나눕니다. 아래는 민수의 구분\n",
    "\n",
    "list_0 = ['03', '04', '05', '06', '07','08'] # 낮12시 이전\n",
    "list_1 = ['09', '10', '11', '12', '13','14', '15', '16', '17'] # 낮 12시부터\n",
    "list_2 = ['18', '19', '20', '21', '22', '23'] # 밤 9시부터\n",
    "\n",
    "# 시간대별로 4파트로 나눕니다. 아래는 왕수의 구분\n",
    "\n",
    "list_4 = ['03', '21', '22', '23'] # 심야시간대, 03, 21, 22, 23\n",
    "list_5 = ['04', '05', '06', '07', '08', '09'] # 낮 12시까지 오전\n",
    "list_6 = ['10', '11', '12', '13', '14', '15'] # 저녁 18시 이전까지 오후, 나머진 저녁\n",
    "\n",
    "df_all['time_cat'] = df_all['방송일시_hh'].apply(lambda x:0 if x in list_0 else(1 if x in list_1 else (2 if x in list_2 else 3)))\n",
    "df_all['time_cat2'] = df_all['방송일시_hh'].apply(lambda x:0 if x in list_4 else(1 if x in list_5 else (2 if x in list_6 else 3)))\n",
    "\n",
    "# 판매단가 카테고리화\n",
    "\n",
    "df_all['판매단가_cat'] = df_all['판매단가'].apply(lambda x: 0 if x <= 15000 else (1 if x<=30000 else (2 if x <=45000 else (3 if x <= 60000 else (4 if x <= 100000 else 5)))))\n",
    "df_all['판매단가_cat'].value_counts()\n",
    "\n",
    "\n",
    "kospi = kospi[['날짜','변동 %']]\n",
    "kospi['변동 %'] = kospi['변동 %'].apply(lambda x: x[:-1])\n",
    "kospi['변동 %'] = kospi['변동 %'].astype(float)\n",
    "\n",
    "kospi['날짜'] = kospi['날짜'].apply(lambda x: x[6:12])\n",
    "kospi['날짜'] = kospi['날짜'].apply(lambda x: x.replace('월 ',''))\n",
    "\n",
    "df_all = pd.merge(df_all, kospi, left_on = '방송일시_MMDD',right_on = '날짜',how='left')\n",
    "del df_all['날짜']\n",
    "df_all['변동 %'] = df_all['변동 %'].fillna(0)\n",
    "\n",
    "# 같은 시간에 방송한거 same 이름으로 묶어줌\n",
    "df_all['same'] = 1\n",
    "for i in range(1,len(df_all)):\n",
    "    if df_all['cast_count'][i] == df_all['cast_count'][i-1]:\n",
    "        df_all['same'][i] = df_all['same'][i-1]\n",
    "    else:\n",
    "        df_all['same'][i] = df_all['same'][i-1] + 1\n",
    "\n",
    "# 같은 시간에 여러 품목 방송했는지 알기 위해 cast_count_com 변수 새로 생성\n",
    "df_all = pd.merge(df_all, df_all.groupby('same').sum().reset_index()[['same','cast_count']], on ='same', how='left')\n",
    "df_all.rename({'cast_count_x':'cast_count', 'cast_count_y':'cast_count_com'}, axis=1, inplace= True)\n",
    "\n",
    "# 최종 비교 위해 com 또 생성\n",
    "df_all['com'] = df_all['cast_count'] - df_all['cast_count_com']\n",
    "\n",
    "# 같은 방송 여러 품목에 fw라는 순번을 붙여줌\n",
    "tmp = df_all.copy()\n",
    "tmp = tmp[tmp['com'] != 0]\n",
    "tmp.reset_index(drop=True, inplace=True)\n",
    "tmp['fw'] = 1\n",
    "for i in range(1, len(tmp)):\n",
    "    if tmp['same'][i] == tmp['same'][i-1]:\n",
    "        tmp['fw'][i] = tmp['fw'][i-1]+1\n",
    "    else:\n",
    "        pass\n",
    "\n",
    "# 다시 train 데이터에 fw 붙여주기 fake_weight3으로 이름 붙이기\n",
    "df_all = pd.merge(df_all, tmp[['방송일시','상품명','fw']], on =['방송일시','상품명'], how = 'left')\n",
    "df_all.rename({'fw':'fake_weight3'},axis=1,inplace=True)\n",
    "df_all.drop(['same','cast_count_com'], axis=1, inplace=True)\n",
    "#train['fw'] = train['fw'].astype(int)\n",
    "\n",
    "df_all['fake_weight3']= df_all['fake_weight3'].fillna(0)\n",
    "df_all['fake_weight3'] = df_all['fake_weight3'].astype(int)\n",
    "\n",
    "# 한 방송에 여러상품 포함하면 1 아니면 0\n",
    "df_all['com'] = df_all['com'].apply(lambda x: 1 if x==0 else 0)\n",
    "df_all['com'].value_counts()\n",
    "\n",
    "search = search[['날짜','NS홈쇼핑 NS']]\n",
    "search['날짜'] = search['날짜'].apply(lambda x: x[5:])\n",
    "search['날짜'] = search['날짜'].apply(lambda x: x.replace('-',''))\n",
    "search.head()\n",
    "\n",
    "df_all = pd.merge(df_all, search, left_on ='방송일시_MMDD', right_on = '날짜', how = 'left')\n",
    "df_all.rename({'NS홈쇼핑 NS':'search_compare'},axis=1, inplace= True)\n",
    "\n",
    "# 인코딩할 컬럼을 리스트로 넣어줍니다.\n",
    "columns = ['상품명', '상품군', '상품명_brand', 'new_상품명','cat1','cat2','cat3']\n",
    "number = len(columns)\n",
    "\n",
    "# 함수로 바로 처리.\n",
    "label_encoding(df_all, columns, number)\n",
    "\n",
    "df_all.drop(['index'], axis=1, inplace=True)\n",
    "\n",
    "\n",
    "df_all['상품명_kid'] = df_all['상품명_kid'].astype(int)\n",
    "df_all['가격_9x'] = df_all['가격_9x'].astype(int)\n",
    "\n",
    "train = df_all[:37372]\n",
    "test = df_all[37372:]\n",
    "\n"
   ]
  },
  {
   "cell_type": "markdown",
   "metadata": {},
   "source": [
    "# Modeling"
   ]
  },
  {
   "cell_type": "code",
   "execution_count": 75,
   "metadata": {
    "ExecuteTime": {
     "end_time": "2020-09-24T05:52:32.319716Z",
     "start_time": "2020-09-24T05:52:32.271810Z"
    }
   },
   "outputs": [
    {
     "data": {
      "text/plain": [
       "(35196, 72)"
      ]
     },
     "execution_count": 75,
     "metadata": {},
     "output_type": "execute_result"
    }
   ],
   "source": [
    "#아웃라이어(1억 이상) 제거, 이상치(취급액=0) 제거\n",
    "train = train[train.취급액 < 100000000]\n",
    "train = train[train.취급액 != 0]\n",
    "train.shape"
   ]
  },
  {
   "cell_type": "code",
   "execution_count": 76,
   "metadata": {
    "ExecuteTime": {
     "end_time": "2020-09-24T05:52:32.455561Z",
     "start_time": "2020-09-24T05:52:32.417661Z"
    }
   },
   "outputs": [],
   "source": [
    "train_, test_ = train_test_split(train, test_size=0.2, random_state=529)"
   ]
  },
  {
   "cell_type": "code",
   "execution_count": 66,
   "metadata": {
    "ExecuteTime": {
     "end_time": "2020-09-24T03:53:12.360235Z",
     "start_time": "2020-09-24T03:53:10.580996Z"
    }
   },
   "outputs": [],
   "source": [
    "train_.to_csv(\"tmp_train.csv\",index=False)\n",
    "test_.to_csv(\"tmp_test.csv\",index=False)"
   ]
  },
  {
   "cell_type": "code",
   "execution_count": 87,
   "metadata": {
    "ExecuteTime": {
     "end_time": "2020-09-24T06:00:30.563580Z",
     "start_time": "2020-09-24T06:00:30.309067Z"
    }
   },
   "outputs": [],
   "source": [
    "train_ = pd.read_csv(\"tmp_train.csv\")\n",
    "test_ = pd.read_csv(\"tmp_test.csv\")"
   ]
  },
  {
   "cell_type": "code",
   "execution_count": 88,
   "metadata": {
    "ExecuteTime": {
     "end_time": "2020-09-24T06:00:30.822512Z",
     "start_time": "2020-09-24T06:00:30.811524Z"
    }
   },
   "outputs": [],
   "source": [
    "features = ['노출(분)', '마더코드', '상품코드','판매단가',\n",
    "       'cast_time', 'cast_count', 'cast_time_sum', 'cast_count_sum',\n",
    "       'cast_time_ratio', '상품명_plan', '상품명_add', '상품명_maker', '상품명_set',\n",
    "       '상품명_sex', '상품명_kid', 'fake_weight', 'fake_weight2', 'ratings_mean',\n",
    "       '방송일시_dow', '방송일시_MM', '방송일시_DD', '방송일시_hh',\n",
    "       '방송일시_mm', '방송일시_MMDD', '방송일시_DDhh', '방송일시_hhmm', '방송일시_MMDDhh',\n",
    "       '방송일시_mmmm_1', '방송일시_mmmm_2', '방송일시_mmmm_3', '방송일시_dow2', 'review_counts', 'internet_price', 'price_minus',\n",
    "       'search_naver', 'temperature', 'change_label', 'ratings_start', '가격_9x',\n",
    "       '할인여부', 'mean_amt_by_hhmm', 'time_cat', 'time_cat2', '판매단가_cat',\n",
    "       'encoding_상품명:', 'encoding_상품군:', 'encoding_상품명_brand:',\n",
    "       'encoding_new_상품명:','encoding_cat1:', 'encoding_cat2:','encoding_cat3:',\n",
    "       '변동 %', 'com', 'fake_weight3','search_compare'\n",
    "           ]\n",
    "\n",
    "label = '취급액'"
   ]
  },
  {
   "cell_type": "code",
   "execution_count": 89,
   "metadata": {
    "ExecuteTime": {
     "end_time": "2020-09-24T06:00:31.938483Z",
     "start_time": "2020-09-24T06:00:31.896584Z"
    }
   },
   "outputs": [
    {
     "data": {
      "text/html": [
       "<div>\n",
       "<style scoped>\n",
       "    .dataframe tbody tr th:only-of-type {\n",
       "        vertical-align: middle;\n",
       "    }\n",
       "\n",
       "    .dataframe tbody tr th {\n",
       "        vertical-align: top;\n",
       "    }\n",
       "\n",
       "    .dataframe thead th {\n",
       "        text-align: right;\n",
       "    }\n",
       "</style>\n",
       "<table border=\"1\" class=\"dataframe\">\n",
       "  <thead>\n",
       "    <tr style=\"text-align: right;\">\n",
       "      <th></th>\n",
       "      <th>cast_count</th>\n",
       "      <th>cast_count_sum</th>\n",
       "      <th>cast_time</th>\n",
       "      <th>cast_time_sum</th>\n",
       "      <th>노출(분)</th>\n",
       "      <th>마더코드</th>\n",
       "      <th>방송일시</th>\n",
       "      <th>상품군</th>\n",
       "      <th>상품명</th>\n",
       "      <th>상품코드</th>\n",
       "      <th>취급액</th>\n",
       "      <th>판매단가</th>\n",
       "      <th>cast_time_ratio</th>\n",
       "      <th>상품명_plan</th>\n",
       "      <th>상품명_add</th>\n",
       "      <th>상품명_maker</th>\n",
       "      <th>상품명_set</th>\n",
       "      <th>상품명_sex</th>\n",
       "      <th>상품명_kid</th>\n",
       "      <th>fake_weight</th>\n",
       "      <th>fake_weight2</th>\n",
       "      <th>ratings_mean</th>\n",
       "      <th>cat1</th>\n",
       "      <th>cat2</th>\n",
       "      <th>cat3</th>\n",
       "      <th>방송일시_dow</th>\n",
       "      <th>방송일시_MM</th>\n",
       "      <th>방송일시_DD</th>\n",
       "      <th>방송일시_hh</th>\n",
       "      <th>방송일시_mm</th>\n",
       "      <th>방송일시_MMDD</th>\n",
       "      <th>방송일시_DDhh</th>\n",
       "      <th>방송일시_hhmm</th>\n",
       "      <th>방송일시_MMDDhh</th>\n",
       "      <th>방송일시_mmmm_1</th>\n",
       "      <th>방송일시_mmmm_2</th>\n",
       "      <th>방송일시_mmmm_3</th>\n",
       "      <th>방송일시_dow2</th>\n",
       "      <th>new_상품명</th>\n",
       "      <th>상품명_brand</th>\n",
       "      <th>review_counts</th>\n",
       "      <th>internet_price</th>\n",
       "      <th>price_minus</th>\n",
       "      <th>search_naver</th>\n",
       "      <th>temperature</th>\n",
       "      <th>change_label</th>\n",
       "      <th>ratings_start</th>\n",
       "      <th>가격_9x</th>\n",
       "      <th>098560</th>\n",
       "      <th>143860</th>\n",
       "      <th>227550</th>\n",
       "      <th>227560</th>\n",
       "      <th>228790</th>\n",
       "      <th>228800</th>\n",
       "      <th>307510</th>\n",
       "      <th>할인여부</th>\n",
       "      <th>mean_amt_by_hhmm</th>\n",
       "      <th>time_cat</th>\n",
       "      <th>time_cat2</th>\n",
       "      <th>판매단가_cat</th>\n",
       "      <th>변동 %</th>\n",
       "      <th>com</th>\n",
       "      <th>fake_weight3</th>\n",
       "      <th>날짜</th>\n",
       "      <th>search_compare</th>\n",
       "      <th>encoding_상품명:</th>\n",
       "      <th>encoding_상품군:</th>\n",
       "      <th>encoding_상품명_brand:</th>\n",
       "      <th>encoding_new_상품명:</th>\n",
       "      <th>encoding_cat1:</th>\n",
       "      <th>encoding_cat2:</th>\n",
       "      <th>encoding_cat3:</th>\n",
       "    </tr>\n",
       "  </thead>\n",
       "  <tbody>\n",
       "    <tr>\n",
       "      <td>0</td>\n",
       "      <td>2</td>\n",
       "      <td>3.0</td>\n",
       "      <td>40.0</td>\n",
       "      <td>60.0</td>\n",
       "      <td>20.0</td>\n",
       "      <td>100837</td>\n",
       "      <td>2019-01-06 17:20:00</td>\n",
       "      <td>주방</td>\n",
       "      <td>(도냄)일시불  쿠쿠전기밥솥 6인용</td>\n",
       "      <td>202457</td>\n",
       "      <td>3566000</td>\n",
       "      <td>198000</td>\n",
       "      <td>0.666667</td>\n",
       "      <td>1</td>\n",
       "      <td>0</td>\n",
       "      <td>0</td>\n",
       "      <td>0</td>\n",
       "      <td>0</td>\n",
       "      <td>0</td>\n",
       "      <td>-4</td>\n",
       "      <td>0.0</td>\n",
       "      <td>0.003515</td>\n",
       "      <td>디지털/가전</td>\n",
       "      <td>주방가전</td>\n",
       "      <td>전기밥솥</td>\n",
       "      <td>6</td>\n",
       "      <td>1</td>\n",
       "      <td>6</td>\n",
       "      <td>17</td>\n",
       "      <td>20</td>\n",
       "      <td>106</td>\n",
       "      <td>617</td>\n",
       "      <td>1720</td>\n",
       "      <td>10617</td>\n",
       "      <td>20400</td>\n",
       "      <td>122400</td>\n",
       "      <td>122400</td>\n",
       "      <td>0</td>\n",
       "      <td>도냄  쿠쿠전기밥솥</td>\n",
       "      <td>도냄</td>\n",
       "      <td>0</td>\n",
       "      <td>0</td>\n",
       "      <td>198000</td>\n",
       "      <td>0</td>\n",
       "      <td>-2.3</td>\n",
       "      <td>0</td>\n",
       "      <td>0.0</td>\n",
       "      <td>0</td>\n",
       "      <td>NaN</td>\n",
       "      <td>NaN</td>\n",
       "      <td>NaN</td>\n",
       "      <td>NaN</td>\n",
       "      <td>NaN</td>\n",
       "      <td>NaN</td>\n",
       "      <td>NaN</td>\n",
       "      <td>0</td>\n",
       "      <td>1.645436e+07</td>\n",
       "      <td>1</td>\n",
       "      <td>3</td>\n",
       "      <td>5</td>\n",
       "      <td>0.00</td>\n",
       "      <td>0</td>\n",
       "      <td>4</td>\n",
       "      <td>106</td>\n",
       "      <td>15.43782</td>\n",
       "      <td>28</td>\n",
       "      <td>9</td>\n",
       "      <td>98</td>\n",
       "      <td>311</td>\n",
       "      <td>1</td>\n",
       "      <td>70</td>\n",
       "      <td>167</td>\n",
       "    </tr>\n",
       "    <tr>\n",
       "      <td>1</td>\n",
       "      <td>2</td>\n",
       "      <td>2.0</td>\n",
       "      <td>60.0</td>\n",
       "      <td>60.0</td>\n",
       "      <td>30.0</td>\n",
       "      <td>100717</td>\n",
       "      <td>2019-01-22 04:30:00</td>\n",
       "      <td>속옷</td>\n",
       "      <td>로베르타 디 까메리노 트리플커버 지퍼쉐이핑 란쥬</td>\n",
       "      <td>202110</td>\n",
       "      <td>58626000</td>\n",
       "      <td>89900</td>\n",
       "      <td>1.000000</td>\n",
       "      <td>0</td>\n",
       "      <td>0</td>\n",
       "      <td>0</td>\n",
       "      <td>0</td>\n",
       "      <td>1</td>\n",
       "      <td>0</td>\n",
       "      <td>-1</td>\n",
       "      <td>0.0</td>\n",
       "      <td>0.002561</td>\n",
       "      <td>패션의류</td>\n",
       "      <td>여성언더웨어/잠옷</td>\n",
       "      <td>보정속옷</td>\n",
       "      <td>1</td>\n",
       "      <td>1</td>\n",
       "      <td>22</td>\n",
       "      <td>4</td>\n",
       "      <td>30</td>\n",
       "      <td>122</td>\n",
       "      <td>2204</td>\n",
       "      <td>430</td>\n",
       "      <td>12204</td>\n",
       "      <td>7200</td>\n",
       "      <td>158400</td>\n",
       "      <td>158400</td>\n",
       "      <td>1</td>\n",
       "      <td>로베르타 디 까메리노 트리플커버 지퍼쉐이핑 란쥬</td>\n",
       "      <td>로베</td>\n",
       "      <td>30</td>\n",
       "      <td>20400</td>\n",
       "      <td>69500</td>\n",
       "      <td>1</td>\n",
       "      <td>-3.2</td>\n",
       "      <td>0</td>\n",
       "      <td>0.0</td>\n",
       "      <td>1</td>\n",
       "      <td>10155.0</td>\n",
       "      <td>-31556.0</td>\n",
       "      <td>5210.0</td>\n",
       "      <td>11880.0</td>\n",
       "      <td>3405.0</td>\n",
       "      <td>4765.0</td>\n",
       "      <td>9920.0</td>\n",
       "      <td>0</td>\n",
       "      <td>3.254190e+07</td>\n",
       "      <td>0</td>\n",
       "      <td>1</td>\n",
       "      <td>4</td>\n",
       "      <td>-0.32</td>\n",
       "      <td>1</td>\n",
       "      <td>0</td>\n",
       "      <td>122</td>\n",
       "      <td>14.24364</td>\n",
       "      <td>636</td>\n",
       "      <td>5</td>\n",
       "      <td>125</td>\n",
       "      <td>399</td>\n",
       "      <td>6</td>\n",
       "      <td>50</td>\n",
       "      <td>78</td>\n",
       "    </tr>\n",
       "    <tr>\n",
       "      <td>2</td>\n",
       "      <td>1</td>\n",
       "      <td>3.0</td>\n",
       "      <td>20.0</td>\n",
       "      <td>60.0</td>\n",
       "      <td>20.0</td>\n",
       "      <td>100149</td>\n",
       "      <td>2019-03-23 09:00:00</td>\n",
       "      <td>가전</td>\n",
       "      <td>LG 휘센 에어컨 위너 FQ17V9WWA1(스탠드)</td>\n",
       "      <td>200423</td>\n",
       "      <td>7388000</td>\n",
       "      <td>1899000</td>\n",
       "      <td>0.333333</td>\n",
       "      <td>0</td>\n",
       "      <td>0</td>\n",
       "      <td>2</td>\n",
       "      <td>0</td>\n",
       "      <td>0</td>\n",
       "      <td>0</td>\n",
       "      <td>-4</td>\n",
       "      <td>0.0</td>\n",
       "      <td>0.004701</td>\n",
       "      <td>디지털/가전</td>\n",
       "      <td>계절가전</td>\n",
       "      <td>에어컨</td>\n",
       "      <td>5</td>\n",
       "      <td>3</td>\n",
       "      <td>23</td>\n",
       "      <td>9</td>\n",
       "      <td>0</td>\n",
       "      <td>323</td>\n",
       "      <td>2309</td>\n",
       "      <td>900</td>\n",
       "      <td>32309</td>\n",
       "      <td>0</td>\n",
       "      <td>0</td>\n",
       "      <td>0</td>\n",
       "      <td>0</td>\n",
       "      <td>LG 휘센 에어컨 위너 FQ17V9WWA1</td>\n",
       "      <td>LG</td>\n",
       "      <td>883</td>\n",
       "      <td>1177900</td>\n",
       "      <td>721100</td>\n",
       "      <td>1</td>\n",
       "      <td>5.4</td>\n",
       "      <td>0</td>\n",
       "      <td>0.0</td>\n",
       "      <td>1</td>\n",
       "      <td>9805.0</td>\n",
       "      <td>-30326.0</td>\n",
       "      <td>5045.0</td>\n",
       "      <td>12420.0</td>\n",
       "      <td>4065.0</td>\n",
       "      <td>4580.0</td>\n",
       "      <td>11500.0</td>\n",
       "      <td>0</td>\n",
       "      <td>1.426814e+07</td>\n",
       "      <td>1</td>\n",
       "      <td>1</td>\n",
       "      <td>5</td>\n",
       "      <td>0.00</td>\n",
       "      <td>0</td>\n",
       "      <td>3</td>\n",
       "      <td>323</td>\n",
       "      <td>14.39555</td>\n",
       "      <td>256</td>\n",
       "      <td>1</td>\n",
       "      <td>17</td>\n",
       "      <td>85</td>\n",
       "      <td>1</td>\n",
       "      <td>6</td>\n",
       "      <td>133</td>\n",
       "    </tr>\n",
       "    <tr>\n",
       "      <td>3</td>\n",
       "      <td>2</td>\n",
       "      <td>3.0</td>\n",
       "      <td>40.0</td>\n",
       "      <td>60.0</td>\n",
       "      <td>20.0</td>\n",
       "      <td>100040</td>\n",
       "      <td>2019-06-25 21:20:00</td>\n",
       "      <td>잡화</td>\n",
       "      <td>프라다 자카드 토트백</td>\n",
       "      <td>200095</td>\n",
       "      <td>2578000</td>\n",
       "      <td>1190000</td>\n",
       "      <td>0.666667</td>\n",
       "      <td>0</td>\n",
       "      <td>0</td>\n",
       "      <td>0</td>\n",
       "      <td>0</td>\n",
       "      <td>0</td>\n",
       "      <td>0</td>\n",
       "      <td>-1</td>\n",
       "      <td>0.0</td>\n",
       "      <td>0.004736</td>\n",
       "      <td>패션잡화</td>\n",
       "      <td>여성가방</td>\n",
       "      <td>토트백</td>\n",
       "      <td>1</td>\n",
       "      <td>6</td>\n",
       "      <td>25</td>\n",
       "      <td>21</td>\n",
       "      <td>20</td>\n",
       "      <td>625</td>\n",
       "      <td>2521</td>\n",
       "      <td>2120</td>\n",
       "      <td>62521</td>\n",
       "      <td>25200</td>\n",
       "      <td>630000</td>\n",
       "      <td>3780000</td>\n",
       "      <td>1</td>\n",
       "      <td>프라다 자카드 토트백</td>\n",
       "      <td>프라</td>\n",
       "      <td>10</td>\n",
       "      <td>646050</td>\n",
       "      <td>543950</td>\n",
       "      <td>1</td>\n",
       "      <td>23.4</td>\n",
       "      <td>0</td>\n",
       "      <td>0.0</td>\n",
       "      <td>1</td>\n",
       "      <td>8975.0</td>\n",
       "      <td>31165.0</td>\n",
       "      <td>5070.0</td>\n",
       "      <td>10985.0</td>\n",
       "      <td>3430.0</td>\n",
       "      <td>4465.0</td>\n",
       "      <td>11395.0</td>\n",
       "      <td>0</td>\n",
       "      <td>1.492848e+07</td>\n",
       "      <td>2</td>\n",
       "      <td>0</td>\n",
       "      <td>5</td>\n",
       "      <td>-0.22</td>\n",
       "      <td>0</td>\n",
       "      <td>5</td>\n",
       "      <td>625</td>\n",
       "      <td>13.84870</td>\n",
       "      <td>1896</td>\n",
       "      <td>8</td>\n",
       "      <td>428</td>\n",
       "      <td>1398</td>\n",
       "      <td>7</td>\n",
       "      <td>48</td>\n",
       "      <td>220</td>\n",
       "    </tr>\n",
       "    <tr>\n",
       "      <td>4</td>\n",
       "      <td>3</td>\n",
       "      <td>3.0</td>\n",
       "      <td>60.0</td>\n",
       "      <td>60.0</td>\n",
       "      <td>20.0</td>\n",
       "      <td>100149</td>\n",
       "      <td>2019-05-02 17:40:00</td>\n",
       "      <td>가전</td>\n",
       "      <td>무이자 LG 휘센 씽큐 에어컨 스탠드형FQ17V9KWA1</td>\n",
       "      <td>200474</td>\n",
       "      <td>14425000</td>\n",
       "      <td>1989000</td>\n",
       "      <td>1.000000</td>\n",
       "      <td>2</td>\n",
       "      <td>0</td>\n",
       "      <td>2</td>\n",
       "      <td>0</td>\n",
       "      <td>0</td>\n",
       "      <td>0</td>\n",
       "      <td>-1</td>\n",
       "      <td>0.0</td>\n",
       "      <td>0.004110</td>\n",
       "      <td>디지털/가전</td>\n",
       "      <td>계절가전</td>\n",
       "      <td>에어컨</td>\n",
       "      <td>3</td>\n",
       "      <td>5</td>\n",
       "      <td>2</td>\n",
       "      <td>17</td>\n",
       "      <td>40</td>\n",
       "      <td>502</td>\n",
       "      <td>217</td>\n",
       "      <td>1740</td>\n",
       "      <td>50217</td>\n",
       "      <td>40800</td>\n",
       "      <td>81600</td>\n",
       "      <td>408000</td>\n",
       "      <td>1</td>\n",
       "      <td>LG 휘센 씽큐 에어컨 스탠드형FQ17V WA1</td>\n",
       "      <td>LG</td>\n",
       "      <td>883</td>\n",
       "      <td>1177900</td>\n",
       "      <td>811100</td>\n",
       "      <td>1</td>\n",
       "      <td>17.2</td>\n",
       "      <td>0</td>\n",
       "      <td>0.0</td>\n",
       "      <td>1</td>\n",
       "      <td>9330.0</td>\n",
       "      <td>-30871.0</td>\n",
       "      <td>5165.0</td>\n",
       "      <td>12045.0</td>\n",
       "      <td>4015.0</td>\n",
       "      <td>5080.0</td>\n",
       "      <td>11690.0</td>\n",
       "      <td>0</td>\n",
       "      <td>2.433811e+07</td>\n",
       "      <td>1</td>\n",
       "      <td>3</td>\n",
       "      <td>5</td>\n",
       "      <td>0.42</td>\n",
       "      <td>0</td>\n",
       "      <td>4</td>\n",
       "      <td>502</td>\n",
       "      <td>15.41913</td>\n",
       "      <td>778</td>\n",
       "      <td>1</td>\n",
       "      <td>17</td>\n",
       "      <td>81</td>\n",
       "      <td>1</td>\n",
       "      <td>6</td>\n",
       "      <td>133</td>\n",
       "    </tr>\n",
       "  </tbody>\n",
       "</table>\n",
       "</div>"
      ],
      "text/plain": [
       "   cast_count  cast_count_sum  cast_time  cast_time_sum  노출(분)    마더코드  \\\n",
       "0           2             3.0       40.0           60.0   20.0  100837   \n",
       "1           2             2.0       60.0           60.0   30.0  100717   \n",
       "2           1             3.0       20.0           60.0   20.0  100149   \n",
       "3           2             3.0       40.0           60.0   20.0  100040   \n",
       "4           3             3.0       60.0           60.0   20.0  100149   \n",
       "\n",
       "                  방송일시 상품군                              상품명    상품코드       취급액  \\\n",
       "0  2019-01-06 17:20:00  주방              (도냄)일시불  쿠쿠전기밥솥 6인용  202457   3566000   \n",
       "1  2019-01-22 04:30:00  속옷       로베르타 디 까메리노 트리플커버 지퍼쉐이핑 란쥬  202110  58626000   \n",
       "2  2019-03-23 09:00:00  가전     LG 휘센 에어컨 위너 FQ17V9WWA1(스탠드)  200423   7388000   \n",
       "3  2019-06-25 21:20:00  잡화                      프라다 자카드 토트백  200095   2578000   \n",
       "4  2019-05-02 17:40:00  가전  무이자 LG 휘센 씽큐 에어컨 스탠드형FQ17V9KWA1  200474  14425000   \n",
       "\n",
       "      판매단가  cast_time_ratio  상품명_plan  상품명_add  상품명_maker  상품명_set  상품명_sex  \\\n",
       "0   198000         0.666667         1        0          0        0        0   \n",
       "1    89900         1.000000         0        0          0        0        1   \n",
       "2  1899000         0.333333         0        0          2        0        0   \n",
       "3  1190000         0.666667         0        0          0        0        0   \n",
       "4  1989000         1.000000         2        0          2        0        0   \n",
       "\n",
       "   상품명_kid  fake_weight  fake_weight2  ratings_mean    cat1       cat2  cat3  \\\n",
       "0        0           -4           0.0      0.003515  디지털/가전       주방가전  전기밥솥   \n",
       "1        0           -1           0.0      0.002561    패션의류  여성언더웨어/잠옷  보정속옷   \n",
       "2        0           -4           0.0      0.004701  디지털/가전       계절가전   에어컨   \n",
       "3        0           -1           0.0      0.004736    패션잡화       여성가방   토트백   \n",
       "4        0           -1           0.0      0.004110  디지털/가전       계절가전   에어컨   \n",
       "\n",
       "   방송일시_dow  방송일시_MM  방송일시_DD  방송일시_hh  방송일시_mm  방송일시_MMDD  방송일시_DDhh  \\\n",
       "0         6        1        6       17       20        106        617   \n",
       "1         1        1       22        4       30        122       2204   \n",
       "2         5        3       23        9        0        323       2309   \n",
       "3         1        6       25       21       20        625       2521   \n",
       "4         3        5        2       17       40        502        217   \n",
       "\n",
       "   방송일시_hhmm  방송일시_MMDDhh  방송일시_mmmm_1  방송일시_mmmm_2  방송일시_mmmm_3  방송일시_dow2  \\\n",
       "0       1720        10617        20400       122400       122400          0   \n",
       "1        430        12204         7200       158400       158400          1   \n",
       "2        900        32309            0            0            0          0   \n",
       "3       2120        62521        25200       630000      3780000          1   \n",
       "4       1740        50217        40800        81600       408000          1   \n",
       "\n",
       "                      new_상품명 상품명_brand  review_counts  internet_price  \\\n",
       "0                  도냄  쿠쿠전기밥솥        도냄              0               0   \n",
       "1  로베르타 디 까메리노 트리플커버 지퍼쉐이핑 란쥬        로베             30           20400   \n",
       "2     LG 휘센 에어컨 위너 FQ17V9WWA1        LG            883         1177900   \n",
       "3                 프라다 자카드 토트백        프라             10          646050   \n",
       "4  LG 휘센 씽큐 에어컨 스탠드형FQ17V WA1        LG            883         1177900   \n",
       "\n",
       "   price_minus  search_naver  temperature  change_label  ratings_start  가격_9x  \\\n",
       "0       198000             0         -2.3             0            0.0      0   \n",
       "1        69500             1         -3.2             0            0.0      1   \n",
       "2       721100             1          5.4             0            0.0      1   \n",
       "3       543950             1         23.4             0            0.0      1   \n",
       "4       811100             1         17.2             0            0.0      1   \n",
       "\n",
       "    098560   143860  227550   227560  228790  228800   307510  할인여부  \\\n",
       "0      NaN      NaN     NaN      NaN     NaN     NaN      NaN     0   \n",
       "1  10155.0 -31556.0  5210.0  11880.0  3405.0  4765.0   9920.0     0   \n",
       "2   9805.0 -30326.0  5045.0  12420.0  4065.0  4580.0  11500.0     0   \n",
       "3   8975.0  31165.0  5070.0  10985.0  3430.0  4465.0  11395.0     0   \n",
       "4   9330.0 -30871.0  5165.0  12045.0  4015.0  5080.0  11690.0     0   \n",
       "\n",
       "   mean_amt_by_hhmm  time_cat  time_cat2  판매단가_cat  변동 %  com  fake_weight3  \\\n",
       "0      1.645436e+07         1          3         5  0.00    0             4   \n",
       "1      3.254190e+07         0          1         4 -0.32    1             0   \n",
       "2      1.426814e+07         1          1         5  0.00    0             3   \n",
       "3      1.492848e+07         2          0         5 -0.22    0             5   \n",
       "4      2.433811e+07         1          3         5  0.42    0             4   \n",
       "\n",
       "    날짜  search_compare  encoding_상품명:  encoding_상품군:  encoding_상품명_brand:  \\\n",
       "0  106        15.43782             28              9                   98   \n",
       "1  122        14.24364            636              5                  125   \n",
       "2  323        14.39555            256              1                   17   \n",
       "3  625        13.84870           1896              8                  428   \n",
       "4  502        15.41913            778              1                   17   \n",
       "\n",
       "   encoding_new_상품명:  encoding_cat1:  encoding_cat2:  encoding_cat3:  \n",
       "0                311               1              70             167  \n",
       "1                399               6              50              78  \n",
       "2                 85               1               6             133  \n",
       "3               1398               7              48             220  \n",
       "4                 81               1               6             133  "
      ]
     },
     "metadata": {},
     "output_type": "display_data"
    }
   ],
   "source": [
    "display(test_.head())"
   ]
  },
  {
   "cell_type": "code",
   "execution_count": 106,
   "metadata": {
    "ExecuteTime": {
     "end_time": "2020-09-24T06:02:03.575771Z",
     "start_time": "2020-09-24T06:02:03.559909Z"
    }
   },
   "outputs": [
    {
     "data": {
      "text/plain": [
       "array([[2.000000e+01, 1.008370e+05, 2.024570e+05, ..., 0.000000e+00,\n",
       "        4.000000e+00, 1.543782e+01],\n",
       "       [3.000000e+01, 1.007170e+05, 2.021100e+05, ..., 1.000000e+00,\n",
       "        0.000000e+00, 1.424364e+01],\n",
       "       [2.000000e+01, 1.001490e+05, 2.004230e+05, ..., 0.000000e+00,\n",
       "        3.000000e+00, 1.439555e+01],\n",
       "       ...,\n",
       "       [2.000000e+01, 1.001390e+05, 2.003720e+05, ..., 0.000000e+00,\n",
       "        3.000000e+00, 1.262181e+01],\n",
       "       [2.000000e+01, 1.007650e+05, 2.022340e+05, ..., 0.000000e+00,\n",
       "        4.000000e+00, 1.377859e+01],\n",
       "       [2.000000e+01, 1.001550e+05, 2.004890e+05, ..., 0.000000e+00,\n",
       "        2.000000e+00, 1.422027e+01]])"
      ]
     },
     "execution_count": 106,
     "metadata": {},
     "output_type": "execute_result"
    }
   ],
   "source": [
    "X_test"
   ]
  },
  {
   "cell_type": "code",
   "execution_count": 90,
   "metadata": {
    "ExecuteTime": {
     "end_time": "2020-09-24T06:00:32.963375Z",
     "start_time": "2020-09-24T06:00:32.940391Z"
    }
   },
   "outputs": [],
   "source": [
    "X_train = train_[features].values\n",
    "y_train = train_[label].values\n",
    "X_test = test_[features].values\n",
    "y_test = test_[label].values\n",
    "# train데이터 학습 이전에, 값을 로그화 해준다\n",
    "y_train_log = np.log(y_train)"
   ]
  },
  {
   "cell_type": "markdown",
   "metadata": {},
   "source": [
    "## Model1 (기본모델)"
   ]
  },
  {
   "cell_type": "code",
   "execution_count": 92,
   "metadata": {
    "ExecuteTime": {
     "end_time": "2020-09-24T06:00:41.045499Z",
     "start_time": "2020-09-24T06:00:34.785711Z"
    }
   },
   "outputs": [],
   "source": [
    "rf = RandomForestRegressor(n_jobs=-1,\n",
    "                          random_state=592)\n",
    "rf.fit(X_train, y_train_log)\n",
    "pred_log = rf.predict(X_test)"
   ]
  },
  {
   "cell_type": "code",
   "execution_count": 93,
   "metadata": {
    "ExecuteTime": {
     "end_time": "2020-09-24T06:00:41.060462Z",
     "start_time": "2020-09-24T06:00:41.047498Z"
    }
   },
   "outputs": [
    {
     "data": {
      "text/plain": [
       "36.60044925231074"
      ]
     },
     "execution_count": 93,
     "metadata": {},
     "output_type": "execute_result"
    }
   ],
   "source": [
    "pred_log_T = np.exp(1)**pred_log\n",
    "mape(y_test, pred_log_T)    "
   ]
  },
  {
   "cell_type": "code",
   "execution_count": 94,
   "metadata": {
    "ExecuteTime": {
     "end_time": "2020-09-24T06:00:48.036135Z",
     "start_time": "2020-09-24T06:00:48.025151Z"
    }
   },
   "outputs": [
    {
     "name": "stdout",
     "output_type": "stream",
     "text": [
      "min,max : (35, 45) \n",
      " mean : 38.77\n"
     ]
    }
   ],
   "source": [
    "depth_of_trees = []\n",
    "for i in rf.estimators_:\n",
    "    depth_of_trees.append(i.tree_.max_depth)\n",
    "# desc(depth_of_trees)\n",
    "\n",
    "from scipy.stats import describe\n",
    "print(\"min,max :\",describe(depth_of_trees).minmax,\"\\n mean :\",describe(depth_of_trees).mean)"
   ]
  },
  {
   "cell_type": "code",
   "execution_count": 95,
   "metadata": {
    "ExecuteTime": {
     "end_time": "2020-09-24T06:00:49.098121Z",
     "start_time": "2020-09-24T06:00:48.881680Z"
    }
   },
   "outputs": [
    {
     "data": {
      "text/plain": [
       "<matplotlib.axes._subplots.AxesSubplot at 0x1df4375d208>"
      ]
     },
     "execution_count": 95,
     "metadata": {},
     "output_type": "execute_result"
    },
    {
     "data": {
      "image/png": "[encoded data removed]",
      "text/plain": [
       "<Figure size 432x288 with 1 Axes>"
      ]
     },
     "metadata": {
      "needs_background": "light"
     },
     "output_type": "display_data"
    }
   ],
   "source": [
    "sns.scatterplot(y_test, pred_log_T).set(xlabel = 'Y_TEST', ylabel= \"PREDICT\")\n",
    "# g.plot((0,0),(10000000,10000000),ls=\"--\",c=\".3\",color=\"red\")\n",
    "sns.lineplot(np.linspace(0,100000000,100),np.linspace(0,100000000,100),c='red',linestyle='--')"
   ]
  },
  {
   "cell_type": "markdown",
   "metadata": {},
   "source": [
    "## Model2 >>> 너무 오래걸려서 실패한 그리드서치"
   ]
  },
  {
   "cell_type": "code",
   "execution_count": 96,
   "metadata": {
    "ExecuteTime": {
     "end_time": "2020-09-24T06:00:50.196073Z",
     "start_time": "2020-09-24T06:00:50.186101Z"
    }
   },
   "outputs": [],
   "source": [
    "from sklearn.model_selection import GridSearchCV, KFold\n",
    "from sklearn.pipeline import Pipeline\n",
    "from sklearn.preprocessing import StandardScaler\n",
    "from sklearn.svm import SVC"
   ]
  },
  {
   "cell_type": "code",
   "execution_count": 98,
   "metadata": {
    "ExecuteTime": {
     "end_time": "2020-09-15T17:59:53.887436Z",
     "start_time": "2020-09-15T07:20:56.037753Z"
    },
    "scrolled": true
   },
   "outputs": [
    {
     "name": "stdout",
     "output_type": "stream",
     "text": [
      "Fitting 5 folds for each of 400 candidates, totalling 2000 fits\n"
     ]
    },
    {
     "name": "stderr",
     "output_type": "stream",
     "text": [
      "[Parallel(n_jobs=-1)]: Using backend LokyBackend with 12 concurrent workers.\n",
      "[Parallel(n_jobs=-1)]: Done  48 tasks      | elapsed:  3.1min\n",
      "[Parallel(n_jobs=-1)]: Done 138 tasks      | elapsed:  7.7min\n",
      "[Parallel(n_jobs=-1)]: Done 264 tasks      | elapsed: 14.5min\n",
      "[Parallel(n_jobs=-1)]: Done 426 tasks      | elapsed: 23.5min\n",
      "[Parallel(n_jobs=-1)]: Done 624 tasks      | elapsed: 623.2min\n"
     ]
    },
    {
     "ename": "KeyboardInterrupt",
     "evalue": "",
     "output_type": "error",
     "traceback": [
      "\u001b[1;31m---------------------------------------------------------------------------\u001b[0m",
      "\u001b[1;31mKeyboardInterrupt\u001b[0m                         Traceback (most recent call last)",
      "\u001b[1;32m<ipython-input-98-1ca1b7442bd0>\u001b[0m in \u001b[0;36m<module>\u001b[1;34m\u001b[0m\n\u001b[0;32m     11\u001b[0m                           \u001b[0miid\u001b[0m\u001b[1;33m=\u001b[0m\u001b[1;32mTrue\u001b[0m\u001b[1;33m,\u001b[0m \u001b[0mcv\u001b[0m\u001b[1;33m=\u001b[0m\u001b[0mkfold\u001b[0m\u001b[1;33m,\u001b[0m \u001b[0mn_jobs\u001b[0m\u001b[1;33m=\u001b[0m\u001b[1;33m-\u001b[0m\u001b[1;36m1\u001b[0m\u001b[1;33m,\u001b[0m\u001b[1;33m\u001b[0m\u001b[1;33m\u001b[0m\u001b[0m\n\u001b[0;32m     12\u001b[0m                           \u001b[0mverbose\u001b[0m\u001b[1;33m=\u001b[0m\u001b[1;36m5\u001b[0m\u001b[1;33m\u001b[0m\u001b[1;33m\u001b[0m\u001b[0m\n\u001b[1;32m---> 13\u001b[1;33m                          ).fit(X_train, y_train_log)\n\u001b[0m",
      "\u001b[1;32m~\\Anaconda3\\lib\\site-packages\\sklearn\\utils\\validation.py\u001b[0m in \u001b[0;36minner_f\u001b[1;34m(*args, **kwargs)\u001b[0m\n\u001b[0;32m     71\u001b[0m                           FutureWarning)\n\u001b[0;32m     72\u001b[0m         \u001b[0mkwargs\u001b[0m\u001b[1;33m.\u001b[0m\u001b[0mupdate\u001b[0m\u001b[1;33m(\u001b[0m\u001b[1;33m{\u001b[0m\u001b[0mk\u001b[0m\u001b[1;33m:\u001b[0m \u001b[0marg\u001b[0m \u001b[1;32mfor\u001b[0m \u001b[0mk\u001b[0m\u001b[1;33m,\u001b[0m \u001b[0marg\u001b[0m \u001b[1;32min\u001b[0m \u001b[0mzip\u001b[0m\u001b[1;33m(\u001b[0m\u001b[0msig\u001b[0m\u001b[1;33m.\u001b[0m\u001b[0mparameters\u001b[0m\u001b[1;33m,\u001b[0m \u001b[0margs\u001b[0m\u001b[1;33m)\u001b[0m\u001b[1;33m}\u001b[0m\u001b[1;33m)\u001b[0m\u001b[1;33m\u001b[0m\u001b[1;33m\u001b[0m\u001b[0m\n\u001b[1;32m---> 73\u001b[1;33m         \u001b[1;32mreturn\u001b[0m \u001b[0mf\u001b[0m\u001b[1;33m(\u001b[0m\u001b[1;33m**\u001b[0m\u001b[0mkwargs\u001b[0m\u001b[1;33m)\u001b[0m\u001b[1;33m\u001b[0m\u001b[1;33m\u001b[0m\u001b[0m\n\u001b[0m\u001b[0;32m     74\u001b[0m     \u001b[1;32mreturn\u001b[0m \u001b[0minner_f\u001b[0m\u001b[1;33m\u001b[0m\u001b[1;33m\u001b[0m\u001b[0m\n\u001b[0;32m     75\u001b[0m \u001b[1;33m\u001b[0m\u001b[0m\n",
      "\u001b[1;32m~\\Anaconda3\\lib\\site-packages\\sklearn\\model_selection\\_search.py\u001b[0m in \u001b[0;36mfit\u001b[1;34m(self, X, y, groups, **fit_params)\u001b[0m\n\u001b[0;32m    734\u001b[0m                 \u001b[1;32mreturn\u001b[0m \u001b[0mresults\u001b[0m\u001b[1;33m\u001b[0m\u001b[1;33m\u001b[0m\u001b[0m\n\u001b[0;32m    735\u001b[0m \u001b[1;33m\u001b[0m\u001b[0m\n\u001b[1;32m--> 736\u001b[1;33m             \u001b[0mself\u001b[0m\u001b[1;33m.\u001b[0m\u001b[0m_run_search\u001b[0m\u001b[1;33m(\u001b[0m\u001b[0mevaluate_candidates\u001b[0m\u001b[1;33m)\u001b[0m\u001b[1;33m\u001b[0m\u001b[1;33m\u001b[0m\u001b[0m\n\u001b[0m\u001b[0;32m    737\u001b[0m \u001b[1;33m\u001b[0m\u001b[0m\n\u001b[0;32m    738\u001b[0m         \u001b[1;31m# For multi-metric evaluation, store the best_index_, best_params_ and\u001b[0m\u001b[1;33m\u001b[0m\u001b[1;33m\u001b[0m\u001b[1;33m\u001b[0m\u001b[0m\n",
      "\u001b[1;32m~\\Anaconda3\\lib\\site-packages\\sklearn\\model_selection\\_search.py\u001b[0m in \u001b[0;36m_run_search\u001b[1;34m(self, evaluate_candidates)\u001b[0m\n\u001b[0;32m   1186\u001b[0m     \u001b[1;32mdef\u001b[0m \u001b[0m_run_search\u001b[0m\u001b[1;33m(\u001b[0m\u001b[0mself\u001b[0m\u001b[1;33m,\u001b[0m \u001b[0mevaluate_candidates\u001b[0m\u001b[1;33m)\u001b[0m\u001b[1;33m:\u001b[0m\u001b[1;33m\u001b[0m\u001b[1;33m\u001b[0m\u001b[0m\n\u001b[0;32m   1187\u001b[0m         \u001b[1;34m\"\"\"Search all candidates in param_grid\"\"\"\u001b[0m\u001b[1;33m\u001b[0m\u001b[1;33m\u001b[0m\u001b[0m\n\u001b[1;32m-> 1188\u001b[1;33m         \u001b[0mevaluate_candidates\u001b[0m\u001b[1;33m(\u001b[0m\u001b[0mParameterGrid\u001b[0m\u001b[1;33m(\u001b[0m\u001b[0mself\u001b[0m\u001b[1;33m.\u001b[0m\u001b[0mparam_grid\u001b[0m\u001b[1;33m)\u001b[0m\u001b[1;33m)\u001b[0m\u001b[1;33m\u001b[0m\u001b[1;33m\u001b[0m\u001b[0m\n\u001b[0m\u001b[0;32m   1189\u001b[0m \u001b[1;33m\u001b[0m\u001b[0m\n\u001b[0;32m   1190\u001b[0m \u001b[1;33m\u001b[0m\u001b[0m\n",
      "\u001b[1;32m~\\Anaconda3\\lib\\site-packages\\sklearn\\model_selection\\_search.py\u001b[0m in \u001b[0;36mevaluate_candidates\u001b[1;34m(candidate_params)\u001b[0m\n\u001b[0;32m    713\u001b[0m                                \u001b[1;32mfor\u001b[0m \u001b[0mparameters\u001b[0m\u001b[1;33m,\u001b[0m \u001b[1;33m(\u001b[0m\u001b[0mtrain\u001b[0m\u001b[1;33m,\u001b[0m \u001b[0mtest\u001b[0m\u001b[1;33m)\u001b[0m\u001b[1;33m\u001b[0m\u001b[1;33m\u001b[0m\u001b[0m\n\u001b[0;32m    714\u001b[0m                                in product(candidate_params,\n\u001b[1;32m--> 715\u001b[1;33m                                           cv.split(X, y, groups)))\n\u001b[0m\u001b[0;32m    716\u001b[0m \u001b[1;33m\u001b[0m\u001b[0m\n\u001b[0;32m    717\u001b[0m                 \u001b[1;32mif\u001b[0m \u001b[0mlen\u001b[0m\u001b[1;33m(\u001b[0m\u001b[0mout\u001b[0m\u001b[1;33m)\u001b[0m \u001b[1;33m<\u001b[0m \u001b[1;36m1\u001b[0m\u001b[1;33m:\u001b[0m\u001b[1;33m\u001b[0m\u001b[1;33m\u001b[0m\u001b[0m\n",
      "\u001b[1;32m~\\Anaconda3\\lib\\site-packages\\joblib\\parallel.py\u001b[0m in \u001b[0;36m__call__\u001b[1;34m(self, iterable)\u001b[0m\n\u001b[0;32m    932\u001b[0m \u001b[1;33m\u001b[0m\u001b[0m\n\u001b[0;32m    933\u001b[0m             \u001b[1;32mwith\u001b[0m \u001b[0mself\u001b[0m\u001b[1;33m.\u001b[0m\u001b[0m_backend\u001b[0m\u001b[1;33m.\u001b[0m\u001b[0mretrieval_context\u001b[0m\u001b[1;33m(\u001b[0m\u001b[1;33m)\u001b[0m\u001b[1;33m:\u001b[0m\u001b[1;33m\u001b[0m\u001b[1;33m\u001b[0m\u001b[0m\n\u001b[1;32m--> 934\u001b[1;33m                 \u001b[0mself\u001b[0m\u001b[1;33m.\u001b[0m\u001b[0mretrieve\u001b[0m\u001b[1;33m(\u001b[0m\u001b[1;33m)\u001b[0m\u001b[1;33m\u001b[0m\u001b[1;33m\u001b[0m\u001b[0m\n\u001b[0m\u001b[0;32m    935\u001b[0m             \u001b[1;31m# Make sure that we get a last message telling us we are done\u001b[0m\u001b[1;33m\u001b[0m\u001b[1;33m\u001b[0m\u001b[1;33m\u001b[0m\u001b[0m\n\u001b[0;32m    936\u001b[0m             \u001b[0melapsed_time\u001b[0m \u001b[1;33m=\u001b[0m \u001b[0mtime\u001b[0m\u001b[1;33m.\u001b[0m\u001b[0mtime\u001b[0m\u001b[1;33m(\u001b[0m\u001b[1;33m)\u001b[0m \u001b[1;33m-\u001b[0m \u001b[0mself\u001b[0m\u001b[1;33m.\u001b[0m\u001b[0m_start_time\u001b[0m\u001b[1;33m\u001b[0m\u001b[1;33m\u001b[0m\u001b[0m\n",
      "\u001b[1;32m~\\Anaconda3\\lib\\site-packages\\joblib\\parallel.py\u001b[0m in \u001b[0;36mretrieve\u001b[1;34m(self)\u001b[0m\n\u001b[0;32m    831\u001b[0m             \u001b[1;32mtry\u001b[0m\u001b[1;33m:\u001b[0m\u001b[1;33m\u001b[0m\u001b[1;33m\u001b[0m\u001b[0m\n\u001b[0;32m    832\u001b[0m                 \u001b[1;32mif\u001b[0m \u001b[0mgetattr\u001b[0m\u001b[1;33m(\u001b[0m\u001b[0mself\u001b[0m\u001b[1;33m.\u001b[0m\u001b[0m_backend\u001b[0m\u001b[1;33m,\u001b[0m \u001b[1;34m'supports_timeout'\u001b[0m\u001b[1;33m,\u001b[0m \u001b[1;32mFalse\u001b[0m\u001b[1;33m)\u001b[0m\u001b[1;33m:\u001b[0m\u001b[1;33m\u001b[0m\u001b[1;33m\u001b[0m\u001b[0m\n\u001b[1;32m--> 833\u001b[1;33m                     \u001b[0mself\u001b[0m\u001b[1;33m.\u001b[0m\u001b[0m_output\u001b[0m\u001b[1;33m.\u001b[0m\u001b[0mextend\u001b[0m\u001b[1;33m(\u001b[0m\u001b[0mjob\u001b[0m\u001b[1;33m.\u001b[0m\u001b[0mget\u001b[0m\u001b[1;33m(\u001b[0m\u001b[0mtimeout\u001b[0m\u001b[1;33m=\u001b[0m\u001b[0mself\u001b[0m\u001b[1;33m.\u001b[0m\u001b[0mtimeout\u001b[0m\u001b[1;33m)\u001b[0m\u001b[1;33m)\u001b[0m\u001b[1;33m\u001b[0m\u001b[1;33m\u001b[0m\u001b[0m\n\u001b[0m\u001b[0;32m    834\u001b[0m                 \u001b[1;32melse\u001b[0m\u001b[1;33m:\u001b[0m\u001b[1;33m\u001b[0m\u001b[1;33m\u001b[0m\u001b[0m\n\u001b[0;32m    835\u001b[0m                     \u001b[0mself\u001b[0m\u001b[1;33m.\u001b[0m\u001b[0m_output\u001b[0m\u001b[1;33m.\u001b[0m\u001b[0mextend\u001b[0m\u001b[1;33m(\u001b[0m\u001b[0mjob\u001b[0m\u001b[1;33m.\u001b[0m\u001b[0mget\u001b[0m\u001b[1;33m(\u001b[0m\u001b[1;33m)\u001b[0m\u001b[1;33m)\u001b[0m\u001b[1;33m\u001b[0m\u001b[1;33m\u001b[0m\u001b[0m\n",
      "\u001b[1;32m~\\Anaconda3\\lib\\site-packages\\joblib\\_parallel_backends.py\u001b[0m in \u001b[0;36mwrap_future_result\u001b[1;34m(future, timeout)\u001b[0m\n\u001b[0;32m    519\u001b[0m         AsyncResults.get from multiprocessing.\"\"\"\n\u001b[0;32m    520\u001b[0m         \u001b[1;32mtry\u001b[0m\u001b[1;33m:\u001b[0m\u001b[1;33m\u001b[0m\u001b[1;33m\u001b[0m\u001b[0m\n\u001b[1;32m--> 521\u001b[1;33m             \u001b[1;32mreturn\u001b[0m \u001b[0mfuture\u001b[0m\u001b[1;33m.\u001b[0m\u001b[0mresult\u001b[0m\u001b[1;33m(\u001b[0m\u001b[0mtimeout\u001b[0m\u001b[1;33m=\u001b[0m\u001b[0mtimeout\u001b[0m\u001b[1;33m)\u001b[0m\u001b[1;33m\u001b[0m\u001b[1;33m\u001b[0m\u001b[0m\n\u001b[0m\u001b[0;32m    522\u001b[0m         \u001b[1;32mexcept\u001b[0m \u001b[0mLokyTimeoutError\u001b[0m\u001b[1;33m:\u001b[0m\u001b[1;33m\u001b[0m\u001b[1;33m\u001b[0m\u001b[0m\n\u001b[0;32m    523\u001b[0m             \u001b[1;32mraise\u001b[0m \u001b[0mTimeoutError\u001b[0m\u001b[1;33m(\u001b[0m\u001b[1;33m)\u001b[0m\u001b[1;33m\u001b[0m\u001b[1;33m\u001b[0m\u001b[0m\n",
      "\u001b[1;32m~\\Anaconda3\\lib\\concurrent\\futures\\_base.py\u001b[0m in \u001b[0;36mresult\u001b[1;34m(self, timeout)\u001b[0m\n\u001b[0;32m    428\u001b[0m                 \u001b[1;32mreturn\u001b[0m \u001b[0mself\u001b[0m\u001b[1;33m.\u001b[0m\u001b[0m__get_result\u001b[0m\u001b[1;33m(\u001b[0m\u001b[1;33m)\u001b[0m\u001b[1;33m\u001b[0m\u001b[1;33m\u001b[0m\u001b[0m\n\u001b[0;32m    429\u001b[0m \u001b[1;33m\u001b[0m\u001b[0m\n\u001b[1;32m--> 430\u001b[1;33m             \u001b[0mself\u001b[0m\u001b[1;33m.\u001b[0m\u001b[0m_condition\u001b[0m\u001b[1;33m.\u001b[0m\u001b[0mwait\u001b[0m\u001b[1;33m(\u001b[0m\u001b[0mtimeout\u001b[0m\u001b[1;33m)\u001b[0m\u001b[1;33m\u001b[0m\u001b[1;33m\u001b[0m\u001b[0m\n\u001b[0m\u001b[0;32m    431\u001b[0m \u001b[1;33m\u001b[0m\u001b[0m\n\u001b[0;32m    432\u001b[0m             \u001b[1;32mif\u001b[0m \u001b[0mself\u001b[0m\u001b[1;33m.\u001b[0m\u001b[0m_state\u001b[0m \u001b[1;32min\u001b[0m \u001b[1;33m[\u001b[0m\u001b[0mCANCELLED\u001b[0m\u001b[1;33m,\u001b[0m \u001b[0mCANCELLED_AND_NOTIFIED\u001b[0m\u001b[1;33m]\u001b[0m\u001b[1;33m:\u001b[0m\u001b[1;33m\u001b[0m\u001b[1;33m\u001b[0m\u001b[0m\n",
      "\u001b[1;32m~\\Anaconda3\\lib\\threading.py\u001b[0m in \u001b[0;36mwait\u001b[1;34m(self, timeout)\u001b[0m\n\u001b[0;32m    294\u001b[0m         \u001b[1;32mtry\u001b[0m\u001b[1;33m:\u001b[0m    \u001b[1;31m# restore state no matter what (e.g., KeyboardInterrupt)\u001b[0m\u001b[1;33m\u001b[0m\u001b[1;33m\u001b[0m\u001b[0m\n\u001b[0;32m    295\u001b[0m             \u001b[1;32mif\u001b[0m \u001b[0mtimeout\u001b[0m \u001b[1;32mis\u001b[0m \u001b[1;32mNone\u001b[0m\u001b[1;33m:\u001b[0m\u001b[1;33m\u001b[0m\u001b[1;33m\u001b[0m\u001b[0m\n\u001b[1;32m--> 296\u001b[1;33m                 \u001b[0mwaiter\u001b[0m\u001b[1;33m.\u001b[0m\u001b[0macquire\u001b[0m\u001b[1;33m(\u001b[0m\u001b[1;33m)\u001b[0m\u001b[1;33m\u001b[0m\u001b[1;33m\u001b[0m\u001b[0m\n\u001b[0m\u001b[0;32m    297\u001b[0m                 \u001b[0mgotit\u001b[0m \u001b[1;33m=\u001b[0m \u001b[1;32mTrue\u001b[0m\u001b[1;33m\u001b[0m\u001b[1;33m\u001b[0m\u001b[0m\n\u001b[0;32m    298\u001b[0m             \u001b[1;32melse\u001b[0m\u001b[1;33m:\u001b[0m\u001b[1;33m\u001b[0m\u001b[1;33m\u001b[0m\u001b[0m\n",
      "\u001b[1;31mKeyboardInterrupt\u001b[0m: "
     ]
    }
   ],
   "source": [
    "param_grid = {'n_estimators':[10,40,70,100],\n",
    "              'criterion' : [\"mse\",\"mae\"],\n",
    "              'max_depth' : [20,25,35,45,50],\n",
    "              'min_samples_split' : [2, 30, 60, 90, 120],\n",
    "              'bootstrap' : [True, False]\n",
    "             }\n",
    "kfold = KFold(n_splits=5, shuffle=False, random_state=592)\n",
    "\n",
    "grid_model = GridSearchCV(estimator = RandomForestRegressor(),\n",
    "                          param_grid=param_grid, \n",
    "                          iid=True, cv=kfold, n_jobs=-1,\n",
    "                          verbose=5\n",
    "                         ).fit(X_train, y_train_log)"
   ]
  },
  {
   "cell_type": "code",
   "execution_count": null,
   "metadata": {
    "ExecuteTime": {
     "end_time": "2020-09-15T07:13:07.908776Z",
     "start_time": "2020-09-14T21:35:31.948Z"
    }
   },
   "outputs": [],
   "source": [
    "print('KFold 점수 : ',grid_model.best_score_)\n",
    "print('최적 하이퍼파라미터 조합 : ', grid_model.best_params_)\n",
    "model = grid_model.best_estimator_\n",
    "\n",
    "print('학습 평가 : ', model.score(X_train,y_train))\n",
    "print('테스트 평가 : ', model.score(X_test,y_test))\n",
    "pred_log2 = model.predict(X_test)\n",
    "\n",
    "pred_log_T2 = np.exp(1)**pred_log2\n",
    "mape(y_test, pred_log_T2)"
   ]
  },
  {
   "cell_type": "markdown",
   "metadata": {},
   "source": [
    "## Model3 (XGBoost를 해보았습니다.)"
   ]
  },
  {
   "cell_type": "code",
   "execution_count": 97,
   "metadata": {
    "ExecuteTime": {
     "end_time": "2020-09-24T06:00:55.907977Z",
     "start_time": "2020-09-24T06:00:55.902992Z"
    }
   },
   "outputs": [],
   "source": [
    "from xgboost import plot_importance\n",
    "from xgboost import XGBRegressor"
   ]
  },
  {
   "cell_type": "markdown",
   "metadata": {},
   "source": [
    "XGBRegressor(base_score=0.5, booster='gbtree', colsample_bylevel=1,\n",
    "             colsample_bynode=1, colsample_bytree=1, gamma=0, gpu_id=-1,\n",
    "             importance_type='gain', interaction_constraints='',\n",
    "             learning_rate=0.1, max_delta_step=0, max_depth=5,\n",
    "             min_child_weight=1, missing=nan, monotone_constraints='()',\n",
    "             n_estimators=100, n_jobs=0, num_parallel_tree=1, random_state=592,\n",
    "             reg_alpha=0, reg_lambda=1, scale_pos_weight=1, subsample=1,\n",
    "             tree_method='exact', validate_parameters=1, verbosity=None)"
   ]
  },
  {
   "cell_type": "code",
   "execution_count": 98,
   "metadata": {
    "ExecuteTime": {
     "end_time": "2020-09-24T06:00:58.635850Z",
     "start_time": "2020-09-24T06:00:56.970768Z"
    }
   },
   "outputs": [
    {
     "data": {
      "text/plain": [
       "XGBRegressor(base_score=0.5, booster='gbtree', colsample_bylevel=1,\n",
       "             colsample_bynode=1, colsample_bytree=1, gamma=0, gpu_id=-1,\n",
       "             importance_type='gain', interaction_constraints='',\n",
       "             learning_rate=0.1, max_delta_step=0, max_depth=5,\n",
       "             min_child_weight=1, missing=nan, monotone_constraints='()',\n",
       "             n_estimators=100, n_jobs=0, num_parallel_tree=1, random_state=592,\n",
       "             reg_alpha=0, reg_lambda=1, scale_pos_weight=1, subsample=1,\n",
       "             tree_method='exact', validate_parameters=1, verbosity=None)"
      ]
     },
     "execution_count": 98,
     "metadata": {},
     "output_type": "execute_result"
    }
   ],
   "source": [
    "xgb = XGBRegressor(learning_rate=0.1,\n",
    "                  max_depth=5,\n",
    "                  n_estimators=100,\n",
    "                  random_state=592)\n",
    "xgb.fit(X_train,y_train_log)"
   ]
  },
  {
   "cell_type": "code",
   "execution_count": 99,
   "metadata": {
    "ExecuteTime": {
     "end_time": "2020-09-24T06:00:58.666733Z",
     "start_time": "2020-09-24T06:00:58.637811Z"
    }
   },
   "outputs": [
    {
     "data": {
      "text/plain": [
       "39.676144140509386"
      ]
     },
     "execution_count": 99,
     "metadata": {},
     "output_type": "execute_result"
    }
   ],
   "source": [
    "pred_log = xgb.predict(X_test)\n",
    "pred_log_T = np.exp(1)**pred_log\n",
    "mape(y_test, pred_log_T)    "
   ]
  },
  {
   "cell_type": "code",
   "execution_count": 100,
   "metadata": {
    "ExecuteTime": {
     "end_time": "2020-09-24T06:01:01.476676Z",
     "start_time": "2020-09-24T06:01:01.279540Z"
    }
   },
   "outputs": [
    {
     "data": {
      "text/plain": [
       "<matplotlib.axes._subplots.AxesSubplot at 0x1df27362688>"
      ]
     },
     "execution_count": 100,
     "metadata": {},
     "output_type": "execute_result"
    },
    {
     "data": {
      "image/png": "[encoded data removed]",
      "text/plain": [
       "<Figure size 432x288 with 1 Axes>"
      ]
     },
     "metadata": {
      "needs_background": "light"
     },
     "output_type": "display_data"
    }
   ],
   "source": [
    "sns.scatterplot(y_test, pred_log_T)\n",
    "mape(y_test, pred_log_T)\n",
    "sns.lineplot(np.linspace(0,100000000,100),np.linspace(0,100000000,100),c='red',linestyle='--')"
   ]
  },
  {
   "cell_type": "markdown",
   "metadata": {
    "ExecuteTime": {
     "end_time": "2020-09-15T19:45:44.816774Z",
     "start_time": "2020-09-15T19:45:44.796869Z"
    }
   },
   "source": [
    "# Model4 (인간 그리드서치 가동)"
   ]
  },
  {
   "cell_type": "markdown",
   "metadata": {},
   "source": [
    "**Parameters**\n",
    "    * lr=0.1  md=5  n_est=100    39.676144140509386\n",
    "    * lr=0.2  md=5  n_est=100    35.86271566334253\n",
    "    * lr=0.3  md=5  n_est=100    34.523469899511724\n",
    "    * lr=0.4  md=5  n_est=100    33.83086117952061\n",
    "    * lr=0.5  md=5  n_est=100    33.6046265896861  >> best (learning_rate=0.5)\n",
    "    * lr=0.6  md=5  n_est=100    33.60629744105705\n",
    "    * lr=0.7  md=5  n_est=100    34.032401318221346\n",
    "    * lr=0.8  md=5  n_est=100    34.46326278156654\n",
    "    * lr=0.9  md=5  n_est=100    35.65708334014499\n",
    "    * lr=1.0  md=5  n_est=100    37.01656351292716\n",
    "    \n",
    "    * lr=0.5  md=4  n_est=100    35.556284249874736\n",
    "    * lr=0.5  md=6  n_est=100    32.49091180868051  >> best (max_depth=6)\n",
    "    * lr=0.5  md=7  n_est=100    32.654291149263884\n",
    "    * lr=0.5  md=7  n_est=100    33.16308701813581\n",
    "\n",
    "    * lr=0.5  md=6  n_est=90    32.549430289185324\n",
    "    * lr=0.5  md=6  n_est=110    32.40172798464047\n",
    "    * lr=0.5  md=6  n_est=120    32.23694288540079\n",
    "    * lr=0.5  md=6  n_est=130    32.00600070239064\n",
    "    * lr=0.5  md=6  n_est=140    31.99805397706713\n",
    "    * lr=0.5  md=6  n_est=150    32.00349820393516\n",
    "    * lr=0.5  md=6  n_est=160    31.942708981458555\n",
    "    * lr=0.5  md=6  n_est=170    31.865299576486382\n",
    "    * lr=0.5  md=6  n_est=180    31.816496799997278\n",
    "    * lr=0.5  md=6  n_est=190    31.770673026832302\n",
    "    * lr=0.5  md=6  n_est=200    31.81436899901522\n",
    "    * lr=0.5  md=6  n_est=210    31.825948426810736\n",
    "    * lr=0.5  md=6  n_est=220    31.738559835106216\n",
    "    * lr=0.5  md=6  n_est=230    31.705801965067167 >> best (n_estimators=230)\n",
    "    * lr=0.5  md=6  n_est=240    31.788077879215344\n",
    "    * lr=0.5  md=6  n_est=250    31.831044459751983\n",
    "    \n",
    "    * lr=0.5  md=6  n_est=250  cs_bt=1      31.705801965067167\n",
    "    * lr=0.5  md=6  n_est=250  cs_bt=0.9    31.594474418352597\n",
    "    * lr=0.5  md=6  n_est=250  cs_bt=0.8    31.884558879720366\n",
    "    * lr=0.5  md=6  n_est=250  cs_bt=0.7    32.28889282234651\n",
    "    * lr=0.5  md=6  n_est=250  cs_bt=0.6    31.888767390135435\n",
    "    * lr=0.5  md=6  n_est=250  cs_bt=0.5    32.397858628770855\n",
    "    * lr=0.5  md=6  n_est=250  cs_bt=0.4    31.962034755645526\n",
    "    * lr=0.5  md=6  n_est=250  cs_bt=0.3    31.39365410753319\n",
    "    * lr=0.5  md=6  n_est=250  cs_bt=0.2    31.71222069543878\n",
    "    * lr=0.5  md=6  n_est=250  cs_bt=0.1    31.57699918844068 >> best(colsample_bytree=0.1) ...? estimator가 너무 많아서 그런가?\n",
    "\n",
    "\n",
    "<여기부턴 규칙성이 없습니다. 인간 그리드서치가 꽂히는대로 바꿔봅니다. 모든 시행을 기록하지 않고, 점수가 좋아지는 경우만 기록합니다.>\n",
    "\n",
    "    * lr=0.2  md=6  n_est=250  cs_bt=1    30.858997015452516\n",
    "    * lr=0.2  md=7  n_est=250  cs_bt=1    30.240123547611503\n",
    "    * lr=0.2  md=7  n_est=250  cs_bt=0.2    30.19838012420267\n",
    "    * lr=0.2  md=7  n_est=250  cs_bt=0.3    30.072913793484563\n",
    "    * lr=0.2  md=7  n_est=260  cs_bt=0.3    29.98115149841886\n",
    "    * lr=0.25  md=7  n_est=260  cs_bt=0.3    29.881961250427363\n",
    "    * lr=0.25  md=7  n_est=260  cs_bt=0.31    29.875803781959725\n",
    "    * lr=0.253  md=7  n_est=260  cs_bt=0.31    29.862564916199354\n",
    "    * lr=0.247  md=7  n_est=260  cs_bt=0.31    29.84555474938013\n",
    "    * lr=0.247  md=7  n_est=270  cs_bt=0.31    29.806075507451794\n",
    "    * lr=0.247  md=7  n_est=280  cs_bt=0.31    29.76580952085039\n",
    "    * lr=0.247  md=7  n_est=290  cs_bt=0.31    29.71998662544207\n",
    "    * lr=0.247  md=7  n_est=300  cs_bt=0.31    29.67707806509011 >> n_estimator가 많아지면서 다수 저렴한 상품에 과적합되면서 MAPE가 교정되는 듯 합니다.\n",
    "    * lr=0.247  md=7  n_est=310  cs_bt=0.31    29.661149146723094  \n",
    "    * lr=0.247  md=7  n_est=320  cs_bt=0.31    29.609695080183506\n",
    "    * lr=0.247  md=7  n_est=330  cs_bt=0.31    29.608322413574733\n",
    "    * lr=0.247  md=7  n_est=330  cs_bt=0.30    29.590688232359746\n",
    "\n",
    "\n",
    "\n",
    "\n",
    "\n",
    "\n",
    "\n",
    "\n",
    "\n",
    "\n",
    "    \n",
    "    "
   ]
  },
  {
   "cell_type": "code",
   "execution_count": 120,
   "metadata": {
    "ExecuteTime": {
     "end_time": "2020-09-24T06:14:17.239644Z",
     "start_time": "2020-09-24T06:14:13.458813Z"
    }
   },
   "outputs": [
    {
     "data": {
      "text/plain": [
       "30.205994575395305"
      ]
     },
     "execution_count": 120,
     "metadata": {},
     "output_type": "execute_result"
    },
    {
     "data": {
      "image/png": "[encoded data removed]",
      "text/plain": [
       "<Figure size 432x288 with 1 Axes>"
      ]
     },
     "metadata": {
      "needs_background": "light"
     },
     "output_type": "display_data"
    }
   ],
   "source": [
    "xgb2 = XGBRegressor(learning_rate=0.247,\n",
    "                  max_depth=7,\n",
    "                  n_estimators=330,\n",
    "                    colsample_bytree=0.3,\n",
    "                  random_state=592)\n",
    "xgb2.fit(X_train,y_train_log)\n",
    "\n",
    "pred_log = xgb2.predict(X_test)\n",
    "pred_log_T = np.exp(1)**pred_log\n",
    "\n",
    "sns.scatterplot(y_test, pred_log_T)\n",
    "\n",
    "sns.lineplot(np.linspace(0,100000000,100),np.linspace(0,100000000,100),c='red',linestyle='--')\n",
    "\n",
    "mape(y_test, pred_log_T)"
   ]
  },
  {
   "cell_type": "code",
   "execution_count": 42,
   "metadata": {
    "ExecuteTime": {
     "end_time": "2020-09-24T03:06:19.031239Z",
     "start_time": "2020-09-24T03:05:04.422803Z"
    },
    "scrolled": true
   },
   "outputs": [],
   "source": [
    "a=[]\n",
    "b=[]\n",
    "for ne in range(10, 301, 10):\n",
    "    xgb2 = XGBRegressor(learning_rate=0.5,\n",
    "                  max_depth=6,\n",
    "                  n_estimators=ne,\n",
    "                  random_state=592)\n",
    "    xgb2.fit(X_train,y_train_log)\n",
    "\n",
    "    pred_log = xgb2.predict(X_test)\n",
    "    pred_log_T = np.exp(1)**pred_log\n",
    "    a.append(mape(y_test, pred_log_T))\n",
    "    b.append(ne)\n"
   ]
  },
  {
   "cell_type": "code",
   "execution_count": 232,
   "metadata": {
    "ExecuteTime": {
     "end_time": "2020-09-16T02:00:47.616781Z",
     "start_time": "2020-09-16T02:00:47.602897Z"
    },
    "scrolled": true
   },
   "outputs": [
    {
     "name": "stdout",
     "output_type": "stream",
     "text": [
      "10 : 41.37321034538012\n",
      "20 : 37.61366619265944\n",
      "30 : 35.40028974854212\n",
      "40 : 34.91025251421358\n",
      "50 : 34.1318022398613\n",
      "60 : 33.507259132623716\n",
      "70 : 33.24087571205507\n",
      "80 : 32.73696038267774\n",
      "90 : 32.549430289185324\n",
      "100 : 32.49091180868051\n",
      "110 : 32.40172798464047\n",
      "120 : 32.23694288540079\n",
      "130 : 32.00600070239064\n",
      "140 : 31.99805397706713\n",
      "150 : 32.00349820393516\n",
      "160 : 31.942708981458555\n",
      "170 : 31.865299576486382\n",
      "180 : 31.816496799997278\n",
      "190 : 31.770673026832302\n",
      "200 : 31.81436899901522\n",
      "210 : 31.825948426810736\n",
      "220 : 31.738559835106216\n",
      "230 : 31.705801965067167\n",
      "240 : 31.788077879215344\n",
      "250 : 31.831044459751983\n",
      "260 : 31.852961775083642\n",
      "270 : 31.855119589732123\n",
      "280 : 31.9257737229096\n",
      "290 : 31.96472058081564\n",
      "300 : 32.00496865263681\n"
     ]
    }
   ],
   "source": [
    "for i in range(len(a)):\n",
    "    print(b[i],':',a[i])"
   ]
  },
  {
   "cell_type": "code",
   "execution_count": 233,
   "metadata": {
    "ExecuteTime": {
     "end_time": "2020-09-16T02:06:35.310649Z",
     "start_time": "2020-09-16T02:06:35.173969Z"
    },
    "scrolled": true
   },
   "outputs": [
    {
     "data": {
      "text/plain": [
       "[<matplotlib.lines.Line2D at 0x1fec7f17808>]"
      ]
     },
     "execution_count": 233,
     "metadata": {},
     "output_type": "execute_result"
    },
    {
     "data": {
      "image/png": "[encoded data removed]",
      "text/plain": [
       "<Figure size 432x288 with 1 Axes>"
      ]
     },
     "metadata": {
      "needs_background": "light"
     },
     "output_type": "display_data"
    }
   ],
   "source": [
    "plt.plot(b[10:],a[10:])"
   ]
  },
  {
   "cell_type": "markdown",
   "metadata": {},
   "source": [
    "# Model4-1. KFold를 이용한 과적합 검증"
   ]
  },
  {
   "cell_type": "code",
   "execution_count": 80,
   "metadata": {
    "ExecuteTime": {
     "end_time": "2020-09-24T05:53:45.468632Z",
     "start_time": "2020-09-24T05:53:45.450630Z"
    }
   },
   "outputs": [
    {
     "name": "stdout",
     "output_type": "stream",
     "text": [
      "[ 7040  7041  7042 ... 35193 35194 35195] , [   0    1    2 ... 7037 7038 7039]\n",
      "[    0     1     2 ... 35193 35194 35195] , [ 7040  7041  7042 ... 14076 14077 14078]\n",
      "[    0     1     2 ... 35193 35194 35195] , [14079 14080 14081 ... 21115 21116 21117]\n",
      "[    0     1     2 ... 35193 35194 35195] , [21118 21119 21120 ... 28154 28155 28156]\n",
      "[    0     1     2 ... 28154 28155 28156] , [28157 28158 28159 ... 35193 35194 35195]\n"
     ]
    }
   ],
   "source": [
    "for t, v in cv.split(train):\n",
    "    print(t,\",\",v)"
   ]
  },
  {
   "cell_type": "code",
   "execution_count": 156,
   "metadata": {
    "ExecuteTime": {
     "end_time": "2020-09-26T06:58:03.001525Z",
     "start_time": "2020-09-26T06:57:45.791491Z"
    }
   },
   "outputs": [
    {
     "name": "stdout",
     "output_type": "stream",
     "text": [
      "len of train : 28156 \n",
      "len of test : 7040\n",
      "len of train : 28157 \n",
      "len of test : 7039\n",
      "len of train : 28157 \n",
      "len of test : 7039\n",
      "len of train : 28157 \n",
      "len of test : 7039\n",
      "len of train : 28157 \n",
      "len of test : 7039\n"
     ]
    },
    {
     "data": {
      "text/plain": [
       "45.61625472986889"
      ]
     },
     "execution_count": 156,
     "metadata": {},
     "output_type": "execute_result"
    }
   ],
   "source": [
    "from sklearn.model_selection import KFold\n",
    "from sklearn.model_selection import cross_val_score\n",
    "\n",
    "cv =  KFold(n_splits=5, random_state=529)\n",
    "\n",
    "score_result=[]\n",
    "for t,v in cv.split(train):\n",
    "    train_cv = train.iloc[t]\n",
    "    test_cv=train.iloc[v]\n",
    "    train_X = train_cv[features].values\n",
    "    train_Y = train_cv[label].values\n",
    "    train_Y_log = np.log(train_Y)\n",
    "    \n",
    "    test_X = test_cv[features].values\n",
    "    test_Y = test_cv[label].values\n",
    "    \n",
    "    \n",
    "    \n",
    "    xgb2.fit(train_X, train_Y_log)\n",
    "    print(\"len of train : {} \\nlen of test : {}\".format(len(train_Y_log),len(test_Y)))\n",
    "    pred_log = xgb2.predict(test_X)\n",
    "    pred_log_T = np.exp(1)**pred_log\n",
    "    score_result.append(mape(test_Y,pred_log_T))\n",
    "sum(score_result)/5"
   ]
  },
  {
   "cell_type": "code",
   "execution_count": 116,
   "metadata": {
    "ExecuteTime": {
     "end_time": "2020-09-24T06:12:39.486687Z",
     "start_time": "2020-09-24T06:12:39.474719Z"
    }
   },
   "outputs": [
    {
     "data": {
      "text/plain": [
       "35196"
      ]
     },
     "execution_count": 116,
     "metadata": {},
     "output_type": "execute_result"
    }
   ],
   "source": [
    "len(train)"
   ]
  },
  {
   "cell_type": "code",
   "execution_count": 130,
   "metadata": {
    "ExecuteTime": {
     "end_time": "2020-09-24T06:20:39.256296Z",
     "start_time": "2020-09-24T06:20:39.241324Z"
    }
   },
   "outputs": [
    {
     "data": {
      "text/plain": [
       "10"
      ]
     },
     "execution_count": 130,
     "metadata": {},
     "output_type": "execute_result"
    }
   ],
   "source": [
    "sum([1,2,3,4])"
   ]
  },
  {
   "cell_type": "code",
   "execution_count": 143,
   "metadata": {
    "ExecuteTime": {
     "end_time": "2020-09-24T06:28:34.489380Z",
     "start_time": "2020-09-24T06:28:34.477414Z"
    }
   },
   "outputs": [
    {
     "data": {
      "text/plain": [
       "[52.031277159567814,\n",
       " 42.260791323043186,\n",
       " 39.25793677621186,\n",
       " 44.504121471906615,\n",
       " 50.027146918614996]"
      ]
     },
     "execution_count": 143,
     "metadata": {},
     "output_type": "execute_result"
    }
   ],
   "source": [
    "# 5번 학습 5번 검증\n",
    "score_result"
   ]
  },
  {
   "cell_type": "code",
   "execution_count": 131,
   "metadata": {
    "ExecuteTime": {
     "end_time": "2020-09-24T06:20:46.431367Z",
     "start_time": "2020-09-24T06:20:46.417362Z"
    }
   },
   "outputs": [
    {
     "data": {
      "text/plain": [
       "17.84441722208168"
      ]
     },
     "execution_count": 131,
     "metadata": {},
     "output_type": "execute_result"
    }
   ],
   "source": [
    "# 한번 학습한 모델로 5번 검증\n",
    "sum(score_result)/5"
   ]
  },
  {
   "cell_type": "code",
   "execution_count": null,
   "metadata": {},
   "outputs": [],
   "source": []
  },
  {
   "cell_type": "code",
   "execution_count": null,
   "metadata": {},
   "outputs": [],
   "source": []
  },
  {
   "cell_type": "markdown",
   "metadata": {},
   "source": [
    "# Model5 >> 커스텀 eval_metric 사용 시도 (실패)"
   ]
  },
  {
   "cell_type": "code",
   "execution_count": 376,
   "metadata": {
    "ExecuteTime": {
     "end_time": "2020-09-20T21:04:28.359241Z",
     "start_time": "2020-09-20T21:04:28.340247Z"
    }
   },
   "outputs": [],
   "source": [
    "def xgb_mape(preds, dtrain):\n",
    "    return('mape', -np.mean(np.abs((dtrain - preds) / (dtrain + 1))))\n",
    "\n",
    "def mape4xgb(y_true, y_pred):\n",
    "    assert len(y_true) == len(y_pred)\n",
    "    y_true, y_pred = np.array(y_true), np.array(y_pred)\n",
    "    return ('mape',-np.mean(np.abs((y_true - y_pred) / y_true)) * 100)"
   ]
  },
  {
   "cell_type": "code",
   "execution_count": 395,
   "metadata": {
    "ExecuteTime": {
     "end_time": "2020-09-20T21:10:05.507548Z",
     "start_time": "2020-09-20T21:10:03.048644Z"
    },
    "scrolled": true
   },
   "outputs": [
    {
     "data": {
      "text/plain": [
       "<matplotlib.axes._subplots.AxesSubplot at 0x1fedc08ee48>"
      ]
     },
     "execution_count": 395,
     "metadata": {},
     "output_type": "execute_result"
    },
    {
     "data": {
      "image/png": "[encoded data removed]",
      "text/plain": [
       "<Figure size 432x288 with 1 Axes>"
      ]
     },
     "metadata": {
      "needs_background": "light"
     },
     "output_type": "display_data"
    }
   ],
   "source": [
    "xgb3 = XGBRegressor(learning_rate=0.5,\n",
    "                  max_depth=6,\n",
    "                  n_estimators=230,\n",
    "                  colsample_bytree=0.1,\n",
    "                  random_state=592\n",
    "                   )\n",
    "xgb3.fit(X_train,y_train_log)\n",
    "\n",
    "pred_log = xgb3.predict(X_test)\n",
    "pred_log_T = np.exp(1)**pred_log\n",
    "\n",
    "sns.scatterplot(y_test, pred_log_T)\n",
    "mape(y_test, pred_log_T)\n",
    "sns.lineplot(np.linspace(0,100000000,100),np.linspace(0,100000000,100),c='red',linestyle='--')"
   ]
  },
  {
   "cell_type": "markdown",
   "metadata": {},
   "source": [
    "# Model6"
   ]
  },
  {
   "cell_type": "code",
   "execution_count": null,
   "metadata": {},
   "outputs": [],
   "source": [
    "new_data = np.array([rf.predict(X_train),xgb3.predict(X_train)])\n"
   ]
  },
  {
   "cell_type": "code",
   "execution_count": null,
   "metadata": {},
   "outputs": [],
   "source": [
    "def mape(y_true, y_pred):\n",
    "    assert len(y_true) == len(y_pred)\n",
    "    y_true, y_pred = np.array(y_true), np.array(y_pred)\n",
    "    return np.mean(np.abs((y_true - y_pred) / y_true)) * 100"
   ]
  },
  {
   "cell_type": "markdown",
   "metadata": {},
   "source": [
    "# Model7(H2O)"
   ]
  },
  {
   "cell_type": "markdown",
   "metadata": {},
   "source": [
    "**Q. H2O를 왜 쓰려고 했나요**\n",
    "\n",
    "**A. H2O의 RANDOMFOREST는 CATEGORICAL VALUE를 따로 인코딩 하지 않아도 카테고리로 인식하여 처리해 줍니다.**\n",
    "\n",
    "--> 카테고리 값이 기존에 테스트데이터를 유출하여 처리했는데,, 이렇게 하면 데이터 누출이 발생하여 실제로 사용할 수가 없습니다. 빅콘이 데이터누출을 알아채고 문제삼을지는 모르겠지만.. 여튼 그래서 해결하려면 세 가지 방법이 있는데\n",
    "\n",
    "1) 트레인 데이터만 가지고 카테고리 인코딩 하기 --> 테스트데이터에 새로 등장하는 애들은 반영이 안됨 + 인코더 사용자정의 함수를 바꿔야하는데 귀찮음\n",
    "\n",
    "2) 그냥 테스트데이터 누출시키기\n",
    "\n",
    "3) H2O를 이용해서 알아서 카테고리를 사용하게 한다. (채택!)"
   ]
  },
  {
   "cell_type": "code",
   "execution_count": 520,
   "metadata": {
    "ExecuteTime": {
     "end_time": "2020-09-20T22:29:23.123871Z",
     "start_time": "2020-09-20T22:29:23.109909Z"
    }
   },
   "outputs": [],
   "source": [
    "from h2o.estimators.random_forest import H2ORandomForestEstimator as HRF\n"
   ]
  },
  {
   "cell_type": "code",
   "execution_count": 533,
   "metadata": {
    "ExecuteTime": {
     "end_time": "2020-09-20T22:32:50.960138Z",
     "start_time": "2020-09-20T22:32:39.159967Z"
    }
   },
   "outputs": [
    {
     "name": "stdout",
     "output_type": "stream",
     "text": [
      "Parse progress: |█████████████████████████████████████████████████████████| 100%\n"
     ]
    }
   ],
   "source": [
    "new_colname=['cast_count','cast_count_sum','cast_time','cast_time_sum','expose(m)','mother_code','cast_date','prd_gun','prd_name','prd_code','target','price','cast_time_ratio','plan','add','maker','set','sex','kid','fake_weight','fake_weight2','ratings_mean','cat1','cat2','cat3','castdate_dow','castdate_MM','castdate_DD','castdate_hh','castdate_mm','castdate_MMDD','castdate_DDhh','castdate_hhmm','castdate_MMDDhh','castdate_mmmm_1','castdate_mmmm_2','castdate_mmmm_3','castdate_dow2','new','brand','review_counts','internet_price','price_minus','search_naver','temperature','change_h2o_label','ratings_start','price_9x','98560','143860','227550','227560','228790','228800','307510','discount','mean_amt_by_hhmm','time_cat','time_cat2','price_cat','change_percentage','com','fake_weight3','date','search_compare','encoding_pname:','encoding_pgun:','encoding_brand:','encoding_new_pname:','encoding_cat1:','encoding_cat2:','encoding_cat3:']\n",
    "\n",
    "h2o_df_all = h2o.H2OFrame(df_all,header=0,column_names=new_colname)\n",
    "\n",
    "h2o_features = ['expose(m)','mother_code','prd_code','price','cast_time','cast_count','cast_time_sum','cast_count_sum','cast_time_ratio','plan','add','maker','set','sex','kid','fake_weight','fake_weight2','ratings_mean','castdate_dow','castdate_MM','castdate_DD','castdate_hh','castdate_MM','castdate_MMDD','castdate_DDhh','castdate_hhmm','castdate_MMDDhh','castdate_mmmm_1','castdate_mmmm_2','castdate_mmmm_3','castdate_dow2','review_counts','internet_price','price_minus','search_naver','temperature','change_h2o_label','ratings_start','price_9x','discount','mean_amt_by_hhmm','time_cat','time_cat2','price_cat','encoding_pname:','encoding_pgun:','encoding_brand:','encoding_new_pname:','encoding_cat1:','encoding_cat2:','encoding_cat3:','change_percentage','com','fake_weight3','search_compare']\n",
    "h2o_label = 'target'\n",
    "\n",
    "h2o_df_all\n",
    "\n"
   ]
  },
  {
   "cell_type": "markdown",
   "metadata": {},
   "source": [
    "**factor 취급 목록**\n",
    "\n",
    "(원본 변수명)\n",
    "\n",
    "'마더코드', '상품코드','상품명_plan', '상품명_add', '상품명_maker', '상품명_set', '상품명_sex', '방송일시_dow', '방송일시_MM', '방송일시_DD', '방송일시_hh', '방송일시_mm', '방송일시_MMDD', '방송일시_DDhh', '방송일시_hhmm','방송일시_MMDDhh', '방송일시_mmmm_1', '방송일시_mmmm_2', '방송일시_mmmm_3', '방송일시_dow2','encoding_상품명:', 'encoding_상품군:','encoding_상품명_brand:', 'encoding_cat1:', 'encoding_cat2:','encoding_cat3:', 'encoding_new_상품명:'\n",
    "\n",
    "(H2O버전 변수명)\n",
    "\n",
    "['mother_code','prd_code','plan','add','maker','set','sex','castdate_dow','castdate_MM','castdate_DD','castdate_hh','castdate_MM','castdate_MMDD','castdate_DDhh','castdate_hhmm','castdate_MMDDhh','castdate_mmmm_1','castdate_mmmm_2','castdate_mmmm_3','castdate_dow2','encoding_pname:','encoding_pgun:','encoding_brand:','encoding_cat1:','encoding_cat2:','encoding_cat3:','encoding_new_pname:']"
   ]
  },
  {
   "cell_type": "code",
   "execution_count": 545,
   "metadata": {
    "ExecuteTime": {
     "end_time": "2020-09-20T22:50:06.284334Z",
     "start_time": "2020-09-20T22:50:06.269362Z"
    }
   },
   "outputs": [],
   "source": [
    "h2o_factor=['mother_code','prd_code','plan','add','maker','set','sex','castdate_dow','castdate_MM','castdate_DD','castdate_hh','castdate_MM','castdate_MMDD','castdate_DDhh','castdate_hhmm','castdate_MMDDhh','castdate_mmmm_1','castdate_mmmm_2','castdate_mmmm_3','castdate_dow2','encoding_pname:','encoding_pgun:','encoding_brand:','encoding_cat1:','encoding_cat2:','encoding_cat3:','encoding_new_pname:']\n",
    "for i in h2o_factor:\n",
    "    h2o_df_all[i]=h2o_df_all[i].asfactor()"
   ]
  },
  {
   "cell_type": "code",
   "execution_count": 552,
   "metadata": {
    "ExecuteTime": {
     "end_time": "2020-09-20T22:51:10.209841Z",
     "start_time": "2020-09-20T22:51:10.190847Z"
    },
    "scrolled": true
   },
   "outputs": [
    {
     "data": {
      "text/plain": [
       "{'mother_code': 'enum',\n",
       " 'prd_code': 'enum',\n",
       " 'plan': 'enum',\n",
       " 'add': 'enum',\n",
       " 'maker': 'enum',\n",
       " 'set': 'enum',\n",
       " 'sex': 'enum',\n",
       " 'castdate_dow': 'enum',\n",
       " 'castdate_MM': 'enum',\n",
       " 'castdate_DD': 'enum',\n",
       " 'castdate_hh': 'enum',\n",
       " 'castdate_MMDD': 'enum',\n",
       " 'castdate_DDhh': 'enum',\n",
       " 'castdate_hhmm': 'enum',\n",
       " 'castdate_MMDDhh': 'enum',\n",
       " 'castdate_mmmm_1': 'enum',\n",
       " 'castdate_mmmm_2': 'enum',\n",
       " 'castdate_mmmm_3': 'enum',\n",
       " 'castdate_dow2': 'enum',\n",
       " 'encoding_pname:': 'enum',\n",
       " 'encoding_pgun:': 'enum',\n",
       " 'encoding_brand:': 'enum',\n",
       " 'encoding_cat1:': 'enum',\n",
       " 'encoding_cat2:': 'enum',\n",
       " 'encoding_cat3:': 'enum',\n",
       " 'encoding_new_pname:': 'enum'}"
      ]
     },
     "metadata": {},
     "output_type": "display_data"
    },
    {
     "data": {
      "text/plain": [
       "{'cast_count': 'int',\n",
       " 'cast_count_sum': 'int',\n",
       " 'cast_time': 'int',\n",
       " 'cast_time_sum': 'int',\n",
       " 'expose(m)': 'int',\n",
       " 'mother_code': 'enum',\n",
       " 'cast_date': 'time',\n",
       " 'prd_gun': 'enum',\n",
       " 'prd_name': 'enum',\n",
       " 'prd_code': 'enum',\n",
       " 'target': 'int',\n",
       " 'price': 'int',\n",
       " 'cast_time_ratio': 'real',\n",
       " 'plan': 'enum',\n",
       " 'add': 'enum',\n",
       " 'maker': 'enum',\n",
       " 'set': 'enum',\n",
       " 'sex': 'enum',\n",
       " 'kid': 'int',\n",
       " 'fake_weight': 'int',\n",
       " 'fake_weight2': 'int',\n",
       " 'ratings_mean': 'real',\n",
       " 'cat1': 'enum',\n",
       " 'cat2': 'enum',\n",
       " 'cat3': 'enum',\n",
       " 'castdate_dow': 'enum',\n",
       " 'castdate_MM': 'enum',\n",
       " 'castdate_DD': 'enum',\n",
       " 'castdate_hh': 'enum',\n",
       " 'castdate_mm': 'int',\n",
       " 'castdate_MMDD': 'enum',\n",
       " 'castdate_DDhh': 'enum',\n",
       " 'castdate_hhmm': 'enum',\n",
       " 'castdate_MMDDhh': 'enum',\n",
       " 'castdate_mmmm_1': 'enum',\n",
       " 'castdate_mmmm_2': 'enum',\n",
       " 'castdate_mmmm_3': 'enum',\n",
       " 'castdate_dow2': 'enum',\n",
       " 'new': 'enum',\n",
       " 'brand': 'enum',\n",
       " 'review_counts': 'int',\n",
       " 'internet_price': 'int',\n",
       " 'price_minus': 'int',\n",
       " 'search_naver': 'int',\n",
       " 'temperature': 'real',\n",
       " 'change_h2o_label': 'int',\n",
       " 'ratings_start': 'real',\n",
       " 'price_9x': 'int',\n",
       " '98560': 'int',\n",
       " '143860': 'int',\n",
       " '227550': 'int',\n",
       " '227560': 'int',\n",
       " '228790': 'int',\n",
       " '228800': 'int',\n",
       " '307510': 'int',\n",
       " 'discount': 'int',\n",
       " 'mean_amt_by_hhmm': 'real',\n",
       " 'time_cat': 'int',\n",
       " 'time_cat2': 'int',\n",
       " 'price_cat': 'int',\n",
       " 'change_percentage': 'real',\n",
       " 'com': 'int',\n",
       " 'fake_weight3': 'int',\n",
       " 'date': 'int',\n",
       " 'search_compare': 'real',\n",
       " 'encoding_pname:': 'enum',\n",
       " 'encoding_pgun:': 'enum',\n",
       " 'encoding_brand:': 'enum',\n",
       " 'encoding_new_pname:': 'enum',\n",
       " 'encoding_cat1:': 'enum',\n",
       " 'encoding_cat2:': 'enum',\n",
       " 'encoding_cat3:': 'enum'}"
      ]
     },
     "metadata": {},
     "output_type": "display_data"
    }
   ],
   "source": [
    "display(h2o_df_all[h2o_factor].types)\n",
    "display(h2o_df_all.types)"
   ]
  },
  {
   "cell_type": "markdown",
   "metadata": {},
   "source": [
    "train = train[train.취급액 < 100000000]\n",
    "train = train[train.취급액 != 0]\n",
    "train.shape\n",
    "\n",
    "y_train_log = np.log(y_train)"
   ]
  },
  {
   "cell_type": "code",
   "execution_count": 619,
   "metadata": {
    "ExecuteTime": {
     "end_time": "2020-09-20T23:50:34.987411Z",
     "start_time": "2020-09-20T23:49:11.671154Z"
    }
   },
   "outputs": [
    {
     "name": "stdout",
     "output_type": "stream",
     "text": [
      "Parse progress: |█████████████████████████████████████████████████████████| 100%\n"
     ]
    }
   ],
   "source": [
    "h2o_train = h2o_df_all[:37372,:]\n",
    "h2o_test = h2o_df_all[37372:,:]\n",
    "\n",
    "h2o_train = h2o_train[h2o_train['target']<100000000]\n",
    "h2o_train = h2o_train[h2o_train['target']!=0]\n",
    "\n",
    "h2o_train_, h2o_test_ = h2o_train.split_frame(ratios=([0.8]), seed=529)\n",
    "\n",
    "# target(취급액)을 다시 dataframe으로 바꾸고, numpy로 바꾸고, log를 취한 다음 다시 h2o dataframe으로 바꿔줌\n",
    "h2o_train_['target'] = h2o.H2OFrame(np.log(h2o_train_['target'].as_data_frame().to_numpy()))\n",
    "\n",
    "#h2o의 랜덤포레스트는 x,y프레임을 넣는것이 아닌, 통프레임을 넣고 컬럼명을 지정하는 방식이므로 아래 코드는 불필요\n",
    "# h2o_X_train = h2o_train_[h2o_features]\n",
    "# h2o_y_train = h2o_train_[h2o_label]\n",
    "# h2o_X_test = h2o_test_[h2o_features]\n",
    "# h2o_y_test = h2o_test_[h2o_label]"
   ]
  },
  {
   "cell_type": "markdown",
   "metadata": {},
   "source": [
    "**Params (H2O는 학습속도가 느립니다.. 참고)** \n",
    "    * lr=없음  md=7  n_est=330  cs_bt=0.30    51.852394907125166 (베스트모델,,,, 이었던 것)\n",
    "    * lr=없음  md=20  n_est=50  cs_bt=1.0    44.39773047315144 (h2o 기본세팅)\n",
    "    * lr=없음  md=20  n_est=50  cs_bt=0.9    44.24473337922151\n",
    "    * lr=없음  md=20  n_est=50  cs_bt=0.5    42.18784370512961 (우리,, 좋았잖아,,,, 다시 20대로 돌아갈 순 없을까..?)\n",
    "    * lr=없음  md=20  n_est=50  cs_bt=0.4    41.12599372715862\n",
    "    * lr=없음  md=20  n_est=50  cs_bt=0.3    41.022630036221955\n",
    "    * lr=없음  md=20  n_est=50  cs_bt=0.2    41.78241266959725\n",
    "\n",
    "\n",
    "\n"
   ]
  },
  {
   "cell_type": "code",
   "execution_count": 644,
   "metadata": {
    "ExecuteTime": {
     "end_time": "2020-09-21T00:58:09.263417Z",
     "start_time": "2020-09-21T00:54:58.157744Z"
    }
   },
   "outputs": [
    {
     "name": "stdout",
     "output_type": "stream",
     "text": [
      "drf Model Build progress: |███████████████████████████████████████████████| 100%\n"
     ]
    }
   ],
   "source": [
    "#    * lr=없음  md=7  n_est=330  cs_bt=0.30    44.39773047315144\n",
    "\n",
    "h2o_rf = H2ORandomForestEstimator(max_depth=20, \n",
    "                                  ntrees=100, \n",
    "                                  col_sample_rate_per_tree=0.3,\n",
    "                                  seed=592)\n",
    "h2o_rf.train(x=h2o_features, y=h2o_label,\n",
    "            training_frame = h2o_train_)"
   ]
  },
  {
   "cell_type": "code",
   "execution_count": 645,
   "metadata": {
    "ExecuteTime": {
     "end_time": "2020-09-21T00:58:21.566232Z",
     "start_time": "2020-09-21T00:58:09.265409Z"
    }
   },
   "outputs": [
    {
     "name": "stdout",
     "output_type": "stream",
     "text": [
      "drf prediction progress: |████████████████████████████████████████████████| 100%\n"
     ]
    },
    {
     "data": {
      "text/plain": [
       "41.452165224565505"
      ]
     },
     "execution_count": 645,
     "metadata": {},
     "output_type": "execute_result"
    }
   ],
   "source": [
    "h2o_pred_log = h2o_rf.predict(h2o_test_)\n",
    "h2o_pred_log_T = np.exp(1)**h2o_pred_log.as_data_frame().to_numpy()\n",
    "mape(h2o_test_[h2o_label].as_data_frame().to_numpy(), h2o_pred_log_T)"
   ]
  },
  {
   "cell_type": "code",
   "execution_count": 627,
   "metadata": {
    "ExecuteTime": {
     "end_time": "2020-09-20T23:56:19.396694Z",
     "start_time": "2020-09-20T23:56:19.380730Z"
    },
    "scrolled": true
   },
   "outputs": [
    {
     "data": {
      "text/plain": [
       "{'model_id': {'default': None,\n",
       "  'actual': {'__meta': {'schema_version': 3,\n",
       "    'schema_name': 'ModelKeyV3',\n",
       "    'schema_type': 'Key<Model>'},\n",
       "   'name': 'DRF_model_python_1600254553036_6',\n",
       "   'type': 'Key<Model>',\n",
       "   'URL': '/3/Models/DRF_model_python_1600254553036_6'}},\n",
       " 'training_frame': {'default': None,\n",
       "  'actual': {'__meta': {'schema_version': 3,\n",
       "    'schema_name': 'FrameKeyV3',\n",
       "    'schema_type': 'Key<Frame>'},\n",
       "   'name': 'py_147_sid_96cd',\n",
       "   'type': 'Key<Frame>',\n",
       "   'URL': '/3/Frames/py_147_sid_96cd'}},\n",
       " 'validation_frame': {'default': None, 'actual': None},\n",
       " 'nfolds': {'default': 0, 'actual': 0},\n",
       " 'keep_cross_validation_models': {'default': True, 'actual': True},\n",
       " 'keep_cross_validation_predictions': {'default': False, 'actual': False},\n",
       " 'keep_cross_validation_fold_assignment': {'default': False, 'actual': False},\n",
       " 'score_each_iteration': {'default': False, 'actual': False},\n",
       " 'score_tree_interval': {'default': 0, 'actual': 0},\n",
       " 'fold_assignment': {'default': 'AUTO', 'actual': 'AUTO'},\n",
       " 'fold_column': {'default': None, 'actual': None},\n",
       " 'response_column': {'default': None,\n",
       "  'actual': {'__meta': {'schema_version': 3,\n",
       "    'schema_name': 'ColSpecifierV3',\n",
       "    'schema_type': 'VecSpecifier'},\n",
       "   'column_name': 'target',\n",
       "   'is_member_of_frames': None}},\n",
       " 'ignored_columns': {'default': None,\n",
       "  'actual': ['castdate_mm',\n",
       "   '307510',\n",
       "   'brand',\n",
       "   'cat2',\n",
       "   'prd_gun',\n",
       "   'new',\n",
       "   '143860',\n",
       "   'cast_date',\n",
       "   '228790',\n",
       "   '98560',\n",
       "   '227550',\n",
       "   'date',\n",
       "   '228800',\n",
       "   'cat1',\n",
       "   'cat3',\n",
       "   '227560',\n",
       "   'prd_name']},\n",
       " 'ignore_const_cols': {'default': True, 'actual': True},\n",
       " 'offset_column': {'default': None, 'actual': None},\n",
       " 'weights_column': {'default': None, 'actual': None},\n",
       " 'balance_classes': {'default': False, 'actual': False},\n",
       " 'class_sampling_factors': {'default': None, 'actual': None},\n",
       " 'max_after_balance_size': {'default': 5.0, 'actual': 5.0},\n",
       " 'max_confusion_matrix_size': {'default': 20, 'actual': 20},\n",
       " 'max_hit_ratio_k': {'default': 0, 'actual': 0},\n",
       " 'ntrees': {'default': 50, 'actual': 50},\n",
       " 'max_depth': {'default': 20, 'actual': 20},\n",
       " 'min_rows': {'default': 1.0, 'actual': 1.0},\n",
       " 'nbins': {'default': 20, 'actual': 20},\n",
       " 'nbins_top_level': {'default': 1024, 'actual': 1024},\n",
       " 'nbins_cats': {'default': 1024, 'actual': 1024},\n",
       " 'r2_stopping': {'default': 1.7976931348623157e+308,\n",
       "  'actual': 1.7976931348623157e+308},\n",
       " 'stopping_rounds': {'default': 0, 'actual': 0},\n",
       " 'stopping_metric': {'default': 'AUTO', 'actual': 'AUTO'},\n",
       " 'stopping_tolerance': {'default': 0.001, 'actual': 0.001},\n",
       " 'max_runtime_secs': {'default': 0.0, 'actual': 0.0},\n",
       " 'seed': {'default': -1, 'actual': 592},\n",
       " 'build_tree_one_node': {'default': False, 'actual': False},\n",
       " 'mtries': {'default': -1, 'actual': -1},\n",
       " 'sample_rate': {'default': 0.632, 'actual': 0.632},\n",
       " 'sample_rate_per_class': {'default': None, 'actual': None},\n",
       " 'binomial_double_trees': {'default': False, 'actual': False},\n",
       " 'checkpoint': {'default': None, 'actual': None},\n",
       " 'col_sample_rate_change_per_level': {'default': 1.0, 'actual': 1.0},\n",
       " 'col_sample_rate_per_tree': {'default': 1.0, 'actual': 1.0},\n",
       " 'min_split_improvement': {'default': 1e-05, 'actual': 1e-05},\n",
       " 'histogram_type': {'default': 'AUTO', 'actual': 'AUTO'},\n",
       " 'categorical_encoding': {'default': 'AUTO', 'actual': 'AUTO'},\n",
       " 'calibrate_model': {'default': False, 'actual': False},\n",
       " 'calibration_frame': {'default': None, 'actual': None},\n",
       " 'distribution': {'default': 'AUTO', 'actual': 'gaussian'},\n",
       " 'custom_metric_func': {'default': None, 'actual': None},\n",
       " 'export_checkpoints_dir': {'default': None, 'actual': None},\n",
       " 'check_constant_response': {'default': True, 'actual': True}}"
      ]
     },
     "execution_count": 627,
     "metadata": {},
     "output_type": "execute_result"
    }
   ],
   "source": [
    "h2o_rf.params"
   ]
  },
  {
   "cell_type": "markdown",
   "metadata": {},
   "source": [
    "# Model8 (H2O 임포트 한김에 써보는 AutoML) >> 너무 느려서 돌리다가 멈춤"
   ]
  },
  {
   "cell_type": "code",
   "execution_count": 636,
   "metadata": {
    "ExecuteTime": {
     "end_time": "2020-09-21T00:08:04.642400Z",
     "start_time": "2020-09-21T00:08:04.613478Z"
    }
   },
   "outputs": [],
   "source": [
    "from h2o.automl import H2OAutoML"
   ]
  },
  {
   "cell_type": "code",
   "execution_count": 637,
   "metadata": {
    "ExecuteTime": {
     "end_time": "2020-09-21T00:32:37.338707Z",
     "start_time": "2020-09-21T00:08:04.644395Z"
    },
    "scrolled": true
   },
   "outputs": [
    {
     "name": "stdout",
     "output_type": "stream",
     "text": [
      "AutoML progress: |█\n",
      "09:08:10.828: AutoML: XGBoost is not available; skipping it.\n",
      "\n",
      "█████████████████████████████████Failed polling AutoML progress log: [WinError 32] 다른 프로세스가 파일을 사용 중이기 때문에 프로세스가 액세스 할 수 없습니다: 'C:\\\\Users\\\\SHJ\\\\AppData\\\\Local\\\\Temp\\\\tmp9eu3jmg7.csv'\n",
      "Failed polling AutoML progress log: Job<$03017f00000132d4ffffffff$_a136423e4a1b023dc5ccc8663fea4eb0> was cancelled by the user.\n",
      "█ (cancelled)\n"
     ]
    },
    {
     "ename": "H2OJobCancelled",
     "evalue": "Job<$03017f00000132d4ffffffff$_8d1a96d82d943f0d353d01fa90cf4a61> was cancelled by the user.",
     "output_type": "error",
     "traceback": [
      "\u001b[1;31m---------------------------------------------------------------------------\u001b[0m",
      "\u001b[1;31mH2OJobCancelled\u001b[0m                           Traceback (most recent call last)",
      "\u001b[1;32m<ipython-input-637-5530b3cf29b5>\u001b[0m in \u001b[0;36m<module>\u001b[1;34m\u001b[0m\n\u001b[0;32m      1\u001b[0m \u001b[0maml\u001b[0m \u001b[1;33m=\u001b[0m \u001b[0mH2OAutoML\u001b[0m\u001b[1;33m(\u001b[0m\u001b[0mseed\u001b[0m\u001b[1;33m=\u001b[0m\u001b[1;36m529\u001b[0m\u001b[1;33m)\u001b[0m\u001b[1;33m\u001b[0m\u001b[1;33m\u001b[0m\u001b[0m\n\u001b[1;32m----> 2\u001b[1;33m \u001b[0maml\u001b[0m\u001b[1;33m.\u001b[0m\u001b[0mtrain\u001b[0m\u001b[1;33m(\u001b[0m\u001b[0mx\u001b[0m\u001b[1;33m=\u001b[0m\u001b[0mh2o_features\u001b[0m\u001b[1;33m,\u001b[0m\u001b[0my\u001b[0m\u001b[1;33m=\u001b[0m\u001b[0mh2o_label\u001b[0m\u001b[1;33m,\u001b[0m\u001b[0mtraining_frame\u001b[0m \u001b[1;33m=\u001b[0m \u001b[0mh2o_train_\u001b[0m\u001b[1;33m)\u001b[0m\u001b[1;33m\u001b[0m\u001b[1;33m\u001b[0m\u001b[0m\n\u001b[0m\u001b[0;32m      3\u001b[0m \u001b[0mh2o_pred_log\u001b[0m \u001b[1;33m=\u001b[0m \u001b[0mh2o_rf\u001b[0m\u001b[1;33m.\u001b[0m\u001b[0mpredict\u001b[0m\u001b[1;33m(\u001b[0m\u001b[0mh2o_test_\u001b[0m\u001b[1;33m)\u001b[0m\u001b[1;33m\u001b[0m\u001b[1;33m\u001b[0m\u001b[0m\n\u001b[0;32m      4\u001b[0m \u001b[0mh2o_pred_log_T\u001b[0m \u001b[1;33m=\u001b[0m \u001b[0mnp\u001b[0m\u001b[1;33m.\u001b[0m\u001b[0mexp\u001b[0m\u001b[1;33m(\u001b[0m\u001b[1;36m1\u001b[0m\u001b[1;33m)\u001b[0m\u001b[1;33m**\u001b[0m\u001b[0mh2o_pred_log\u001b[0m\u001b[1;33m.\u001b[0m\u001b[0mas_data_frame\u001b[0m\u001b[1;33m(\u001b[0m\u001b[1;33m)\u001b[0m\u001b[1;33m.\u001b[0m\u001b[0mto_numpy\u001b[0m\u001b[1;33m(\u001b[0m\u001b[1;33m)\u001b[0m\u001b[1;33m\u001b[0m\u001b[1;33m\u001b[0m\u001b[0m\n\u001b[0;32m      5\u001b[0m \u001b[0mmape\u001b[0m\u001b[1;33m(\u001b[0m\u001b[0mh2o_test_\u001b[0m\u001b[1;33m[\u001b[0m\u001b[0mh2o_label\u001b[0m\u001b[1;33m]\u001b[0m\u001b[1;33m.\u001b[0m\u001b[0mas_data_frame\u001b[0m\u001b[1;33m(\u001b[0m\u001b[1;33m)\u001b[0m\u001b[1;33m.\u001b[0m\u001b[0mto_numpy\u001b[0m\u001b[1;33m(\u001b[0m\u001b[1;33m)\u001b[0m\u001b[1;33m,\u001b[0m \u001b[0mh2o_pred_log_T\u001b[0m\u001b[1;33m)\u001b[0m\u001b[1;33m\u001b[0m\u001b[1;33m\u001b[0m\u001b[0m\n",
      "\u001b[1;32m~\\Anaconda3\\lib\\site-packages\\h2o\\automl\\autoh2o.py\u001b[0m in \u001b[0;36mtrain\u001b[1;34m(self, x, y, training_frame, fold_column, weights_column, validation_frame, leaderboard_frame, blending_frame)\u001b[0m\n\u001b[0;32m    459\u001b[0m         \u001b[0mpoll_updates\u001b[0m \u001b[1;33m=\u001b[0m \u001b[0mft\u001b[0m\u001b[1;33m.\u001b[0m\u001b[0mpartial\u001b[0m\u001b[1;33m(\u001b[0m\u001b[0mself\u001b[0m\u001b[1;33m.\u001b[0m\u001b[0m_poll_training_updates\u001b[0m\u001b[1;33m,\u001b[0m \u001b[0mverbosity\u001b[0m\u001b[1;33m=\u001b[0m\u001b[0mself\u001b[0m\u001b[1;33m.\u001b[0m\u001b[0m_verbosity\u001b[0m\u001b[1;33m,\u001b[0m \u001b[0mstate\u001b[0m\u001b[1;33m=\u001b[0m\u001b[1;33m{\u001b[0m\u001b[1;33m}\u001b[0m\u001b[1;33m)\u001b[0m\u001b[1;33m\u001b[0m\u001b[1;33m\u001b[0m\u001b[0m\n\u001b[0;32m    460\u001b[0m         \u001b[1;32mtry\u001b[0m\u001b[1;33m:\u001b[0m\u001b[1;33m\u001b[0m\u001b[1;33m\u001b[0m\u001b[0m\n\u001b[1;32m--> 461\u001b[1;33m             \u001b[0mself\u001b[0m\u001b[1;33m.\u001b[0m\u001b[0m_job\u001b[0m\u001b[1;33m.\u001b[0m\u001b[0mpoll\u001b[0m\u001b[1;33m(\u001b[0m\u001b[0mpoll_updates\u001b[0m\u001b[1;33m=\u001b[0m\u001b[0mpoll_updates\u001b[0m\u001b[1;33m)\u001b[0m\u001b[1;33m\u001b[0m\u001b[1;33m\u001b[0m\u001b[0m\n\u001b[0m\u001b[0;32m    462\u001b[0m         \u001b[1;32mfinally\u001b[0m\u001b[1;33m:\u001b[0m\u001b[1;33m\u001b[0m\u001b[1;33m\u001b[0m\u001b[0m\n\u001b[0;32m    463\u001b[0m             \u001b[0mpoll_updates\u001b[0m\u001b[1;33m(\u001b[0m\u001b[0mself\u001b[0m\u001b[1;33m.\u001b[0m\u001b[0m_job\u001b[0m\u001b[1;33m,\u001b[0m \u001b[1;36m1\u001b[0m\u001b[1;33m)\u001b[0m\u001b[1;33m\u001b[0m\u001b[1;33m\u001b[0m\u001b[0m\n",
      "\u001b[1;32m~\\Anaconda3\\lib\\site-packages\\h2o\\job.py\u001b[0m in \u001b[0;36mpoll\u001b[1;34m(self, poll_updates)\u001b[0m\n\u001b[0;32m     72\u001b[0m         \u001b[1;31m# check if failed... and politely print relevant message\u001b[0m\u001b[1;33m\u001b[0m\u001b[1;33m\u001b[0m\u001b[1;33m\u001b[0m\u001b[0m\n\u001b[0;32m     73\u001b[0m         \u001b[1;32mif\u001b[0m \u001b[0mself\u001b[0m\u001b[1;33m.\u001b[0m\u001b[0mstatus\u001b[0m \u001b[1;33m==\u001b[0m \u001b[1;34m\"CANCELLED\"\u001b[0m\u001b[1;33m:\u001b[0m\u001b[1;33m\u001b[0m\u001b[1;33m\u001b[0m\u001b[0m\n\u001b[1;32m---> 74\u001b[1;33m             \u001b[1;32mraise\u001b[0m \u001b[0mH2OJobCancelled\u001b[0m\u001b[1;33m(\u001b[0m\u001b[1;34m\"Job<%s> was cancelled by the user.\"\u001b[0m \u001b[1;33m%\u001b[0m \u001b[0mself\u001b[0m\u001b[1;33m.\u001b[0m\u001b[0mjob_key\u001b[0m\u001b[1;33m)\u001b[0m\u001b[1;33m\u001b[0m\u001b[1;33m\u001b[0m\u001b[0m\n\u001b[0m\u001b[0;32m     75\u001b[0m         \u001b[1;32mif\u001b[0m \u001b[0mself\u001b[0m\u001b[1;33m.\u001b[0m\u001b[0mstatus\u001b[0m \u001b[1;33m==\u001b[0m \u001b[1;34m\"FAILED\"\u001b[0m\u001b[1;33m:\u001b[0m\u001b[1;33m\u001b[0m\u001b[1;33m\u001b[0m\u001b[0m\n\u001b[0;32m     76\u001b[0m             \u001b[1;32mif\u001b[0m \u001b[1;33m(\u001b[0m\u001b[0misinstance\u001b[0m\u001b[1;33m(\u001b[0m\u001b[0mself\u001b[0m\u001b[1;33m.\u001b[0m\u001b[0mjob\u001b[0m\u001b[1;33m,\u001b[0m \u001b[0mdict\u001b[0m\u001b[1;33m)\u001b[0m\u001b[1;33m)\u001b[0m \u001b[1;32mand\u001b[0m \u001b[1;33m(\u001b[0m\u001b[1;34m\"stacktrace\"\u001b[0m \u001b[1;32min\u001b[0m \u001b[0mlist\u001b[0m\u001b[1;33m(\u001b[0m\u001b[0mself\u001b[0m\u001b[1;33m.\u001b[0m\u001b[0mjob\u001b[0m\u001b[1;33m)\u001b[0m\u001b[1;33m)\u001b[0m\u001b[1;33m:\u001b[0m\u001b[1;33m\u001b[0m\u001b[1;33m\u001b[0m\u001b[0m\n",
      "\u001b[1;31mH2OJobCancelled\u001b[0m: Job<$03017f00000132d4ffffffff$_8d1a96d82d943f0d353d01fa90cf4a61> was cancelled by the user."
     ]
    }
   ],
   "source": [
    "\n",
    "aml = H2OAutoML(seed=529)\n",
    "aml.train(x=h2o_features,y=h2o_label,training_frame = h2o_train_)\n",
    "h2o_pred_log = h2o_rf.predict(h2o_test_)\n",
    "h2o_pred_log_T = np.exp(1)**h2o_pred_log.as_data_frame().to_numpy()\n",
    "mape(h2o_test_[h2o_label].as_data_frame().to_numpy(), h2o_pred_log_T)"
   ]
  },
  {
   "cell_type": "markdown",
   "metadata": {},
   "source": [
    "# Model9 (더 적은 변수로 시도)"
   ]
  },
  {
   "cell_type": "code",
   "execution_count": null,
   "metadata": {},
   "outputs": [],
   "source": []
  },
  {
   "cell_type": "code",
   "execution_count": 150,
   "metadata": {
    "ExecuteTime": {
     "end_time": "2020-09-26T04:56:58.409227Z",
     "start_time": "2020-09-26T04:56:58.339980Z"
    }
   },
   "outputs": [],
   "source": [
    "features2 = ['노출(분)', '마더코드', '상품코드', '판매단가','cast_time', 'cast_count', 'cast_time_sum', 'cast_count_sum','cast_time_ratio','fake_weight',\n",
    "       '상품명_plan', '상품명_add', '상품명_maker',\n",
    "       '상품명_set', '상품명_sex', '방송일시_dow', '방송일시_MM', '방송일시_DD', '방송일시_hh',\n",
    "       '방송일시_mm', '방송일시_MMDD', '방송일시_DDhh', '방송일시_hhmm', '방송일시_mmmm_1',\n",
    "       '방송일시_mmmm_2', '방송일시_mmmm_3', '방송일시_dow2', 'review_counts', 'price_minus', 'search_naver','temperature',\n",
    "       'encoding_상품명:', 'encoding_상품군:', 'encoding_상품명_brand:',\n",
    "       'encoding_cat1:', 'encoding_cat2:', 'encoding_cat3:','fake_weight2',\n",
    "      'encoding_new_상품명:','변동 %']\n",
    "label = '취급액'\n",
    "\n",
    "X_train = train_[features2].values\n",
    "y_train = train_[label].values\n",
    "X_test = test_[features2].values\n",
    "y_test = test_[label].values\n",
    "# train데이터 학습 이전에, 값을 로그화 해준다\n",
    "y_train_log = np.log(y_train)"
   ]
  },
  {
   "cell_type": "markdown",
   "metadata": {
    "ExecuteTime": {
     "end_time": "2020-09-26T07:13:33.813528Z",
     "start_time": "2020-09-26T07:13:33.799567Z"
    }
   },
   "source": [
    "헷갈리지 말자 : \n",
    "\n",
    "train vs test --> 빅콘이 트레이닝할때 쓰라고 준, 라벨링이 있는 놈\n",
    "\n",
    "train_ vs test_ --> 529 랜덤시드로 나눠둔 사실상 train val set\n",
    "\n",
    "\n"
   ]
  },
  {
   "cell_type": "code",
   "execution_count": 185,
   "metadata": {
    "ExecuteTime": {
     "end_time": "2020-09-26T07:12:28.478926Z",
     "start_time": "2020-09-26T07:12:24.872184Z"
    },
    "scrolled": false
   },
   "outputs": [
    {
     "data": {
      "text/plain": [
       "30.99281675498454"
      ]
     },
     "execution_count": 185,
     "metadata": {},
     "output_type": "execute_result"
    },
    {
     "data": {
      "image/png": "[encoded data removed]",
      "text/plain": [
       "<Figure size 432x288 with 1 Axes>"
      ]
     },
     "metadata": {
      "needs_background": "light"
     },
     "output_type": "display_data"
    }
   ],
   "source": [
    "xgb10 = XGBRegressor(learning_rate=0.247,\n",
    "                  max_depth=7,\n",
    "                  n_estimators=200,\n",
    "                    colsample_bytree=0.7)\n",
    "xgb10.fit(X_train,y_train_log)\n",
    "\n",
    "pred_log = xgb10.predict(X_test)\n",
    "pred_log_T = np.exp(1)**pred_log\n",
    "\n",
    "sns.scatterplot(y_test, pred_log_T)\n",
    "\n",
    "sns.lineplot(np.linspace(0,100000000,100),np.linspace(0,100000000,100),c='red',linestyle='--')\n",
    "\n",
    "mape(y_test, pred_log_T)"
   ]
  },
  {
   "cell_type": "code",
   "execution_count": 186,
   "metadata": {
    "ExecuteTime": {
     "end_time": "2020-09-26T07:12:41.889742Z",
     "start_time": "2020-09-26T07:12:28.481886Z"
    }
   },
   "outputs": [
    {
     "name": "stdout",
     "output_type": "stream",
     "text": [
      "len of train : 28156 \n",
      "len of test : 7040\n",
      "len of train : 28157 \n",
      "len of test : 7039\n",
      "len of train : 28157 \n",
      "len of test : 7039\n",
      "len of train : 28157 \n",
      "len of test : 7039\n",
      "len of train : 28157 \n",
      "len of test : 7039\n"
     ]
    },
    {
     "data": {
      "text/plain": [
       "51.86230897975649"
      ]
     },
     "execution_count": 186,
     "metadata": {},
     "output_type": "execute_result"
    }
   ],
   "source": [
    "from sklearn.model_selection import KFold\n",
    "from sklearn.model_selection import cross_val_score\n",
    "\n",
    "cv =  KFold(n_splits=5, random_state=529)\n",
    "\n",
    "score_result=[]\n",
    "for t,v in cv.split(train):\n",
    "    train_cv = train.iloc[t]\n",
    "    test_cv = train.iloc[v]\n",
    "    train_X = train_cv[features2].values\n",
    "    train_Y = train_cv[label].values\n",
    "    train_Y_log = np.log(train_Y)\n",
    "    \n",
    "    test_X = test_cv[features2].values\n",
    "    test_Y = test_cv[label].values\n",
    "    \n",
    "    \n",
    "    \n",
    "    xgb10.fit(train_X, train_Y_log)\n",
    "    print(\"len of train : {} \\nlen of test : {}\".format(len(train_Y_log),len(test_Y)))\n",
    "    pred_log = xgb10.predict(test_X)\n",
    "    pred_log_T = np.exp(1)**pred_log\n",
    "    score_result.append(mape(test_Y,pred_log_T))\n",
    "sum(score_result)/5"
   ]
  },
  {
   "cell_type": "code",
   "execution_count": 191,
   "metadata": {
    "ExecuteTime": {
     "end_time": "2020-09-26T07:25:30.281904Z",
     "start_time": "2020-09-26T07:25:30.275897Z"
    }
   },
   "outputs": [],
   "source": [
    "from vecstack import stacking"
   ]
  },
  {
   "cell_type": "code",
   "execution_count": 207,
   "metadata": {
    "ExecuteTime": {
     "end_time": "2020-09-26T09:58:04.221394Z",
     "start_time": "2020-09-26T09:57:34.058021Z"
    }
   },
   "outputs": [
    {
     "name": "stdout",
     "output_type": "stream",
     "text": [
      "task:         [regression]\n",
      "metric:       [mape2]\n",
      "mode:         [oof_pred_bag]\n",
      "n_models:     [2]\n",
      "\n",
      "model  0:     [XGBRegressor]\n",
      "    fold  0:  [inf]\n",
      "    fold  1:  [inf]\n",
      "    fold  2:  [inf]\n",
      "    fold  3:  [inf]\n",
      "    ----\n",
      "    MEAN:     [inf] + [nan]\n",
      "    FULL:     [inf]\n",
      "\n",
      "model  1:     [RandomForestRegressor]\n",
      "    fold  0:  [inf]\n",
      "    fold  1:  [inf]\n",
      "    fold  2:  [inf]\n",
      "    fold  3:  [inf]\n",
      "    ----\n",
      "    MEAN:     [inf] + [nan]\n",
      "    FULL:     [inf]\n",
      "\n",
      "Final prediction score: [inf]\n"
     ]
    }
   ],
   "source": [
    "models =[\n",
    "    XGBRegressor(learning_rate=0.247,\n",
    "                  max_depth=7,\n",
    "                  n_estimators=200,\n",
    "                    colsample_bytree=0.7,\n",
    "                random_state=529),\n",
    "    RandomForestRegressor(n_jobs=-1,\n",
    "                         random_state=529)\n",
    "]\n",
    "S_train, S_test = stacking(models, X_train, y_train, X_test,\n",
    "                          regression = True, metric = mape2, n_folds =4,\n",
    "                          random_state=529, verbose=2)\n",
    "#Initialize\n",
    "model = XGBRegressor(learning_rate=0.247,\n",
    "                  max_depth=7,\n",
    "                  n_estimators=200,\n",
    "                    colsample_bytree=0.7,\n",
    "                random_state=529)\n",
    "model = model.fit(S_train, y_train)\n",
    "\n",
    "y_pred = model.predict(S_test)\n",
    "\n",
    "# Final prediction score\n",
    "print('Final prediction score: [%.8f]' % mape2(y_test, y_pred))\n",
    "\n"
   ]
  },
  {
   "cell_type": "code",
   "execution_count": 218,
   "metadata": {
    "ExecuteTime": {
     "end_time": "2020-09-26T10:11:03.213056Z",
     "start_time": "2020-09-26T10:11:03.199161Z"
    }
   },
   "outputs": [
    {
     "data": {
      "text/plain": [
       "array([7623879.375, 4868922.5  ])"
      ]
     },
     "execution_count": 218,
     "metadata": {},
     "output_type": "execute_result"
    }
   ],
   "source": [
    "S_test[0]"
   ]
  },
  {
   "cell_type": "code",
   "execution_count": 222,
   "metadata": {
    "ExecuteTime": {
     "end_time": "2020-09-26T10:12:33.828875Z",
     "start_time": "2020-09-26T10:12:33.802945Z"
    }
   },
   "outputs": [
    {
     "name": "stdout",
     "output_type": "stream",
     "text": [
      "-158924.65625\n",
      "-2682751.65625\n",
      "-574061.4375\n",
      "-931243.8203125\n",
      "-926134.4609375\n",
      "-1391508.26953125\n",
      "-1537477.3190917969\n",
      "-263320.67578125\n",
      "-219620.388671875\n",
      "-406056.015625\n",
      "-851822.150390625\n",
      "-296990.173828125\n",
      "-35594.78125\n",
      "-758445.91796875\n",
      "-1904848.578125\n",
      "-264360.99609375\n",
      "-137256.515625\n",
      "-1225702.33984375\n",
      "-2248011.328125\n",
      "-1237916.0\n",
      "-194182.5\n",
      "-1679836.03125\n",
      "-449619.875\n",
      "-2129742.34375\n",
      "-851298.5\n",
      "-1340723.953125\n",
      "-2168402.3359375\n",
      "-633327.875\n",
      "-136135.09375\n",
      "-399028.65625\n",
      "-56142.44921875\n",
      "-1759034.15625\n",
      "-1029094.6875\n"
     ]
    }
   ],
   "source": [
    "for i in range(len(S_test)):\n",
    "    if min(S_test[i])<0:\n",
    "        print(min(S_test[i]))"
   ]
  },
  {
   "cell_type": "code",
   "execution_count": 220,
   "metadata": {
    "ExecuteTime": {
     "end_time": "2020-09-26T10:12:02.906880Z",
     "start_time": "2020-09-26T10:12:02.891876Z"
    }
   },
   "outputs": [
    {
     "data": {
      "text/plain": [
       "103000"
      ]
     },
     "execution_count": 220,
     "metadata": {},
     "output_type": "execute_result"
    }
   ],
   "source": [
    "min(y_test)"
   ]
  }
 ],
 "metadata": {
  "kernelspec": {
   "display_name": "Python 3",
   "language": "python",
   "name": "python3"
  },
  "language_info": {
   "codemirror_mode": {
    "name": "ipython",
    "version": 3
   },
   "file_extension": ".py",
   "mimetype": "text/x-python",
   "name": "python",
   "nbconvert_exporter": "python",
   "pygments_lexer": "ipython3",
   "version": "3.7.4"
  }
 },
 "nbformat": 4,
 "nbformat_minor": 2
}

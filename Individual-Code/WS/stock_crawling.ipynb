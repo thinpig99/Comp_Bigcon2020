{
 "cells": [
  {
   "cell_type": "markdown",
   "metadata": {},
   "source": [
    "# 네이버 증권 주가 지수 크롤링"
   ]
  },
  {
   "cell_type": "markdown",
   "metadata": {},
   "source": [
    "ex) KODEX필수소비재 일일시세 주소는 아래와 같습니다.<br>\n",
    "https://finance.naver.com/item/sise_day.nhn?code=266410&page=1"
   ]
  },
  {
   "cell_type": "markdown",
   "metadata": {},
   "source": [
    "페이지마다 인덱스가 있으며, 1페이지에 열흘치의 시세를 보여줍니다.<br>\n",
    "크롤러에는 페이지 수와 코드를 입력합니다.<br>\n",
    "보통 50페이지까지 가면 최근 1년치를 보여줍니다.\n",
    "\n",
    "(출처 : https://blog.naver.com/jjys9047/221555400294)"
   ]
  },
  {
   "cell_type": "markdown",
   "metadata": {},
   "source": [
    "### 빅콘 홈쇼핑 과제를 위해 추출할 지수 코드들"
   ]
  },
  {
   "cell_type": "markdown",
   "metadata": {},
   "source": [
    "TIGER 헬스케어 143860\n",
    "- 셀트리온, 삼바, 한미, 씨젠, 신풍 등\n",
    "- 건강이 위협되는 시기에 급등하는 경향을 보임. 코로나 최고 수혜주\n",
    "\n",
    "TIGER 방송통신 098560\n",
    "- SKT, LGU+, KT, 세종T, SBS, 스라, 헬로비전 등\n",
    "- 통신주, IPTV주 등이며, 경기에 크게 영향을 받지 않으나, 홈쇼핑을 송출하는 친구들이라 넣어줌\n",
    "\n",
    "TIGER 화장품 228790\n",
    "- 콜마, LG생건, 코스맥스, 아모레, 코리아나 등\n",
    "- 화장품은 생필품이라 경기에 크게 영향을 받지 않는 편임. 그래도 홈쇼핑 판매 물품이기에 넣어줌.\n",
    "\n",
    "TIGER 여행레저 228800\n",
    "- 롯데관광, 아시아나, 파라다이스, 호텔신라, 제주항공 등\n",
    "- 이번 과제에는 여행 상품을 예측하지 않지만, 여행과도 상관성이 있을 수 있기 때문에 넣어줌.\n",
    "\n",
    "TIGER 200 생활소비재 227560\n",
    "- LG생건, KT&G, 한전, 아모레, CJ제일제당, 오리온, 이마트, 하이트진로 등\n",
    "- 생활소비재는 생활 필수품 위주이기 때문에 경기에 영향이 적음. 오히려 경기가 어려울수록 굳건해지는데 그래서 넣어봄.\n",
    "\n",
    "TIGER 200 산업재 227550\n",
    "- 현대글로비스, 에스원, KAL, KAI, HMM, 팬오션, 대한통운 등\n",
    "- 물류 관련주 모임. 물류 유통은 경제의 핏줄이기 때문에 영향이 분명히 있을 것이라 판단.\n",
    "\n",
    "TIGER 의료기기 307510\n",
    "- 씨젠, 레고켐바이오, 치바이오텍, 오스코텍 등\n",
    "- 의료기기가 아무래도 많이 팔릴 수도 있기 때문에 넣어줌."
   ]
  },
  {
   "cell_type": "code",
   "execution_count": 5,
   "metadata": {},
   "outputs": [],
   "source": [
    "import requests\n",
    "from bs4 import BeautifulSoup\n",
    "from pprint import pprint\n",
    "import pandas as pd\n",
    "import time"
   ]
  },
  {
   "cell_type": "code",
   "execution_count": 41,
   "metadata": {},
   "outputs": [
    {
     "name": "stdout",
     "output_type": "stream",
     "text": [
      "Wall time: 6.18 s\n"
     ]
    }
   ],
   "source": [
    "%%time\n",
    "\n",
    "url = 'https://finance.naver.com/item/sise_day.nhn' # URL은 고정\n",
    "result = []\n",
    "tdtext_list = ['날짜', '종가', '전일비', '시가', '고가', '저가', '거래량']\n",
    "\n",
    "for num in range(16, 43): # 페이지 범위 지정\n",
    "    params = {'code' : '227550', # 지수 코드 지정\n",
    "              'page' : f'{num}'}\n",
    "    \n",
    "    resp = requests.get(url, params = params)\n",
    "    soup = BeautifulSoup(resp.content, 'html.parser')\n",
    "\n",
    "    for tr in soup.find_all('tr')[2:14]:\n",
    "        new_dict = { }\n",
    "        td_list = tr.find_all('td')\n",
    "        if not td_list[0].text.strip():\n",
    "            continue\n",
    "        for i in range(7):\n",
    "            new_dict[tdtext_list[i]] = td_list[i].text.strip()\n",
    "        result.append(new_dict)\n",
    "        \n",
    "\n",
    "df = pd.DataFrame(result, columns = tdtext_list)\n",
    "\n",
    "# 저장해줍니다.\n",
    "#df.to_csv(\"./stock_df.csv\")"
   ]
  },
  {
   "cell_type": "code",
   "execution_count": 64,
   "metadata": {},
   "outputs": [
    {
     "name": "stdout",
     "output_type": "stream",
     "text": [
      "Wall time: 5.09 s\n"
     ]
    }
   ],
   "source": [
    "%%time\n",
    "\n",
    "url = 'https://finance.naver.com/item/sise_day.nhn' # URL은 고정\n",
    "result = []\n",
    "tdtext_list = ['날짜', '종가']\n",
    "\n",
    "for num in range(16, 43): # 페이지 범위 지정\n",
    "    params = {'code' : '227550', # 지수 코드 지정\n",
    "              'page' : f'{num}'}\n",
    "    \n",
    "    resp = requests.get(url, params = params)\n",
    "    soup = BeautifulSoup(resp.content, 'html.parser')\n",
    "\n",
    "    for tr in soup.find_all('tr')[2:14]:\n",
    "        new_dict = { }\n",
    "        td_list = tr.find_all('td')\n",
    "        if not td_list[0].text.strip():\n",
    "            continue\n",
    "        for i in range(2):\n",
    "            new_dict[tdtext_list[i]] = td_list[i].text.strip()\n",
    "        result.append(new_dict)\n",
    "        \n",
    "\n",
    "df = pd.Series(result)\n",
    "# 저장해줍니다.\n",
    "#df.to_csv(\"./stock_df.csv\")"
   ]
  },
  {
   "cell_type": "code",
   "execution_count": 70,
   "metadata": {},
   "outputs": [],
   "source": [
    "def stock_crawler(code):\n",
    "\n",
    "    for c, i in zip(code, range(len(code))):\n",
    "        \n",
    "        url = 'https://finance.naver.com/item/sise_day.nhn' # URL은 고정\n",
    "        result = []\n",
    "        tdtext_list = ['날짜', c]\n",
    "\n",
    "        for num in range(16, 43): # 페이지 범위 지정\n",
    "            params = {'code' : c, # 지수 코드 지정\n",
    "                      'page' : f'{num}'}\n",
    "\n",
    "            resp = requests.get(url, params = params)\n",
    "            soup = BeautifulSoup(resp.content, 'html.parser')\n",
    "\n",
    "            for tr in soup.find_all('tr')[2:14]:\n",
    "                new_dict = { }\n",
    "                td_list = tr.find_all('td')\n",
    "                if not td_list[0].text.strip():\n",
    "                    continue\n",
    "                for i in range(2):\n",
    "                    new_dict[tdtext_list[i]] = td_list[i].text.strip()\n",
    "                result.append(new_dict)\n",
    "\n",
    "        globals()['stock_{}'.format(c)] = pd.DataFrame(result, columns = tdtext_list)\n"
   ]
  },
  {
   "cell_type": "code",
   "execution_count": 71,
   "metadata": {},
   "outputs": [],
   "source": [
    "code = ['143860', '098560', '228790', '228800', '227560', '227550', '307510']"
   ]
  },
  {
   "cell_type": "code",
   "execution_count": 72,
   "metadata": {},
   "outputs": [],
   "source": [
    "stock_crawler(code)"
   ]
  },
  {
   "cell_type": "code",
   "execution_count": 74,
   "metadata": {},
   "outputs": [
    {
     "data": {
      "text/plain": [
       "((243, 2), (243, 2), (243, 2), (243, 2), (243, 2), (243, 2))"
      ]
     },
     "execution_count": 74,
     "metadata": {},
     "output_type": "execute_result"
    }
   ],
   "source": [
    "stock_098560.shape, stock_143860.shape, stock_227550.shape, stock_227560.shape, stock_228800.shape, stock_307510.shape"
   ]
  },
  {
   "cell_type": "code",
   "execution_count": 76,
   "metadata": {},
   "outputs": [
    {
     "data": {
      "text/html": [
       "<div>\n",
       "<style scoped>\n",
       "    .dataframe tbody tr th:only-of-type {\n",
       "        vertical-align: middle;\n",
       "    }\n",
       "\n",
       "    .dataframe tbody tr th {\n",
       "        vertical-align: top;\n",
       "    }\n",
       "\n",
       "    .dataframe thead th {\n",
       "        text-align: right;\n",
       "    }\n",
       "</style>\n",
       "<table border=\"1\" class=\"dataframe\">\n",
       "  <thead>\n",
       "    <tr style=\"text-align: right;\">\n",
       "      <th></th>\n",
       "      <th>날짜</th>\n",
       "      <th>098560</th>\n",
       "      <th>143860</th>\n",
       "      <th>227550</th>\n",
       "      <th>227560</th>\n",
       "      <th>228790</th>\n",
       "      <th>228800</th>\n",
       "      <th>307510</th>\n",
       "    </tr>\n",
       "  </thead>\n",
       "  <tbody>\n",
       "    <tr>\n",
       "      <th>0</th>\n",
       "      <td>2020.01.28</td>\n",
       "      <td>8,130</td>\n",
       "      <td>27,810</td>\n",
       "      <td>4,700</td>\n",
       "      <td>10,605</td>\n",
       "      <td>3,160</td>\n",
       "      <td>4,035</td>\n",
       "      <td>10,670</td>\n",
       "    </tr>\n",
       "    <tr>\n",
       "      <th>1</th>\n",
       "      <td>2020.01.23</td>\n",
       "      <td>8,335</td>\n",
       "      <td>28,205</td>\n",
       "      <td>4,875</td>\n",
       "      <td>11,045</td>\n",
       "      <td>3,430</td>\n",
       "      <td>4,350</td>\n",
       "      <td>10,770</td>\n",
       "    </tr>\n",
       "    <tr>\n",
       "      <th>2</th>\n",
       "      <td>2020.01.22</td>\n",
       "      <td>8,415</td>\n",
       "      <td>28,285</td>\n",
       "      <td>4,820</td>\n",
       "      <td>11,160</td>\n",
       "      <td>3,505</td>\n",
       "      <td>4,420</td>\n",
       "      <td>10,750</td>\n",
       "    </tr>\n",
       "    <tr>\n",
       "      <th>3</th>\n",
       "      <td>2020.01.21</td>\n",
       "      <td>8,400</td>\n",
       "      <td>27,690</td>\n",
       "      <td>4,830</td>\n",
       "      <td>11,140</td>\n",
       "      <td>3,440</td>\n",
       "      <td>4,430</td>\n",
       "      <td>10,595</td>\n",
       "    </tr>\n",
       "    <tr>\n",
       "      <th>4</th>\n",
       "      <td>2020.01.20</td>\n",
       "      <td>8,425</td>\n",
       "      <td>28,015</td>\n",
       "      <td>4,845</td>\n",
       "      <td>11,225</td>\n",
       "      <td>3,515</td>\n",
       "      <td>4,515</td>\n",
       "      <td>10,710</td>\n",
       "    </tr>\n",
       "    <tr>\n",
       "      <th>...</th>\n",
       "      <td>...</td>\n",
       "      <td>...</td>\n",
       "      <td>...</td>\n",
       "      <td>...</td>\n",
       "      <td>...</td>\n",
       "      <td>...</td>\n",
       "      <td>...</td>\n",
       "      <td>...</td>\n",
       "    </tr>\n",
       "    <tr>\n",
       "      <th>238</th>\n",
       "      <td>2018.12.27</td>\n",
       "      <td>9,980</td>\n",
       "      <td>35,180</td>\n",
       "      <td>4,930</td>\n",
       "      <td>11,965</td>\n",
       "      <td>3,560</td>\n",
       "      <td>4,585</td>\n",
       "      <td>9,810</td>\n",
       "    </tr>\n",
       "    <tr>\n",
       "      <th>239</th>\n",
       "      <td>2018.12.26</td>\n",
       "      <td>9,850</td>\n",
       "      <td>34,950</td>\n",
       "      <td>4,800</td>\n",
       "      <td>11,795</td>\n",
       "      <td>3,415</td>\n",
       "      <td>4,455</td>\n",
       "      <td>9,570</td>\n",
       "    </tr>\n",
       "    <tr>\n",
       "      <th>240</th>\n",
       "      <td>2018.12.24</td>\n",
       "      <td>10,000</td>\n",
       "      <td>34,295</td>\n",
       "      <td>4,935</td>\n",
       "      <td>11,935</td>\n",
       "      <td>3,445</td>\n",
       "      <td>4,470</td>\n",
       "      <td>9,650</td>\n",
       "    </tr>\n",
       "    <tr>\n",
       "      <th>241</th>\n",
       "      <td>2018.12.21</td>\n",
       "      <td>10,135</td>\n",
       "      <td>34,825</td>\n",
       "      <td>4,980</td>\n",
       "      <td>12,040</td>\n",
       "      <td>3,495</td>\n",
       "      <td>4,560</td>\n",
       "      <td>9,685</td>\n",
       "    </tr>\n",
       "    <tr>\n",
       "      <th>242</th>\n",
       "      <td>2018.12.20</td>\n",
       "      <td>10,185</td>\n",
       "      <td>34,550</td>\n",
       "      <td>4,980</td>\n",
       "      <td>12,135</td>\n",
       "      <td>3,545</td>\n",
       "      <td>4,555</td>\n",
       "      <td>9,735</td>\n",
       "    </tr>\n",
       "  </tbody>\n",
       "</table>\n",
       "<p>243 rows × 8 columns</p>\n",
       "</div>"
      ],
      "text/plain": [
       "             날짜  098560  143860 227550  227560 228790 228800  307510\n",
       "0    2020.01.28   8,130  27,810  4,700  10,605  3,160  4,035  10,670\n",
       "1    2020.01.23   8,335  28,205  4,875  11,045  3,430  4,350  10,770\n",
       "2    2020.01.22   8,415  28,285  4,820  11,160  3,505  4,420  10,750\n",
       "3    2020.01.21   8,400  27,690  4,830  11,140  3,440  4,430  10,595\n",
       "4    2020.01.20   8,425  28,015  4,845  11,225  3,515  4,515  10,710\n",
       "..          ...     ...     ...    ...     ...    ...    ...     ...\n",
       "238  2018.12.27   9,980  35,180  4,930  11,965  3,560  4,585   9,810\n",
       "239  2018.12.26   9,850  34,950  4,800  11,795  3,415  4,455   9,570\n",
       "240  2018.12.24  10,000  34,295  4,935  11,935  3,445  4,470   9,650\n",
       "241  2018.12.21  10,135  34,825  4,980  12,040  3,495  4,560   9,685\n",
       "242  2018.12.20  10,185  34,550  4,980  12,135  3,545  4,555   9,735\n",
       "\n",
       "[243 rows x 8 columns]"
      ]
     },
     "execution_count": 76,
     "metadata": {},
     "output_type": "execute_result"
    }
   ],
   "source": [
    "# 다 합쳐줍니다. 함수로 하고 싶은데,너무 귀찮습니다. 알고리즘 짜기. 그냥 노가다 뜁니다.\n",
    "stock_all = pd.merge(stock_098560, stock_143860, on='날짜')\n",
    "stock_all = pd.merge(stock_all, stock_227550, on='날짜')\n",
    "stock_all = pd.merge(stock_all, stock_227560, on='날짜')\n",
    "stock_all = pd.merge(stock_all, stock_228790, on='날짜')\n",
    "stock_all = pd.merge(stock_all, stock_228800, on='날짜')\n",
    "stock_all = pd.merge(stock_all, stock_307510, on='날짜')\n",
    "\n",
    "# datetime으로 바꿔줍니다.\n",
    "stock_all['날짜'] = pd.to_datetime(stock_all['날짜'], errors='coerce')"
   ]
  },
  {
   "cell_type": "code",
   "execution_count": 79,
   "metadata": {},
   "outputs": [],
   "source": [
    "stock_all['날짜'] = pd.to_datetime(stock_all['날짜'], errors='coerce')"
   ]
  },
  {
   "cell_type": "code",
   "execution_count": null,
   "metadata": {},
   "outputs": [],
   "source": []
  }
 ],
 "metadata": {
  "kernelspec": {
   "display_name": "Python 3",
   "language": "python",
   "name": "python3"
  },
  "language_info": {
   "codemirror_mode": {
    "name": "ipython",
    "version": 3
   },
   "file_extension": ".py",
   "mimetype": "text/x-python",
   "name": "python",
   "nbconvert_exporter": "python",
   "pygments_lexer": "ipython3",
   "version": "3.7.1"
  }
 },
 "nbformat": 4,
 "nbformat_minor": 4
}

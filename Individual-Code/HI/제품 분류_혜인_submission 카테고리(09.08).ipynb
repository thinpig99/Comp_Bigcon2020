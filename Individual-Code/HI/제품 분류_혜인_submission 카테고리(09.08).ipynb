{
 "cells": [
  {
   "cell_type": "markdown",
   "metadata": {},
   "source": [
    "# ◎ 네이버 OpenAPI와 Jaccard 유사도를 이용한 제품 카테고리 분류\n",
    "---\n",
    "\n",
    "1. 데이터 불러오기 및 결측치 처리 \n",
    "2. 실적(performance), 평가(submission)데이터 통합\n",
    "3. 상품명 전처리(정제)\n",
    "4. [1차 제품 분류] 네이버 OpenAPI를 이용한 제품 분류\n",
    "5. [2차 제품 분류] 자카드 유사도를 기반으로한 제품 분류\n",
    "6. "
   ]
  },
  {
   "cell_type": "code",
   "execution_count": 1,
   "metadata": {},
   "outputs": [],
   "source": [
    "import pandas as pd \n",
    "import numpy as np \n",
    "import re \n",
    "import os\n",
    "import sys\n",
    "import urllib.request\n",
    "import json\n",
    "from tabulate import tabulate"
   ]
  },
  {
   "cell_type": "markdown",
   "metadata": {},
   "source": [
    "### ▶ 데이터 불러오기 및 결측치 처리\n",
    "- [Step1] 데이터 불러오기  \n",
    "      1) 2019년 실적 데이터 (performance)  \n",
    "      2) 2020년 평가 데이터 (submission)\n",
    "\n",
    "\n",
    "- [Step2] '취급액' 컬럼 Null값 처리  \n",
    "      1) '상품군' 컬럼이 '무형'인 데이터 제거  \n",
    "      2) '취급액'이 Null인 경우 '0'으로 대체  "
   ]
  },
  {
   "cell_type": "code",
   "execution_count": 19,
   "metadata": {},
   "outputs": [
    {
     "name": "stderr",
     "output_type": "stream",
     "text": [
      "C:\\Users\\heian\\Anaconda3\\lib\\site-packages\\ipykernel_launcher.py:6: SettingWithCopyWarning: \n",
      "A value is trying to be set on a copy of a slice from a DataFrame.\n",
      "Try using .loc[row_indexer,col_indexer] = value instead\n",
      "\n",
      "See the caveats in the documentation: http://pandas.pydata.org/pandas-docs/stable/user_guide/indexing.html#returning-a-view-versus-a-copy\n",
      "  \n"
     ]
    },
    {
     "data": {
      "text/html": [
       "<div>\n",
       "<style scoped>\n",
       "    .dataframe tbody tr th:only-of-type {\n",
       "        vertical-align: middle;\n",
       "    }\n",
       "\n",
       "    .dataframe tbody tr th {\n",
       "        vertical-align: top;\n",
       "    }\n",
       "\n",
       "    .dataframe thead th {\n",
       "        text-align: right;\n",
       "    }\n",
       "</style>\n",
       "<table border=\"1\" class=\"dataframe\">\n",
       "  <thead>\n",
       "    <tr style=\"text-align: right;\">\n",
       "      <th></th>\n",
       "      <th>방송일시</th>\n",
       "      <th>노출(분)</th>\n",
       "      <th>마더코드</th>\n",
       "      <th>상품코드</th>\n",
       "      <th>상품명</th>\n",
       "      <th>상품군</th>\n",
       "      <th>판매단가</th>\n",
       "      <th>취급액</th>\n",
       "    </tr>\n",
       "  </thead>\n",
       "  <tbody>\n",
       "    <tr>\n",
       "      <td>0</td>\n",
       "      <td>2019-01-01 06:00:00</td>\n",
       "      <td>20.0</td>\n",
       "      <td>100346</td>\n",
       "      <td>201072</td>\n",
       "      <td>테이트 남성 셀린니트3종</td>\n",
       "      <td>의류</td>\n",
       "      <td>39900</td>\n",
       "      <td>2099000.0</td>\n",
       "    </tr>\n",
       "    <tr>\n",
       "      <td>1</td>\n",
       "      <td>2019-01-01 06:00:00</td>\n",
       "      <td>20.0</td>\n",
       "      <td>100346</td>\n",
       "      <td>201079</td>\n",
       "      <td>테이트 여성 셀린니트3종</td>\n",
       "      <td>의류</td>\n",
       "      <td>39900</td>\n",
       "      <td>4371000.0</td>\n",
       "    </tr>\n",
       "    <tr>\n",
       "      <td>2</td>\n",
       "      <td>2019-01-01 06:20:00</td>\n",
       "      <td>20.0</td>\n",
       "      <td>100346</td>\n",
       "      <td>201072</td>\n",
       "      <td>테이트 남성 셀린니트3종</td>\n",
       "      <td>의류</td>\n",
       "      <td>39900</td>\n",
       "      <td>3262000.0</td>\n",
       "    </tr>\n",
       "    <tr>\n",
       "      <td>3</td>\n",
       "      <td>2019-01-01 06:20:00</td>\n",
       "      <td>20.0</td>\n",
       "      <td>100346</td>\n",
       "      <td>201079</td>\n",
       "      <td>테이트 여성 셀린니트3종</td>\n",
       "      <td>의류</td>\n",
       "      <td>39900</td>\n",
       "      <td>6955000.0</td>\n",
       "    </tr>\n",
       "    <tr>\n",
       "      <td>4</td>\n",
       "      <td>2019-01-01 06:40:00</td>\n",
       "      <td>20.0</td>\n",
       "      <td>100346</td>\n",
       "      <td>201072</td>\n",
       "      <td>테이트 남성 셀린니트3종</td>\n",
       "      <td>의류</td>\n",
       "      <td>39900</td>\n",
       "      <td>6672000.0</td>\n",
       "    </tr>\n",
       "  </tbody>\n",
       "</table>\n",
       "</div>"
      ],
      "text/plain": [
       "                 방송일시  노출(분)    마더코드    상품코드            상품명 상품군   판매단가  \\\n",
       "0 2019-01-01 06:00:00   20.0  100346  201072  테이트 남성 셀린니트3종  의류  39900   \n",
       "1 2019-01-01 06:00:00   20.0  100346  201079  테이트 여성 셀린니트3종  의류  39900   \n",
       "2 2019-01-01 06:20:00   20.0  100346  201072  테이트 남성 셀린니트3종  의류  39900   \n",
       "3 2019-01-01 06:20:00   20.0  100346  201079  테이트 여성 셀린니트3종  의류  39900   \n",
       "4 2019-01-01 06:40:00   20.0  100346  201072  테이트 남성 셀린니트3종  의류  39900   \n",
       "\n",
       "         취급액  \n",
       "0  2099000.0  \n",
       "1  4371000.0  \n",
       "2  3262000.0  \n",
       "3  6955000.0  \n",
       "4  6672000.0  "
      ]
     },
     "metadata": {},
     "output_type": "display_data"
    },
    {
     "data": {
      "text/html": [
       "<div>\n",
       "<style scoped>\n",
       "    .dataframe tbody tr th:only-of-type {\n",
       "        vertical-align: middle;\n",
       "    }\n",
       "\n",
       "    .dataframe tbody tr th {\n",
       "        vertical-align: top;\n",
       "    }\n",
       "\n",
       "    .dataframe thead th {\n",
       "        text-align: right;\n",
       "    }\n",
       "</style>\n",
       "<table border=\"1\" class=\"dataframe\">\n",
       "  <thead>\n",
       "    <tr style=\"text-align: right;\">\n",
       "      <th></th>\n",
       "      <th>방송일시</th>\n",
       "      <th>노출(분)</th>\n",
       "      <th>마더코드</th>\n",
       "      <th>상품코드</th>\n",
       "      <th>상품명</th>\n",
       "      <th>상품군</th>\n",
       "      <th>판매단가</th>\n",
       "      <th>취급액</th>\n",
       "    </tr>\n",
       "  </thead>\n",
       "  <tbody>\n",
       "    <tr>\n",
       "      <td>0</td>\n",
       "      <td>2020-06-01 06:20:00</td>\n",
       "      <td>20.0</td>\n",
       "      <td>100650</td>\n",
       "      <td>201971</td>\n",
       "      <td>잭필드 남성  반팔셔츠 4종</td>\n",
       "      <td>의류</td>\n",
       "      <td>59800</td>\n",
       "      <td>0.0</td>\n",
       "    </tr>\n",
       "    <tr>\n",
       "      <td>1</td>\n",
       "      <td>2020-06-01 06:40:00</td>\n",
       "      <td>20.0</td>\n",
       "      <td>100650</td>\n",
       "      <td>201971</td>\n",
       "      <td>잭필드 남성  반팔셔츠 4종</td>\n",
       "      <td>의류</td>\n",
       "      <td>59800</td>\n",
       "      <td>0.0</td>\n",
       "    </tr>\n",
       "    <tr>\n",
       "      <td>2</td>\n",
       "      <td>2020-06-01 07:00:00</td>\n",
       "      <td>20.0</td>\n",
       "      <td>100650</td>\n",
       "      <td>201971</td>\n",
       "      <td>잭필드 남성  반팔셔츠 4종</td>\n",
       "      <td>의류</td>\n",
       "      <td>59800</td>\n",
       "      <td>0.0</td>\n",
       "    </tr>\n",
       "    <tr>\n",
       "      <td>3</td>\n",
       "      <td>2020-06-01 07:20:00</td>\n",
       "      <td>20.0</td>\n",
       "      <td>100445</td>\n",
       "      <td>202278</td>\n",
       "      <td>쿠미투니카 쿨 레이시 란쥬쉐이퍼&amp;팬티</td>\n",
       "      <td>속옷</td>\n",
       "      <td>69900</td>\n",
       "      <td>0.0</td>\n",
       "    </tr>\n",
       "    <tr>\n",
       "      <td>4</td>\n",
       "      <td>2020-06-01 07:40:00</td>\n",
       "      <td>20.0</td>\n",
       "      <td>100445</td>\n",
       "      <td>202278</td>\n",
       "      <td>쿠미투니카 쿨 레이시 란쥬쉐이퍼&amp;팬티</td>\n",
       "      <td>속옷</td>\n",
       "      <td>69900</td>\n",
       "      <td>0.0</td>\n",
       "    </tr>\n",
       "  </tbody>\n",
       "</table>\n",
       "</div>"
      ],
      "text/plain": [
       "                 방송일시  노출(분)    마더코드    상품코드                   상품명 상품군   판매단가  \\\n",
       "0 2020-06-01 06:20:00   20.0  100650  201971       잭필드 남성  반팔셔츠 4종  의류  59800   \n",
       "1 2020-06-01 06:40:00   20.0  100650  201971       잭필드 남성  반팔셔츠 4종  의류  59800   \n",
       "2 2020-06-01 07:00:00   20.0  100650  201971       잭필드 남성  반팔셔츠 4종  의류  59800   \n",
       "3 2020-06-01 07:20:00   20.0  100445  202278  쿠미투니카 쿨 레이시 란쥬쉐이퍼&팬티  속옷  69900   \n",
       "4 2020-06-01 07:40:00   20.0  100445  202278  쿠미투니카 쿨 레이시 란쥬쉐이퍼&팬티  속옷  69900   \n",
       "\n",
       "   취급액  \n",
       "0  0.0  \n",
       "1  0.0  \n",
       "2  0.0  \n",
       "3  0.0  \n",
       "4  0.0  "
      ]
     },
     "metadata": {},
     "output_type": "display_data"
    }
   ],
   "source": [
    "performance = pd.read_excel('2020 빅콘테스트 데이터분석분야-챔피언리그_2019년 실적데이터_v1_200818.xlsx', skiprows=1)\n",
    "submission = pd.read_excel('2020 빅콘테스트 데이터분석분야-챔피언리그_2020년 6월 판매실적예측데이터(평가데이터).xlsx', skiprows=1)\n",
    "\n",
    "def treatNA(df):\n",
    "    df = df[df['상품군']!='무형']\n",
    "    df['취급액'] = df['취급액'].fillna(0)\n",
    "    df = df.fillna(method='pad')\n",
    "    return df\n",
    "\n",
    "performance = treatNA(performance)\n",
    "submission = treatNA(submission)\n",
    "\n",
    "display(performance.head(5))\n",
    "display(submission.head(5))"
   ]
  },
  {
   "cell_type": "markdown",
   "metadata": {},
   "source": [
    "### ▶ 실적/평가 데이터 통합\n",
    "- [Step1] 데이터 통합 (df_all)\n",
    "      :2019년 실적 데이터 (performance) + 2020년 평가 데이터 (submission)"
   ]
  },
  {
   "cell_type": "code",
   "execution_count": 20,
   "metadata": {},
   "outputs": [
    {
     "data": {
      "text/html": [
       "<div>\n",
       "<style scoped>\n",
       "    .dataframe tbody tr th:only-of-type {\n",
       "        vertical-align: middle;\n",
       "    }\n",
       "\n",
       "    .dataframe tbody tr th {\n",
       "        vertical-align: top;\n",
       "    }\n",
       "\n",
       "    .dataframe thead th {\n",
       "        text-align: right;\n",
       "    }\n",
       "</style>\n",
       "<table border=\"1\" class=\"dataframe\">\n",
       "  <thead>\n",
       "    <tr style=\"text-align: right;\">\n",
       "      <th></th>\n",
       "      <th>index</th>\n",
       "      <th>방송일시</th>\n",
       "      <th>노출(분)</th>\n",
       "      <th>마더코드</th>\n",
       "      <th>상품코드</th>\n",
       "      <th>상품명</th>\n",
       "      <th>상품군</th>\n",
       "      <th>판매단가</th>\n",
       "      <th>취급액</th>\n",
       "    </tr>\n",
       "  </thead>\n",
       "  <tbody>\n",
       "    <tr>\n",
       "      <td>0</td>\n",
       "      <td>0</td>\n",
       "      <td>2019-01-01 06:00:00</td>\n",
       "      <td>20.0</td>\n",
       "      <td>100346</td>\n",
       "      <td>201072</td>\n",
       "      <td>테이트 남성 셀린니트3종</td>\n",
       "      <td>의류</td>\n",
       "      <td>39900</td>\n",
       "      <td>2099000.0</td>\n",
       "    </tr>\n",
       "    <tr>\n",
       "      <td>1</td>\n",
       "      <td>1</td>\n",
       "      <td>2019-01-01 06:00:00</td>\n",
       "      <td>20.0</td>\n",
       "      <td>100346</td>\n",
       "      <td>201079</td>\n",
       "      <td>테이트 여성 셀린니트3종</td>\n",
       "      <td>의류</td>\n",
       "      <td>39900</td>\n",
       "      <td>4371000.0</td>\n",
       "    </tr>\n",
       "    <tr>\n",
       "      <td>2</td>\n",
       "      <td>2</td>\n",
       "      <td>2019-01-01 06:20:00</td>\n",
       "      <td>20.0</td>\n",
       "      <td>100346</td>\n",
       "      <td>201072</td>\n",
       "      <td>테이트 남성 셀린니트3종</td>\n",
       "      <td>의류</td>\n",
       "      <td>39900</td>\n",
       "      <td>3262000.0</td>\n",
       "    </tr>\n",
       "    <tr>\n",
       "      <td>3</td>\n",
       "      <td>3</td>\n",
       "      <td>2019-01-01 06:20:00</td>\n",
       "      <td>20.0</td>\n",
       "      <td>100346</td>\n",
       "      <td>201079</td>\n",
       "      <td>테이트 여성 셀린니트3종</td>\n",
       "      <td>의류</td>\n",
       "      <td>39900</td>\n",
       "      <td>6955000.0</td>\n",
       "    </tr>\n",
       "    <tr>\n",
       "      <td>4</td>\n",
       "      <td>4</td>\n",
       "      <td>2019-01-01 06:40:00</td>\n",
       "      <td>20.0</td>\n",
       "      <td>100346</td>\n",
       "      <td>201072</td>\n",
       "      <td>테이트 남성 셀린니트3종</td>\n",
       "      <td>의류</td>\n",
       "      <td>39900</td>\n",
       "      <td>6672000.0</td>\n",
       "    </tr>\n",
       "  </tbody>\n",
       "</table>\n",
       "</div>"
      ],
      "text/plain": [
       "   index                방송일시  노출(분)    마더코드    상품코드            상품명 상품군   판매단가  \\\n",
       "0      0 2019-01-01 06:00:00   20.0  100346  201072  테이트 남성 셀린니트3종  의류  39900   \n",
       "1      1 2019-01-01 06:00:00   20.0  100346  201079  테이트 여성 셀린니트3종  의류  39900   \n",
       "2      2 2019-01-01 06:20:00   20.0  100346  201072  테이트 남성 셀린니트3종  의류  39900   \n",
       "3      3 2019-01-01 06:20:00   20.0  100346  201079  테이트 여성 셀린니트3종  의류  39900   \n",
       "4      4 2019-01-01 06:40:00   20.0  100346  201072  테이트 남성 셀린니트3종  의류  39900   \n",
       "\n",
       "         취급액  \n",
       "0  2099000.0  \n",
       "1  4371000.0  \n",
       "2  3262000.0  \n",
       "3  6955000.0  \n",
       "4  6672000.0  "
      ]
     },
     "execution_count": 20,
     "metadata": {},
     "output_type": "execute_result"
    }
   ],
   "source": [
    "df_all = pd.concat([performance, submission]).reset_index()\n",
    "df_all.head()"
   ]
  },
  {
   "cell_type": "markdown",
   "metadata": {},
   "source": [
    "### ▶ 제품명 전처리\n",
    "\n",
    "- [Step1] 제품명 전처리 함수 생성\n",
    "        - 초기값 상품명 중복 제거\n",
    "        - 상품명 내 불필요한 단어 제거\n",
    "        - 정제 후 상품명 중복 제거\n",
    "        \n",
    "|  | 불필요한 단어 유형 | 예시 |\n",
    "|-|-|-|\n",
    "| 1 | 결제 관련 정보 | 무이자, 일시불, 이자 등 |\n",
    "| 2 | 제품명 앞뒤 괄호에 포함된 단어 | (40인치) (특상품) (초특가) 등 |\n",
    "| 3 | 수량 및 단위 관련 정보 | ~패키지, ~종, 세트, n+n, 더블팩, 싱글팩 |\n",
    "\n",
    "- [Step2] 실적/평가/실적+평가 데이터에 각각 적용하여 전처리 후 상품명현황 파악\n",
    "- [Step3] \n"
   ]
  },
  {
   "cell_type": "code",
   "execution_count": 22,
   "metadata": {},
   "outputs": [],
   "source": [
    "def productnm_cleansing(df):\n",
    "    # 상품명 중복 제거\n",
    "    uniq_pname=df['상품명'].unique()\n",
    "    print('\\n<# of Unique pnameuct Name> : \\t{}건'.format(len(uniq_pname)))\n",
    "    np.set_printoptions(threshold=sys.maxsize)\n",
    "\n",
    "    # 추후 조합을 위해 전처리 이전 제품명과 이후 제품명을 저장합니다.\n",
    "    p_name = pd.DataFrame(data=uniq_pname, columns=['Before Process'])\n",
    "\n",
    "    # 제품명에서 불필요한 요소 전처리\n",
    "    ap=[]\n",
    "    re_stop = re.compile(\"\"\"\\([가-힣]{1,5}\\+[가-힣]{1,5}\\)|\\(?무이자\\)?\\s?|\\(?일시불\\)?\\s?|\\(?초특가\\)?\\s?|\\(?무\\)\\s?|\\(?유\\)\\s?|\\(?일\\)\\s?|무료체험|\n",
    "    |포함|국내[가-힣]+\\s|무료설치|\\s?신제품\\s?|\\s?패키지\\s?|[0-9]+종|풀코디|set|SET|풀세트|[0-9]+세트|더블팩|싱글팩|[0-9]{1,2}\\+[0-9]{1,2}|[0-9]{1,2}인용|[0-9]{1,2}박스|[0-9\\.]{1,4}미터|[0-9\\.]{1,4}kg|[0-9\\.]{1,4}[kKgG]|[0-9]{1,3}[벌롤종단구대P개통병포미봉팩장gL매]|\n",
    "    |\\s[0-9\\.]{1,4}[Mm]|\\(.{1,10}\\)$|^\\(.?\\)|^[0-9]{2,4}\\s|\\s+[0-9]{2,4}\\s|[0-9]{2,4}년\\s|[0-9]{2,4}년형\\s|시즌[0-9]|[0-9]{1,3}\\%|\\(.{1,20}\\)$|기본형|고급형|오리지널|[대중소大中小]형|.{1,10}by|,|\\s?총[0-9\\s]|^[가-힣a-zA-Z]{3,3}의|\n",
    "    |S\\/S|F\\/W|f\\/w|s\\/s|[가-힣]+형\\s|[슈퍼]{0,2}싱글|\\s[SQK퀸킹]{1,2}\\s|[SQK퀸킹]{1,2}$|[가-힣]{0,2}사이즈\"\"\")\n",
    "\n",
    "    remnants = re.compile('[\",g\\+lL-]\\s|ml|_|\\sx|[\\[\\]\\］!\"#$%&\\'()*+,./:;<=>?@\\^_`{|}~-]|\\s종$|\\s[0-9]+\\s|\\s{2,}')\n",
    "\n",
    "    for i in p_name['Before Process']:\n",
    "        tmp = re_stop.sub(' ',i)\n",
    "        tmp = tmp.strip()\n",
    "        tmp = remnants.sub(' ',tmp)\n",
    "        ap.append(tmp.strip())\n",
    "\n",
    "    # 전처리된 제품명 중복제거\n",
    "    p_name['After Process'] = ap\n",
    "    p_name.to_html('tmp.html')\n",
    "\n",
    "    ap = list(set(ap))\n",
    "\n",
    "    display(p_name.head(5))\n",
    "    \n",
    "    return p_name"
   ]
  },
  {
   "cell_type": "code",
   "execution_count": 30,
   "metadata": {},
   "outputs": [
    {
     "name": "stdout",
     "output_type": "stream",
     "text": [
      "\n",
      "<# of Unique pnameuct Name> : \t1692건\n"
     ]
    },
    {
     "data": {
      "text/html": [
       "<div>\n",
       "<style scoped>\n",
       "    .dataframe tbody tr th:only-of-type {\n",
       "        vertical-align: middle;\n",
       "    }\n",
       "\n",
       "    .dataframe tbody tr th {\n",
       "        vertical-align: top;\n",
       "    }\n",
       "\n",
       "    .dataframe thead th {\n",
       "        text-align: right;\n",
       "    }\n",
       "</style>\n",
       "<table border=\"1\" class=\"dataframe\">\n",
       "  <thead>\n",
       "    <tr style=\"text-align: right;\">\n",
       "      <th></th>\n",
       "      <th>Before Process</th>\n",
       "      <th>After Process</th>\n",
       "    </tr>\n",
       "  </thead>\n",
       "  <tbody>\n",
       "    <tr>\n",
       "      <td>0</td>\n",
       "      <td>테이트 남성 셀린니트3종</td>\n",
       "      <td>테이트 남성 셀린니트</td>\n",
       "    </tr>\n",
       "    <tr>\n",
       "      <td>1</td>\n",
       "      <td>테이트 여성 셀린니트3종</td>\n",
       "      <td>테이트 여성 셀린니트</td>\n",
       "    </tr>\n",
       "    <tr>\n",
       "      <td>2</td>\n",
       "      <td>오모떼 레이스 파운데이션 브라</td>\n",
       "      <td>오모떼 레이스 파운데이션 브라</td>\n",
       "    </tr>\n",
       "    <tr>\n",
       "      <td>3</td>\n",
       "      <td>CERINI by PAT 남성 소프트 기모 릴렉스팬츠</td>\n",
       "      <td>PAT 남성 소프트 기모 릴렉스팬츠</td>\n",
       "    </tr>\n",
       "    <tr>\n",
       "      <td>4</td>\n",
       "      <td>보코 리버시블 무스탕</td>\n",
       "      <td>보코 리버시블 무스탕</td>\n",
       "    </tr>\n",
       "  </tbody>\n",
       "</table>\n",
       "</div>"
      ],
      "text/plain": [
       "                  Before Process        After Process\n",
       "0                  테이트 남성 셀린니트3종          테이트 남성 셀린니트\n",
       "1                  테이트 여성 셀린니트3종          테이트 여성 셀린니트\n",
       "2               오모떼 레이스 파운데이션 브라     오모떼 레이스 파운데이션 브라\n",
       "3  CERINI by PAT 남성 소프트 기모 릴렉스팬츠  PAT 남성 소프트 기모 릴렉스팬츠\n",
       "4                    보코 리버시블 무스탕          보코 리버시블 무스탕"
      ]
     },
     "metadata": {},
     "output_type": "display_data"
    },
    {
     "name": "stdout",
     "output_type": "stream",
     "text": [
      "\n",
      "<# of Unique pnameuct Name> : \t349건\n"
     ]
    },
    {
     "data": {
      "text/html": [
       "<div>\n",
       "<style scoped>\n",
       "    .dataframe tbody tr th:only-of-type {\n",
       "        vertical-align: middle;\n",
       "    }\n",
       "\n",
       "    .dataframe tbody tr th {\n",
       "        vertical-align: top;\n",
       "    }\n",
       "\n",
       "    .dataframe thead th {\n",
       "        text-align: right;\n",
       "    }\n",
       "</style>\n",
       "<table border=\"1\" class=\"dataframe\">\n",
       "  <thead>\n",
       "    <tr style=\"text-align: right;\">\n",
       "      <th></th>\n",
       "      <th>Before Process</th>\n",
       "      <th>After Process</th>\n",
       "    </tr>\n",
       "  </thead>\n",
       "  <tbody>\n",
       "    <tr>\n",
       "      <td>0</td>\n",
       "      <td>잭필드 남성  반팔셔츠 4종</td>\n",
       "      <td>잭필드 남성 반팔셔츠</td>\n",
       "    </tr>\n",
       "    <tr>\n",
       "      <td>1</td>\n",
       "      <td>쿠미투니카 쿨 레이시 란쥬쉐이퍼&amp;팬티</td>\n",
       "      <td>쿠미투니카 쿨 레이시 란쥬쉐이퍼 팬티</td>\n",
       "    </tr>\n",
       "    <tr>\n",
       "      <td>2</td>\n",
       "      <td>바비리스 퍼펙트 볼륨스타일러</td>\n",
       "      <td>바비리스 퍼펙트 볼륨스타일러</td>\n",
       "    </tr>\n",
       "    <tr>\n",
       "      <td>3</td>\n",
       "      <td>램프쿡 자동회전냄비</td>\n",
       "      <td>램프쿡 자동회전냄비</td>\n",
       "    </tr>\n",
       "    <tr>\n",
       "      <td>4</td>\n",
       "      <td>벨레즈온 심리스 원피스 4종 패키지</td>\n",
       "      <td>벨레즈온 심리스 원피스</td>\n",
       "    </tr>\n",
       "  </tbody>\n",
       "</table>\n",
       "</div>"
      ],
      "text/plain": [
       "         Before Process         After Process\n",
       "0       잭필드 남성  반팔셔츠 4종           잭필드 남성 반팔셔츠\n",
       "1  쿠미투니카 쿨 레이시 란쥬쉐이퍼&팬티  쿠미투니카 쿨 레이시 란쥬쉐이퍼 팬티\n",
       "2       바비리스 퍼펙트 볼륨스타일러       바비리스 퍼펙트 볼륨스타일러\n",
       "3            램프쿡 자동회전냄비            램프쿡 자동회전냄비\n",
       "4   벨레즈온 심리스 원피스 4종 패키지          벨레즈온 심리스 원피스"
      ]
     },
     "metadata": {},
     "output_type": "display_data"
    },
    {
     "name": "stdout",
     "output_type": "stream",
     "text": [
      "\n",
      "<# of Unique pnameuct Name> : \t1998건\n"
     ]
    },
    {
     "data": {
      "text/html": [
       "<div>\n",
       "<style scoped>\n",
       "    .dataframe tbody tr th:only-of-type {\n",
       "        vertical-align: middle;\n",
       "    }\n",
       "\n",
       "    .dataframe tbody tr th {\n",
       "        vertical-align: top;\n",
       "    }\n",
       "\n",
       "    .dataframe thead th {\n",
       "        text-align: right;\n",
       "    }\n",
       "</style>\n",
       "<table border=\"1\" class=\"dataframe\">\n",
       "  <thead>\n",
       "    <tr style=\"text-align: right;\">\n",
       "      <th></th>\n",
       "      <th>Before Process</th>\n",
       "      <th>After Process</th>\n",
       "    </tr>\n",
       "  </thead>\n",
       "  <tbody>\n",
       "    <tr>\n",
       "      <td>0</td>\n",
       "      <td>테이트 남성 셀린니트3종</td>\n",
       "      <td>테이트 남성 셀린니트</td>\n",
       "    </tr>\n",
       "    <tr>\n",
       "      <td>1</td>\n",
       "      <td>테이트 여성 셀린니트3종</td>\n",
       "      <td>테이트 여성 셀린니트</td>\n",
       "    </tr>\n",
       "    <tr>\n",
       "      <td>2</td>\n",
       "      <td>오모떼 레이스 파운데이션 브라</td>\n",
       "      <td>오모떼 레이스 파운데이션 브라</td>\n",
       "    </tr>\n",
       "    <tr>\n",
       "      <td>3</td>\n",
       "      <td>CERINI by PAT 남성 소프트 기모 릴렉스팬츠</td>\n",
       "      <td>PAT 남성 소프트 기모 릴렉스팬츠</td>\n",
       "    </tr>\n",
       "    <tr>\n",
       "      <td>4</td>\n",
       "      <td>보코 리버시블 무스탕</td>\n",
       "      <td>보코 리버시블 무스탕</td>\n",
       "    </tr>\n",
       "  </tbody>\n",
       "</table>\n",
       "</div>"
      ],
      "text/plain": [
       "                  Before Process        After Process\n",
       "0                  테이트 남성 셀린니트3종          테이트 남성 셀린니트\n",
       "1                  테이트 여성 셀린니트3종          테이트 여성 셀린니트\n",
       "2               오모떼 레이스 파운데이션 브라     오모떼 레이스 파운데이션 브라\n",
       "3  CERINI by PAT 남성 소프트 기모 릴렉스팬츠  PAT 남성 소프트 기모 릴렉스팬츠\n",
       "4                    보코 리버시블 무스탕          보코 리버시블 무스탕"
      ]
     },
     "metadata": {},
     "output_type": "display_data"
    }
   ],
   "source": [
    "#따로 돌려서 전처리 후 고유 상품명 현황 파악한다\n",
    "performance_prd_clean = productnm_cleansing(performance)\n",
    "submission_prd_clean = productnm_cleansing(submission)\n",
    "df_all_prd_clean = productnm_cleansing(df_all)"
   ]
  },
  {
   "cell_type": "code",
   "execution_count": 44,
   "metadata": {},
   "outputs": [
    {
     "name": "stdout",
     "output_type": "stream",
     "text": [
      "-----------------실적/평가 데이터 전처리 후 고유 상품명 현황 --------------------\n",
      "\t[Unique 상품명] 전체 데이터에  존재:\t 1514\n",
      "\t[Unique 상품명] 실적 데이터에만 존재:\t 1221 / 1266\n",
      "\t[Unique 상품명] 평가 데이터에만 존재:\t 248 / 293\n",
      "\t[Unique 상품명] 실적/평가에 둘다 존재:\t 45\n"
     ]
    }
   ],
   "source": [
    "# 실적/평가/전체 데이터의 상품명 현황\n",
    "only_performance =  set(performance_prd_clean['After Process'].tolist()) - set(submission_prd_clean['After Process'].tolist())\n",
    "only_submission = set(submission_prd_clean['After Process'].tolist()) - set(performance_prd_clean['After Process'].tolist())\n",
    "per_sub_intersection = set(submission_prd_clean['After Process'].tolist()) & set(performance_prd_clean['After Process'].tolist())\n",
    "per_sub_union = set(df_all_prd_clean['After Process'].tolist())\n",
    "\n",
    "print(\"-----------------실적/평가 데이터 전처리 후 고유 상품명 현황 --------------------\")\n",
    "print(\"\\t[Unique 상품명] 전체 데이터에  존재:\\t\",len(set(df_all_prd_clean['After Process'].tolist())))\n",
    "print(\"\\t[Unique 상품명] 실적 데이터에만 존재:\\t\", len(only_performance),\"/\",len(set(performance_prd_clean['After Process'].tolist())))\n",
    "print(\"\\t[Unique 상품명] 평가 데이터에만 존재:\\t\", len(only_submission),\"/\",len(set(submission_prd_clean['After Process'].tolist())))\n",
    "print(\"\\t[Unique 상품명] 실적/평가에 둘다 존재:\\t\", len(per_sub_intersection))"
   ]
  },
  {
   "cell_type": "markdown",
   "metadata": {},
   "source": [
    "### ▶ [1차 제품 분류] 네이버 OpenAPI를 이용한 제품 분류\n",
    "\n",
    "- [Step1] 전체 데이터(평가+실적) 상품명에 해당하는 카테고리 1차 부여  \n",
    "\n",
    "- [Step2] 1차 과정에서 찾지 못한 카테고리 처리  \n",
    "        : 'Jaccard_Similarity' 유사도 기반으로 유사한 상품명의 분류 가져옴  "
   ]
  },
  {
   "cell_type": "code",
   "execution_count": 43,
   "metadata": {},
   "outputs": [],
   "source": [
    "# 네이버 검색 API를 이용하여 세부 카테고리를 검색합니다.\n",
    "def naver_shop(keyword):\n",
    "    client_id = \"DWNxDn7nWmw_X5LC74yj\"\n",
    "    client_secret = \"MFrEW9wCWI\"\n",
    "    keyword = keyword.strip()\n",
    "    encText = urllib.parse.quote(keyword)\n",
    "    url = \"https://openapi.naver.com/v1/search/shop.json?query=\" + encText + \"&display=1\" # json 결과\n",
    "    # url = \"https://openapi.naver.com/v1/search/shop.xml?query=\" + encText # xml 결과\n",
    "    request = urllib.request.Request(url)\n",
    "    request.add_header(\"X-Naver-Client-Id\",client_id)\n",
    "    request.add_header(\"X-Naver-Client-Secret\",client_secret)\n",
    "    response = urllib.request.urlopen(request)\n",
    "    rescode = response.getcode()\n",
    "    if(rescode==200):\n",
    "        response_body = response.read()\n",
    "        jsonString = response_body.decode('utf-8')\n",
    "        j = json.loads(jsonString)\n",
    "        if int(j['total']):\n",
    "            c1 = j[\"items\"][0]['category1']\n",
    "            c2 = j[\"items\"][0][\"category2\"]\n",
    "            c3 = j[\"items\"][0][\"category3\"]\n",
    "            c4 = j[\"items\"][0][\"category4\"]\n",
    "            keyword2=''\n",
    "        else : # 검색결과가 없을경우 모델명(숫자+알파벳 구성)과 사이즈(주로 한자어)를 제거하고 뒤에서부터 2개의 어절만으로 검색 재시도\n",
    "            p_code = re.compile('[0-9a-zA-Z]+$|[一-龥]+$')\n",
    "            keyword2 = p_code.sub(' ',keyword)\n",
    "            keyword2 = keyword2.strip()\n",
    "            keyword2 = p_code.sub(' ',keyword2)\n",
    "            keyword2 = ' '.join(keyword2.split()[-2:])\n",
    "            \n",
    "            encText = urllib.parse.quote(keyword2)\n",
    "            url = \"https://openapi.naver.com/v1/search/shop.json?query=\" + encText + \"&display=1\"\n",
    "            request = urllib.request.Request(url)\n",
    "            request.add_header(\"X-Naver-Client-Id\",client_id)\n",
    "            request.add_header(\"X-Naver-Client-Secret\",client_secret)\n",
    "            response = urllib.request.urlopen(request)\n",
    "            rescode = response.getcode()\n",
    "            \n",
    "            if(rescode==200):\n",
    "                response_body = response.read()\n",
    "                jsonString = response_body.decode('utf-8')\n",
    "                j = json.loads(jsonString)\n",
    "                if int(j['total']):\n",
    "                    c1 = j[\"items\"][0]['category1']\n",
    "                    c2 = j[\"items\"][0][\"category2\"]\n",
    "                    c3 = j[\"items\"][0][\"category3\"]\n",
    "                    c4 = j[\"items\"][0][\"category4\"]\n",
    "                else :\n",
    "                    print(keyword,'->',keyword2)\n",
    "                    print('>>>>>>>>>>>>>>>>>>>>Search Failed!<<<<<<<<<<<<<<<<<<<<')\n",
    "                    c1, c2, c3, c4 = '', '', '', ''\n",
    "            else :\n",
    "                print(\"Error Code:\" + rescode)\n",
    "    else:\n",
    "        print(\"Error Code:\" + rescode)\n",
    "    return [keyword,c1,c2,c3,c4,keyword2]\n"
   ]
  },
  {
   "cell_type": "code",
   "execution_count": 45,
   "metadata": {
    "scrolled": true
   },
   "outputs": [
    {
     "data": {
      "application/vnd.jupyter.widget-view+json": {
       "model_id": "60a6d592572e478cb8d3029c027328ac",
       "version_major": 2,
       "version_minor": 0
      },
      "text/plain": [
       "HBox(children=(IntProgress(value=0, max=1514), HTML(value='')))"
      ]
     },
     "metadata": {},
     "output_type": "display_data"
    },
    {
     "name": "stdout",
     "output_type": "stream",
     "text": [
      "에트로 프로푸미 웨이스트백 -> 프로푸미 웨이스트백\n",
      ">>>>>>>>>>>>>>>>>>>>Search Failed!<<<<<<<<<<<<<<<<<<<<\n",
      "뱅뱅 여성 간절기 데님팬츠  KQE251 KQE253 KQE255 -> 데님팬츠 KQE251\n",
      ">>>>>>>>>>>>>>>>>>>>Search Failed!<<<<<<<<<<<<<<<<<<<<\n",
      "뽕셰프 이봉원 특갈비탕 -> 이봉원 특갈비탕\n",
      ">>>>>>>>>>>>>>>>>>>>Search Failed!<<<<<<<<<<<<<<<<<<<<\n",
      "크리스티나앤코 이지웨어세트 -> 크리스티나앤코 이지웨어세트\n",
      ">>>>>>>>>>>>>>>>>>>>Search Failed!<<<<<<<<<<<<<<<<<<<<\n",
      "남해바다 손질왕꼬막살세트 -> 남해바다 손질왕꼬막살세트\n",
      ">>>>>>>>>>>>>>>>>>>>Search Failed!<<<<<<<<<<<<<<<<<<<<\n",
      "USPA화이트라벨 여성트랙수트 -> USPA화이트라벨 여성트랙수트\n",
      ">>>>>>>>>>>>>>>>>>>>Search Failed!<<<<<<<<<<<<<<<<<<<<\n",
      "황제진액 철갑상어 -> 황제진액 철갑상어\n",
      ">>>>>>>>>>>>>>>>>>>>Search Failed!<<<<<<<<<<<<<<<<<<<<\n",
      "창녕 마늘양파듬뿍삼계탕 -> 창녕 마늘양파듬뿍삼계탕\n",
      ">>>>>>>>>>>>>>>>>>>>Search Failed!<<<<<<<<<<<<<<<<<<<<\n",
      "메이듀 남성 린넨 블렌디드 슬립온 -> 블렌디드 슬립온\n",
      ">>>>>>>>>>>>>>>>>>>>Search Failed!<<<<<<<<<<<<<<<<<<<<\n",
      "더커진거창특등급사과 -> 더커진거창특등급사과\n",
      ">>>>>>>>>>>>>>>>>>>>Search Failed!<<<<<<<<<<<<<<<<<<<<\n",
      "삼성5도어냉장고 T9000 RF84R9203S8   시카고커트러리5p세트 -> RF84R9203S8 시카고커트러리5p세트\n",
      ">>>>>>>>>>>>>>>>>>>>Search Failed!<<<<<<<<<<<<<<<<<<<<\n",
      "비가린 배추김치 -> 비가린 배추김치\n",
      ">>>>>>>>>>>>>>>>>>>>Search Failed!<<<<<<<<<<<<<<<<<<<<\n",
      "우리바다 손질왕꼬막 -> 우리바다 손질왕꼬막\n",
      ">>>>>>>>>>>>>>>>>>>>Search Failed!<<<<<<<<<<<<<<<<<<<<\n",
      "강원도산골더덕무침 -> 강원도산골더덕무침\n",
      ">>>>>>>>>>>>>>>>>>>>Search Failed!<<<<<<<<<<<<<<<<<<<<\n",
      "몬테밀라노 크루즈 이지웨어 -> 크루즈 이지웨어\n",
      ">>>>>>>>>>>>>>>>>>>>Search Failed!<<<<<<<<<<<<<<<<<<<<\n",
      "아가타 컬러풀에디션 -> 아가타 컬러풀에디션\n",
      ">>>>>>>>>>>>>>>>>>>>Search Failed!<<<<<<<<<<<<<<<<<<<<\n",
      "리복 여성 스피드윅 웜웨어 -> 스피드윅 웜웨어\n",
      ">>>>>>>>>>>>>>>>>>>>Search Failed!<<<<<<<<<<<<<<<<<<<<\n",
      "한삼인순홍삼진 -> 한삼인순홍삼진\n",
      ">>>>>>>>>>>>>>>>>>>>Search Failed!<<<<<<<<<<<<<<<<<<<<\n",
      "거창특등급사과 -> 거창특등급사과\n",
      ">>>>>>>>>>>>>>>>>>>>Search Failed!<<<<<<<<<<<<<<<<<<<<\n",
      "메이듀 여성 린넨 블렌디드 슬립온 -> 블렌디드 슬립온\n",
      ">>>>>>>>>>>>>>>>>>>>Search Failed!<<<<<<<<<<<<<<<<<<<<\n",
      "AAC 삼채포기김치 -> AAC 삼채포기김치\n",
      ">>>>>>>>>>>>>>>>>>>>Search Failed!<<<<<<<<<<<<<<<<<<<<\n",
      "페르소나 고기능 안전스틱 -> 고기능 안전스틱\n",
      ">>>>>>>>>>>>>>>>>>>>Search Failed!<<<<<<<<<<<<<<<<<<<<\n",
      "한샘 뉴퍼스티지R 리클라이너 -> 뉴퍼스티지R 리클라이너\n",
      ">>>>>>>>>>>>>>>>>>>>Search Failed!<<<<<<<<<<<<<<<<<<<<\n",
      "코펜하겐럭스 세미와이드팬츠 -> 코펜하겐럭스 세미와이드팬츠\n",
      ">>>>>>>>>>>>>>>>>>>>Search Failed!<<<<<<<<<<<<<<<<<<<<\n",
      "탕요일 -> 탕요일\n",
      ">>>>>>>>>>>>>>>>>>>>Search Failed!<<<<<<<<<<<<<<<<<<<<\n",
      "크로커다일 에어스킨 감탄브라 -> 에어스킨 감탄브라\n",
      ">>>>>>>>>>>>>>>>>>>>Search Failed!<<<<<<<<<<<<<<<<<<<<\n",
      "코펜하겐럭스 판초니트 -> 코펜하겐럭스 판초니트\n",
      ">>>>>>>>>>>>>>>>>>>>Search Failed!<<<<<<<<<<<<<<<<<<<<\n",
      "USPA화이트라벨 남성트랙수트 -> USPA화이트라벨 남성트랙수트\n",
      ">>>>>>>>>>>>>>>>>>>>Search Failed!<<<<<<<<<<<<<<<<<<<<\n",
      "바다원  더 그릴 아구채  양태채  쥐포채  소스 -> 쥐포채 소스\n",
      ">>>>>>>>>>>>>>>>>>>>Search Failed!<<<<<<<<<<<<<<<<<<<<\n",
      "기간 제주바다자연산돔39마리 -> 기간 제주바다자연산돔39마리\n",
      ">>>>>>>>>>>>>>>>>>>>Search Failed!<<<<<<<<<<<<<<<<<<<<\n",
      "PAT 남성 에어 카타티셔츠 -> 에어 카타티셔츠\n",
      ">>>>>>>>>>>>>>>>>>>>Search Failed!<<<<<<<<<<<<<<<<<<<<\n",
      "레이프릴 더블엑스 매직니퍼팬티 -> 더블엑스 매직니퍼팬티\n",
      ">>>>>>>>>>>>>>>>>>>>Search Failed!<<<<<<<<<<<<<<<<<<<<\n",
      "뱅뱅 남성 간절기 데님팬츠  GQE772 GQE774 GQE776 -> 데님팬츠 GQE772\n",
      ">>>>>>>>>>>>>>>>>>>>Search Failed!<<<<<<<<<<<<<<<<<<<<\n",
      "가이거  제니스시계 주얼리세트 -> 제니스시계 주얼리세트\n",
      ">>>>>>>>>>>>>>>>>>>>Search Failed!<<<<<<<<<<<<<<<<<<<<\n",
      "루시헨느 레이스 홀리데이 란쥬 -> 홀리데이 란쥬\n",
      ">>>>>>>>>>>>>>>>>>>>Search Failed!<<<<<<<<<<<<<<<<<<<<\n",
      "리복 남성 스피드윅 웜웨어 -> 스피드윅 웜웨어\n",
      ">>>>>>>>>>>>>>>>>>>>Search Failed!<<<<<<<<<<<<<<<<<<<<\n",
      "삼익가구 LED 제니비 침대 -> 제니비 침대\n",
      ">>>>>>>>>>>>>>>>>>>>Search Failed!<<<<<<<<<<<<<<<<<<<<\n",
      "특大손질갑오징어 -> 특大손질갑오징어\n",
      ">>>>>>>>>>>>>>>>>>>>Search Failed!<<<<<<<<<<<<<<<<<<<<\n",
      "해뜰찬포기김치 -> 해뜰찬포기김치\n",
      ">>>>>>>>>>>>>>>>>>>>Search Failed!<<<<<<<<<<<<<<<<<<<<\n",
      "AAE LA갈비 -> AAE LA갈비\n",
      ">>>>>>>>>>>>>>>>>>>>Search Failed!<<<<<<<<<<<<<<<<<<<<\n",
      "마르엘라로사티 에코무스탕 -> 마르엘라로사티 에코무스탕\n",
      ">>>>>>>>>>>>>>>>>>>>Search Failed!<<<<<<<<<<<<<<<<<<<<\n",
      "아리스토우 남성기모티셔츠 -> 아리스토우 남성기모티셔츠\n",
      ">>>>>>>>>>>>>>>>>>>>Search Failed!<<<<<<<<<<<<<<<<<<<<\n",
      "크리스티나앤코 기모밴딩팬츠 -> 크리스티나앤코 기모밴딩팬츠\n",
      ">>>>>>>>>>>>>>>>>>>>Search Failed!<<<<<<<<<<<<<<<<<<<<\n",
      "\n"
     ]
    },
    {
     "data": {
      "text/html": [
       "<div>\n",
       "<style scoped>\n",
       "    .dataframe tbody tr th:only-of-type {\n",
       "        vertical-align: middle;\n",
       "    }\n",
       "\n",
       "    .dataframe tbody tr th {\n",
       "        vertical-align: top;\n",
       "    }\n",
       "\n",
       "    .dataframe thead th {\n",
       "        text-align: right;\n",
       "    }\n",
       "</style>\n",
       "<table border=\"1\" class=\"dataframe\">\n",
       "  <thead>\n",
       "    <tr style=\"text-align: right;\">\n",
       "      <th></th>\n",
       "      <th>pname</th>\n",
       "      <th>cat1</th>\n",
       "      <th>cat2</th>\n",
       "      <th>cat3</th>\n",
       "      <th>cat4</th>\n",
       "      <th>pname2</th>\n",
       "    </tr>\n",
       "  </thead>\n",
       "  <tbody>\n",
       "    <tr>\n",
       "      <td>0</td>\n",
       "      <td>시크릿뮤즈 커버팩트</td>\n",
       "      <td>화장품/미용</td>\n",
       "      <td>베이스메이크업</td>\n",
       "      <td>파우더</td>\n",
       "      <td>팩트파우더</td>\n",
       "      <td></td>\n",
       "    </tr>\n",
       "    <tr>\n",
       "      <td>1</td>\n",
       "      <td>마르엘라로사티 휘메일 풀스킨 밍크 후드코트</td>\n",
       "      <td>패션의류</td>\n",
       "      <td>여성의류</td>\n",
       "      <td>코트</td>\n",
       "      <td></td>\n",
       "      <td></td>\n",
       "    </tr>\n",
       "    <tr>\n",
       "      <td>2</td>\n",
       "      <td>오델로 남성 겨울모자</td>\n",
       "      <td>패션잡화</td>\n",
       "      <td>모자</td>\n",
       "      <td>비니</td>\n",
       "      <td></td>\n",
       "      <td>남성 겨울모자</td>\n",
       "    </tr>\n",
       "    <tr>\n",
       "      <td>3</td>\n",
       "      <td>The 귀한 치마살</td>\n",
       "      <td>식품</td>\n",
       "      <td>축산</td>\n",
       "      <td>쇠고기</td>\n",
       "      <td>수입산쇠고기</td>\n",
       "      <td></td>\n",
       "    </tr>\n",
       "    <tr>\n",
       "      <td>4</td>\n",
       "      <td>파격찬스 굿프렌드 스트레칭 안마 매트 GOOD A7</td>\n",
       "      <td>생활/건강</td>\n",
       "      <td>안마용품</td>\n",
       "      <td>안마매트</td>\n",
       "      <td></td>\n",
       "      <td></td>\n",
       "    </tr>\n",
       "    <tr>\n",
       "      <td>...</td>\n",
       "      <td>...</td>\n",
       "      <td>...</td>\n",
       "      <td>...</td>\n",
       "      <td>...</td>\n",
       "      <td>...</td>\n",
       "      <td>...</td>\n",
       "    </tr>\n",
       "    <tr>\n",
       "      <td>1509</td>\n",
       "      <td>보몽드 엘사 자수 쿨 시어서커 침구세트 SK</td>\n",
       "      <td>가구/인테리어</td>\n",
       "      <td>침구세트</td>\n",
       "      <td>이불베개세트</td>\n",
       "      <td>더블/퀸이불베개세트</td>\n",
       "      <td>시어서커 침구세트</td>\n",
       "    </tr>\n",
       "    <tr>\n",
       "      <td>1510</td>\n",
       "      <td>참바다손질낙지 양념장 연포탕육수</td>\n",
       "      <td>식품</td>\n",
       "      <td>수산</td>\n",
       "      <td>해산물/어패류</td>\n",
       "      <td>낙지</td>\n",
       "      <td></td>\n",
       "    </tr>\n",
       "    <tr>\n",
       "      <td>1511</td>\n",
       "      <td>삼성 UHD TV UN65RU7150FXKR</td>\n",
       "      <td>디지털/가전</td>\n",
       "      <td>영상가전</td>\n",
       "      <td>TV</td>\n",
       "      <td>LEDTV</td>\n",
       "      <td></td>\n",
       "    </tr>\n",
       "    <tr>\n",
       "      <td>1512</td>\n",
       "      <td>푸마 INNO 심리스 롱드로즈</td>\n",
       "      <td>패션의류</td>\n",
       "      <td>남성언더웨어/잠옷</td>\n",
       "      <td>팬티</td>\n",
       "      <td></td>\n",
       "      <td></td>\n",
       "    </tr>\n",
       "    <tr>\n",
       "      <td>1513</td>\n",
       "      <td>신모델 무풍 슬림 16형 화이트 절전  홈멀티  AF16T5774WZRT   삼성 선풍기</td>\n",
       "      <td>디지털/가전</td>\n",
       "      <td>계절가전</td>\n",
       "      <td>에어컨</td>\n",
       "      <td>멀티형에어컨</td>\n",
       "      <td></td>\n",
       "    </tr>\n",
       "  </tbody>\n",
       "</table>\n",
       "<p>1514 rows × 6 columns</p>\n",
       "</div>"
      ],
      "text/plain": [
       "                                                  pname     cat1       cat2  \\\n",
       "0                                            시크릿뮤즈 커버팩트   화장품/미용    베이스메이크업   \n",
       "1                               마르엘라로사티 휘메일 풀스킨 밍크 후드코트     패션의류       여성의류   \n",
       "2                                           오델로 남성 겨울모자     패션잡화         모자   \n",
       "3                                            The 귀한 치마살       식품         축산   \n",
       "4                          파격찬스 굿프렌드 스트레칭 안마 매트 GOOD A7    생활/건강       안마용품   \n",
       "...                                                 ...      ...        ...   \n",
       "1509                           보몽드 엘사 자수 쿨 시어서커 침구세트 SK  가구/인테리어       침구세트   \n",
       "1510                                  참바다손질낙지 양념장 연포탕육수       식품         수산   \n",
       "1511                           삼성 UHD TV UN65RU7150FXKR   디지털/가전       영상가전   \n",
       "1512                                   푸마 INNO 심리스 롱드로즈     패션의류  남성언더웨어/잠옷   \n",
       "1513  신모델 무풍 슬림 16형 화이트 절전  홈멀티  AF16T5774WZRT   삼성 선풍기   디지털/가전       계절가전   \n",
       "\n",
       "         cat3        cat4     pname2  \n",
       "0         파우더       팩트파우더             \n",
       "1          코트                         \n",
       "2          비니                남성 겨울모자  \n",
       "3         쇠고기      수입산쇠고기             \n",
       "4        안마매트                         \n",
       "...       ...         ...        ...  \n",
       "1509   이불베개세트  더블/퀸이불베개세트  시어서커 침구세트  \n",
       "1510  해산물/어패류          낙지             \n",
       "1511       TV       LEDTV             \n",
       "1512       팬티                         \n",
       "1513      에어컨      멀티형에어컨             \n",
       "\n",
       "[1514 rows x 6 columns]"
      ]
     },
     "execution_count": 45,
     "metadata": {},
     "output_type": "execute_result"
    }
   ],
   "source": [
    "from tqdm import tqdm_notebook\n",
    "\n",
    "cat_df = pd.DataFrame(columns = ['pname','cat1','cat2','cat3','cat4','pname2'])\n",
    "\n",
    "for item in tqdm_notebook(per_sub_union):\n",
    "#     print(item)\n",
    "    ns = naver_shop(item)\n",
    "    cat_df=cat_df.append(pd.DataFrame([ns],columns=['pname','cat1','cat2','cat3','cat4','pname2']), ignore_index=True)\n",
    "\n",
    "cat_df"
   ]
  },
  {
   "cell_type": "code",
   "execution_count": 49,
   "metadata": {},
   "outputs": [
    {
     "data": {
      "text/html": [
       "<div>\n",
       "<style scoped>\n",
       "    .dataframe tbody tr th:only-of-type {\n",
       "        vertical-align: middle;\n",
       "    }\n",
       "\n",
       "    .dataframe tbody tr th {\n",
       "        vertical-align: top;\n",
       "    }\n",
       "\n",
       "    .dataframe thead th {\n",
       "        text-align: right;\n",
       "    }\n",
       "</style>\n",
       "<table border=\"1\" class=\"dataframe\">\n",
       "  <thead>\n",
       "    <tr style=\"text-align: right;\">\n",
       "      <th></th>\n",
       "      <th>pname</th>\n",
       "      <th>cat1</th>\n",
       "      <th>cat2</th>\n",
       "      <th>cat3</th>\n",
       "      <th>cat4</th>\n",
       "      <th>pname2</th>\n",
       "    </tr>\n",
       "  </thead>\n",
       "  <tbody>\n",
       "    <tr>\n",
       "      <td>0</td>\n",
       "      <td>시크릿뮤즈 커버팩트</td>\n",
       "      <td>화장품/미용</td>\n",
       "      <td>베이스메이크업</td>\n",
       "      <td>파우더</td>\n",
       "      <td>팩트파우더</td>\n",
       "      <td></td>\n",
       "    </tr>\n",
       "    <tr>\n",
       "      <td>1</td>\n",
       "      <td>마르엘라로사티 휘메일 풀스킨 밍크 후드코트</td>\n",
       "      <td>패션의류</td>\n",
       "      <td>여성의류</td>\n",
       "      <td>코트</td>\n",
       "      <td></td>\n",
       "      <td></td>\n",
       "    </tr>\n",
       "    <tr>\n",
       "      <td>2</td>\n",
       "      <td>오델로 남성 겨울모자</td>\n",
       "      <td>패션잡화</td>\n",
       "      <td>모자</td>\n",
       "      <td>비니</td>\n",
       "      <td></td>\n",
       "      <td>남성 겨울모자</td>\n",
       "    </tr>\n",
       "    <tr>\n",
       "      <td>3</td>\n",
       "      <td>The 귀한 치마살</td>\n",
       "      <td>식품</td>\n",
       "      <td>축산</td>\n",
       "      <td>쇠고기</td>\n",
       "      <td>수입산쇠고기</td>\n",
       "      <td></td>\n",
       "    </tr>\n",
       "    <tr>\n",
       "      <td>4</td>\n",
       "      <td>파격찬스 굿프렌드 스트레칭 안마 매트 GOOD A7</td>\n",
       "      <td>생활/건강</td>\n",
       "      <td>안마용품</td>\n",
       "      <td>안마매트</td>\n",
       "      <td></td>\n",
       "      <td></td>\n",
       "    </tr>\n",
       "  </tbody>\n",
       "</table>\n",
       "</div>"
      ],
      "text/plain": [
       "                          pname    cat1     cat2  cat3    cat4   pname2\n",
       "0                    시크릿뮤즈 커버팩트  화장품/미용  베이스메이크업   파우더   팩트파우더         \n",
       "1       마르엘라로사티 휘메일 풀스킨 밍크 후드코트    패션의류     여성의류    코트                 \n",
       "2                   오델로 남성 겨울모자    패션잡화       모자    비니          남성 겨울모자\n",
       "3                    The 귀한 치마살      식품       축산   쇠고기  수입산쇠고기         \n",
       "4  파격찬스 굿프렌드 스트레칭 안마 매트 GOOD A7   생활/건강     안마용품  안마매트                 "
      ]
     },
     "execution_count": 49,
     "metadata": {},
     "output_type": "execute_result"
    }
   ],
   "source": [
    "#1차 제품 분류 값 파일로 저장\n",
    "cat_df.to_csv('fisrt_search_cat_submission_hyein0908.csv')\n",
    "cat_df.head()"
   ]
  },
  {
   "cell_type": "code",
   "execution_count": 50,
   "metadata": {},
   "outputs": [
    {
     "name": "stdout",
     "output_type": "stream",
     "text": [
      "***알아내지 못한 카테고리 비율 :  2.84 %\n"
     ]
    }
   ],
   "source": [
    "len(cat_df)\n",
    "unknown_ratio = len(cat_df[cat_df['cat1']==''])/len(cat_df)*100\n",
    "print(\"***1차 분류에서 알아내지 못한 카테고리 비율 : \", round(unknown_ratio,3),\"%\")"
   ]
  },
  {
   "cell_type": "markdown",
   "metadata": {},
   "source": [
    "### ▶ [2차 제품 분류] 자카드 유사도를 기반으로한  제품 분류\n",
    " : 1차 분류에 실패한 상품명을 자카드 유사도를 기반으로 가장 높은 유사도를 가진 상품명의 제품분류를 가져오는 방식\n",
    "\n",
    "---\n",
    "\n",
    "#### > HOW? : Jaccard_Similarity\n",
    "\n",
    " : 문장을 명사단위로 쪼갠 뒤 두 문장간 (겹치는 명사의 개수) / (총 명사의 수) 로 구하는 유사도\n",
    "\n",
    "-  예시) Jaccard('특대형 한방닭백숙', '김개똥의 닭백숙 세트') \n",
    "      \n",
    "      --> ('특','특대형','한방','닭','닭백숙','백숙'), ('김개똥','닭','닭백숙','백숙','세트)   \n",
    "      --> A&B = 6개(3쌍) ('닭','백숙','닭백숙')  \n",
    "      --> A|B = 11개  \n",
    "\n",
    "> Jaccard_sim = 6/11 = 54.5%\n"
   ]
  },
  {
   "cell_type": "code",
   "execution_count": 48,
   "metadata": {},
   "outputs": [],
   "source": [
    "from tqdm import tqdm_notebook\n",
    "from konlpy.tag import Kkma\n",
    "kkma=Kkma()\n",
    "\n",
    "def jaccard_sim(doc1, doc2):\n",
    "    doc1 = kkma.nouns(doc1)\n",
    "    doc2 = kkma.nouns(doc2)\n",
    "    u_doc1 = set(doc1)\n",
    "    u_doc2 = set(doc2)\n",
    "    return len(u_doc1 & u_doc2) / len(u_doc1 | u_doc2)"
   ]
  },
  {
   "cell_type": "code",
   "execution_count": 51,
   "metadata": {
    "scrolled": true
   },
   "outputs": [
    {
     "data": {
      "application/vnd.jupyter.widget-view+json": {
       "model_id": "3b4a956a4591460788e3fcda30802dec",
       "version_major": 2,
       "version_minor": 0
      },
      "text/plain": [
       "HBox(children=(IntProgress(value=0, max=43), HTML(value='')))"
      ]
     },
     "metadata": {},
     "output_type": "display_data"
    },
    {
     "name": "stdout",
     "output_type": "stream",
     "text": [
      "에트로 프로푸미 웨이스트백\n"
     ]
    },
    {
     "data": {
      "application/vnd.jupyter.widget-view+json": {
       "model_id": "e5af867a39de4a9c9e7f21b818e0d62e",
       "version_major": 2,
       "version_minor": 0
      },
      "text/plain": [
       "HBox(children=(IntProgress(value=0, max=1471), HTML(value='')))"
      ]
     },
     "metadata": {},
     "output_type": "display_data"
    },
    {
     "name": "stdout",
     "output_type": "stream",
     "text": [
      "0.09090909090909091\n",
      "0.18181818181818182\n",
      "0.5555555555555556\n",
      "\n",
      "패션잡화 여성가방 크로스백 \n",
      "뱅뱅 여성 간절기 데님팬츠  KQE251 KQE253 KQE255\n"
     ]
    },
    {
     "data": {
      "application/vnd.jupyter.widget-view+json": {
       "model_id": "6c8fa2c153ac43559d2ceb10470528d8",
       "version_major": 2,
       "version_minor": 0
      },
      "text/plain": [
       "HBox(children=(IntProgress(value=0, max=1471), HTML(value='')))"
      ]
     },
     "metadata": {},
     "output_type": "display_data"
    },
    {
     "name": "stdout",
     "output_type": "stream",
     "text": [
      "0.07142857142857142\n",
      "0.14285714285714285\n",
      "0.2857142857142857\n",
      "0.36363636363636365\n",
      "0.4\n",
      "\n",
      "패션의류 여성의류 청바지 \n",
      "뽕셰프 이봉원 특갈비탕\n"
     ]
    },
    {
     "data": {
      "application/vnd.jupyter.widget-view+json": {
       "model_id": "78e98c40c2b14f0e92021870cfc08b3c",
       "version_major": 2,
       "version_minor": 0
      },
      "text/plain": [
       "HBox(children=(IntProgress(value=0, max=1471), HTML(value='')))"
      ]
     },
     "metadata": {},
     "output_type": "display_data"
    },
    {
     "name": "stdout",
     "output_type": "stream",
     "text": [
      "0.08333333333333333\n",
      "0.1\n",
      "\n",
      "식품 냉동/간편조리식품 즉석국/즉석탕 \n",
      "크리스티나앤코 이지웨어세트\n"
     ]
    },
    {
     "data": {
      "application/vnd.jupyter.widget-view+json": {
       "model_id": "e81bf9079cb74cf4a7053cd22e32c8cc",
       "version_major": 2,
       "version_minor": 0
      },
      "text/plain": [
       "HBox(children=(IntProgress(value=0, max=1471), HTML(value='')))"
      ]
     },
     "metadata": {},
     "output_type": "display_data"
    },
    {
     "name": "stdout",
     "output_type": "stream",
     "text": [
      "0.07692307692307693\n",
      "0.18181818181818182\n",
      "0.38461538461538464\n",
      "0.5\n",
      "0.5454545454545454\n",
      "\n",
      "패션의류 여성의류 코디세트 \n",
      "남해바다 손질왕꼬막살세트\n"
     ]
    },
    {
     "data": {
      "application/vnd.jupyter.widget-view+json": {
       "model_id": "928988d08bf147dca19fa228c6856719",
       "version_major": 2,
       "version_minor": 0
      },
      "text/plain": [
       "HBox(children=(IntProgress(value=0, max=1471), HTML(value='')))"
      ]
     },
     "metadata": {},
     "output_type": "display_data"
    },
    {
     "name": "stdout",
     "output_type": "stream",
     "text": [
      "0.05\n",
      "0.06666666666666667\n",
      "0.08333333333333333\n",
      "0.14285714285714285\n",
      "0.2\n",
      "\n",
      "식품 수산 생선 기타생선\n",
      "USPA화이트라벨 여성트랙수트\n"
     ]
    },
    {
     "data": {
      "application/vnd.jupyter.widget-view+json": {
       "model_id": "50d88c7bdcb14bfab1a026ce9529318c",
       "version_major": 2,
       "version_minor": 0
      },
      "text/plain": [
       "HBox(children=(IntProgress(value=0, max=1471), HTML(value='')))"
      ]
     },
     "metadata": {},
     "output_type": "display_data"
    },
    {
     "name": "stdout",
     "output_type": "stream",
     "text": [
      "0.09090909090909091\n",
      "0.3333333333333333\n",
      "0.4\n",
      "0.4444444444444444\n",
      "\n",
      "패션의류 여성의류 티셔츠 \n",
      "황제진액 철갑상어\n"
     ]
    },
    {
     "data": {
      "application/vnd.jupyter.widget-view+json": {
       "model_id": "cb18f9d5fdac48e8bcff000fffc4e6bc",
       "version_major": 2,
       "version_minor": 0
      },
      "text/plain": [
       "HBox(children=(IntProgress(value=0, max=1471), HTML(value='')))"
      ]
     },
     "metadata": {},
     "output_type": "display_data"
    },
    {
     "name": "stdout",
     "output_type": "stream",
     "text": [
      "\n",
      "패션의류 여성의류 티셔츠 \n",
      "창녕 마늘양파듬뿍삼계탕\n"
     ]
    },
    {
     "data": {
      "application/vnd.jupyter.widget-view+json": {
       "model_id": "cf10c0c45ff0479e8d3071958206f9a5",
       "version_major": 2,
       "version_minor": 0
      },
      "text/plain": [
       "HBox(children=(IntProgress(value=0, max=1471), HTML(value='')))"
      ]
     },
     "metadata": {},
     "output_type": "display_data"
    },
    {
     "name": "stdout",
     "output_type": "stream",
     "text": [
      "0.1\n",
      "0.125\n",
      "\n",
      "식품 축산 축산가공식품 삼계탕\n",
      "메이듀 남성 린넨 블렌디드 슬립온\n"
     ]
    },
    {
     "data": {
      "application/vnd.jupyter.widget-view+json": {
       "model_id": "56eaf72a07f941469b6d5b19ea680ec3",
       "version_major": 2,
       "version_minor": 0
      },
      "text/plain": [
       "HBox(children=(IntProgress(value=0, max=1471), HTML(value='')))"
      ]
     },
     "metadata": {},
     "output_type": "display_data"
    },
    {
     "name": "stdout",
     "output_type": "stream",
     "text": [
      "0.09090909090909091\n",
      "0.125\n",
      "0.2727272727272727\n",
      "\n",
      "패션의류 여성의류 블라우스/셔츠 \n",
      "더커진거창특등급사과\n"
     ]
    },
    {
     "data": {
      "application/vnd.jupyter.widget-view+json": {
       "model_id": "ee40db5f34124317baa80847ea987d4d",
       "version_major": 2,
       "version_minor": 0
      },
      "text/plain": [
       "HBox(children=(IntProgress(value=0, max=1471), HTML(value='')))"
      ]
     },
     "metadata": {},
     "output_type": "display_data"
    },
    {
     "name": "stdout",
     "output_type": "stream",
     "text": [
      "0.18181818181818182\n",
      "\n",
      "식품 농산물 과일 포도\n",
      "삼성5도어냉장고 T9000 RF84R9203S8   시카고커트러리5p세트\n"
     ]
    },
    {
     "data": {
      "application/vnd.jupyter.widget-view+json": {
       "model_id": "8f9ecdbad00946d7b2a15febdf38e756",
       "version_major": 2,
       "version_minor": 0
      },
      "text/plain": [
       "HBox(children=(IntProgress(value=0, max=1471), HTML(value='')))"
      ]
     },
     "metadata": {},
     "output_type": "display_data"
    },
    {
     "name": "stdout",
     "output_type": "stream",
     "text": [
      "0.04\n",
      "0.05\n",
      "0.05555555555555555\n",
      "0.0625\n",
      "0.06666666666666667\n",
      "0.1111111111111111\n",
      "0.2777777777777778\n",
      "0.5\n",
      "\n",
      "디지털/가전 주방가전 냉장고 양문형냉장고\n",
      "비가린 배추김치\n"
     ]
    },
    {
     "data": {
      "application/vnd.jupyter.widget-view+json": {
       "model_id": "b15e0b43d758462e8d3d58547f59ac31",
       "version_major": 2,
       "version_minor": 0
      },
      "text/plain": [
       "HBox(children=(IntProgress(value=0, max=1471), HTML(value='')))"
      ]
     },
     "metadata": {},
     "output_type": "display_data"
    },
    {
     "name": "stdout",
     "output_type": "stream",
     "text": [
      "0.08333333333333333\n",
      "0.125\n",
      "0.16666666666666666\n",
      "\n",
      "식품 김치 포기김치 \n",
      "우리바다 손질왕꼬막\n"
     ]
    },
    {
     "data": {
      "application/vnd.jupyter.widget-view+json": {
       "model_id": "8b76ac7e85be4724bb8e7ac6c17ec8cc",
       "version_major": 2,
       "version_minor": 0
      },
      "text/plain": [
       "HBox(children=(IntProgress(value=0, max=1471), HTML(value='')))"
      ]
     },
     "metadata": {},
     "output_type": "display_data"
    },
    {
     "name": "stdout",
     "output_type": "stream",
     "text": [
      "0.1\n",
      "0.16666666666666666\n",
      "0.2\n",
      "0.25\n",
      "\n",
      "식품 수산 해산물/어패류 꼬막\n",
      "강원도산골더덕무침\n"
     ]
    },
    {
     "data": {
      "application/vnd.jupyter.widget-view+json": {
       "model_id": "3035932434c544d9bd789fa86fb0f544",
       "version_major": 2,
       "version_minor": 0
      },
      "text/plain": [
       "HBox(children=(IntProgress(value=0, max=1471), HTML(value='')))"
      ]
     },
     "metadata": {},
     "output_type": "display_data"
    },
    {
     "name": "stdout",
     "output_type": "stream",
     "text": [
      "0.25\n",
      "0.3076923076923077\n",
      "\n",
      "식품 냉동/간편조리식품 즉석국/즉석탕 \n",
      "몬테밀라노 크루즈 이지웨어\n"
     ]
    },
    {
     "data": {
      "application/vnd.jupyter.widget-view+json": {
       "model_id": "ed99b8fba8324c74a51bfc2fbe0a7e99",
       "version_major": 2,
       "version_minor": 0
      },
      "text/plain": [
       "HBox(children=(IntProgress(value=0, max=1471), HTML(value='')))"
      ]
     },
     "metadata": {},
     "output_type": "display_data"
    },
    {
     "name": "stdout",
     "output_type": "stream",
     "text": [
      "0.1\n",
      "0.3333333333333333\n",
      "\n",
      "패션의류 여성의류 원피스 \n",
      "아가타 컬러풀에디션\n"
     ]
    },
    {
     "data": {
      "application/vnd.jupyter.widget-view+json": {
       "model_id": "f6b69f1263414efe828920165fcd7073",
       "version_major": 2,
       "version_minor": 0
      },
      "text/plain": [
       "HBox(children=(IntProgress(value=0, max=1471), HTML(value='')))"
      ]
     },
     "metadata": {},
     "output_type": "display_data"
    },
    {
     "name": "stdout",
     "output_type": "stream",
     "text": [
      "0.05263157894736842\n",
      "0.08333333333333333\n",
      "0.5\n",
      "\n",
      "출산/육아 교재/서적 유아동전집 기타전집\n",
      "리복 여성 스피드윅 웜웨어\n"
     ]
    },
    {
     "data": {
      "application/vnd.jupyter.widget-view+json": {
       "model_id": "f78aaa486a0c447e876a448dcb982c4b",
       "version_major": 2,
       "version_minor": 0
      },
      "text/plain": [
       "HBox(children=(IntProgress(value=0, max=1471), HTML(value='')))"
      ]
     },
     "metadata": {},
     "output_type": "display_data"
    },
    {
     "name": "stdout",
     "output_type": "stream",
     "text": [
      "0.07142857142857142\n",
      "0.07692307692307693\n",
      "0.09090909090909091\n",
      "0.2\n",
      "0.21428571428571427\n",
      "0.5454545454545454\n",
      "\n",
      "패션의류 남성의류 트레이닝복 \n",
      "한삼인순홍삼진\n"
     ]
    },
    {
     "data": {
      "application/vnd.jupyter.widget-view+json": {
       "model_id": "5bf0e1b26a1e4fdd95fa88cca824aea2",
       "version_major": 2,
       "version_minor": 0
      },
      "text/plain": [
       "HBox(children=(IntProgress(value=0, max=1471), HTML(value='')))"
      ]
     },
     "metadata": {},
     "output_type": "display_data"
    },
    {
     "name": "stdout",
     "output_type": "stream",
     "text": [
      "\n",
      "패션의류 남성의류 트레이닝복 \n",
      "거창특등급사과\n"
     ]
    },
    {
     "data": {
      "application/vnd.jupyter.widget-view+json": {
       "model_id": "58cab19333454a61b21afed222a6368a",
       "version_major": 2,
       "version_minor": 0
      },
      "text/plain": [
       "HBox(children=(IntProgress(value=0, max=1471), HTML(value='')))"
      ]
     },
     "metadata": {},
     "output_type": "display_data"
    },
    {
     "name": "stdout",
     "output_type": "stream",
     "text": [
      "0.2\n",
      "\n",
      "식품 농산물 과일 포도\n",
      "메이듀 여성 린넨 블렌디드 슬립온\n"
     ]
    },
    {
     "data": {
      "application/vnd.jupyter.widget-view+json": {
       "model_id": "d47a5aebfc3f468a9dd7f72eb389a5e7",
       "version_major": 2,
       "version_minor": 0
      },
      "text/plain": [
       "HBox(children=(IntProgress(value=0, max=1471), HTML(value='')))"
      ]
     },
     "metadata": {},
     "output_type": "display_data"
    },
    {
     "name": "stdout",
     "output_type": "stream",
     "text": [
      "0.09090909090909091\n",
      "0.1\n",
      "0.2222222222222222\n",
      "0.2727272727272727\n",
      "\n",
      "패션의류 여성의류 블라우스/셔츠 \n",
      "AAC 삼채포기김치\n"
     ]
    },
    {
     "data": {
      "application/vnd.jupyter.widget-view+json": {
       "model_id": "b6e33d1ccbac41679ef9cb4a79ea8ee5",
       "version_major": 2,
       "version_minor": 0
      },
      "text/plain": [
       "HBox(children=(IntProgress(value=0, max=1471), HTML(value='')))"
      ]
     },
     "metadata": {},
     "output_type": "display_data"
    },
    {
     "name": "stdout",
     "output_type": "stream",
     "text": [
      "0.1111111111111111\n",
      "0.6\n",
      "\n",
      "식품 김치 포기김치 \n",
      "페르소나 고기능 안전스틱\n"
     ]
    },
    {
     "data": {
      "application/vnd.jupyter.widget-view+json": {
       "model_id": "865589af2e1a44919ca8a59eae21e54b",
       "version_major": 2,
       "version_minor": 0
      },
      "text/plain": [
       "HBox(children=(IntProgress(value=0, max=1471), HTML(value='')))"
      ]
     },
     "metadata": {},
     "output_type": "display_data"
    },
    {
     "name": "stdout",
     "output_type": "stream",
     "text": [
      "0.05\n",
      "0.07142857142857142\n",
      "0.07692307692307693\n",
      "0.08333333333333333\n",
      "\n",
      "가구/인테리어 카페트/러그 러그 \n",
      "한샘 뉴퍼스티지R 리클라이너\n"
     ]
    },
    {
     "data": {
      "application/vnd.jupyter.widget-view+json": {
       "model_id": "5eb4a56918d74323babb89be73699482",
       "version_major": 2,
       "version_minor": 0
      },
      "text/plain": [
       "HBox(children=(IntProgress(value=0, max=1471), HTML(value='')))"
      ]
     },
     "metadata": {},
     "output_type": "display_data"
    },
    {
     "name": "stdout",
     "output_type": "stream",
     "text": [
      "0.058823529411764705\n",
      "0.0625\n",
      "0.07692307692307693\n",
      "0.5\n",
      "\n",
      "가구/인테리어 거실가구 소파 리클라이너소파\n",
      "코펜하겐럭스 세미와이드팬츠\n"
     ]
    },
    {
     "data": {
      "application/vnd.jupyter.widget-view+json": {
       "model_id": "bfaf40ad1fa840e6b33b2d841885aacf",
       "version_major": 2,
       "version_minor": 0
      },
      "text/plain": [
       "HBox(children=(IntProgress(value=0, max=1471), HTML(value='')))"
      ]
     },
     "metadata": {},
     "output_type": "display_data"
    },
    {
     "name": "stdout",
     "output_type": "stream",
     "text": [
      "0.07692307692307693\n",
      "0.09090909090909091\n",
      "0.14285714285714285\n",
      "0.5\n",
      "\n",
      "패션의류 여성의류 바지 \n",
      "탕요일\n"
     ]
    },
    {
     "data": {
      "application/vnd.jupyter.widget-view+json": {
       "model_id": "f7ebf93d62a144bcb2702c3368b5bbd2",
       "version_major": 2,
       "version_minor": 0
      },
      "text/plain": [
       "HBox(children=(IntProgress(value=0, max=1471), HTML(value='')))"
      ]
     },
     "metadata": {},
     "output_type": "display_data"
    },
    {
     "name": "stdout",
     "output_type": "stream",
     "text": [
      "0.14285714285714285\n",
      "\n",
      "식품 냉동/간편조리식품 즉석국/즉석탕 \n",
      "크로커다일 에어스킨 감탄브라\n"
     ]
    },
    {
     "data": {
      "application/vnd.jupyter.widget-view+json": {
       "model_id": "9566b9e655af4712b2fedac7263be1a1",
       "version_major": 2,
       "version_minor": 0
      },
      "text/plain": [
       "HBox(children=(IntProgress(value=0, max=1471), HTML(value='')))"
      ]
     },
     "metadata": {},
     "output_type": "display_data"
    },
    {
     "name": "stdout",
     "output_type": "stream",
     "text": [
      "0.05555555555555555\n",
      "0.06666666666666667\n",
      "0.125\n",
      "0.21428571428571427\n",
      "0.25\n",
      "0.3\n",
      "\n",
      "패션의류 여성언더웨어/잠옷 브라팬티세트 \n",
      "코펜하겐럭스 판초니트\n"
     ]
    },
    {
     "data": {
      "application/vnd.jupyter.widget-view+json": {
       "model_id": "a16c666e0d67452ba46a161ea9a5c5b0",
       "version_major": 2,
       "version_minor": 0
      },
      "text/plain": [
       "HBox(children=(IntProgress(value=0, max=1471), HTML(value='')))"
      ]
     },
     "metadata": {},
     "output_type": "display_data"
    },
    {
     "name": "stdout",
     "output_type": "stream",
     "text": [
      "0.08333333333333333\n",
      "0.16666666666666666\n",
      "0.4166666666666667\n",
      "\n",
      "패션의류 여성의류 바지 \n",
      "USPA화이트라벨 남성트랙수트\n"
     ]
    },
    {
     "data": {
      "application/vnd.jupyter.widget-view+json": {
       "model_id": "0b747bf57f3d4820aa4b9d2d07e15d32",
       "version_major": 2,
       "version_minor": 0
      },
      "text/plain": [
       "HBox(children=(IntProgress(value=0, max=1471), HTML(value='')))"
      ]
     },
     "metadata": {},
     "output_type": "display_data"
    },
    {
     "name": "stdout",
     "output_type": "stream",
     "text": [
      "0.09090909090909091\n",
      "0.2\n",
      "0.2727272727272727\n",
      "0.4\n",
      "0.4444444444444444\n",
      "\n",
      "패션의류 남성의류 티셔츠 \n",
      "바다원  더 그릴 아구채  양태채  쥐포채  소스\n"
     ]
    },
    {
     "data": {
      "application/vnd.jupyter.widget-view+json": {
       "model_id": "eb99278a579543899ddd9b9a21fdf3c7",
       "version_major": 2,
       "version_minor": 0
      },
      "text/plain": [
       "HBox(children=(IntProgress(value=0, max=1471), HTML(value='')))"
      ]
     },
     "metadata": {},
     "output_type": "display_data"
    },
    {
     "name": "stdout",
     "output_type": "stream",
     "text": [
      "0.05263157894736842\n",
      "0.05555555555555555\n",
      "0.058823529411764705\n",
      "0.0625\n",
      "\n",
      "식품 수산 건어물 오징어\n",
      "기간 제주바다자연산돔39마리\n"
     ]
    },
    {
     "data": {
      "application/vnd.jupyter.widget-view+json": {
       "model_id": "e2f55d927da246c9ac7043c905df459b",
       "version_major": 2,
       "version_minor": 0
      },
      "text/plain": [
       "HBox(children=(IntProgress(value=0, max=1471), HTML(value='')))"
      ]
     },
     "metadata": {},
     "output_type": "display_data"
    },
    {
     "name": "stdout",
     "output_type": "stream",
     "text": [
      "0.08333333333333333\n",
      "0.1\n",
      "0.15384615384615385\n",
      "0.16666666666666666\n",
      "\n",
      "식품 수산 생선 갈치\n",
      "PAT 남성 에어 카타티셔츠\n"
     ]
    },
    {
     "data": {
      "application/vnd.jupyter.widget-view+json": {
       "model_id": "47c056d34c434493b647f63c18e8c8a0",
       "version_major": 2,
       "version_minor": 0
      },
      "text/plain": [
       "HBox(children=(IntProgress(value=0, max=1471), HTML(value='')))"
      ]
     },
     "metadata": {},
     "output_type": "display_data"
    },
    {
     "name": "stdout",
     "output_type": "stream",
     "text": [
      "0.125\n",
      "0.2222222222222222\n",
      "0.5\n",
      "0.75\n",
      "\n",
      "스포츠/레저 골프 골프의류 티셔츠\n",
      "레이프릴 더블엑스 매직니퍼팬티\n"
     ]
    },
    {
     "data": {
      "application/vnd.jupyter.widget-view+json": {
       "model_id": "435e8571fb4d443ab5584c3fce59c2e0",
       "version_major": 2,
       "version_minor": 0
      },
      "text/plain": [
       "HBox(children=(IntProgress(value=0, max=1471), HTML(value='')))"
      ]
     },
     "metadata": {},
     "output_type": "display_data"
    },
    {
     "name": "stdout",
     "output_type": "stream",
     "text": [
      "0.06666666666666667\n",
      "0.07142857142857142\n",
      "0.25\n",
      "0.26666666666666666\n",
      "0.2857142857142857\n",
      "\n",
      "패션의류 여성언더웨어/잠옷 팬티 \n",
      "뱅뱅 남성 간절기 데님팬츠  GQE772 GQE774 GQE776\n"
     ]
    },
    {
     "data": {
      "application/vnd.jupyter.widget-view+json": {
       "model_id": "56e3070adf65421583d42441c30412e4",
       "version_major": 2,
       "version_minor": 0
      },
      "text/plain": [
       "HBox(children=(IntProgress(value=0, max=1471), HTML(value='')))"
      ]
     },
     "metadata": {},
     "output_type": "display_data"
    },
    {
     "name": "stdout",
     "output_type": "stream",
     "text": [
      "0.07142857142857142\n",
      "0.09090909090909091\n",
      "0.1111111111111111\n",
      "0.18181818181818182\n",
      "0.2\n",
      "0.25\n",
      "0.4\n",
      "\n",
      "패션의류 남성의류 청바지 \n",
      "가이거  제니스시계 주얼리세트\n"
     ]
    },
    {
     "data": {
      "application/vnd.jupyter.widget-view+json": {
       "model_id": "8487f24812044228ac702cd1c27597fb",
       "version_major": 2,
       "version_minor": 0
      },
      "text/plain": [
       "HBox(children=(IntProgress(value=0, max=1471), HTML(value='')))"
      ]
     },
     "metadata": {},
     "output_type": "display_data"
    },
    {
     "name": "stdout",
     "output_type": "stream",
     "text": [
      "0.05\n",
      "0.06666666666666667\n",
      "0.07692307692307693\n",
      "0.09090909090909091\n",
      "0.26666666666666666\n",
      "0.3076923076923077\n",
      "\n",
      "패션잡화 주얼리 주얼리세트 14K세트\n",
      "루시헨느 레이스 홀리데이 란쥬\n"
     ]
    },
    {
     "data": {
      "application/vnd.jupyter.widget-view+json": {
       "model_id": "7531b914f1774267a5b95ebbf61392f8",
       "version_major": 2,
       "version_minor": 0
      },
      "text/plain": [
       "HBox(children=(IntProgress(value=0, max=1471), HTML(value='')))"
      ]
     },
     "metadata": {},
     "output_type": "display_data"
    },
    {
     "name": "stdout",
     "output_type": "stream",
     "text": [
      "0.047619047619047616\n",
      "0.05263157894736842\n",
      "0.05555555555555555\n",
      "0.058823529411764705\n",
      "0.0625\n",
      "0.06666666666666667\n",
      "0.07142857142857142\n",
      "0.07692307692307693\n",
      "0.08333333333333333\n",
      "0.1111111111111111\n",
      "0.11764705882352941\n",
      "0.3333333333333333\n",
      "\n",
      "패션의류 여성언더웨어/잠옷 브라 \n",
      "리복 남성 스피드윅 웜웨어\n"
     ]
    },
    {
     "data": {
      "application/vnd.jupyter.widget-view+json": {
       "model_id": "37848a251cf24d04a062b1041590ad19",
       "version_major": 2,
       "version_minor": 0
      },
      "text/plain": [
       "HBox(children=(IntProgress(value=0, max=1471), HTML(value='')))"
      ]
     },
     "metadata": {},
     "output_type": "display_data"
    },
    {
     "name": "stdout",
     "output_type": "stream",
     "text": [
      "0.07142857142857142\n",
      "0.11764705882352941\n",
      "0.2\n",
      "0.21428571428571427\n",
      "0.5454545454545454\n",
      "\n",
      "패션의류 남성의류 트레이닝복 \n",
      "삼익가구 LED 제니비 침대\n"
     ]
    },
    {
     "data": {
      "application/vnd.jupyter.widget-view+json": {
       "model_id": "6f38dc8025104d7da75dd6e13659ba39",
       "version_major": 2,
       "version_minor": 0
      },
      "text/plain": [
       "HBox(children=(IntProgress(value=0, max=1471), HTML(value='')))"
      ]
     },
     "metadata": {},
     "output_type": "display_data"
    },
    {
     "name": "stdout",
     "output_type": "stream",
     "text": [
      "0.07692307692307693\n",
      "0.08333333333333333\n",
      "0.09090909090909091\n",
      "0.1\n",
      "0.125\n",
      "0.6666666666666666\n",
      "\n",
      "가구/인테리어 침실가구 침대 침대프레임\n",
      "특大손질갑오징어\n"
     ]
    },
    {
     "data": {
      "application/vnd.jupyter.widget-view+json": {
       "model_id": "4721d5fd59a54b75be79b8f0f02cf9f3",
       "version_major": 2,
       "version_minor": 0
      },
      "text/plain": [
       "HBox(children=(IntProgress(value=0, max=1471), HTML(value='')))"
      ]
     },
     "metadata": {},
     "output_type": "display_data"
    },
    {
     "name": "stdout",
     "output_type": "stream",
     "text": [
      "0.25\n",
      "0.2857142857142857\n",
      "0.5\n",
      "0.8\n",
      "\n",
      "식품 수산 해산물/어패류 오징어\n",
      "해뜰찬포기김치\n"
     ]
    },
    {
     "data": {
      "application/vnd.jupyter.widget-view+json": {
       "model_id": "7ec9df810c3740ef86af9269d00808f5",
       "version_major": 2,
       "version_minor": 0
      },
      "text/plain": [
       "HBox(children=(IntProgress(value=0, max=1471), HTML(value='')))"
      ]
     },
     "metadata": {},
     "output_type": "display_data"
    },
    {
     "name": "stdout",
     "output_type": "stream",
     "text": [
      "0.1\n",
      "0.5\n",
      "\n",
      "식품 김치 포기김치 \n",
      "AAE LA갈비\n"
     ]
    },
    {
     "data": {
      "application/vnd.jupyter.widget-view+json": {
       "model_id": "3239ae44eaa24bdf9a1bd62097336692",
       "version_major": 2,
       "version_minor": 0
      },
      "text/plain": [
       "HBox(children=(IntProgress(value=0, max=1471), HTML(value='')))"
      ]
     },
     "metadata": {},
     "output_type": "display_data"
    },
    {
     "name": "stdout",
     "output_type": "stream",
     "text": [
      "0.16666666666666666\n",
      "\n",
      "식품 축산 축산가공식품 쇠고기양념육\n",
      "마르엘라로사티 에코무스탕\n"
     ]
    },
    {
     "data": {
      "application/vnd.jupyter.widget-view+json": {
       "model_id": "73dd1fa0dac142e794cb3561c1b2127e",
       "version_major": 2,
       "version_minor": 0
      },
      "text/plain": [
       "HBox(children=(IntProgress(value=0, max=1471), HTML(value='')))"
      ]
     },
     "metadata": {},
     "output_type": "display_data"
    },
    {
     "name": "stdout",
     "output_type": "stream",
     "text": [
      "0.35714285714285715\n",
      "0.5\n",
      "0.5555555555555556\n",
      "\n",
      "패션의류 여성의류 청바지 \n",
      "아리스토우 남성기모티셔츠\n"
     ]
    },
    {
     "data": {
      "application/vnd.jupyter.widget-view+json": {
       "model_id": "1fdcbb4ed48e4be6b203aeb966b22c13",
       "version_major": 2,
       "version_minor": 0
      },
      "text/plain": [
       "HBox(children=(IntProgress(value=0, max=1471), HTML(value='')))"
      ]
     },
     "metadata": {},
     "output_type": "display_data"
    },
    {
     "name": "stdout",
     "output_type": "stream",
     "text": [
      "0.09090909090909091\n",
      "0.16666666666666666\n",
      "0.2857142857142857\n",
      "0.3333333333333333\n",
      "0.5714285714285714\n",
      "\n",
      "패션의류 남성의류 티셔츠 \n",
      "크리스티나앤코 기모밴딩팬츠\n"
     ]
    },
    {
     "data": {
      "application/vnd.jupyter.widget-view+json": {
       "model_id": "200245d016324a1698ba03aabf616d47",
       "version_major": 2,
       "version_minor": 0
      },
      "text/plain": [
       "HBox(children=(IntProgress(value=0, max=1471), HTML(value='')))"
      ]
     },
     "metadata": {},
     "output_type": "display_data"
    },
    {
     "name": "stdout",
     "output_type": "stream",
     "text": [
      "0.07692307692307693\n",
      "0.09090909090909091\n",
      "0.13333333333333333\n",
      "0.38461538461538464\n",
      "0.5\n",
      "0.6363636363636364\n",
      "\n",
      "패션의류 여성의류 바지 \n",
      "\n"
     ]
    }
   ],
   "source": [
    "# cat_df = pd.read_csv('좀더_전처리_카테고리결과.csv',index_col=0)\n",
    "unknown = cat_df[cat_df['cat1']=='']\n",
    "known = cat_df[cat_df['cat1']!='']\n",
    "for i in tqdm_notebook(range(len(unknown))):\n",
    "    best_sim = 0\n",
    "    print(unknown.iloc[i].pname)\n",
    "    for j in tqdm_notebook(range(len(known))):\n",
    "        sim = jaccard_sim(unknown.iloc[i].pname,known.iloc[j].pname)\n",
    "        if sim > best_sim :\n",
    "            best_sim = sim\n",
    "            best_ind = j\n",
    "            print(best_sim)\n",
    "    unknown.iloc[i].cat1 = known.iloc[best_ind].cat1\n",
    "    unknown.iloc[i].cat2 = known.iloc[best_ind].cat2\n",
    "    unknown.iloc[i].cat3 = known.iloc[best_ind].cat3\n",
    "    unknown.iloc[i].cat4 = known.iloc[best_ind].cat4\n",
    "    print(known.iloc[best_ind].cat1, known.iloc[best_ind].cat2,known.iloc[best_ind].cat3,known.iloc[best_ind].cat4)"
   ]
  },
  {
   "cell_type": "code",
   "execution_count": 52,
   "metadata": {},
   "outputs": [],
   "source": [
    "#상품명-분류 테이블 결과 값 연결 \n",
    "\n",
    "#정제 전 상품명-처리 후 상품명-제품 분류값 연결\n",
    "tmp = pd.merge(p_name,pd.concat([known,unknown]),left_on = 'After Process', right_on = 'pname').drop(['pname','pname2','After Process'],axis=1)\n",
    "\n",
    "#실적/평가 테이블과 조인\n",
    "re_performance = pd.merge(performance,tmp,left_on='상품명',right_on='Before Process').drop(['Before Process'],axis=1)\n",
    "re_performance.to_csv('categorized_performance_0908.csv')\n",
    "\n",
    "re_submission = pd.merge(submission,tmp,left_on='상품명',right_on='Before Process').drop(['Before Process'],axis=1)\n",
    "re_submission.to_csv('categorized_submission_0908.csv')"
   ]
  },
  {
   "cell_type": "code",
   "execution_count": 53,
   "metadata": {
    "scrolled": true
   },
   "outputs": [
    {
     "data": {
      "text/html": [
       "<div>\n",
       "<style scoped>\n",
       "    .dataframe tbody tr th:only-of-type {\n",
       "        vertical-align: middle;\n",
       "    }\n",
       "\n",
       "    .dataframe tbody tr th {\n",
       "        vertical-align: top;\n",
       "    }\n",
       "\n",
       "    .dataframe thead th {\n",
       "        text-align: right;\n",
       "    }\n",
       "</style>\n",
       "<table border=\"1\" class=\"dataframe\">\n",
       "  <thead>\n",
       "    <tr style=\"text-align: right;\">\n",
       "      <th></th>\n",
       "      <th>방송일시</th>\n",
       "      <th>노출(분)</th>\n",
       "      <th>마더코드</th>\n",
       "      <th>상품코드</th>\n",
       "      <th>상품명</th>\n",
       "      <th>상품군</th>\n",
       "      <th>판매단가</th>\n",
       "      <th>취급액</th>\n",
       "      <th>cat1</th>\n",
       "      <th>cat2</th>\n",
       "      <th>cat3</th>\n",
       "      <th>cat4</th>\n",
       "    </tr>\n",
       "  </thead>\n",
       "  <tbody>\n",
       "    <tr>\n",
       "      <td>0</td>\n",
       "      <td>2019-01-01 06:00:00</td>\n",
       "      <td>20.0</td>\n",
       "      <td>100346</td>\n",
       "      <td>201072</td>\n",
       "      <td>테이트 남성 셀린니트3종</td>\n",
       "      <td>의류</td>\n",
       "      <td>39900</td>\n",
       "      <td>2099000.0</td>\n",
       "      <td>패션의류</td>\n",
       "      <td>남성의류</td>\n",
       "      <td>니트/스웨터</td>\n",
       "      <td></td>\n",
       "    </tr>\n",
       "    <tr>\n",
       "      <td>1</td>\n",
       "      <td>2019-01-01 06:20:00</td>\n",
       "      <td>20.0</td>\n",
       "      <td>100346</td>\n",
       "      <td>201072</td>\n",
       "      <td>테이트 남성 셀린니트3종</td>\n",
       "      <td>의류</td>\n",
       "      <td>39900</td>\n",
       "      <td>3262000.0</td>\n",
       "      <td>패션의류</td>\n",
       "      <td>남성의류</td>\n",
       "      <td>니트/스웨터</td>\n",
       "      <td></td>\n",
       "    </tr>\n",
       "    <tr>\n",
       "      <td>2</td>\n",
       "      <td>2019-01-01 06:40:00</td>\n",
       "      <td>20.0</td>\n",
       "      <td>100346</td>\n",
       "      <td>201072</td>\n",
       "      <td>테이트 남성 셀린니트3종</td>\n",
       "      <td>의류</td>\n",
       "      <td>39900</td>\n",
       "      <td>6672000.0</td>\n",
       "      <td>패션의류</td>\n",
       "      <td>남성의류</td>\n",
       "      <td>니트/스웨터</td>\n",
       "      <td></td>\n",
       "    </tr>\n",
       "    <tr>\n",
       "      <td>3</td>\n",
       "      <td>2019-01-03 00:00:00</td>\n",
       "      <td>20.0</td>\n",
       "      <td>100346</td>\n",
       "      <td>201072</td>\n",
       "      <td>테이트 남성 셀린니트3종</td>\n",
       "      <td>의류</td>\n",
       "      <td>39900</td>\n",
       "      <td>7329000.0</td>\n",
       "      <td>패션의류</td>\n",
       "      <td>남성의류</td>\n",
       "      <td>니트/스웨터</td>\n",
       "      <td></td>\n",
       "    </tr>\n",
       "    <tr>\n",
       "      <td>4</td>\n",
       "      <td>2019-01-03 00:20:00</td>\n",
       "      <td>20.0</td>\n",
       "      <td>100346</td>\n",
       "      <td>201072</td>\n",
       "      <td>테이트 남성 셀린니트3종</td>\n",
       "      <td>의류</td>\n",
       "      <td>39900</td>\n",
       "      <td>10481000.0</td>\n",
       "      <td>패션의류</td>\n",
       "      <td>남성의류</td>\n",
       "      <td>니트/스웨터</td>\n",
       "      <td></td>\n",
       "    </tr>\n",
       "  </tbody>\n",
       "</table>\n",
       "</div>"
      ],
      "text/plain": [
       "                 방송일시  노출(분)    마더코드    상품코드            상품명 상품군   판매단가  \\\n",
       "0 2019-01-01 06:00:00   20.0  100346  201072  테이트 남성 셀린니트3종  의류  39900   \n",
       "1 2019-01-01 06:20:00   20.0  100346  201072  테이트 남성 셀린니트3종  의류  39900   \n",
       "2 2019-01-01 06:40:00   20.0  100346  201072  테이트 남성 셀린니트3종  의류  39900   \n",
       "3 2019-01-03 00:00:00   20.0  100346  201072  테이트 남성 셀린니트3종  의류  39900   \n",
       "4 2019-01-03 00:20:00   20.0  100346  201072  테이트 남성 셀린니트3종  의류  39900   \n",
       "\n",
       "          취급액  cat1  cat2    cat3 cat4  \n",
       "0   2099000.0  패션의류  남성의류  니트/스웨터       \n",
       "1   3262000.0  패션의류  남성의류  니트/스웨터       \n",
       "2   6672000.0  패션의류  남성의류  니트/스웨터       \n",
       "3   7329000.0  패션의류  남성의류  니트/스웨터       \n",
       "4  10481000.0  패션의류  남성의류  니트/스웨터       "
      ]
     },
     "metadata": {},
     "output_type": "display_data"
    },
    {
     "data": {
      "text/html": [
       "<div>\n",
       "<style scoped>\n",
       "    .dataframe tbody tr th:only-of-type {\n",
       "        vertical-align: middle;\n",
       "    }\n",
       "\n",
       "    .dataframe tbody tr th {\n",
       "        vertical-align: top;\n",
       "    }\n",
       "\n",
       "    .dataframe thead th {\n",
       "        text-align: right;\n",
       "    }\n",
       "</style>\n",
       "<table border=\"1\" class=\"dataframe\">\n",
       "  <thead>\n",
       "    <tr style=\"text-align: right;\">\n",
       "      <th></th>\n",
       "      <th>방송일시</th>\n",
       "      <th>노출(분)</th>\n",
       "      <th>마더코드</th>\n",
       "      <th>상품코드</th>\n",
       "      <th>상품명</th>\n",
       "      <th>상품군</th>\n",
       "      <th>판매단가</th>\n",
       "      <th>취급액</th>\n",
       "      <th>cat1</th>\n",
       "      <th>cat2</th>\n",
       "      <th>cat3</th>\n",
       "      <th>cat4</th>\n",
       "    </tr>\n",
       "  </thead>\n",
       "  <tbody>\n",
       "    <tr>\n",
       "      <td>0</td>\n",
       "      <td>2020-06-01 06:20:00</td>\n",
       "      <td>20.0</td>\n",
       "      <td>100650</td>\n",
       "      <td>201971</td>\n",
       "      <td>잭필드 남성  반팔셔츠 4종</td>\n",
       "      <td>의류</td>\n",
       "      <td>59800</td>\n",
       "      <td>0.0</td>\n",
       "      <td>패션의류</td>\n",
       "      <td>남성의류</td>\n",
       "      <td>셔츠/남방</td>\n",
       "      <td></td>\n",
       "    </tr>\n",
       "    <tr>\n",
       "      <td>1</td>\n",
       "      <td>2020-06-01 06:40:00</td>\n",
       "      <td>20.0</td>\n",
       "      <td>100650</td>\n",
       "      <td>201971</td>\n",
       "      <td>잭필드 남성  반팔셔츠 4종</td>\n",
       "      <td>의류</td>\n",
       "      <td>59800</td>\n",
       "      <td>0.0</td>\n",
       "      <td>패션의류</td>\n",
       "      <td>남성의류</td>\n",
       "      <td>셔츠/남방</td>\n",
       "      <td></td>\n",
       "    </tr>\n",
       "    <tr>\n",
       "      <td>2</td>\n",
       "      <td>2020-06-01 07:00:00</td>\n",
       "      <td>20.0</td>\n",
       "      <td>100650</td>\n",
       "      <td>201971</td>\n",
       "      <td>잭필드 남성  반팔셔츠 4종</td>\n",
       "      <td>의류</td>\n",
       "      <td>59800</td>\n",
       "      <td>0.0</td>\n",
       "      <td>패션의류</td>\n",
       "      <td>남성의류</td>\n",
       "      <td>셔츠/남방</td>\n",
       "      <td></td>\n",
       "    </tr>\n",
       "    <tr>\n",
       "      <td>3</td>\n",
       "      <td>2020-06-01 07:20:00</td>\n",
       "      <td>20.0</td>\n",
       "      <td>100445</td>\n",
       "      <td>202278</td>\n",
       "      <td>쿠미투니카 쿨 레이시 란쥬쉐이퍼&amp;팬티</td>\n",
       "      <td>속옷</td>\n",
       "      <td>69900</td>\n",
       "      <td>0.0</td>\n",
       "      <td>패션의류</td>\n",
       "      <td>여성언더웨어/잠옷</td>\n",
       "      <td>보정속옷</td>\n",
       "      <td>올인원/바디쉐이퍼</td>\n",
       "    </tr>\n",
       "    <tr>\n",
       "      <td>4</td>\n",
       "      <td>2020-06-01 07:40:00</td>\n",
       "      <td>20.0</td>\n",
       "      <td>100445</td>\n",
       "      <td>202278</td>\n",
       "      <td>쿠미투니카 쿨 레이시 란쥬쉐이퍼&amp;팬티</td>\n",
       "      <td>속옷</td>\n",
       "      <td>69900</td>\n",
       "      <td>0.0</td>\n",
       "      <td>패션의류</td>\n",
       "      <td>여성언더웨어/잠옷</td>\n",
       "      <td>보정속옷</td>\n",
       "      <td>올인원/바디쉐이퍼</td>\n",
       "    </tr>\n",
       "  </tbody>\n",
       "</table>\n",
       "</div>"
      ],
      "text/plain": [
       "                 방송일시  노출(분)    마더코드    상품코드                   상품명 상품군   판매단가  \\\n",
       "0 2020-06-01 06:20:00   20.0  100650  201971       잭필드 남성  반팔셔츠 4종  의류  59800   \n",
       "1 2020-06-01 06:40:00   20.0  100650  201971       잭필드 남성  반팔셔츠 4종  의류  59800   \n",
       "2 2020-06-01 07:00:00   20.0  100650  201971       잭필드 남성  반팔셔츠 4종  의류  59800   \n",
       "3 2020-06-01 07:20:00   20.0  100445  202278  쿠미투니카 쿨 레이시 란쥬쉐이퍼&팬티  속옷  69900   \n",
       "4 2020-06-01 07:40:00   20.0  100445  202278  쿠미투니카 쿨 레이시 란쥬쉐이퍼&팬티  속옷  69900   \n",
       "\n",
       "   취급액  cat1       cat2   cat3       cat4  \n",
       "0  0.0  패션의류       남성의류  셔츠/남방             \n",
       "1  0.0  패션의류       남성의류  셔츠/남방             \n",
       "2  0.0  패션의류       남성의류  셔츠/남방             \n",
       "3  0.0  패션의류  여성언더웨어/잠옷   보정속옷  올인원/바디쉐이퍼  \n",
       "4  0.0  패션의류  여성언더웨어/잠옷   보정속옷  올인원/바디쉐이퍼  "
      ]
     },
     "metadata": {},
     "output_type": "display_data"
    }
   ],
   "source": [
    "display(re_performance.head())\n",
    "display(re_submission.head())"
   ]
  },
  {
   "cell_type": "code",
   "execution_count": 55,
   "metadata": {},
   "outputs": [
    {
     "data": {
      "text/plain": [
       "Unnamed: 0          0\n",
       "방송일시                0\n",
       "노출(분)               0\n",
       "상품명                 0\n",
       "상품군                 0\n",
       "판매단가                0\n",
       "취급액                 0\n",
       "방송일시_yymmdd         0\n",
       "방송일시_hhmmss         0\n",
       "seconds             0\n",
       "방송일시_hhmm           0\n",
       "ratings_mean        0\n",
       "cat1                0\n",
       "cat2                0\n",
       "cat3              498\n",
       "cat4            14159\n",
       "dtype: int64"
      ]
     },
     "metadata": {},
     "output_type": "display_data"
    },
    {
     "data": {
      "text/plain": [
       "Unnamed: 0        0\n",
       "방송일시              0\n",
       "노출(분)             0\n",
       "마더코드              0\n",
       "상품코드              0\n",
       "상품명               0\n",
       "상품군               0\n",
       "판매단가              0\n",
       "취급액               0\n",
       "cat1              0\n",
       "cat2              0\n",
       "cat3            462\n",
       "cat4          14039\n",
       "dtype: int64"
      ]
     },
     "metadata": {},
     "output_type": "display_data"
    }
   ],
   "source": [
    "by_performance = pd.read_csv('categorized_performance_hyein.csv')\n",
    "by_union = pd.read_csv('categorized_performance_0908.csv')\n",
    "\n",
    "display(by_performance.isnull().sum())\n",
    "display(by_union.isnull().sum())"
   ]
  },
  {
   "cell_type": "code",
   "execution_count": 59,
   "metadata": {
    "scrolled": true
   },
   "outputs": [
    {
     "data": {
      "application/vnd.jupyter.widget-view+json": {
       "model_id": "a10916094fd4459c80fc1642788ceec0",
       "version_major": 2,
       "version_minor": 0
      },
      "text/plain": [
       "HBox(children=(IntProgress(value=0, max=37372), HTML(value='')))"
      ]
     },
     "metadata": {},
     "output_type": "display_data"
    },
    {
     "name": "stderr",
     "output_type": "stream",
     "text": [
      "C:\\Users\\heian\\Anaconda3\\lib\\site-packages\\ipykernel_launcher.py:16: SettingWithCopyWarning: \n",
      "A value is trying to be set on a copy of a slice from a DataFrame\n",
      "\n",
      "See the caveats in the documentation: http://pandas.pydata.org/pandas-docs/stable/user_guide/indexing.html#returning-a-view-versus-a-copy\n",
      "  app.launch_new_instance()\n",
      "C:\\Users\\heian\\Anaconda3\\lib\\site-packages\\ipykernel_launcher.py:14: SettingWithCopyWarning: \n",
      "A value is trying to be set on a copy of a slice from a DataFrame\n",
      "\n",
      "See the caveats in the documentation: http://pandas.pydata.org/pandas-docs/stable/user_guide/indexing.html#returning-a-view-versus-a-copy\n",
      "  \n",
      "C:\\Users\\heian\\Anaconda3\\lib\\site-packages\\ipykernel_launcher.py:12: SettingWithCopyWarning: \n",
      "A value is trying to be set on a copy of a slice from a DataFrame\n",
      "\n",
      "See the caveats in the documentation: http://pandas.pydata.org/pandas-docs/stable/user_guide/indexing.html#returning-a-view-versus-a-copy\n",
      "  if sys.path[0] == '':\n",
      "C:\\Users\\heian\\Anaconda3\\lib\\site-packages\\ipykernel_launcher.py:10: SettingWithCopyWarning: \n",
      "A value is trying to be set on a copy of a slice from a DataFrame\n",
      "\n",
      "See the caveats in the documentation: http://pandas.pydata.org/pandas-docs/stable/user_guide/indexing.html#returning-a-view-versus-a-copy\n",
      "  # Remove the CWD from sys.path while we load stuff.\n",
      "C:\\Users\\heian\\Anaconda3\\lib\\site-packages\\ipykernel_launcher.py:8: SettingWithCopyWarning: \n",
      "A value is trying to be set on a copy of a slice from a DataFrame\n",
      "\n",
      "See the caveats in the documentation: http://pandas.pydata.org/pandas-docs/stable/user_guide/indexing.html#returning-a-view-versus-a-copy\n",
      "  \n"
     ]
    },
    {
     "name": "stdout",
     "output_type": "stream",
     "text": [
      "\n"
     ]
    }
   ],
   "source": [
    "by_union['same'] = '9999'\n",
    "## performance로만 진행한 제품분류와 얼마나 틀린지 체크 !\n",
    "by_performance[['cat1','cat2', 'cat3', 'cat4']]= by_performance[['cat1','cat2', 'cat3', 'cat4']].fillna('NA')\n",
    "by_union[['cat1','cat2', 'cat3', 'cat4']] = by_union[['cat1','cat2', 'cat3', 'cat4']].fillna('NA')\n",
    "\n",
    "for i in tqdm_notebook(range(len(by_performance))):\n",
    "    if by_performance.cat1[i] != by_union.cat1[i]: \n",
    "        by_union['same'][i] = 'cat1'\n",
    "    elif by_performance.cat2[i] != by_union.cat2[i]:\n",
    "        by_union['same'][i] = 'cat2'\n",
    "    elif by_performance.cat3[i] != by_union.cat3[i]:\n",
    "        by_union['same'][i] = 'cat3'        \n",
    "    elif by_performance.cat4[i] != by_union.cat4[i]:\n",
    "        by_union['same'][i] = 'cat4'\n",
    "    else: \n",
    "        by_union['same'][i] = 'equal'"
   ]
  },
  {
   "cell_type": "code",
   "execution_count": 60,
   "metadata": {},
   "outputs": [
    {
     "data": {
      "text/plain": [
       "equal    36651\n",
       "cat3       322\n",
       "cat4       226\n",
       "cat1       137\n",
       "cat2        36\n",
       "Name: same, dtype: int64"
      ]
     },
     "execution_count": 60,
     "metadata": {},
     "output_type": "execute_result"
    }
   ],
   "source": [
    "by_union['same'].value_counts()"
   ]
  }
 ],
 "metadata": {
  "kernelspec": {
   "display_name": "Python 3",
   "language": "python",
   "name": "python3"
  },
  "language_info": {
   "codemirror_mode": {
    "name": "ipython",
    "version": 3
   },
   "file_extension": ".py",
   "mimetype": "text/x-python",
   "name": "python",
   "nbconvert_exporter": "python",
   "pygments_lexer": "ipython3",
   "version": "3.7.4"
  }
 },
 "nbformat": 4,
 "nbformat_minor": 2
}

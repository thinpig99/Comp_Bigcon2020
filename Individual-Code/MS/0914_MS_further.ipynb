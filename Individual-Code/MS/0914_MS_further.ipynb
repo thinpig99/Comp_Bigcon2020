{
  "nbformat": 4,
  "nbformat_minor": 0,
  "metadata": {
    "colab": {
      "name": "further.ipynb",
      "provenance": [],
      "collapsed_sections": []
    },
    "kernelspec": {
      "name": "python3",
      "display_name": "Python 3"
    }
  },
  "cells": [
    {
      "cell_type": "code",
      "metadata": {
        "id": "C8SMXjXF_NCO",
        "colab_type": "code",
        "colab": {
          "base_uri": "https://localhost:8080/",
          "height": 35
        },
        "outputId": "3e0db2c3-54cd-456b-9c8a-21a623a72521"
      },
      "source": [
        "from google.colab import drive\n",
        "drive.mount('/gdrive', force_remount=True)"
      ],
      "execution_count": null,
      "outputs": [
        {
          "output_type": "stream",
          "text": [
            "Mounted at /gdrive\n"
          ],
          "name": "stdout"
        }
      ]
    },
    {
      "cell_type": "code",
      "metadata": {
        "id": "jdC6-Oqm_OQJ",
        "colab_type": "code",
        "colab": {
          "base_uri": "https://localhost:8080/",
          "height": 377
        },
        "outputId": "3580a521-11cf-4944-884a-c2db329c7a95"
      },
      "source": [
        "!sudo apt-get install -y fonts-nanum\n",
        "!sudo fc-cache -fv\n",
        "!rm ~/.cache/matplotlib -rf"
      ],
      "execution_count": null,
      "outputs": [
        {
          "output_type": "stream",
          "text": [
            "Reading package lists... Done\n",
            "Building dependency tree       \n",
            "Reading state information... Done\n",
            "fonts-nanum is already the newest version (20170925-1).\n",
            "The following package was automatically installed and is no longer required:\n",
            "  libnvidia-common-440\n",
            "Use 'sudo apt autoremove' to remove it.\n",
            "0 upgraded, 0 newly installed, 0 to remove and 39 not upgraded.\n",
            "/usr/share/fonts: caching, new cache contents: 0 fonts, 1 dirs\n",
            "/usr/share/fonts/truetype: caching, new cache contents: 0 fonts, 3 dirs\n",
            "/usr/share/fonts/truetype/humor-sans: caching, new cache contents: 1 fonts, 0 dirs\n",
            "/usr/share/fonts/truetype/liberation: caching, new cache contents: 16 fonts, 0 dirs\n",
            "/usr/share/fonts/truetype/nanum: caching, new cache contents: 10 fonts, 0 dirs\n",
            "/usr/local/share/fonts: caching, new cache contents: 0 fonts, 0 dirs\n",
            "/root/.local/share/fonts: skipping, no such directory\n",
            "/root/.fonts: skipping, no such directory\n",
            "/var/cache/fontconfig: cleaning cache directory\n",
            "/root/.cache/fontconfig: not cleaning non-existent cache directory\n",
            "/root/.fontconfig: not cleaning non-existent cache directory\n",
            "fc-cache: succeeded\n"
          ],
          "name": "stdout"
        }
      ]
    },
    {
      "cell_type": "code",
      "metadata": {
        "id": "xSHNsJCMATa8",
        "colab_type": "code",
        "colab": {
          "base_uri": "https://localhost:8080/",
          "height": 53
        },
        "outputId": "ebb58968-f472-4853-cd99-aa5deb5cbdde"
      },
      "source": [
        "import pandas as pd\n",
        "import numpy as np\n",
        "from datetime import datetime\n",
        "import time\n",
        "from sklearn.preprocessing import LabelEncoder\n",
        "from sklearn.model_selection import train_test_split\n",
        "from matplotlib import font_manager, rc\n",
        "import matplotlib as mpl\n",
        "import matplotlib.pyplot as plt\n",
        "import seaborn as sns\n",
        "%matplotlib inline\n",
        "mpl.rcParams['axes.unicode_minus'] = False\n",
        "import warnings\n",
        "warnings.filterwarnings('ignore')\n",
        "import platform\n",
        "plt.rc('font', family='NanumBarunGothic') \n",
        "\n",
        "from sklearn.ensemble import RandomForestRegressor\n",
        "\n",
        "import matplotlib.font_manager as fm\n",
        "#fm._rebuild()\n",
        "plt.rc('font', family='NanumBarunGothic') \n",
        "\n",
        "import lightgbm as lgb"
      ],
      "execution_count": null,
      "outputs": [
        {
          "output_type": "stream",
          "text": [
            "/usr/local/lib/python3.6/dist-packages/statsmodels/tools/_testing.py:19: FutureWarning: pandas.util.testing is deprecated. Use the functions in the public API at pandas.testing instead.\n",
            "  import pandas.util.testing as tm\n"
          ],
          "name": "stderr"
        }
      ]
    },
    {
      "cell_type": "code",
      "metadata": {
        "id": "YV9So5TMAWc7",
        "colab_type": "code",
        "colab": {}
      },
      "source": [
        "pd.set_option('display.max_columns', None)\n",
        "\n",
        "train = pd.read_csv('/gdrive/My Drive/train_new.csv')\n",
        "test = pd.read_csv('/gdrive/My Drive/test_new.csv')\n",
        "ratings = pd.read_csv('/gdrive/My Drive/tv_new.csv')\n",
        "category = pd.read_csv('/gdrive/My Drive/categorized_HJ2.csv') # 카테고리 추가되었습니다."
      ],
      "execution_count": null,
      "outputs": []
    },
    {
      "cell_type": "code",
      "metadata": {
        "id": "uY96yGLbAdgA",
        "colab_type": "code",
        "colab": {}
      },
      "source": [
        "def make_cast_time(train): # nan값이 있는 초기 데이터셋을 써야 하기 때문에 가장 먼저 돌려줍니다. 자세한 알고리즘은 창고에서 찾아보세요.\n",
        "\n",
        "    # 일단 nan값을 노출칼럼에만 남기기 위해서 나머지 nan값 전처리 미리 해버리겠습니다.\n",
        "    train[' 취급액 '] = train[' 취급액 '].fillna('0')\n",
        "    train = train[train.상품군 != '무형']\n",
        "\n",
        "    # nan값 있는 애들을 따로 저장해둡니다.\n",
        "    train_yes_nan = train[train['노출(분)'].isnull()]\n",
        "    # nan값 없는 애들을 따로 저장해줍니다. 이놈들로 작업할겁니다.\n",
        "    train_not_nan = train.dropna()\n",
        "\n",
        "    # 인덱스 꼬여서 포문 안 돌아가기 때문에 인덱스 리셋하고 나중에 불러와주기 위해서 따로 저장해줍니다.\n",
        "    train_not_nan_index = train_not_nan.index\n",
        "    # 리셋 인덱스 해줍니다.\n",
        "    train_not_nan_reset_index = train_not_nan.reset_index(drop=True)\n",
        "\n",
        "    # 여기서부터 cast_time, cast_count 포문-----------------------------------------------------\n",
        "    cast_time = []\n",
        "    cast_count = []\n",
        "    time = 0.\n",
        "    count = 1\n",
        "\n",
        "    for i in range(len(train_not_nan_reset_index)):\n",
        "        if i == 0: # 첫번째 행은 이걸로 하십쇼.\n",
        "            time = train_not_nan_reset_index['노출(분)'][i] # 더하지 않고, 자기 노출을 그대로 가져옵니다.\n",
        "            count = 1 # count도 1로 초기화 합니다.\n",
        "            cast_time.append(time) # 그리고 어펜드.\n",
        "            cast_count.append(count) # 그리고 어펜드.\n",
        "        elif train_not_nan_reset_index['상품코드'][i] == train_not_nan_reset_index['상품코드'][i-1]: # 자기의 상품코드가 앞행의 상품코드와 같을 때\n",
        "            time += train_not_nan_reset_index['노출(분)'][i] # 기존 누적된 노출에 자기 노출을 더한다.\n",
        "            count += 1 # count도 1을 더해줍니다.\n",
        "            cast_time.append(time) # 그리고 어펜드.\n",
        "            cast_count.append(count) # 그리고 어펜드.\n",
        "        else: # 근데 자기 상품코드와 앞행의 상품코드가 다르다면, 새로운 방송이 시작된 거겠죠?\n",
        "            time = train_not_nan_reset_index['노출(분)'][i] # 더하지 않고, 자기 노출을 그대로 가져옵니다.\n",
        "            count = 1 # count도 1로 초기화 합니다.\n",
        "            cast_time.append(time) # 그리고 어펜드.\n",
        "            cast_count.append(count) # 그리고 어펜드.\n",
        "    # 포문 끝------------------------------------------------------------  \n",
        "    # 컬럼으로 박아줍니다.\n",
        "    train_not_nan_reset_index['cast_time'] = cast_time\n",
        "    train_not_nan_reset_index['cast_count'] = cast_count\n",
        "    \n",
        "    # 여기서부터 cast_time_sum, cast_count_sum 포문-------------------------------------------------\n",
        "    cast_time_sum = []\n",
        "    cast_count_sum = []\n",
        "\n",
        "    for i in range(len(train_not_nan_reset_index)):\n",
        "        if i == 20587: #마지막은 비교할 다음타자가 없으니 바로 넣기.\n",
        "            cast_time_sum.append(train_not_nan_reset_index['cast_time'][i])\n",
        "            cast_count_sum.append(train_not_nan_reset_index['cast_count'][i])\n",
        "        elif train_not_nan_reset_index['상품코드'][i] == train_not_nan_reset_index['상품코드'][i+1]: # 자기와 다음타자의 상품코드가 같으면\n",
        "            cast_time_sum.append(np.nan)\n",
        "            cast_count_sum.append(np.nan)\n",
        "        else: # 자기와 다음타자의 상품코드가 다르면\n",
        "            cast_time_sum.append(train_not_nan_reset_index['cast_time'][i])\n",
        "            cast_count_sum.append(train_not_nan_reset_index['cast_count'][i])\n",
        "            \n",
        "    # 포문 끝----------------------------------------------------------------------\n",
        "    # 칼럼으로 박아줍니다.\n",
        "    train_not_nan_reset_index['cast_time_sum'] = cast_time_sum\n",
        "    train_not_nan_reset_index['cast_count_sum'] = cast_count_sum\n",
        "    # 백필로 nan값 채워줍니다.\n",
        "    train_not_nan_reset_index.fillna(method='bfill', inplace=True)\n",
        "    \n",
        "\n",
        "    # 원래 인덱스 다시 넣어줍니다.\n",
        "    train_not_nan_reset_index.index = train_not_nan_index\n",
        "    # 컨캣으로 밑으로 붙여주고,\n",
        "    train_concat = pd.concat([train_not_nan_reset_index, train_yes_nan], axis=0)\n",
        "    # 소트 인덱스 먼저 하고,\n",
        "    train_concat_sort_index = train_concat.sort_index()\n",
        "    # ffill 로 채워줍니다. 끝. 이거 너무 힘들었다 진짜 레알.\n",
        "    train = train_concat_sort_index.fillna(method='ffill')\n",
        "    \n",
        "    # 누적 방송 시간 비율 칼럼을 만들어줍니다.\n",
        "    train['cast_time_ratio'] = train.cast_time / train.cast_time_sum\n",
        "    \n",
        "    # 인덱스 리셋해줍니다.\n",
        "    train = train.reset_index(drop=True)\n",
        "    \n",
        "    # 다이어트\n",
        "    train['cast_count'] = train.cast_count.astype(np.int16)\n",
        "    \n",
        "    return train"
      ],
      "execution_count": null,
      "outputs": []
    },
    {
      "cell_type": "code",
      "metadata": {
        "id": "JTJYR8nYAhR2",
        "colab_type": "code",
        "colab": {}
      },
      "source": [
        "train = make_cast_time(train)"
      ],
      "execution_count": null,
      "outputs": []
    },
    {
      "cell_type": "code",
      "metadata": {
        "id": "Er_liLGgAivH",
        "colab_type": "code",
        "colab": {}
      },
      "source": [
        "# 기본 전처리 함수\n",
        "def preprocessing_1(df):\n",
        "    \n",
        "    # 취급액과 판매단가 수치형 변수로 바꾸기.\n",
        "    df[' 취급액 '] = df[' 취급액 '].apply(lambda x: x.replace(',', ''))\n",
        "    df['판매단가'] = df['판매단가'].apply(lambda x: x.replace(',', ''))\n",
        "    df[' 취급액 '] = df[' 취급액 '].astype(np.int32)\n",
        "    df['판매단가'] = df['판매단가'].astype(np.int32)\n",
        "    \n",
        "    # 칼럼명 너무 어려우니까 쪼금만 바꿔줍니다.\n",
        "    df = df.rename(columns = {' 취급액 ':'취급액'})\n",
        "    \n",
        "    return df"
      ],
      "execution_count": null,
      "outputs": []
    },
    {
      "cell_type": "code",
      "metadata": {
        "id": "czsEyC-uAj1h",
        "colab_type": "code",
        "colab": {}
      },
      "source": [
        "# 기본 전처리 함수(테스트 용, 둘이 서로 다름)\n",
        "def preprocessing_2(df):\n",
        "      \n",
        "    # 판매단가 수치형 변수로 바꾸기.\n",
        "    df['판매단가'] = df['판매단가'].apply(lambda x: x.replace(',', ''))\n",
        "    df['판매단가'] = df['판매단가'].astype(np.int32)\n",
        "    \n",
        "    return df"
      ],
      "execution_count": null,
      "outputs": []
    },
    {
      "cell_type": "code",
      "metadata": {
        "id": "OJditL86ArH0",
        "colab_type": "code",
        "colab": {}
      },
      "source": [
        "train = preprocessing_1(train)"
      ],
      "execution_count": null,
      "outputs": []
    },
    {
      "cell_type": "code",
      "metadata": {
        "id": "qu7ZUHiqAsUI",
        "colab_type": "code",
        "colab": {}
      },
      "source": [
        "# 상품명 전처리 함수\n",
        "def preprocessing_3(train):\n",
        "    # 1. 일시불/무이자/없음\n",
        "    train.loc[train['상품명'].str.contains('일시불') == True, \"상품명_plan\"] = '1'\n",
        "    train.loc[train['상품명'].str.contains('일\\)') == True, \"상품명_plan\"] = '1'\n",
        "    train.loc[train['상품명'].str.contains('무이자') == True, \"상품명_plan\"] = '2'\n",
        "    train.loc[train['상품명'].str.contains('무\\)') == True, \"상품명_plan\"] = '2'\n",
        "    train['상품명_plan'] = train['상품명_plan'].fillna('0')\n",
        "\n",
        "    # 2. 추가구성/단품구성\n",
        "    train.loc[train['상품명'].str.contains('\\+') == True, \"상품명_add\"] = '1'\n",
        "    train['상품명_add'] = train['상품명_add'].fillna('0')\n",
        "\n",
        "    # 3. 기타/삼성/LG\n",
        "    train.loc[train['상품명'].str.contains('삼성') == True, \"상품명_maker\"] = '1'\n",
        "    train.loc[train['상품명'].str.contains('LG') == True, \"상품명_maker\"] = '2'\n",
        "    train['상품명_maker'] = train['상품명_maker'].fillna('0')\n",
        "\n",
        "    # 4. 세트구성/단품구성\n",
        "    train.loc[train['상품명'].str.contains('세트') == True, \"상품명_set\"] = '1'\n",
        "    train['상품명_set'] = train['상품명_set'].fillna('0')\n",
        "\n",
        "    # 5. 여성/남성/없음\n",
        "    train.loc[train['상품명'].str.contains('여성') == True, \"상품명_sex\"] = '1'\n",
        "    #train.loc[train['상품명'].str.contains('브라') == True, \"상품명_sex\"] = '1'\n",
        "    #train.loc[train['상품명'].str.contains('란쥬') == True, \"상품명_sex\"] = '1'\n",
        "    #train.loc[train['상품명'].str.contains('블라우스') == True, \"상품명_sex\"] = '1'\n",
        "    #train.loc[train['상품명'].str.contains('밍크') == True, \"상품명_sex\"] = '1'\n",
        "    train.loc[train['상품명'].str.contains('남성') == True, \"상품명_sex\"] = '2'\n",
        "    #train.loc[train['상품명'].str.contains('드로즈') == True, \"상품명_sex\"] = '2'\n",
        "    #train.loc[train['상품명'].str.contains('트렁크') == True, \"상품명_sex\"] = '2'\n",
        "    train['상품명_sex'] = train['상품명_sex'].fillna('0')\n",
        "\n",
        "    # category로 형변환해서 다이어트 시켜줍니다.\n",
        "    train['상품명_plan'] = train['상품명_plan'].astype('category')\n",
        "    train['상품명_add'] = train['상품명_add'].astype('category')\n",
        "    train['상품명_maker'] = train['상품명_maker'].astype('category')\n",
        "    train['상품명_set'] = train['상품명_set'].astype('category')\n",
        "    train['상품명_sex'] = train['상품명_sex'].astype('category')\n",
        "    \n",
        "    return train"
      ],
      "execution_count": null,
      "outputs": []
    },
    {
      "cell_type": "code",
      "metadata": {
        "id": "4HPwEz8DAyys",
        "colab_type": "code",
        "colab": {
          "base_uri": "https://localhost:8080/",
          "height": 114
        },
        "outputId": "eda00ffd-f5d4-4cd0-f8eb-a232a8d69928"
      },
      "source": [
        "train = preprocessing_3(train)\n",
        "train.sample()"
      ],
      "execution_count": null,
      "outputs": [
        {
          "output_type": "execute_result",
          "data": {
            "text/html": [
              "<div>\n",
              "<style scoped>\n",
              "    .dataframe tbody tr th:only-of-type {\n",
              "        vertical-align: middle;\n",
              "    }\n",
              "\n",
              "    .dataframe tbody tr th {\n",
              "        vertical-align: top;\n",
              "    }\n",
              "\n",
              "    .dataframe thead th {\n",
              "        text-align: right;\n",
              "    }\n",
              "</style>\n",
              "<table border=\"1\" class=\"dataframe\">\n",
              "  <thead>\n",
              "    <tr style=\"text-align: right;\">\n",
              "      <th></th>\n",
              "      <th>방송일시</th>\n",
              "      <th>노출(분)</th>\n",
              "      <th>마더코드</th>\n",
              "      <th>상품코드</th>\n",
              "      <th>상품명</th>\n",
              "      <th>상품군</th>\n",
              "      <th>판매단가</th>\n",
              "      <th>취급액</th>\n",
              "      <th>cast_time</th>\n",
              "      <th>cast_count</th>\n",
              "      <th>cast_time_sum</th>\n",
              "      <th>cast_count_sum</th>\n",
              "      <th>cast_time_ratio</th>\n",
              "      <th>상품명_plan</th>\n",
              "      <th>상품명_add</th>\n",
              "      <th>상품명_maker</th>\n",
              "      <th>상품명_set</th>\n",
              "      <th>상품명_sex</th>\n",
              "    </tr>\n",
              "  </thead>\n",
              "  <tbody>\n",
              "    <tr>\n",
              "      <th>12396</th>\n",
              "      <td>2019-05-01 12:40</td>\n",
              "      <td>20.0</td>\n",
              "      <td>100489</td>\n",
              "      <td>201473</td>\n",
              "      <td>삭루츠 크로스바디백(TQ12)</td>\n",
              "      <td>잡화</td>\n",
              "      <td>44000</td>\n",
              "      <td>16958000</td>\n",
              "      <td>60.0</td>\n",
              "      <td>3</td>\n",
              "      <td>60.0</td>\n",
              "      <td>3.0</td>\n",
              "      <td>1.0</td>\n",
              "      <td>0</td>\n",
              "      <td>0</td>\n",
              "      <td>0</td>\n",
              "      <td>0</td>\n",
              "      <td>0</td>\n",
              "    </tr>\n",
              "  </tbody>\n",
              "</table>\n",
              "</div>"
            ],
            "text/plain": [
              "                   방송일시  노출(분)    마더코드    상품코드               상품명 상품군   판매단가  \\\n",
              "12396  2019-05-01 12:40   20.0  100489  201473  삭루츠 크로스바디백(TQ12)  잡화  44000   \n",
              "\n",
              "            취급액  cast_time  cast_count  cast_time_sum  cast_count_sum  \\\n",
              "12396  16958000       60.0           3           60.0             3.0   \n",
              "\n",
              "       cast_time_ratio 상품명_plan 상품명_add 상품명_maker 상품명_set 상품명_sex  \n",
              "12396              1.0        0       0         0       0       0  "
            ]
          },
          "metadata": {
            "tags": []
          },
          "execution_count": 11
        }
      ]
    },
    {
      "cell_type": "code",
      "metadata": {
        "id": "bWBU7o00Az6E",
        "colab_type": "code",
        "colab": {}
      },
      "source": [
        "def make_fake_weight(train):\n",
        "    fake_weight = []\n",
        "    weight = 1\n",
        "\n",
        "    for i in range(len(train)):\n",
        "        if i == 0: # 첫번째 행은 이걸로 하십쇼.\n",
        "            weight = 1 # count도 1로 초기화 합니다.\n",
        "            fake_weight.append(weight) # 그리고 어펜드.\n",
        "            \n",
        "        elif train['마더코드'][i] == train['마더코드'][i-1]: # 자기의 마더코드가 앞행의 것과 같을 때\n",
        "            if train['판매단가'][i] < train['판매단가'][i-1]: # 자기의 단가가 앞행의 것보다 작으면(같으면 안됨)\n",
        "                weight +=1 # 가중치 1을 더하고,\n",
        "                fake_weight.append(weight) # 그리고 어펜드\n",
        "            else: # 자기의 단가가 앞행의 것과 같거나 더 크면(더 클 수는 없음.)\n",
        "                weight = 1 # 가중치 1로 초기화\n",
        "                fake_weight.append(weight)\n",
        "                \n",
        "        else: # 근데 자기 마더코드와 앞행의 마더코드가 다르다면, 새로운 방송이 시작된 거겠죠?\n",
        "            weight = 1 # 가중치 1로 초기화\n",
        "            fake_weight.append(weight)\n",
        "            \n",
        "    train['fake_weight'] = fake_weight\n",
        "    train['fake_weight'] = train.fake_weight.apply(lambda x: -(x*x))\n",
        "    \n",
        "    return train"
      ],
      "execution_count": null,
      "outputs": []
    },
    {
      "cell_type": "code",
      "metadata": {
        "id": "uMCO1MmZA1Ha",
        "colab_type": "code",
        "colab": {}
      },
      "source": [
        "train = make_fake_weight(train)"
      ],
      "execution_count": null,
      "outputs": []
    },
    {
      "cell_type": "code",
      "metadata": {
        "id": "ws16eKBuA2aY",
        "colab_type": "code",
        "colab": {}
      },
      "source": [
        "def make_fake_weight2(train):\n",
        "    fake_weight = []\n",
        "    weight = 0\n",
        "\n",
        "    for i in range(len(train)):\n",
        "        if i == 0: # 첫번째 행은 이걸로 하십쇼.\n",
        "            weight = 0 # count도 1로 초기화 합니다.\n",
        "            fake_weight.append(weight) # 그리고 어펜드.\n",
        "            \n",
        "        elif train['마더코드'][i] == train['마더코드'][i-1]: # 자기의 마더코드가 앞행의 것과 같을 때\n",
        "            if train['판매단가'][i] == train['판매단가'][i-1]: # 자기의 단가가 앞행의 것과 같을 때\n",
        "                if train['방송일시'][i] == train['방송일시'][i-1]:\n",
        "                    if train['상품코드'][i] != train['상품코드'][i-1]: # 상품코드는 일치하지 않으면 조건 성립\n",
        "                        weight -=1 # 가중치 1을 빼고,\n",
        "                        fake_weight.append(weight) # 그리고 어펜드\n",
        "                    else: # 상품코드까지 같으면 동일 상품.\n",
        "                        weight = 0\n",
        "                        fake_weight.append(weight)\n",
        "                else: #방송일시가 다르면 새로운 방송 시작\n",
        "                    weight = 0 # 가중치 0로 초기화\n",
        "                    fake_weight.append(weight)\n",
        "            else: # 판매단가가 다르면 다른 상품\n",
        "                weight = 0 # 가중치 0로 초기화\n",
        "                fake_weight.append(weight)\n",
        "        else: # 근데 자기 마더코드와 앞행의 마더코드가 다르다면, 새로운 방송이 시작된 거겠죠?\n",
        "            weight = 0 # 가중치 1로 초기화\n",
        "            fake_weight.append(weight)\n",
        "            \n",
        "    train['fake_weight2'] = fake_weight\n",
        "    \n",
        "    return train"
      ],
      "execution_count": null,
      "outputs": []
    },
    {
      "cell_type": "code",
      "metadata": {
        "id": "dNmymZ86A3bB",
        "colab_type": "code",
        "colab": {}
      },
      "source": [
        "# 더 정확한 변수 생성을 위해 기계가 걸러내지 못하는 조건을 쳐내줍니다.\n",
        "train_fake = train[train.상품명_plan == '0'] # 할부플랜이 다른 애들 쳐내기\n",
        "train_fake = train_fake[train_fake.상품명_sex == '0'] # 성별이 다른 애들 쳐내기.\n",
        "# 포문 돌리기 위해 인덱스 리셋 해줍니다.\n",
        "train_fake.reset_index(drop=True, inplace=True)"
      ],
      "execution_count": null,
      "outputs": []
    },
    {
      "cell_type": "code",
      "metadata": {
        "id": "m_lQmZUCA5tM",
        "colab_type": "code",
        "colab": {}
      },
      "source": [
        "# 쳐낸 데이터프레임을 함수로 엮어서 만들어줍니다.\n",
        "train_fake = make_fake_weight2(train_fake)"
      ],
      "execution_count": null,
      "outputs": []
    },
    {
      "cell_type": "code",
      "metadata": {
        "id": "1V2kJCAHA6s0",
        "colab_type": "code",
        "colab": {}
      },
      "source": [
        "# 기존 데이터에 합쳐줍니다.\n",
        "train = pd.merge(train, train_fake[['방송일시','마더코드','상품코드','상품명','판매단가', 'fake_weight2']],\n",
        "                 on=['방송일시','마더코드','상품코드','상품명','판매단가'], how='left')"
      ],
      "execution_count": null,
      "outputs": []
    },
    {
      "cell_type": "code",
      "metadata": {
        "id": "TEQ72AsUA8HR",
        "colab_type": "code",
        "colab": {}
      },
      "source": [
        "# 빈 값은 전부 0으로 채워줍니다.\n",
        "train['fake_weight2'] = train.fake_weight2.fillna(0)"
      ],
      "execution_count": null,
      "outputs": []
    },
    {
      "cell_type": "code",
      "metadata": {
        "id": "s4VDdAJ2A9ms",
        "colab_type": "code",
        "colab": {}
      },
      "source": [
        "# 난 값 먼저 채워 줍니다.\n",
        "category['cat3'] = category.apply(lambda x: x['cat2'] if x['cat3'] != x['cat3'] else x['cat3'], axis=1)"
      ],
      "execution_count": null,
      "outputs": []
    },
    {
      "cell_type": "code",
      "metadata": {
        "id": "r5UO9axgA-ol",
        "colab_type": "code",
        "colab": {}
      },
      "source": [
        "def preprocessing_to_merge(df):\n",
        "    # merge를 위해 datetime으로 바꿔줍니다..\n",
        "    df['방송일시'] = pd.to_datetime(df['방송일시'], errors='coerce')\n",
        "    df['방송일시'] = df['방송일시'].astype(str)\n",
        "    \n",
        "    # key 칼럼을 만들어줍니다. 방송일시만으로는 안되니, 방송일시+상품명을 해줍니다.\n",
        "    df['key'] = df['방송일시'] + df['상품명']\n",
        "    \n",
        "    return df"
      ],
      "execution_count": null,
      "outputs": []
    },
    {
      "cell_type": "code",
      "metadata": {
        "id": "ZP0P--JMA_vy",
        "colab_type": "code",
        "colab": {}
      },
      "source": [
        "def preprocessing_merging(df1, df2):\n",
        "    # df1이 왼쪽, df2가 오른쪽입니다.\n",
        "    df3 = pd.merge(df1, df2[['key','ratings_mean','cat1','cat2','cat3']], how='left', on=['key'])\n",
        "    df3 = df3.drop('key', axis=1) # key 칼럼은 드랍.\n",
        "    \n",
        "    return df3"
      ],
      "execution_count": null,
      "outputs": []
    },
    {
      "cell_type": "code",
      "metadata": {
        "id": "UpGvSFGcBAqv",
        "colab_type": "code",
        "colab": {}
      },
      "source": [
        "train = preprocessing_to_merge(train)\n",
        "category = preprocessing_to_merge(category)\n",
        "train = preprocessing_merging(train, category)"
      ],
      "execution_count": null,
      "outputs": []
    },
    {
      "cell_type": "code",
      "metadata": {
        "id": "aImzPjONBB9i",
        "colab_type": "code",
        "colab": {}
      },
      "source": [
        "# 방송일시 쪼개기 전처리 함수\n",
        "def preprocessing_4(train):\n",
        "    # datetime으로 바꿔줍니다.\n",
        "    train['방송일시'] = pd.to_datetime(train['방송일시'], errors='coerce')\n",
        "   \n",
        "    # 월일이 다음날로 넘어가는 것을 막기 위해서 3시간씩 앞으로 땡겨줍니다. 마지막에 다시 더해줘야 합니다.\n",
        "    delta = datetime.timedelta(hours=3)\n",
        "    train['방송일시'] = train.방송일시.apply(lambda x: x - delta)\n",
        "\n",
        "    # dayofweek는 날짜에서 요일(월~일)을 가져오는 기능입니다.\n",
        "    # 값은 0(월), 1(화), 2(수), 3(목), 4(금), 5(토), 6(일) 을 나타냅니다.\n",
        "    train[\"방송일시_dow\"] = train[\"방송일시\"].dt.dayofweek\n",
        "\n",
        "    # 요일 외에 다른 정보를 가져오기 위해서 다시 string으로 바꿔줍니다.\n",
        "    train['방송일시'] = train.방송일시.astype(str)\n",
        "\n",
        "    # MMDDhhmm 정보를 가져옵니다.\n",
        "    train['방송일시_MM'] = train['방송일시'].apply(lambda x: x[5:7])\n",
        "    train['방송일시_DD'] = train['방송일시'].apply(lambda x: x[8:10])\n",
        "    train['방송일시_hh'] = train['방송일시'].apply(lambda x: x[11:13])\n",
        "    train['방송일시_mm'] = train['방송일시'].apply(lambda x: x[14:16])\n",
        "\n",
        "    # schedule 관련 칼럼을 더 만들어보겠습니다. # MMDD # DDHH # HHMM # weekday/weekends\n",
        "    train['방송일시_MMDD'] = train['방송일시_MM'] + train['방송일시_DD']\n",
        "    train['방송일시_DDhh'] = train['방송일시_DD'] + train['방송일시_hh']\n",
        "    train['방송일시_hhmm'] = train['방송일시_hh'] + train['방송일시_mm']\n",
        "    train['방송일시_MMDDhh'] = train['방송일시_MM'] + train['방송일시_DD'] + train['방송일시_hh']\n",
        "\n",
        "    # mmmm_1 은 1일 사이클로 분단위로 환산한 것\n",
        "    # mmmm_2 는 1달 사이클로 분단위로 환산한 것\n",
        "    # mmmm_3 는 1년 사이클로 분단위로 환산한 것\n",
        "    train['방송일시_mmmm_1'] = train['방송일시_hh'].astype(int) * train['방송일시_mm'].astype(int) * 60\n",
        "    train['방송일시_mmmm_2'] = train['방송일시_DD'].astype(int) * train['방송일시_hh'].astype(int) * train['방송일시_mm'].astype(int) * 60\n",
        "    train['방송일시_mmmm_3'] = train['방송일시_MM'].astype(int) * train['방송일시_DD'].astype(int) * train['방송일시_hh'].astype(int) * train['방송일시_mm'].astype(int) * 60\n",
        "\n",
        "    # weekday = 1 / weekends = 0\n",
        "    train.loc[train.방송일시_dow == 5, '방송일시_dow2'] = '0'\n",
        "    train.loc[train.방송일시_dow == 6, '방송일시_dow2'] = '0'\n",
        "    train['방송일시_dow2'] = train.방송일시_dow2.fillna('1')\n",
        "    \n",
        "    #다이어트\n",
        "    train['방송일시_dow'] = train.방송일시_dow.astype(np.int16)\n",
        "    train['방송일시_MM'] = train.방송일시_MM.astype('category')\n",
        "    train['방송일시_DD'] = train.방송일시_DD.astype('category')\n",
        "    train['방송일시_hh'] = train.방송일시_hh.astype('category')\n",
        "    train['방송일시_mm'] = train.방송일시_mm.astype('category')\n",
        "    train['방송일시_MMDD'] = train.방송일시_MMDD.astype('category')\n",
        "    train['방송일시_DDhh'] = train.방송일시_DDhh.astype('category')\n",
        "    train['방송일시_hhmm'] = train.방송일시_hhmm.astype('category')\n",
        "    train['방송일시_dow2'] = train.방송일시_dow2.astype('category')\n",
        "    \n",
        "    return train"
      ],
      "execution_count": null,
      "outputs": []
    },
    {
      "cell_type": "code",
      "metadata": {
        "id": "ttDwHJNDBC2i",
        "colab_type": "code",
        "colab": {
          "base_uri": "https://localhost:8080/",
          "height": 423
        },
        "outputId": "985acb3a-92e5-44a8-ef0d-7e3116042645"
      },
      "source": [
        "import datetime\n",
        "train = preprocessing_4(train)\n",
        "train.sample()"
      ],
      "execution_count": null,
      "outputs": [
        {
          "output_type": "execute_result",
          "data": {
            "text/html": [
              "<div>\n",
              "<style scoped>\n",
              "    .dataframe tbody tr th:only-of-type {\n",
              "        vertical-align: middle;\n",
              "    }\n",
              "\n",
              "    .dataframe tbody tr th {\n",
              "        vertical-align: top;\n",
              "    }\n",
              "\n",
              "    .dataframe thead th {\n",
              "        text-align: right;\n",
              "    }\n",
              "</style>\n",
              "<table border=\"1\" class=\"dataframe\">\n",
              "  <thead>\n",
              "    <tr style=\"text-align: right;\">\n",
              "      <th></th>\n",
              "      <th>방송일시</th>\n",
              "      <th>노출(분)</th>\n",
              "      <th>마더코드</th>\n",
              "      <th>상품코드</th>\n",
              "      <th>상품명</th>\n",
              "      <th>상품군</th>\n",
              "      <th>판매단가</th>\n",
              "      <th>취급액</th>\n",
              "      <th>cast_time</th>\n",
              "      <th>cast_count</th>\n",
              "      <th>cast_time_sum</th>\n",
              "      <th>cast_count_sum</th>\n",
              "      <th>cast_time_ratio</th>\n",
              "      <th>상품명_plan</th>\n",
              "      <th>상품명_add</th>\n",
              "      <th>상품명_maker</th>\n",
              "      <th>상품명_set</th>\n",
              "      <th>상품명_sex</th>\n",
              "      <th>fake_weight</th>\n",
              "      <th>fake_weight2</th>\n",
              "      <th>ratings_mean</th>\n",
              "      <th>cat1</th>\n",
              "      <th>cat2</th>\n",
              "      <th>cat3</th>\n",
              "      <th>방송일시_dow</th>\n",
              "      <th>방송일시_MM</th>\n",
              "      <th>방송일시_DD</th>\n",
              "      <th>방송일시_hh</th>\n",
              "      <th>방송일시_mm</th>\n",
              "      <th>방송일시_MMDD</th>\n",
              "      <th>방송일시_DDhh</th>\n",
              "      <th>방송일시_hhmm</th>\n",
              "      <th>방송일시_MMDDhh</th>\n",
              "      <th>방송일시_mmmm_1</th>\n",
              "      <th>방송일시_mmmm_2</th>\n",
              "      <th>방송일시_mmmm_3</th>\n",
              "      <th>방송일시_dow2</th>\n",
              "    </tr>\n",
              "  </thead>\n",
              "  <tbody>\n",
              "    <tr>\n",
              "      <th>13983</th>\n",
              "      <td>2019-05-13 20:20:00</td>\n",
              "      <td>20.0</td>\n",
              "      <td>100089</td>\n",
              "      <td>200241</td>\n",
              "      <td>헤비추얼 남성 썸머 쿨라이프 데님 3종</td>\n",
              "      <td>의류</td>\n",
              "      <td>59000</td>\n",
              "      <td>18977000</td>\n",
              "      <td>40.0</td>\n",
              "      <td>2</td>\n",
              "      <td>60.0</td>\n",
              "      <td>3.0</td>\n",
              "      <td>0.666667</td>\n",
              "      <td>0</td>\n",
              "      <td>0</td>\n",
              "      <td>0</td>\n",
              "      <td>0</td>\n",
              "      <td>2</td>\n",
              "      <td>-1</td>\n",
              "      <td>0.0</td>\n",
              "      <td>0.004447</td>\n",
              "      <td>패션의류</td>\n",
              "      <td>남성의류</td>\n",
              "      <td>청바지</td>\n",
              "      <td>0</td>\n",
              "      <td>05</td>\n",
              "      <td>13</td>\n",
              "      <td>20</td>\n",
              "      <td>20</td>\n",
              "      <td>0513</td>\n",
              "      <td>1320</td>\n",
              "      <td>2020</td>\n",
              "      <td>051320</td>\n",
              "      <td>24000</td>\n",
              "      <td>312000</td>\n",
              "      <td>1560000</td>\n",
              "      <td>1</td>\n",
              "    </tr>\n",
              "  </tbody>\n",
              "</table>\n",
              "</div>"
            ],
            "text/plain": [
              "                      방송일시  노출(분)    마더코드    상품코드                    상품명 상품군  \\\n",
              "13983  2019-05-13 20:20:00   20.0  100089  200241  헤비추얼 남성 썸머 쿨라이프 데님 3종  의류   \n",
              "\n",
              "        판매단가       취급액  cast_time  cast_count  cast_time_sum  cast_count_sum  \\\n",
              "13983  59000  18977000       40.0           2           60.0             3.0   \n",
              "\n",
              "       cast_time_ratio 상품명_plan 상품명_add 상품명_maker 상품명_set 상품명_sex  \\\n",
              "13983         0.666667        0       0         0       0       2   \n",
              "\n",
              "       fake_weight  fake_weight2  ratings_mean  cat1  cat2 cat3  방송일시_dow  \\\n",
              "13983           -1           0.0      0.004447  패션의류  남성의류  청바지         0   \n",
              "\n",
              "      방송일시_MM 방송일시_DD 방송일시_hh 방송일시_mm 방송일시_MMDD 방송일시_DDhh 방송일시_hhmm  \\\n",
              "13983      05      13      20      20      0513      1320      2020   \n",
              "\n",
              "      방송일시_MMDDhh  방송일시_mmmm_1  방송일시_mmmm_2  방송일시_mmmm_3 방송일시_dow2  \n",
              "13983      051320        24000       312000      1560000         1  "
            ]
          },
          "metadata": {
            "tags": []
          },
          "execution_count": 24
        }
      ]
    },
    {
      "cell_type": "code",
      "metadata": {
        "id": "SnAMAwE7BD9a",
        "colab_type": "code",
        "colab": {}
      },
      "source": [
        "def pre_nlp(train):\n",
        "    # 제품명에서 불필요한 요소 전처리\n",
        "    new_product_name = []\n",
        "\n",
        "    re_stop = re.compile(\"\"\"\\([가-힣]{1,5}\\+[가-힣]{1,5}\\)|\\(?무이자\\)?\\s?|\\(?일시불\\)?\\s?|\\(?초특가\\)?\\s?|\\(?무\\)\\s?|\\(?유\\)\\s?|\\(?일\\)\\s?|무료체험|\n",
        "    |포함|국내[가-힣]+\\s|무료설치|\\s?신제품\\s?|\\s?패키지\\s?|[0-9]+종|풀코디|set|SET|풀세트|[0-9]+세트|더블팩|싱글팩|[0-9]{1,2}\\+[0-9]{1,2}|[0-9]{1,2}인용|[0-9]{1,2}박스|[0-9\\.]{1,4}미터|[0-9\\.]{1,4}kg|[0-9\\.]{1,4}[kKgG]|[0-9]{1,3}[벌롤종단구대P개통병포미봉팩장gL매]|\n",
        "    |\\s[0-9\\.]{1,4}[Mm]|\\(.{1,10}\\)$|^\\(.?\\)|^[0-9]{2,4}\\s|\\s+[0-9]{2,4}\\s|[0-9]{2,4}년\\s|[0-9]{2,4}년형\\s|시즌[0-9]|[0-9]{1,3}\\%|\\(.{1,20}\\)$|기본형|고급형|오리지널|[대중소大中小]형|.{1,10}by|,|\\s?총[0-9\\s]|^[가-힣a-zA-Z]{3,3}의|\n",
        "    |S\\/S|F\\/W|f\\/w|s\\/s|[가-힣]+형\\s|[슈퍼]{0,2}싱글|\\s[SQK퀸킹]{1,2}\\s|[SQK퀸킹]{1,2}$|[가-힣]{0,2}사이즈\"\"\")\n",
        "\n",
        "    remnants = re.compile('[\",g\\+lL-]\\s|ml|_|\\sx|[\\[\\]\\］!\"#$%&\\'()*+,./:;<=>?@\\^_`{|}~-]|\\s종$|\\s[0-9]+\\s|\\s{2,}')\n",
        "\n",
        "    for i in train.상품명:\n",
        "        tmp = re_stop.sub(' ',i)\n",
        "        tmp = tmp.strip()\n",
        "        tmp = remnants.sub(' ',tmp)\n",
        "        new_product_name.append(tmp.strip())\n",
        "    \n",
        "    train['new_상품명'] = new_product_name\n",
        "    \n",
        "    # 상품명에서 브랜드 추출\n",
        "    train['상품명_brand'] = train['new_상품명'].apply(lambda x: x[:2])\n",
        "    \n",
        "    return train"
      ],
      "execution_count": null,
      "outputs": []
    },
    {
      "cell_type": "code",
      "metadata": {
        "id": "xgC_iCPFBE_U",
        "colab_type": "code",
        "colab": {}
      },
      "source": [
        "import re\n",
        "train = pre_nlp(train)"
      ],
      "execution_count": null,
      "outputs": []
    },
    {
      "cell_type": "code",
      "metadata": {
        "id": "dCPoFtEYBGU1",
        "colab_type": "code",
        "colab": {}
      },
      "source": [
        "# 크롤링 DF 가져와서 합쳐줍니다.\n",
        "\n",
        "naver = pd.read_csv('/gdrive/My Drive/naver.csv')\n",
        "train = pd.merge(train, naver, on='상품명', how='left')\n",
        "\n",
        "# 전처리 해줍니다.\n",
        "train['review_counts'] = train['review_counts'].apply(lambda x: x.replace(',',''))\n",
        "train['internet_price'] = train['internet_price'].apply(lambda x: x.replace(',',''))\n",
        "train['internet_price'] = train['internet_price'].apply(lambda x: x.replace('원',''))\n",
        "train['review_counts'] = train['review_counts'].astype(int)\n",
        "train['internet_price'] = train['internet_price'].astype(int)"
      ],
      "execution_count": null,
      "outputs": []
    },
    {
      "cell_type": "code",
      "metadata": {
        "id": "qltyz1OBBHro",
        "colab_type": "code",
        "colab": {}
      },
      "source": [
        "# 오차를 컬럼으로 만들어줍니다.\n",
        "train['price_minus'] = train['판매단가'] - train['internet_price']\n",
        "# 네이버에 서칭이 되는지 여부를 알려줍니다.\n",
        "train['search_naver'] = train['internet_price'] + train['review_counts']\n",
        "train['search_naver'] = train['search_naver'].apply(lambda x: 0 if x == 0 else 1)"
      ],
      "execution_count": null,
      "outputs": []
    },
    {
      "cell_type": "code",
      "metadata": {
        "id": "vPaGvfzJBI2a",
        "colab_type": "code",
        "colab": {}
      },
      "source": [
        "# 기상청 통계 파일 읽기\n",
        "weather = pd.read_csv('/gdrive/My Drive/OBS_ASOS_TIM_20200902192155.csv', encoding='latin1')\n",
        "columns = ['location_id','location','date','temperature']\n",
        "weather.columns = columns\n",
        "\n",
        "# datetime으로 바꿔줍니다.\n",
        "weather['date'] = pd.to_datetime(weather['date'], errors='coerce')\n",
        "\n",
        "# 월일이 다음날로 넘어가는 것을 막기 위해서 3시간씩 앞으로 땡겨줍니다. 마지막에 다시 더해줘야 합니다.\n",
        "delta = datetime.timedelta(hours=3)\n",
        "weather['date'] = weather.date.apply(lambda x: x - delta)\n",
        "\n",
        "# 요일 외에 다른 정보를 가져오기 위해서 다시 string으로 바꿔줍니다.\n",
        "weather['date'] = weather.date.astype(str)"
      ],
      "execution_count": null,
      "outputs": []
    },
    {
      "cell_type": "code",
      "metadata": {
        "id": "Bxku4-QZBKFb",
        "colab_type": "code",
        "colab": {}
      },
      "source": [
        "# key column 만들어주기.\n",
        "weather['방송일시_MMDDhh'] = weather['date'].apply(lambda x: x[5:7]) + weather['date'].apply(lambda x: x[8:10]) + weather['date'].apply(lambda x: x[11:13])\n",
        "\n",
        "# 필요없는 칼럼은 미리 버려줍니다.\n",
        "weather.drop(['location_id', 'location', 'date'], axis=1, inplace=True)\n",
        "\n",
        "# 합쳐줍니다.\n",
        "train = pd.merge(train, weather, on='방송일시_MMDDhh', how='left')"
      ],
      "execution_count": null,
      "outputs": []
    },
    {
      "cell_type": "code",
      "metadata": {
        "id": "z-w-DLojBLM4",
        "colab_type": "code",
        "colab": {
          "base_uri": "https://localhost:8080/",
          "height": 35
        },
        "outputId": "83650ac2-2d98-4006-d80e-0fb434755812"
      },
      "source": [
        "# MAPE nan 값 안 뜨도록 취급액 0원인 애들 죽여줍니다.\n",
        "\n",
        "train = train[train.취급액 != 0]\n",
        "train.shape"
      ],
      "execution_count": null,
      "outputs": [
        {
          "output_type": "execute_result",
          "data": {
            "text/plain": [
              "(35379, 44)"
            ]
          },
          "metadata": {
            "tags": []
          },
          "execution_count": 31
        }
      ]
    },
    {
      "cell_type": "code",
      "metadata": {
        "id": "06P_wIhUBMxD",
        "colab_type": "code",
        "colab": {
          "base_uri": "https://localhost:8080/",
          "height": 53
        },
        "outputId": "19d16aa3-1ec4-40a1-a4a5-eb8c1a4502f7"
      },
      "source": [
        "train_, test_ = train_test_split(train, test_size=0.2, random_state=529)\n",
        "\n",
        "#train_ = train[train.방송일시_MM != '07']\n",
        "#test_ = train[train.방송일시_MM == '07']\n",
        "print(train_.shape)\n",
        "print(test_.shape)"
      ],
      "execution_count": null,
      "outputs": [
        {
          "output_type": "stream",
          "text": [
            "(28303, 44)\n",
            "(7076, 44)\n"
          ],
          "name": "stdout"
        }
      ]
    },
    {
      "cell_type": "code",
      "metadata": {
        "id": "BXnmBoWTBOE-",
        "colab_type": "code",
        "colab": {
          "base_uri": "https://localhost:8080/",
          "height": 35
        },
        "outputId": "fed758b4-965e-4e16-d237-ec61fd0353a5"
      },
      "source": [
        "# train 셋의 아웃라이어를 제거해봅니다...\n",
        "\n",
        "train_ = train_[train_.취급액 < 100000000]\n",
        "train_.shape"
      ],
      "execution_count": null,
      "outputs": [
        {
          "output_type": "execute_result",
          "data": {
            "text/plain": [
              "(28150, 44)"
            ]
          },
          "metadata": {
            "tags": []
          },
          "execution_count": 33
        }
      ]
    },
    {
      "cell_type": "code",
      "metadata": {
        "id": "kdaUdG8HBPEu",
        "colab_type": "code",
        "colab": {}
      },
      "source": [
        "# 라벨인코딩 숫자가 많아지니 함수로 만들어버립니다.\n",
        "\n",
        "def label_encoding(train_, test_, columns, number):\n",
        "  length = range(number)\n",
        "  for c, i in zip(columns, length):\n",
        "    # 라벨인코더 피팅\n",
        "    globals()['encoder_{}:'.format(i)] = LabelEncoder()\n",
        "    globals()['encoder_{}:'.format(i)].fit(train_[c].values)\n",
        "        \n",
        "    # 트레인셋에 트랜스폼\n",
        "    train_['encoding_{}:'.format(c)] = globals()['encoder_{}:'.format(i)].transform(train_[c])\n",
        "        \n",
        "    # 테스트셋에 트랜스폼\n",
        "    for label in np.unique(test_[c]):\n",
        "      if label not in globals()['encoder_{}:'.format(i)].classes_: # unseen label 데이터인 경우( )\n",
        "        globals()['encoder_{}:'.format(i)].classes_ = np.append(globals()['encoder_{}:'.format(i)].classes_, label) # 미처리 시 ValueError발생\n",
        "    test_['encoding_{}:'.format(c)] = globals()['encoder_{}:'.format(i)].transform(test_[c])"
      ],
      "execution_count": null,
      "outputs": []
    },
    {
      "cell_type": "code",
      "metadata": {
        "id": "yF3DD9AHBQLB",
        "colab_type": "code",
        "colab": {
          "base_uri": "https://localhost:8080/",
          "height": 1000
        },
        "outputId": "566df844-144e-4a65-f95c-ce7253580532"
      },
      "source": [
        "# 인코딩할 컬럼을 리스트로 넣어줍니다.\n",
        "columns = ['상품명', '상품군', '상품명_brand', 'cat1', 'cat2', 'cat3', 'new_상품명']\n",
        "number = len(columns)\n",
        "\n",
        "# 함수로 바로 처리.\n",
        "label_encoding(train_, test_, columns, number)\n",
        "train_.info()"
      ],
      "execution_count": null,
      "outputs": [
        {
          "output_type": "stream",
          "text": [
            "<class 'pandas.core.frame.DataFrame'>\n",
            "Int64Index: 28150 entries, 19091 to 6313\n",
            "Data columns (total 51 columns):\n",
            " #   Column               Non-Null Count  Dtype   \n",
            "---  ------               --------------  -----   \n",
            " 0   방송일시                 28150 non-null  object  \n",
            " 1   노출(분)                28150 non-null  float64 \n",
            " 2   마더코드                 28150 non-null  int64   \n",
            " 3   상품코드                 28150 non-null  int64   \n",
            " 4   상품명                  28150 non-null  object  \n",
            " 5   상품군                  28150 non-null  object  \n",
            " 6   판매단가                 28150 non-null  int32   \n",
            " 7   취급액                  28150 non-null  int32   \n",
            " 8   cast_time            28150 non-null  float64 \n",
            " 9   cast_count           28150 non-null  int16   \n",
            " 10  cast_time_sum        28150 non-null  float64 \n",
            " 11  cast_count_sum       28150 non-null  float64 \n",
            " 12  cast_time_ratio      28150 non-null  float64 \n",
            " 13  상품명_plan             28150 non-null  category\n",
            " 14  상품명_add              28150 non-null  category\n",
            " 15  상품명_maker            28150 non-null  category\n",
            " 16  상품명_set              28150 non-null  category\n",
            " 17  상품명_sex              28150 non-null  category\n",
            " 18  fake_weight          28150 non-null  int64   \n",
            " 19  fake_weight2         28150 non-null  float64 \n",
            " 20  ratings_mean         28150 non-null  float64 \n",
            " 21  cat1                 28150 non-null  object  \n",
            " 22  cat2                 28150 non-null  object  \n",
            " 23  cat3                 28150 non-null  object  \n",
            " 24  방송일시_dow             28150 non-null  int16   \n",
            " 25  방송일시_MM              28150 non-null  category\n",
            " 26  방송일시_DD              28150 non-null  category\n",
            " 27  방송일시_hh              28150 non-null  category\n",
            " 28  방송일시_mm              28150 non-null  category\n",
            " 29  방송일시_MMDD            28150 non-null  category\n",
            " 30  방송일시_DDhh            28150 non-null  category\n",
            " 31  방송일시_hhmm            28150 non-null  category\n",
            " 32  방송일시_MMDDhh          28150 non-null  object  \n",
            " 33  방송일시_mmmm_1          28150 non-null  int64   \n",
            " 34  방송일시_mmmm_2          28150 non-null  int64   \n",
            " 35  방송일시_mmmm_3          28150 non-null  int64   \n",
            " 36  방송일시_dow2            28150 non-null  category\n",
            " 37  new_상품명              28150 non-null  object  \n",
            " 38  상품명_brand            28150 non-null  object  \n",
            " 39  review_counts        28150 non-null  int64   \n",
            " 40  internet_price       28150 non-null  int64   \n",
            " 41  price_minus          28150 non-null  int64   \n",
            " 42  search_naver         28150 non-null  int64   \n",
            " 43  temperature          28150 non-null  float64 \n",
            " 44  encoding_상품명:        28150 non-null  int64   \n",
            " 45  encoding_상품군:        28150 non-null  int64   \n",
            " 46  encoding_상품명_brand:  28150 non-null  int64   \n",
            " 47  encoding_cat1:       28150 non-null  int64   \n",
            " 48  encoding_cat2:       28150 non-null  int64   \n",
            " 49  encoding_cat3:       28150 non-null  int64   \n",
            " 50  encoding_new_상품명:    28150 non-null  int64   \n",
            "dtypes: category(13), float64(8), int16(2), int32(2), int64(17), object(9)\n",
            "memory usage: 8.3+ MB\n"
          ],
          "name": "stdout"
        }
      ]
    },
    {
      "cell_type": "code",
      "metadata": {
        "id": "C0xC7cI8BRXK",
        "colab_type": "code",
        "colab": {}
      },
      "source": [
        "# rating_mean 은 일단 제외하고 학습합니다.\n",
        "# 변수 순서가 바뀌면 점수가 바뀝니다.\n",
        "\n",
        "X_train = train_[['노출(분)', '마더코드', '상품코드', '판매단가','cast_time', 'cast_count', 'cast_time_sum', 'cast_count_sum', 'cast_time_ratio','fake_weight',\n",
        "       '상품명_plan', '상품명_add', '상품명_maker',\n",
        "       '상품명_set', '상품명_sex', '방송일시_dow', '방송일시_MM', '방송일시_DD', '방송일시_hh',\n",
        "       '방송일시_mm', '방송일시_MMDD', '방송일시_DDhh', '방송일시_hhmm', '방송일시_mmmm_1',\n",
        "       '방송일시_mmmm_2', '방송일시_mmmm_3', '방송일시_dow2', 'review_counts', 'price_minus', 'search_naver', 'temperature',\n",
        "       'encoding_상품명:', 'encoding_상품군:', 'encoding_상품명_brand:',\n",
        "       'encoding_cat1:', 'encoding_cat2:', 'encoding_cat3:','fake_weight2',\n",
        "       'encoding_new_상품명:']].values \n",
        "y_train = train_['취급액'].values\n",
        "X_test = test_[['노출(분)', '마더코드', '상품코드', '판매단가','cast_time', 'cast_count', 'cast_time_sum', 'cast_count_sum','cast_time_ratio','fake_weight',\n",
        "       '상품명_plan', '상품명_add', '상품명_maker',\n",
        "       '상품명_set', '상품명_sex', '방송일시_dow', '방송일시_MM', '방송일시_DD', '방송일시_hh',\n",
        "       '방송일시_mm', '방송일시_MMDD', '방송일시_DDhh', '방송일시_hhmm', '방송일시_mmmm_1',\n",
        "       '방송일시_mmmm_2', '방송일시_mmmm_3', '방송일시_dow2', 'review_counts', 'price_minus', 'search_naver','temperature',\n",
        "       'encoding_상품명:', 'encoding_상품군:', 'encoding_상품명_brand:',\n",
        "       'encoding_cat1:', 'encoding_cat2:', 'encoding_cat3:','fake_weight2',\n",
        "      'encoding_new_상품명:']].values \n",
        "y_test = test_['취급액'].values"
      ],
      "execution_count": null,
      "outputs": []
    },
    {
      "cell_type": "code",
      "metadata": {
        "id": "ZcROW_DaBTKl",
        "colab_type": "code",
        "colab": {}
      },
      "source": [
        "y_train_log = np.log(y_train)\n",
        "\n",
        "# np.exp(1)**np.log(10)"
      ],
      "execution_count": null,
      "outputs": []
    },
    {
      "cell_type": "code",
      "metadata": {
        "id": "Q4RuY8VuBUfH",
        "colab_type": "code",
        "colab": {}
      },
      "source": [
        "# 로그 표준화한 값을 학습(예측용)\n",
        "rf = RandomForestRegressor(n_jobs=3, random_state=592)\n",
        "rf.fit(X_train, y_train_log)\n",
        "pred_log = rf.predict(X_test)"
      ],
      "execution_count": null,
      "outputs": []
    },
    {
      "cell_type": "code",
      "metadata": {
        "id": "IawVyHDvBVj5",
        "colab_type": "code",
        "colab": {}
      },
      "source": [
        "def mape(y_true, y_pred):\n",
        "    assert len(y_true) == len(y_pred)\n",
        "    y_true, y_pred = np.array(y_true), np.array(y_pred)\n",
        "    return np.mean(np.abs((y_true - y_pred) / y_true)) * 100\n",
        "\n",
        "pred_log_T = np.exp(1)**pred_log"
      ],
      "execution_count": null,
      "outputs": []
    },
    {
      "cell_type": "code",
      "metadata": {
        "id": "acDH1Bb8BWxz",
        "colab_type": "code",
        "colab": {
          "base_uri": "https://localhost:8080/",
          "height": 35
        },
        "outputId": "5e9fc4c0-2bab-4c60-d3c1-4cc342e9f631"
      },
      "source": [
        "mape(y_test, pred_log_T)"
      ],
      "execution_count": null,
      "outputs": [
        {
          "output_type": "execute_result",
          "data": {
            "text/plain": [
              "33.61818596472667"
            ]
          },
          "metadata": {
            "tags": []
          },
          "execution_count": 40
        }
      ]
    },
    {
      "cell_type": "code",
      "metadata": {
        "id": "o32YeMQ9BXw_",
        "colab_type": "code",
        "colab": {
          "base_uri": "https://localhost:8080/",
          "height": 620
        },
        "outputId": "ee4f7fae-99f5-415f-a69a-b4e5a8606864"
      },
      "source": [
        "features = ['노출(분)', '마더코드', '상품코드', '판매단가','cast_time', 'cast_count', 'cast_time_sum', 'cast_count_sum','cast_time_ratio', 'fake_weight',\n",
        "       '상품명_plan', '상품명_add', '상품명_maker',\n",
        "       '상품명_set', '상품명_sex', '방송일시_dow', '방송일시_MM', '방송일시_DD', '방송일시_hh',\n",
        "       '방송일시_mm', '방송일시_MMDD', '방송일시_DDhh', '방송일시_hhmm', '방송일시_mmmm_1',\n",
        "       '방송일시_mmmm_2', '방송일시_mmmm_3', '방송일시_dow2','review_counts','price_minus', 'search_naver', 'temperature',\n",
        "       'encoding_상품명:', 'encoding_상품군:', 'encoding_상품명_brand:',\n",
        "       'encoding_cat1:', 'encoding_cat2:', 'encoding_cat3:','fake_weight2',\n",
        "       'encoding_new_상품명:']\n",
        "importances = rf.feature_importances_\n",
        "indices = np.argsort(importances)\n",
        "\n",
        "plt.figure(figsize=(18,10))\n",
        "plt.title('Feature Importances')\n",
        "plt.barh(range(len(indices)), importances[indices], color='b', align='center')\n",
        "plt.yticks(range(len(indices)), [features[i] for i in indices])\n",
        "plt.xlabel('얼마나 중요하냐?')\n",
        "plt.show()"
      ],
      "execution_count": null,
      "outputs": [
        {
          "output_type": "display_data",
          "data": {
            "image/png": "[encoded data removed]",
            "text/plain": [
              "<Figure size 1296x720 with 1 Axes>"
            ]
          },
          "metadata": {
            "tags": [],
            "needs_background": "light"
          }
        }
      ]
    },
    {
      "cell_type": "code",
      "metadata": {
        "id": "J7LsBftmBY2A",
        "colab_type": "code",
        "colab": {}
      },
      "source": [
        ""
      ],
      "execution_count": null,
      "outputs": []
    },
    {
      "cell_type": "code",
      "metadata": {
        "id": "BHlNvGlBD4Ht",
        "colab_type": "code",
        "colab": {}
      },
      "source": [
        ""
      ],
      "execution_count": null,
      "outputs": []
    },
    {
      "cell_type": "code",
      "metadata": {
        "id": "SCs4cgnGD4PM",
        "colab_type": "code",
        "colab": {}
      },
      "source": [
        ""
      ],
      "execution_count": null,
      "outputs": []
    },
    {
      "cell_type": "code",
      "metadata": {
        "id": "OsetpAylD4NE",
        "colab_type": "code",
        "colab": {}
      },
      "source": [
        ""
      ],
      "execution_count": null,
      "outputs": []
    },
    {
      "cell_type": "code",
      "metadata": {
        "id": "P-5IOI6-D4Fe",
        "colab_type": "code",
        "colab": {}
      },
      "source": [
        ""
      ],
      "execution_count": null,
      "outputs": []
    },
    {
      "cell_type": "code",
      "metadata": {
        "id": "TACUIUa1D4Dj",
        "colab_type": "code",
        "colab": {}
      },
      "source": [
        ""
      ],
      "execution_count": null,
      "outputs": []
    },
    {
      "cell_type": "code",
      "metadata": {
        "id": "nVcr-RxvD4BS",
        "colab_type": "code",
        "colab": {}
      },
      "source": [
        ""
      ],
      "execution_count": null,
      "outputs": []
    },
    {
      "cell_type": "code",
      "metadata": {
        "id": "uJLvFLBrBcgV",
        "colab_type": "code",
        "colab": {}
      },
      "source": [
        ""
      ],
      "execution_count": null,
      "outputs": []
    },
    {
      "cell_type": "code",
      "metadata": {
        "id": "jIrRp-bIBci1",
        "colab_type": "code",
        "colab": {
          "base_uri": "https://localhost:8080/",
          "height": 35
        },
        "outputId": "9e06c2e6-7987-4dbb-e016-99f9c12b4561"
      },
      "source": [
        "train.shape"
      ],
      "execution_count": null,
      "outputs": [
        {
          "output_type": "execute_result",
          "data": {
            "text/plain": [
              "(35379, 44)"
            ]
          },
          "metadata": {
            "tags": []
          },
          "execution_count": 42
        }
      ]
    },
    {
      "cell_type": "code",
      "metadata": {
        "id": "DgTTTwkXBgdr",
        "colab_type": "code",
        "colab": {
          "base_uri": "https://localhost:8080/",
          "height": 307
        },
        "outputId": "c4f2f38e-a769-41ec-f392-71bcc85a5de6"
      },
      "source": [
        "tmp = train[['방송일시','취급액']]\n",
        "tmp['방송일시'] = tmp['방송일시'].apply(lambda x: x[:-9])\n",
        "tmp.groupby('방송일시').sum()[['취급액']].plot()"
      ],
      "execution_count": null,
      "outputs": [
        {
          "output_type": "execute_result",
          "data": {
            "text/plain": [
              "<matplotlib.axes._subplots.AxesSubplot at 0x7fd95e97be10>"
            ]
          },
          "metadata": {
            "tags": []
          },
          "execution_count": 43
        },
        {
          "output_type": "display_data",
          "data": {
            "image/png": "[encoded data removed]",
            "text/plain": [
              "<Figure size 432x288 with 1 Axes>"
            ]
          },
          "metadata": {
            "tags": [],
            "needs_background": "light"
          }
        }
      ]
    },
    {
      "cell_type": "code",
      "metadata": {
        "id": "ZmkvuKe3Bne9",
        "colab_type": "code",
        "colab": {
          "base_uri": "https://localhost:8080/",
          "height": 204
        },
        "outputId": "43a59d6c-735d-4c1b-cab4-32b20f87a589"
      },
      "source": [
        "kospi = pd.read_csv('/gdrive/My Drive/코스피지수 내역.csv')\n",
        "kospi.head()"
      ],
      "execution_count": null,
      "outputs": [
        {
          "output_type": "execute_result",
          "data": {
            "text/html": [
              "<div>\n",
              "<style scoped>\n",
              "    .dataframe tbody tr th:only-of-type {\n",
              "        vertical-align: middle;\n",
              "    }\n",
              "\n",
              "    .dataframe tbody tr th {\n",
              "        vertical-align: top;\n",
              "    }\n",
              "\n",
              "    .dataframe thead th {\n",
              "        text-align: right;\n",
              "    }\n",
              "</style>\n",
              "<table border=\"1\" class=\"dataframe\">\n",
              "  <thead>\n",
              "    <tr style=\"text-align: right;\">\n",
              "      <th></th>\n",
              "      <th>날짜</th>\n",
              "      <th>종가</th>\n",
              "      <th>오픈</th>\n",
              "      <th>고가</th>\n",
              "      <th>저가</th>\n",
              "      <th>거래량</th>\n",
              "      <th>변동 %</th>\n",
              "    </tr>\n",
              "  </thead>\n",
              "  <tbody>\n",
              "    <tr>\n",
              "      <th>0</th>\n",
              "      <td>2019년 12월 30일</td>\n",
              "      <td>2,197.67</td>\n",
              "      <td>2,202.62</td>\n",
              "      <td>2,208.04</td>\n",
              "      <td>2,195.65</td>\n",
              "      <td>416.40M</td>\n",
              "      <td>-0.30%</td>\n",
              "    </tr>\n",
              "    <tr>\n",
              "      <th>1</th>\n",
              "      <td>2019년 12월 27일</td>\n",
              "      <td>2,204.21</td>\n",
              "      <td>2,183.70</td>\n",
              "      <td>2,215.55</td>\n",
              "      <td>2,177.40</td>\n",
              "      <td>490.17M</td>\n",
              "      <td>0.29%</td>\n",
              "    </tr>\n",
              "    <tr>\n",
              "      <th>2</th>\n",
              "      <td>2019년 12월 26일</td>\n",
              "      <td>2,197.93</td>\n",
              "      <td>2,192.22</td>\n",
              "      <td>2,198.01</td>\n",
              "      <td>2,183.90</td>\n",
              "      <td>571.31M</td>\n",
              "      <td>0.36%</td>\n",
              "    </tr>\n",
              "    <tr>\n",
              "      <th>3</th>\n",
              "      <td>2019년 12월 24일</td>\n",
              "      <td>2,190.08</td>\n",
              "      <td>2,206.23</td>\n",
              "      <td>2,206.23</td>\n",
              "      <td>2,187.58</td>\n",
              "      <td>569.97M</td>\n",
              "      <td>-0.62%</td>\n",
              "    </tr>\n",
              "    <tr>\n",
              "      <th>4</th>\n",
              "      <td>2019년 12월 23일</td>\n",
              "      <td>2,203.71</td>\n",
              "      <td>2,208.22</td>\n",
              "      <td>2,209.20</td>\n",
              "      <td>2,196.43</td>\n",
              "      <td>502.03M</td>\n",
              "      <td>-0.02%</td>\n",
              "    </tr>\n",
              "  </tbody>\n",
              "</table>\n",
              "</div>"
            ],
            "text/plain": [
              "              날짜        종가        오픈        고가        저가      거래량    변동 %\n",
              "0  2019년 12월 30일  2,197.67  2,202.62  2,208.04  2,195.65  416.40M  -0.30%\n",
              "1  2019년 12월 27일  2,204.21  2,183.70  2,215.55  2,177.40  490.17M   0.29%\n",
              "2  2019년 12월 26일  2,197.93  2,192.22  2,198.01  2,183.90  571.31M   0.36%\n",
              "3  2019년 12월 24일  2,190.08  2,206.23  2,206.23  2,187.58  569.97M  -0.62%\n",
              "4  2019년 12월 23일  2,203.71  2,208.22  2,209.20  2,196.43  502.03M  -0.02%"
            ]
          },
          "metadata": {
            "tags": []
          },
          "execution_count": 44
        }
      ]
    },
    {
      "cell_type": "code",
      "metadata": {
        "id": "-tnWegBVB3Qv",
        "colab_type": "code",
        "colab": {}
      },
      "source": [
        "kospi = kospi[['날짜','변동 %']]"
      ],
      "execution_count": null,
      "outputs": []
    },
    {
      "cell_type": "code",
      "metadata": {
        "id": "YACH39twDTAk",
        "colab_type": "code",
        "colab": {
          "base_uri": "https://localhost:8080/",
          "height": 204
        },
        "outputId": "4fb8dbe7-c63e-44fc-b0e6-14b89efe9005"
      },
      "source": [
        "kospi['변동 %'] = kospi['변동 %'].apply(lambda x: x[:-1])\n",
        "kospi['변동 %'] = kospi['변동 %'].astype(float)\n",
        "kospi.head()"
      ],
      "execution_count": null,
      "outputs": [
        {
          "output_type": "execute_result",
          "data": {
            "text/html": [
              "<div>\n",
              "<style scoped>\n",
              "    .dataframe tbody tr th:only-of-type {\n",
              "        vertical-align: middle;\n",
              "    }\n",
              "\n",
              "    .dataframe tbody tr th {\n",
              "        vertical-align: top;\n",
              "    }\n",
              "\n",
              "    .dataframe thead th {\n",
              "        text-align: right;\n",
              "    }\n",
              "</style>\n",
              "<table border=\"1\" class=\"dataframe\">\n",
              "  <thead>\n",
              "    <tr style=\"text-align: right;\">\n",
              "      <th></th>\n",
              "      <th>날짜</th>\n",
              "      <th>변동 %</th>\n",
              "    </tr>\n",
              "  </thead>\n",
              "  <tbody>\n",
              "    <tr>\n",
              "      <th>0</th>\n",
              "      <td>2019년 12월 30일</td>\n",
              "      <td>-0.30</td>\n",
              "    </tr>\n",
              "    <tr>\n",
              "      <th>1</th>\n",
              "      <td>2019년 12월 27일</td>\n",
              "      <td>0.29</td>\n",
              "    </tr>\n",
              "    <tr>\n",
              "      <th>2</th>\n",
              "      <td>2019년 12월 26일</td>\n",
              "      <td>0.36</td>\n",
              "    </tr>\n",
              "    <tr>\n",
              "      <th>3</th>\n",
              "      <td>2019년 12월 24일</td>\n",
              "      <td>-0.62</td>\n",
              "    </tr>\n",
              "    <tr>\n",
              "      <th>4</th>\n",
              "      <td>2019년 12월 23일</td>\n",
              "      <td>-0.02</td>\n",
              "    </tr>\n",
              "  </tbody>\n",
              "</table>\n",
              "</div>"
            ],
            "text/plain": [
              "              날짜  변동 %\n",
              "0  2019년 12월 30일 -0.30\n",
              "1  2019년 12월 27일  0.29\n",
              "2  2019년 12월 26일  0.36\n",
              "3  2019년 12월 24일 -0.62\n",
              "4  2019년 12월 23일 -0.02"
            ]
          },
          "metadata": {
            "tags": []
          },
          "execution_count": 46
        }
      ]
    },
    {
      "cell_type": "code",
      "metadata": {
        "id": "hD13fqqGDiRI",
        "colab_type": "code",
        "colab": {
          "base_uri": "https://localhost:8080/",
          "height": 283
        },
        "outputId": "23e4dccf-76fe-4e75-d276-26897c68e352"
      },
      "source": [
        "kospi.sort_values(by='날짜', ascending = True).plot()"
      ],
      "execution_count": null,
      "outputs": [
        {
          "output_type": "execute_result",
          "data": {
            "text/plain": [
              "<matplotlib.axes._subplots.AxesSubplot at 0x7fd95ee04e10>"
            ]
          },
          "metadata": {
            "tags": []
          },
          "execution_count": 47
        },
        {
          "output_type": "display_data",
          "data": {
            "image/png": "[encoded data removed]",
            "text/plain": [
              "<Figure size 432x288 with 1 Axes>"
            ]
          },
          "metadata": {
            "tags": [],
            "needs_background": "light"
          }
        }
      ]
    },
    {
      "cell_type": "code",
      "metadata": {
        "id": "3opKTbcEFaJ7",
        "colab_type": "code",
        "colab": {
          "base_uri": "https://localhost:8080/",
          "height": 35
        },
        "outputId": "9b6be6e4-c275-425d-aae1-bc8914424c7d"
      },
      "source": [
        "kospi['날짜'][200][6:12]"
      ],
      "execution_count": null,
      "outputs": [
        {
          "output_type": "execute_result",
          "data": {
            "application/vnd.google.colaboratory.intrinsic+json": {
              "type": "string"
            },
            "text/plain": [
              "'03월 12'"
            ]
          },
          "metadata": {
            "tags": []
          },
          "execution_count": 48
        }
      ]
    },
    {
      "cell_type": "code",
      "metadata": {
        "id": "XmlnsFAxDpg9",
        "colab_type": "code",
        "colab": {
          "base_uri": "https://localhost:8080/",
          "height": 204
        },
        "outputId": "ebb18b0b-50f1-490f-befc-7fe030fdc847"
      },
      "source": [
        "kospi['날짜'] = kospi['날짜'].apply(lambda x: x[6:12])\n",
        "kospi['날짜'] = kospi['날짜'].apply(lambda x: x.replace('월 ',''))\n",
        "kospi.head()"
      ],
      "execution_count": null,
      "outputs": [
        {
          "output_type": "execute_result",
          "data": {
            "text/html": [
              "<div>\n",
              "<style scoped>\n",
              "    .dataframe tbody tr th:only-of-type {\n",
              "        vertical-align: middle;\n",
              "    }\n",
              "\n",
              "    .dataframe tbody tr th {\n",
              "        vertical-align: top;\n",
              "    }\n",
              "\n",
              "    .dataframe thead th {\n",
              "        text-align: right;\n",
              "    }\n",
              "</style>\n",
              "<table border=\"1\" class=\"dataframe\">\n",
              "  <thead>\n",
              "    <tr style=\"text-align: right;\">\n",
              "      <th></th>\n",
              "      <th>날짜</th>\n",
              "      <th>변동 %</th>\n",
              "    </tr>\n",
              "  </thead>\n",
              "  <tbody>\n",
              "    <tr>\n",
              "      <th>0</th>\n",
              "      <td>1230</td>\n",
              "      <td>-0.30</td>\n",
              "    </tr>\n",
              "    <tr>\n",
              "      <th>1</th>\n",
              "      <td>1227</td>\n",
              "      <td>0.29</td>\n",
              "    </tr>\n",
              "    <tr>\n",
              "      <th>2</th>\n",
              "      <td>1226</td>\n",
              "      <td>0.36</td>\n",
              "    </tr>\n",
              "    <tr>\n",
              "      <th>3</th>\n",
              "      <td>1224</td>\n",
              "      <td>-0.62</td>\n",
              "    </tr>\n",
              "    <tr>\n",
              "      <th>4</th>\n",
              "      <td>1223</td>\n",
              "      <td>-0.02</td>\n",
              "    </tr>\n",
              "  </tbody>\n",
              "</table>\n",
              "</div>"
            ],
            "text/plain": [
              "     날짜  변동 %\n",
              "0  1230 -0.30\n",
              "1  1227  0.29\n",
              "2  1226  0.36\n",
              "3  1224 -0.62\n",
              "4  1223 -0.02"
            ]
          },
          "metadata": {
            "tags": []
          },
          "execution_count": 49
        }
      ]
    },
    {
      "cell_type": "code",
      "metadata": {
        "id": "Dy-O7xA6FMZ2",
        "colab_type": "code",
        "colab": {}
      },
      "source": [
        "train = pd.merge(train, kospi, left_on = '방송일시_MMDD',right_on = '날짜',how='left')\n",
        "del train['날짜']\n"
      ],
      "execution_count": null,
      "outputs": []
    },
    {
      "cell_type": "code",
      "metadata": {
        "id": "T8ZC-pt9H2uq",
        "colab_type": "code",
        "colab": {}
      },
      "source": [
        "train['변동 %'] =train['변동 %'].fillna(0)"
      ],
      "execution_count": null,
      "outputs": []
    },
    {
      "cell_type": "code",
      "metadata": {
        "id": "_W5oCYtCF4NH",
        "colab_type": "code",
        "colab": {
          "base_uri": "https://localhost:8080/",
          "height": 35
        },
        "outputId": "f9fe2f5a-51a6-43e0-da8e-1c5b68ca753d"
      },
      "source": [
        "train.shape"
      ],
      "execution_count": null,
      "outputs": [
        {
          "output_type": "execute_result",
          "data": {
            "text/plain": [
              "(35379, 45)"
            ]
          },
          "metadata": {
            "tags": []
          },
          "execution_count": 52
        }
      ]
    },
    {
      "cell_type": "code",
      "metadata": {
        "colab_type": "code",
        "id": "FpJufXOkHSnz",
        "colab": {
          "base_uri": "https://localhost:8080/",
          "height": 53
        },
        "outputId": "cb3688c9-d2a5-43ac-b48d-358d00dc0f47"
      },
      "source": [
        "train_, test_ = train_test_split(train, test_size=0.2, random_state=529)\n",
        "\n",
        "#train_ = train[train.방송일시_MM != '07']\n",
        "#test_ = train[train.방송일시_MM == '07']\n",
        "print(train_.shape)\n",
        "print(test_.shape)"
      ],
      "execution_count": null,
      "outputs": [
        {
          "output_type": "stream",
          "text": [
            "(28303, 45)\n",
            "(7076, 45)\n"
          ],
          "name": "stdout"
        }
      ]
    },
    {
      "cell_type": "code",
      "metadata": {
        "colab_type": "code",
        "id": "DbVo_tCxHSoB",
        "colab": {
          "base_uri": "https://localhost:8080/",
          "height": 35
        },
        "outputId": "69ed3c27-3653-4bf7-b858-3a8e6834fa9a"
      },
      "source": [
        "# train 셋의 아웃라이어를 제거해봅니다...\n",
        "\n",
        "train_ = train_[train_.취급액 < 100000000]\n",
        "train_.shape"
      ],
      "execution_count": null,
      "outputs": [
        {
          "output_type": "execute_result",
          "data": {
            "text/plain": [
              "(28150, 45)"
            ]
          },
          "metadata": {
            "tags": []
          },
          "execution_count": 54
        }
      ]
    },
    {
      "cell_type": "code",
      "metadata": {
        "colab_type": "code",
        "id": "Qj09g0SoHSoJ",
        "colab": {}
      },
      "source": [
        "# 라벨인코딩 숫자가 많아지니 함수로 만들어버립니다.\n",
        "\n",
        "def label_encoding(train_, test_, columns, number):\n",
        "  length = range(number)\n",
        "  for c, i in zip(columns, length):\n",
        "    # 라벨인코더 피팅\n",
        "    globals()['encoder_{}:'.format(i)] = LabelEncoder()\n",
        "    globals()['encoder_{}:'.format(i)].fit(train_[c].values)\n",
        "        \n",
        "    # 트레인셋에 트랜스폼\n",
        "    train_['encoding_{}:'.format(c)] = globals()['encoder_{}:'.format(i)].transform(train_[c])\n",
        "        \n",
        "    # 테스트셋에 트랜스폼\n",
        "    for label in np.unique(test_[c]):\n",
        "      if label not in globals()['encoder_{}:'.format(i)].classes_: # unseen label 데이터인 경우( )\n",
        "        globals()['encoder_{}:'.format(i)].classes_ = np.append(globals()['encoder_{}:'.format(i)].classes_, label) # 미처리 시 ValueError발생\n",
        "    test_['encoding_{}:'.format(c)] = globals()['encoder_{}:'.format(i)].transform(test_[c])"
      ],
      "execution_count": null,
      "outputs": []
    },
    {
      "cell_type": "code",
      "metadata": {
        "colab_type": "code",
        "id": "boqBYi9JHSoP",
        "colab": {
          "base_uri": "https://localhost:8080/",
          "height": 1000
        },
        "outputId": "f5e75d05-bb5d-47e1-fb07-ef099121bc86"
      },
      "source": [
        "# 인코딩할 컬럼을 리스트로 넣어줍니다.\n",
        "columns = ['상품명', '상품군', '상품명_brand', 'cat1', 'cat2', 'cat3', 'new_상품명']\n",
        "number = len(columns)\n",
        "\n",
        "# 함수로 바로 처리.\n",
        "label_encoding(train_, test_, columns, number)\n",
        "train_.info()"
      ],
      "execution_count": null,
      "outputs": [
        {
          "output_type": "stream",
          "text": [
            "<class 'pandas.core.frame.DataFrame'>\n",
            "Int64Index: 28150 entries, 17937 to 6025\n",
            "Data columns (total 52 columns):\n",
            " #   Column               Non-Null Count  Dtype   \n",
            "---  ------               --------------  -----   \n",
            " 0   방송일시                 28150 non-null  object  \n",
            " 1   노출(분)                28150 non-null  float64 \n",
            " 2   마더코드                 28150 non-null  int64   \n",
            " 3   상품코드                 28150 non-null  int64   \n",
            " 4   상품명                  28150 non-null  object  \n",
            " 5   상품군                  28150 non-null  object  \n",
            " 6   판매단가                 28150 non-null  int32   \n",
            " 7   취급액                  28150 non-null  int32   \n",
            " 8   cast_time            28150 non-null  float64 \n",
            " 9   cast_count           28150 non-null  int16   \n",
            " 10  cast_time_sum        28150 non-null  float64 \n",
            " 11  cast_count_sum       28150 non-null  float64 \n",
            " 12  cast_time_ratio      28150 non-null  float64 \n",
            " 13  상품명_plan             28150 non-null  category\n",
            " 14  상품명_add              28150 non-null  category\n",
            " 15  상품명_maker            28150 non-null  category\n",
            " 16  상품명_set              28150 non-null  category\n",
            " 17  상품명_sex              28150 non-null  category\n",
            " 18  fake_weight          28150 non-null  int64   \n",
            " 19  fake_weight2         28150 non-null  float64 \n",
            " 20  ratings_mean         28150 non-null  float64 \n",
            " 21  cat1                 28150 non-null  object  \n",
            " 22  cat2                 28150 non-null  object  \n",
            " 23  cat3                 28150 non-null  object  \n",
            " 24  방송일시_dow             28150 non-null  int16   \n",
            " 25  방송일시_MM              28150 non-null  category\n",
            " 26  방송일시_DD              28150 non-null  category\n",
            " 27  방송일시_hh              28150 non-null  category\n",
            " 28  방송일시_mm              28150 non-null  category\n",
            " 29  방송일시_MMDD            28150 non-null  object  \n",
            " 30  방송일시_DDhh            28150 non-null  category\n",
            " 31  방송일시_hhmm            28150 non-null  category\n",
            " 32  방송일시_MMDDhh          28150 non-null  object  \n",
            " 33  방송일시_mmmm_1          28150 non-null  int64   \n",
            " 34  방송일시_mmmm_2          28150 non-null  int64   \n",
            " 35  방송일시_mmmm_3          28150 non-null  int64   \n",
            " 36  방송일시_dow2            28150 non-null  category\n",
            " 37  new_상품명              28150 non-null  object  \n",
            " 38  상품명_brand            28150 non-null  object  \n",
            " 39  review_counts        28150 non-null  int64   \n",
            " 40  internet_price       28150 non-null  int64   \n",
            " 41  price_minus          28150 non-null  int64   \n",
            " 42  search_naver         28150 non-null  int64   \n",
            " 43  temperature          28150 non-null  float64 \n",
            " 44  변동 %                 28150 non-null  float64 \n",
            " 45  encoding_상품명:        28150 non-null  int64   \n",
            " 46  encoding_상품군:        28150 non-null  int64   \n",
            " 47  encoding_상품명_brand:  28150 non-null  int64   \n",
            " 48  encoding_cat1:       28150 non-null  int64   \n",
            " 49  encoding_cat2:       28150 non-null  int64   \n",
            " 50  encoding_cat3:       28150 non-null  int64   \n",
            " 51  encoding_new_상품명:    28150 non-null  int64   \n",
            "dtypes: category(12), float64(9), int16(2), int32(2), int64(17), object(10)\n",
            "memory usage: 8.7+ MB\n"
          ],
          "name": "stdout"
        }
      ]
    },
    {
      "cell_type": "code",
      "metadata": {
        "colab_type": "code",
        "id": "sagziGvdHSoa",
        "colab": {}
      },
      "source": [
        "# rating_mean 은 일단 제외하고 학습합니다.\n",
        "# 변수 순서가 바뀌면 점수가 바뀝니다.\n",
        "\n",
        "X_train = train_[['노출(분)', '마더코드', '상품코드', '판매단가','cast_time', 'cast_count', 'cast_time_sum', 'cast_count_sum', 'cast_time_ratio','fake_weight',\n",
        "       '상품명_plan', '상품명_add', '상품명_maker',\n",
        "       '상품명_set', '상품명_sex', '방송일시_dow', '방송일시_MM', '방송일시_DD', '방송일시_hh',\n",
        "       '방송일시_mm', '방송일시_MMDD', '방송일시_DDhh', '방송일시_hhmm', '방송일시_mmmm_1',\n",
        "       '방송일시_mmmm_2', '방송일시_mmmm_3', '방송일시_dow2', 'review_counts', 'price_minus', 'search_naver', 'temperature',\n",
        "       'encoding_상품명:', 'encoding_상품군:', 'encoding_상품명_brand:',\n",
        "       'encoding_cat1:', 'encoding_cat2:', 'encoding_cat3:','fake_weight2',\n",
        "       'encoding_new_상품명:','변동 %']].values \n",
        "y_train = train_['취급액'].values\n",
        "X_test = test_[['노출(분)', '마더코드', '상품코드', '판매단가','cast_time', 'cast_count', 'cast_time_sum', 'cast_count_sum','cast_time_ratio','fake_weight',\n",
        "       '상품명_plan', '상품명_add', '상품명_maker',\n",
        "       '상품명_set', '상품명_sex', '방송일시_dow', '방송일시_MM', '방송일시_DD', '방송일시_hh',\n",
        "       '방송일시_mm', '방송일시_MMDD', '방송일시_DDhh', '방송일시_hhmm', '방송일시_mmmm_1',\n",
        "       '방송일시_mmmm_2', '방송일시_mmmm_3', '방송일시_dow2', 'review_counts', 'price_minus', 'search_naver','temperature',\n",
        "       'encoding_상품명:', 'encoding_상품군:', 'encoding_상품명_brand:',\n",
        "       'encoding_cat1:', 'encoding_cat2:', 'encoding_cat3:','fake_weight2',\n",
        "      'encoding_new_상품명:','변동 %']].values \n",
        "y_test = test_['취급액'].values"
      ],
      "execution_count": null,
      "outputs": []
    },
    {
      "cell_type": "code",
      "metadata": {
        "colab_type": "code",
        "id": "_Sr0MJCrHSoi",
        "colab": {}
      },
      "source": [
        "y_train_log = np.log(y_train)\n",
        "\n",
        "# np.exp(1)**np.log(10)"
      ],
      "execution_count": null,
      "outputs": []
    },
    {
      "cell_type": "code",
      "metadata": {
        "colab_type": "code",
        "id": "eIM5MPzNHSoo",
        "colab": {}
      },
      "source": [
        "# 로그 표준화한 값을 학습(예측용)\n",
        "rf = RandomForestRegressor(n_jobs=3, random_state=592)\n",
        "rf.fit(X_train, y_train_log)\n",
        "pred_log = rf.predict(X_test)"
      ],
      "execution_count": null,
      "outputs": []
    },
    {
      "cell_type": "code",
      "metadata": {
        "colab_type": "code",
        "id": "N9eorLRGHSox",
        "colab": {}
      },
      "source": [
        "def mape(y_true, y_pred):\n",
        "    assert len(y_true) == len(y_pred)\n",
        "    y_true, y_pred = np.array(y_true), np.array(y_pred)\n",
        "    return np.mean(np.abs((y_true - y_pred) / y_true)) * 100\n",
        "\n",
        "pred_log_T = np.exp(1)**pred_log"
      ],
      "execution_count": null,
      "outputs": []
    },
    {
      "cell_type": "code",
      "metadata": {
        "colab_type": "code",
        "id": "3Qkuh4O4HSo4",
        "colab": {
          "base_uri": "https://localhost:8080/",
          "height": 35
        },
        "outputId": "af3efe0e-b982-49d7-ccb2-67d477825620"
      },
      "source": [
        "mape(y_test, pred_log_T)"
      ],
      "execution_count": null,
      "outputs": [
        {
          "output_type": "execute_result",
          "data": {
            "text/plain": [
              "33.52511384237675"
            ]
          },
          "metadata": {
            "tags": []
          },
          "execution_count": 61
        }
      ]
    },
    {
      "cell_type": "code",
      "metadata": {
        "colab_type": "code",
        "id": "yLTrFLFQHSpA",
        "colab": {
          "base_uri": "https://localhost:8080/",
          "height": 620
        },
        "outputId": "a768c0f1-56a8-40c4-df42-8e88725e5db2"
      },
      "source": [
        "features = ['노출(분)', '마더코드', '상품코드', '판매단가','cast_time', 'cast_count', 'cast_time_sum', 'cast_count_sum','cast_time_ratio', 'fake_weight',\n",
        "       '상품명_plan', '상품명_add', '상품명_maker',\n",
        "       '상품명_set', '상품명_sex', '방송일시_dow', '방송일시_MM', '방송일시_DD', '방송일시_hh',\n",
        "       '방송일시_mm', '방송일시_MMDD', '방송일시_DDhh', '방송일시_hhmm', '방송일시_mmmm_1',\n",
        "       '방송일시_mmmm_2', '방송일시_mmmm_3', '방송일시_dow2','review_counts','price_minus', 'search_naver', 'temperature',\n",
        "       'encoding_상품명:', 'encoding_상품군:', 'encoding_상품명_brand:',\n",
        "       'encoding_cat1:', 'encoding_cat2:', 'encoding_cat3:','fake_weight2',\n",
        "       'encoding_new_상품명:','변동 %']\n",
        "importances = rf.feature_importances_\n",
        "indices = np.argsort(importances)\n",
        "\n",
        "plt.figure(figsize=(18,10))\n",
        "plt.title('Feature Importances')\n",
        "plt.barh(range(len(indices)), importances[indices], color='b', align='center')\n",
        "plt.yticks(range(len(indices)), [features[i] for i in indices])\n",
        "plt.xlabel('얼마나 중요하냐?')\n",
        "plt.show()"
      ],
      "execution_count": null,
      "outputs": [
        {
          "output_type": "display_data",
          "data": {
            "image/png": "[encoded data removed]",
            "text/plain": [
              "<Figure size 1296x720 with 1 Axes>"
            ]
          },
          "metadata": {
            "tags": [],
            "needs_background": "light"
          }
        }
      ]
    },
    {
      "cell_type": "code",
      "metadata": {
        "id": "1QYL_MCHd1Gu",
        "colab_type": "code",
        "colab": {}
      },
      "source": [
        ""
      ],
      "execution_count": null,
      "outputs": []
    },
    {
      "cell_type": "code",
      "metadata": {
        "colab_type": "code",
        "id": "_bQmomr9Gp1p",
        "colab": {}
      },
      "source": [
        "# 같은 시간에 방송한거 same 이름으로 묶어줌\n",
        "train['same'] = 1\n",
        "for i in range(1,len(train)):\n",
        "  if train['cast_count'][i] == train['cast_count'][i-1]:\n",
        "    train['same'][i] = train['same'][i-1]\n",
        "  else:\n",
        "    train['same'][i] = train['same'][i-1] + 1"
      ],
      "execution_count": null,
      "outputs": []
    },
    {
      "cell_type": "code",
      "metadata": {
        "colab_type": "code",
        "id": "opymqlAeGp1s",
        "colab": {}
      },
      "source": [
        "# 같은 시간에 여러 품목 방송했는지 알기 위해 cast_count_com 변수 새로 생성\n",
        "train = pd.merge(train, train.groupby('same').sum().reset_index()[['same','cast_count']], on ='same', how='left')\n",
        "train.rename({'cast_count_x':'cast_count', 'cast_count_y':'cast_count_com'}, axis=1, inplace= True)"
      ],
      "execution_count": null,
      "outputs": []
    },
    {
      "cell_type": "code",
      "metadata": {
        "id": "xjpnjzxxbI82",
        "colab_type": "code",
        "colab": {}
      },
      "source": [
        "# 최종 비교 위해 com 또 생성\n",
        "train['com'] = train['cast_count'] - train['cast_count_com']"
      ],
      "execution_count": null,
      "outputs": []
    },
    {
      "cell_type": "code",
      "metadata": {
        "id": "NIA90m4UaGLx",
        "colab_type": "code",
        "colab": {}
      },
      "source": [
        "# 같은 방송 여러 품목에 fw라는 순번을 붙여줌\n",
        "tmp = train.copy()\n",
        "tmp = tmp[tmp['com'] != 0]\n",
        "tmp.reset_index(drop=True, inplace=True)\n",
        "tmp['fw'] = 1\n",
        "for i in range(1, len(tmp)):\n",
        "  if tmp['same'][i] == tmp['same'][i-1]:\n",
        "    tmp['fw'][i] = tmp['fw'][i-1]+1\n",
        "  else:\n",
        "    pass"
      ],
      "execution_count": null,
      "outputs": []
    },
    {
      "cell_type": "code",
      "metadata": {
        "id": "YJQkZ5HbcFSB",
        "colab_type": "code",
        "colab": {
          "base_uri": "https://localhost:8080/",
          "height": 303
        },
        "outputId": "3d92a295-56bc-407e-e79d-27f0feb4a5af"
      },
      "source": [
        "# 그림으로 순번별 취급액 차이 파악\n",
        "tmp.drop(['상품군','cat1','cat2','cat3','new_상품명'],axis=1).groupby('fw').mean()[['취급액']].plot(kind='bar')"
      ],
      "execution_count": null,
      "outputs": [
        {
          "output_type": "execute_result",
          "data": {
            "text/plain": [
              "<matplotlib.axes._subplots.AxesSubplot at 0x7fd95f2305f8>"
            ]
          },
          "metadata": {
            "tags": []
          },
          "execution_count": 107
        },
        {
          "output_type": "display_data",
          "data": {
            "image/png": "[encoded data removed]",
            "text/plain": [
              "<Figure size 432x288 with 1 Axes>"
            ]
          },
          "metadata": {
            "tags": [],
            "needs_background": "light"
          }
        }
      ]
    },
    {
      "cell_type": "code",
      "metadata": {
        "id": "e_39V9PEelTM",
        "colab_type": "code",
        "colab": {
          "base_uri": "https://localhost:8080/",
          "height": 1000
        },
        "outputId": "94de04b8-5148-4e36-db24-27dee3b75937"
      },
      "source": [
        "tmp.head()"
      ],
      "execution_count": null,
      "outputs": [
        {
          "output_type": "execute_result",
          "data": {
            "text/html": [
              "<div>\n",
              "<style scoped>\n",
              "    .dataframe tbody tr th:only-of-type {\n",
              "        vertical-align: middle;\n",
              "    }\n",
              "\n",
              "    .dataframe tbody tr th {\n",
              "        vertical-align: top;\n",
              "    }\n",
              "\n",
              "    .dataframe thead th {\n",
              "        text-align: right;\n",
              "    }\n",
              "</style>\n",
              "<table border=\"1\" class=\"dataframe\">\n",
              "  <thead>\n",
              "    <tr style=\"text-align: right;\">\n",
              "      <th></th>\n",
              "      <th>방송일시</th>\n",
              "      <th>노출(분)</th>\n",
              "      <th>마더코드</th>\n",
              "      <th>상품코드</th>\n",
              "      <th>상품명</th>\n",
              "      <th>상품군</th>\n",
              "      <th>판매단가</th>\n",
              "      <th>취급액</th>\n",
              "      <th>cast_time</th>\n",
              "      <th>cast_count</th>\n",
              "      <th>cast_time_sum</th>\n",
              "      <th>cast_count_sum</th>\n",
              "      <th>cast_time_ratio</th>\n",
              "      <th>상품명_plan</th>\n",
              "      <th>상품명_add</th>\n",
              "      <th>상품명_maker</th>\n",
              "      <th>상품명_set</th>\n",
              "      <th>상품명_sex</th>\n",
              "      <th>fake_weight</th>\n",
              "      <th>fake_weight2</th>\n",
              "      <th>ratings_mean</th>\n",
              "      <th>cat1</th>\n",
              "      <th>cat2</th>\n",
              "      <th>cat3</th>\n",
              "      <th>방송일시_dow</th>\n",
              "      <th>방송일시_MM</th>\n",
              "      <th>방송일시_DD</th>\n",
              "      <th>방송일시_hh</th>\n",
              "      <th>방송일시_mm</th>\n",
              "      <th>방송일시_MMDD</th>\n",
              "      <th>방송일시_DDhh</th>\n",
              "      <th>방송일시_hhmm</th>\n",
              "      <th>방송일시_MMDDhh</th>\n",
              "      <th>방송일시_mmmm_1</th>\n",
              "      <th>방송일시_mmmm_2</th>\n",
              "      <th>방송일시_mmmm_3</th>\n",
              "      <th>방송일시_dow2</th>\n",
              "      <th>new_상품명</th>\n",
              "      <th>상품명_brand</th>\n",
              "      <th>review_counts</th>\n",
              "      <th>internet_price</th>\n",
              "      <th>price_minus</th>\n",
              "      <th>search_naver</th>\n",
              "      <th>temperature</th>\n",
              "      <th>변동 %</th>\n",
              "      <th>same</th>\n",
              "      <th>cast_count_com</th>\n",
              "      <th>com</th>\n",
              "      <th>fw</th>\n",
              "    </tr>\n",
              "  </thead>\n",
              "  <tbody>\n",
              "    <tr>\n",
              "      <th>0</th>\n",
              "      <td>2019-01-01 03:00:00</td>\n",
              "      <td>20.0</td>\n",
              "      <td>100346</td>\n",
              "      <td>201072</td>\n",
              "      <td>테이트 남성 셀린니트3종</td>\n",
              "      <td>의류</td>\n",
              "      <td>39900</td>\n",
              "      <td>2099000</td>\n",
              "      <td>20.0</td>\n",
              "      <td>1</td>\n",
              "      <td>60.0</td>\n",
              "      <td>3.0</td>\n",
              "      <td>0.333333</td>\n",
              "      <td>0</td>\n",
              "      <td>0</td>\n",
              "      <td>0</td>\n",
              "      <td>0</td>\n",
              "      <td>2</td>\n",
              "      <td>-1</td>\n",
              "      <td>0.0</td>\n",
              "      <td>0.002255</td>\n",
              "      <td>패션의류</td>\n",
              "      <td>남성의류</td>\n",
              "      <td>니트/스웨터</td>\n",
              "      <td>1</td>\n",
              "      <td>01</td>\n",
              "      <td>01</td>\n",
              "      <td>03</td>\n",
              "      <td>00</td>\n",
              "      <td>0101</td>\n",
              "      <td>0103</td>\n",
              "      <td>0300</td>\n",
              "      <td>010103</td>\n",
              "      <td>0</td>\n",
              "      <td>0</td>\n",
              "      <td>0</td>\n",
              "      <td>1</td>\n",
              "      <td>테이트 남성 셀린니트</td>\n",
              "      <td>테이</td>\n",
              "      <td>1</td>\n",
              "      <td>68510</td>\n",
              "      <td>-28610</td>\n",
              "      <td>1</td>\n",
              "      <td>-7.9</td>\n",
              "      <td>0.0</td>\n",
              "      <td>1</td>\n",
              "      <td>2</td>\n",
              "      <td>-1</td>\n",
              "      <td>1</td>\n",
              "    </tr>\n",
              "    <tr>\n",
              "      <th>1</th>\n",
              "      <td>2019-01-01 03:00:00</td>\n",
              "      <td>20.0</td>\n",
              "      <td>100346</td>\n",
              "      <td>201079</td>\n",
              "      <td>테이트 여성 셀린니트3종</td>\n",
              "      <td>의류</td>\n",
              "      <td>39900</td>\n",
              "      <td>4371000</td>\n",
              "      <td>20.0</td>\n",
              "      <td>1</td>\n",
              "      <td>60.0</td>\n",
              "      <td>3.0</td>\n",
              "      <td>0.333333</td>\n",
              "      <td>0</td>\n",
              "      <td>0</td>\n",
              "      <td>0</td>\n",
              "      <td>0</td>\n",
              "      <td>1</td>\n",
              "      <td>-1</td>\n",
              "      <td>0.0</td>\n",
              "      <td>0.002255</td>\n",
              "      <td>패션의류</td>\n",
              "      <td>여성의류</td>\n",
              "      <td>니트/스웨터</td>\n",
              "      <td>1</td>\n",
              "      <td>01</td>\n",
              "      <td>01</td>\n",
              "      <td>03</td>\n",
              "      <td>00</td>\n",
              "      <td>0101</td>\n",
              "      <td>0103</td>\n",
              "      <td>0300</td>\n",
              "      <td>010103</td>\n",
              "      <td>0</td>\n",
              "      <td>0</td>\n",
              "      <td>0</td>\n",
              "      <td>1</td>\n",
              "      <td>테이트 여성 셀린니트</td>\n",
              "      <td>테이</td>\n",
              "      <td>1</td>\n",
              "      <td>39110</td>\n",
              "      <td>790</td>\n",
              "      <td>1</td>\n",
              "      <td>-7.9</td>\n",
              "      <td>0.0</td>\n",
              "      <td>1</td>\n",
              "      <td>2</td>\n",
              "      <td>-1</td>\n",
              "      <td>2</td>\n",
              "    </tr>\n",
              "    <tr>\n",
              "      <th>2</th>\n",
              "      <td>2019-01-01 03:20:00</td>\n",
              "      <td>20.0</td>\n",
              "      <td>100346</td>\n",
              "      <td>201072</td>\n",
              "      <td>테이트 남성 셀린니트3종</td>\n",
              "      <td>의류</td>\n",
              "      <td>39900</td>\n",
              "      <td>3262000</td>\n",
              "      <td>40.0</td>\n",
              "      <td>2</td>\n",
              "      <td>60.0</td>\n",
              "      <td>3.0</td>\n",
              "      <td>0.666667</td>\n",
              "      <td>0</td>\n",
              "      <td>0</td>\n",
              "      <td>0</td>\n",
              "      <td>0</td>\n",
              "      <td>2</td>\n",
              "      <td>-1</td>\n",
              "      <td>0.0</td>\n",
              "      <td>0.002210</td>\n",
              "      <td>패션의류</td>\n",
              "      <td>남성의류</td>\n",
              "      <td>니트/스웨터</td>\n",
              "      <td>1</td>\n",
              "      <td>01</td>\n",
              "      <td>01</td>\n",
              "      <td>03</td>\n",
              "      <td>20</td>\n",
              "      <td>0101</td>\n",
              "      <td>0103</td>\n",
              "      <td>0320</td>\n",
              "      <td>010103</td>\n",
              "      <td>3600</td>\n",
              "      <td>3600</td>\n",
              "      <td>3600</td>\n",
              "      <td>1</td>\n",
              "      <td>테이트 남성 셀린니트</td>\n",
              "      <td>테이</td>\n",
              "      <td>1</td>\n",
              "      <td>68510</td>\n",
              "      <td>-28610</td>\n",
              "      <td>1</td>\n",
              "      <td>-7.9</td>\n",
              "      <td>0.0</td>\n",
              "      <td>2</td>\n",
              "      <td>4</td>\n",
              "      <td>-2</td>\n",
              "      <td>1</td>\n",
              "    </tr>\n",
              "    <tr>\n",
              "      <th>3</th>\n",
              "      <td>2019-01-01 03:20:00</td>\n",
              "      <td>20.0</td>\n",
              "      <td>100346</td>\n",
              "      <td>201079</td>\n",
              "      <td>테이트 여성 셀린니트3종</td>\n",
              "      <td>의류</td>\n",
              "      <td>39900</td>\n",
              "      <td>6955000</td>\n",
              "      <td>40.0</td>\n",
              "      <td>2</td>\n",
              "      <td>60.0</td>\n",
              "      <td>3.0</td>\n",
              "      <td>0.666667</td>\n",
              "      <td>0</td>\n",
              "      <td>0</td>\n",
              "      <td>0</td>\n",
              "      <td>0</td>\n",
              "      <td>1</td>\n",
              "      <td>-1</td>\n",
              "      <td>0.0</td>\n",
              "      <td>0.002210</td>\n",
              "      <td>패션의류</td>\n",
              "      <td>여성의류</td>\n",
              "      <td>니트/스웨터</td>\n",
              "      <td>1</td>\n",
              "      <td>01</td>\n",
              "      <td>01</td>\n",
              "      <td>03</td>\n",
              "      <td>20</td>\n",
              "      <td>0101</td>\n",
              "      <td>0103</td>\n",
              "      <td>0320</td>\n",
              "      <td>010103</td>\n",
              "      <td>3600</td>\n",
              "      <td>3600</td>\n",
              "      <td>3600</td>\n",
              "      <td>1</td>\n",
              "      <td>테이트 여성 셀린니트</td>\n",
              "      <td>테이</td>\n",
              "      <td>1</td>\n",
              "      <td>39110</td>\n",
              "      <td>790</td>\n",
              "      <td>1</td>\n",
              "      <td>-7.9</td>\n",
              "      <td>0.0</td>\n",
              "      <td>2</td>\n",
              "      <td>4</td>\n",
              "      <td>-2</td>\n",
              "      <td>2</td>\n",
              "    </tr>\n",
              "    <tr>\n",
              "      <th>4</th>\n",
              "      <td>2019-01-01 03:40:00</td>\n",
              "      <td>20.0</td>\n",
              "      <td>100346</td>\n",
              "      <td>201072</td>\n",
              "      <td>테이트 남성 셀린니트3종</td>\n",
              "      <td>의류</td>\n",
              "      <td>39900</td>\n",
              "      <td>6672000</td>\n",
              "      <td>60.0</td>\n",
              "      <td>3</td>\n",
              "      <td>60.0</td>\n",
              "      <td>3.0</td>\n",
              "      <td>1.000000</td>\n",
              "      <td>0</td>\n",
              "      <td>0</td>\n",
              "      <td>0</td>\n",
              "      <td>0</td>\n",
              "      <td>2</td>\n",
              "      <td>-1</td>\n",
              "      <td>0.0</td>\n",
              "      <td>0.001997</td>\n",
              "      <td>패션의류</td>\n",
              "      <td>남성의류</td>\n",
              "      <td>니트/스웨터</td>\n",
              "      <td>1</td>\n",
              "      <td>01</td>\n",
              "      <td>01</td>\n",
              "      <td>03</td>\n",
              "      <td>40</td>\n",
              "      <td>0101</td>\n",
              "      <td>0103</td>\n",
              "      <td>0340</td>\n",
              "      <td>010103</td>\n",
              "      <td>7200</td>\n",
              "      <td>7200</td>\n",
              "      <td>7200</td>\n",
              "      <td>1</td>\n",
              "      <td>테이트 남성 셀린니트</td>\n",
              "      <td>테이</td>\n",
              "      <td>1</td>\n",
              "      <td>68510</td>\n",
              "      <td>-28610</td>\n",
              "      <td>1</td>\n",
              "      <td>-7.9</td>\n",
              "      <td>0.0</td>\n",
              "      <td>3</td>\n",
              "      <td>6</td>\n",
              "      <td>-3</td>\n",
              "      <td>1</td>\n",
              "    </tr>\n",
              "  </tbody>\n",
              "</table>\n",
              "</div>"
            ],
            "text/plain": [
              "                  방송일시  노출(분)    마더코드    상품코드            상품명 상품군   판매단가  \\\n",
              "0  2019-01-01 03:00:00   20.0  100346  201072  테이트 남성 셀린니트3종  의류  39900   \n",
              "1  2019-01-01 03:00:00   20.0  100346  201079  테이트 여성 셀린니트3종  의류  39900   \n",
              "2  2019-01-01 03:20:00   20.0  100346  201072  테이트 남성 셀린니트3종  의류  39900   \n",
              "3  2019-01-01 03:20:00   20.0  100346  201079  테이트 여성 셀린니트3종  의류  39900   \n",
              "4  2019-01-01 03:40:00   20.0  100346  201072  테이트 남성 셀린니트3종  의류  39900   \n",
              "\n",
              "       취급액  cast_time  cast_count  cast_time_sum  cast_count_sum  \\\n",
              "0  2099000       20.0           1           60.0             3.0   \n",
              "1  4371000       20.0           1           60.0             3.0   \n",
              "2  3262000       40.0           2           60.0             3.0   \n",
              "3  6955000       40.0           2           60.0             3.0   \n",
              "4  6672000       60.0           3           60.0             3.0   \n",
              "\n",
              "   cast_time_ratio 상품명_plan 상품명_add 상품명_maker 상품명_set 상품명_sex  fake_weight  \\\n",
              "0         0.333333        0       0         0       0       2           -1   \n",
              "1         0.333333        0       0         0       0       1           -1   \n",
              "2         0.666667        0       0         0       0       2           -1   \n",
              "3         0.666667        0       0         0       0       1           -1   \n",
              "4         1.000000        0       0         0       0       2           -1   \n",
              "\n",
              "   fake_weight2  ratings_mean  cat1  cat2    cat3  방송일시_dow 방송일시_MM 방송일시_DD  \\\n",
              "0           0.0      0.002255  패션의류  남성의류  니트/스웨터         1      01      01   \n",
              "1           0.0      0.002255  패션의류  여성의류  니트/스웨터         1      01      01   \n",
              "2           0.0      0.002210  패션의류  남성의류  니트/스웨터         1      01      01   \n",
              "3           0.0      0.002210  패션의류  여성의류  니트/스웨터         1      01      01   \n",
              "4           0.0      0.001997  패션의류  남성의류  니트/스웨터         1      01      01   \n",
              "\n",
              "  방송일시_hh 방송일시_mm 방송일시_MMDD 방송일시_DDhh 방송일시_hhmm 방송일시_MMDDhh  방송일시_mmmm_1  \\\n",
              "0      03      00      0101      0103      0300      010103            0   \n",
              "1      03      00      0101      0103      0300      010103            0   \n",
              "2      03      20      0101      0103      0320      010103         3600   \n",
              "3      03      20      0101      0103      0320      010103         3600   \n",
              "4      03      40      0101      0103      0340      010103         7200   \n",
              "\n",
              "   방송일시_mmmm_2  방송일시_mmmm_3 방송일시_dow2      new_상품명 상품명_brand  review_counts  \\\n",
              "0            0            0         1  테이트 남성 셀린니트        테이              1   \n",
              "1            0            0         1  테이트 여성 셀린니트        테이              1   \n",
              "2         3600         3600         1  테이트 남성 셀린니트        테이              1   \n",
              "3         3600         3600         1  테이트 여성 셀린니트        테이              1   \n",
              "4         7200         7200         1  테이트 남성 셀린니트        테이              1   \n",
              "\n",
              "   internet_price  price_minus  search_naver  temperature  변동 %  same  \\\n",
              "0           68510       -28610             1         -7.9   0.0     1   \n",
              "1           39110          790             1         -7.9   0.0     1   \n",
              "2           68510       -28610             1         -7.9   0.0     2   \n",
              "3           39110          790             1         -7.9   0.0     2   \n",
              "4           68510       -28610             1         -7.9   0.0     3   \n",
              "\n",
              "   cast_count_com  com  fw  \n",
              "0               2   -1   1  \n",
              "1               2   -1   2  \n",
              "2               4   -2   1  \n",
              "3               4   -2   2  \n",
              "4               6   -3   1  "
            ]
          },
          "metadata": {
            "tags": []
          },
          "execution_count": 108
        }
      ]
    },
    {
      "cell_type": "code",
      "metadata": {
        "id": "7hdZp4IldRVG",
        "colab_type": "code",
        "colab": {
          "base_uri": "https://localhost:8080/",
          "height": 736
        },
        "outputId": "4ff8a020-1616-4137-cd8f-ab634e122567"
      },
      "source": [
        "# 다시 train 데이터에 fw 붙여주기 fake_weight3으로 이름 붙이기\n",
        "train = pd.merge(train, tmp[['방송일시','상품명','fw']], on =['방송일시','상품명'], how = 'left')\n",
        "train.rename({'fw':'fake_weight3'},axis=1,inplace=True)\n",
        "train.drop(['same','cast_count_com'], axis=1, inplace=True)\n",
        "#train['fw'] = train['fw'].astype(int)"
      ],
      "execution_count": null,
      "outputs": [
        {
          "output_type": "error",
          "ename": "KeyError",
          "evalue": "ignored",
          "traceback": [
            "\u001b[0;31m---------------------------------------------------------------------------\u001b[0m",
            "\u001b[0;31mKeyError\u001b[0m                                  Traceback (most recent call last)",
            "\u001b[0;32m/usr/local/lib/python3.6/dist-packages/pandas/core/indexes/base.py\u001b[0m in \u001b[0;36mget_loc\u001b[0;34m(self, key, method, tolerance)\u001b[0m\n\u001b[1;32m   2645\u001b[0m             \u001b[0;32mtry\u001b[0m\u001b[0;34m:\u001b[0m\u001b[0;34m\u001b[0m\u001b[0;34m\u001b[0m\u001b[0m\n\u001b[0;32m-> 2646\u001b[0;31m                 \u001b[0;32mreturn\u001b[0m \u001b[0mself\u001b[0m\u001b[0;34m.\u001b[0m\u001b[0m_engine\u001b[0m\u001b[0;34m.\u001b[0m\u001b[0mget_loc\u001b[0m\u001b[0;34m(\u001b[0m\u001b[0mkey\u001b[0m\u001b[0;34m)\u001b[0m\u001b[0;34m\u001b[0m\u001b[0;34m\u001b[0m\u001b[0m\n\u001b[0m\u001b[1;32m   2647\u001b[0m             \u001b[0;32mexcept\u001b[0m \u001b[0mKeyError\u001b[0m\u001b[0;34m:\u001b[0m\u001b[0;34m\u001b[0m\u001b[0;34m\u001b[0m\u001b[0m\n",
            "\u001b[0;32mpandas/_libs/index.pyx\u001b[0m in \u001b[0;36mpandas._libs.index.IndexEngine.get_loc\u001b[0;34m()\u001b[0m\n",
            "\u001b[0;32mpandas/_libs/index.pyx\u001b[0m in \u001b[0;36mpandas._libs.index.IndexEngine.get_loc\u001b[0;34m()\u001b[0m\n",
            "\u001b[0;32mpandas/_libs/hashtable_class_helper.pxi\u001b[0m in \u001b[0;36mpandas._libs.hashtable.PyObjectHashTable.get_item\u001b[0;34m()\u001b[0m\n",
            "\u001b[0;32mpandas/_libs/hashtable_class_helper.pxi\u001b[0m in \u001b[0;36mpandas._libs.hashtable.PyObjectHashTable.get_item\u001b[0;34m()\u001b[0m\n",
            "\u001b[0;31mKeyError\u001b[0m: 'fw'",
            "\nDuring handling of the above exception, another exception occurred:\n",
            "\u001b[0;31mKeyError\u001b[0m                                  Traceback (most recent call last)",
            "\u001b[0;32m<ipython-input-112-e80cf4280119>\u001b[0m in \u001b[0;36m<module>\u001b[0;34m()\u001b[0m\n\u001b[1;32m      3\u001b[0m \u001b[0mtrain\u001b[0m\u001b[0;34m.\u001b[0m\u001b[0mrename\u001b[0m\u001b[0;34m(\u001b[0m\u001b[0;34m{\u001b[0m\u001b[0;34m'fw'\u001b[0m\u001b[0;34m:\u001b[0m\u001b[0;34m'fake_weight3'\u001b[0m\u001b[0;34m}\u001b[0m\u001b[0;34m,\u001b[0m\u001b[0maxis\u001b[0m\u001b[0;34m=\u001b[0m\u001b[0;36m1\u001b[0m\u001b[0;34m,\u001b[0m\u001b[0minplace\u001b[0m\u001b[0;34m=\u001b[0m\u001b[0;32mTrue\u001b[0m\u001b[0;34m)\u001b[0m\u001b[0;34m\u001b[0m\u001b[0;34m\u001b[0m\u001b[0m\n\u001b[1;32m      4\u001b[0m \u001b[0mtrain\u001b[0m\u001b[0;34m.\u001b[0m\u001b[0mdrop\u001b[0m\u001b[0;34m(\u001b[0m\u001b[0;34m[\u001b[0m\u001b[0;34m'same'\u001b[0m\u001b[0;34m,\u001b[0m\u001b[0;34m'cast_count_com'\u001b[0m\u001b[0;34m]\u001b[0m\u001b[0;34m,\u001b[0m \u001b[0maxis\u001b[0m\u001b[0;34m=\u001b[0m\u001b[0;36m1\u001b[0m\u001b[0;34m,\u001b[0m \u001b[0minplace\u001b[0m\u001b[0;34m=\u001b[0m\u001b[0;32mTrue\u001b[0m\u001b[0;34m)\u001b[0m\u001b[0;34m\u001b[0m\u001b[0;34m\u001b[0m\u001b[0m\n\u001b[0;32m----> 5\u001b[0;31m \u001b[0mtrain\u001b[0m\u001b[0;34m[\u001b[0m\u001b[0;34m'fw'\u001b[0m\u001b[0;34m]\u001b[0m \u001b[0;34m=\u001b[0m \u001b[0mtrain\u001b[0m\u001b[0;34m[\u001b[0m\u001b[0;34m'fw'\u001b[0m\u001b[0;34m]\u001b[0m\u001b[0;34m.\u001b[0m\u001b[0mastype\u001b[0m\u001b[0;34m(\u001b[0m\u001b[0mint\u001b[0m\u001b[0;34m)\u001b[0m\u001b[0;34m\u001b[0m\u001b[0;34m\u001b[0m\u001b[0m\n\u001b[0m",
            "\u001b[0;32m/usr/local/lib/python3.6/dist-packages/pandas/core/frame.py\u001b[0m in \u001b[0;36m__getitem__\u001b[0;34m(self, key)\u001b[0m\n\u001b[1;32m   2798\u001b[0m             \u001b[0;32mif\u001b[0m \u001b[0mself\u001b[0m\u001b[0;34m.\u001b[0m\u001b[0mcolumns\u001b[0m\u001b[0;34m.\u001b[0m\u001b[0mnlevels\u001b[0m \u001b[0;34m>\u001b[0m \u001b[0;36m1\u001b[0m\u001b[0;34m:\u001b[0m\u001b[0;34m\u001b[0m\u001b[0;34m\u001b[0m\u001b[0m\n\u001b[1;32m   2799\u001b[0m                 \u001b[0;32mreturn\u001b[0m \u001b[0mself\u001b[0m\u001b[0;34m.\u001b[0m\u001b[0m_getitem_multilevel\u001b[0m\u001b[0;34m(\u001b[0m\u001b[0mkey\u001b[0m\u001b[0;34m)\u001b[0m\u001b[0;34m\u001b[0m\u001b[0;34m\u001b[0m\u001b[0m\n\u001b[0;32m-> 2800\u001b[0;31m             \u001b[0mindexer\u001b[0m \u001b[0;34m=\u001b[0m \u001b[0mself\u001b[0m\u001b[0;34m.\u001b[0m\u001b[0mcolumns\u001b[0m\u001b[0;34m.\u001b[0m\u001b[0mget_loc\u001b[0m\u001b[0;34m(\u001b[0m\u001b[0mkey\u001b[0m\u001b[0;34m)\u001b[0m\u001b[0;34m\u001b[0m\u001b[0;34m\u001b[0m\u001b[0m\n\u001b[0m\u001b[1;32m   2801\u001b[0m             \u001b[0;32mif\u001b[0m \u001b[0mis_integer\u001b[0m\u001b[0;34m(\u001b[0m\u001b[0mindexer\u001b[0m\u001b[0;34m)\u001b[0m\u001b[0;34m:\u001b[0m\u001b[0;34m\u001b[0m\u001b[0;34m\u001b[0m\u001b[0m\n\u001b[1;32m   2802\u001b[0m                 \u001b[0mindexer\u001b[0m \u001b[0;34m=\u001b[0m \u001b[0;34m[\u001b[0m\u001b[0mindexer\u001b[0m\u001b[0;34m]\u001b[0m\u001b[0;34m\u001b[0m\u001b[0;34m\u001b[0m\u001b[0m\n",
            "\u001b[0;32m/usr/local/lib/python3.6/dist-packages/pandas/core/indexes/base.py\u001b[0m in \u001b[0;36mget_loc\u001b[0;34m(self, key, method, tolerance)\u001b[0m\n\u001b[1;32m   2646\u001b[0m                 \u001b[0;32mreturn\u001b[0m \u001b[0mself\u001b[0m\u001b[0;34m.\u001b[0m\u001b[0m_engine\u001b[0m\u001b[0;34m.\u001b[0m\u001b[0mget_loc\u001b[0m\u001b[0;34m(\u001b[0m\u001b[0mkey\u001b[0m\u001b[0;34m)\u001b[0m\u001b[0;34m\u001b[0m\u001b[0;34m\u001b[0m\u001b[0m\n\u001b[1;32m   2647\u001b[0m             \u001b[0;32mexcept\u001b[0m \u001b[0mKeyError\u001b[0m\u001b[0;34m:\u001b[0m\u001b[0;34m\u001b[0m\u001b[0;34m\u001b[0m\u001b[0m\n\u001b[0;32m-> 2648\u001b[0;31m                 \u001b[0;32mreturn\u001b[0m \u001b[0mself\u001b[0m\u001b[0;34m.\u001b[0m\u001b[0m_engine\u001b[0m\u001b[0;34m.\u001b[0m\u001b[0mget_loc\u001b[0m\u001b[0;34m(\u001b[0m\u001b[0mself\u001b[0m\u001b[0;34m.\u001b[0m\u001b[0m_maybe_cast_indexer\u001b[0m\u001b[0;34m(\u001b[0m\u001b[0mkey\u001b[0m\u001b[0;34m)\u001b[0m\u001b[0;34m)\u001b[0m\u001b[0;34m\u001b[0m\u001b[0;34m\u001b[0m\u001b[0m\n\u001b[0m\u001b[1;32m   2649\u001b[0m         \u001b[0mindexer\u001b[0m \u001b[0;34m=\u001b[0m \u001b[0mself\u001b[0m\u001b[0;34m.\u001b[0m\u001b[0mget_indexer\u001b[0m\u001b[0;34m(\u001b[0m\u001b[0;34m[\u001b[0m\u001b[0mkey\u001b[0m\u001b[0;34m]\u001b[0m\u001b[0;34m,\u001b[0m \u001b[0mmethod\u001b[0m\u001b[0;34m=\u001b[0m\u001b[0mmethod\u001b[0m\u001b[0;34m,\u001b[0m \u001b[0mtolerance\u001b[0m\u001b[0;34m=\u001b[0m\u001b[0mtolerance\u001b[0m\u001b[0;34m)\u001b[0m\u001b[0;34m\u001b[0m\u001b[0;34m\u001b[0m\u001b[0m\n\u001b[1;32m   2650\u001b[0m         \u001b[0;32mif\u001b[0m \u001b[0mindexer\u001b[0m\u001b[0;34m.\u001b[0m\u001b[0mndim\u001b[0m \u001b[0;34m>\u001b[0m \u001b[0;36m1\u001b[0m \u001b[0;32mor\u001b[0m \u001b[0mindexer\u001b[0m\u001b[0;34m.\u001b[0m\u001b[0msize\u001b[0m \u001b[0;34m>\u001b[0m \u001b[0;36m1\u001b[0m\u001b[0;34m:\u001b[0m\u001b[0;34m\u001b[0m\u001b[0;34m\u001b[0m\u001b[0m\n",
            "\u001b[0;32mpandas/_libs/index.pyx\u001b[0m in \u001b[0;36mpandas._libs.index.IndexEngine.get_loc\u001b[0;34m()\u001b[0m\n",
            "\u001b[0;32mpandas/_libs/index.pyx\u001b[0m in \u001b[0;36mpandas._libs.index.IndexEngine.get_loc\u001b[0;34m()\u001b[0m\n",
            "\u001b[0;32mpandas/_libs/hashtable_class_helper.pxi\u001b[0m in \u001b[0;36mpandas._libs.hashtable.PyObjectHashTable.get_item\u001b[0;34m()\u001b[0m\n",
            "\u001b[0;32mpandas/_libs/hashtable_class_helper.pxi\u001b[0m in \u001b[0;36mpandas._libs.hashtable.PyObjectHashTable.get_item\u001b[0;34m()\u001b[0m\n",
            "\u001b[0;31mKeyError\u001b[0m: 'fw'"
          ]
        }
      ]
    },
    {
      "cell_type": "code",
      "metadata": {
        "id": "G3rcCS2Dereb",
        "colab_type": "code",
        "colab": {}
      },
      "source": [
        "train['fake_weight3']=train['fake_weight3'].fillna(0)\n",
        "train['fake_weight3'] = train['fake_weight3'].astype(int)"
      ],
      "execution_count": null,
      "outputs": []
    },
    {
      "cell_type": "code",
      "metadata": {
        "id": "LmPMkCanesIj",
        "colab_type": "code",
        "colab": {
          "base_uri": "https://localhost:8080/",
          "height": 71
        },
        "outputId": "4d6211ac-6760-4068-f343-e4bebe29fb63"
      },
      "source": [
        "# 한 방송에 여러상품 포함하면 1 아니면 0\n",
        "train['com'] = train['com'].apply(lambda x: 1 if x==0 else 0)\n",
        "train['com'].value_counts()"
      ],
      "execution_count": null,
      "outputs": [
        {
          "output_type": "execute_result",
          "data": {
            "text/plain": [
              "0    22602\n",
              "1    12777\n",
              "Name: com, dtype: int64"
            ]
          },
          "metadata": {
            "tags": []
          },
          "execution_count": 118
        }
      ]
    },
    {
      "cell_type": "code",
      "metadata": {
        "id": "JLHMxCHSf0Kn",
        "colab_type": "code",
        "colab": {
          "base_uri": "https://localhost:8080/",
          "height": 304
        },
        "outputId": "b4f05c8d-41e0-451f-cfbd-f19f1eeb2302"
      },
      "source": [
        "train.groupby('fake_weight3').mean()[['취급액']].plot(kind='bar')"
      ],
      "execution_count": null,
      "outputs": [
        {
          "output_type": "execute_result",
          "data": {
            "text/plain": [
              "<matplotlib.axes._subplots.AxesSubplot at 0x7fd95f1270b8>"
            ]
          },
          "metadata": {
            "tags": []
          },
          "execution_count": 119
        },
        {
          "output_type": "display_data",
          "data": {
            "image/png": "[encoded data removed]",
            "text/plain": [
              "<Figure size 432x288 with 1 Axes>"
            ]
          },
          "metadata": {
            "tags": [],
            "needs_background": "light"
          }
        }
      ]
    },
    {
      "cell_type": "code",
      "metadata": {
        "id": "tzXGCS7ggObp",
        "colab_type": "code",
        "colab": {}
      },
      "source": [
        ""
      ],
      "execution_count": null,
      "outputs": []
    },
    {
      "cell_type": "code",
      "metadata": {
        "colab_type": "code",
        "id": "suLF6vQfgXB1",
        "colab": {
          "base_uri": "https://localhost:8080/",
          "height": 53
        },
        "outputId": "f1536bed-fd9d-4671-d659-66fda1957187"
      },
      "source": [
        "train_, test_ = train_test_split(train, test_size=0.2, random_state=529)\n",
        "\n",
        "#train_ = train[train.방송일시_MM != '07']\n",
        "#test_ = train[train.방송일시_MM == '07']\n",
        "print(train_.shape)\n",
        "print(test_.shape)"
      ],
      "execution_count": null,
      "outputs": [
        {
          "output_type": "stream",
          "text": [
            "(28303, 47)\n",
            "(7076, 47)\n"
          ],
          "name": "stdout"
        }
      ]
    },
    {
      "cell_type": "code",
      "metadata": {
        "colab_type": "code",
        "id": "ISIcBL6BgXCH",
        "colab": {
          "base_uri": "https://localhost:8080/",
          "height": 35
        },
        "outputId": "7bf809b3-479f-4621-b612-6e12d4df2269"
      },
      "source": [
        "# train 셋의 아웃라이어를 제거해봅니다...\n",
        "\n",
        "train_ = train_[train_.취급액 < 100000000]\n",
        "train_.shape"
      ],
      "execution_count": null,
      "outputs": [
        {
          "output_type": "execute_result",
          "data": {
            "text/plain": [
              "(28150, 47)"
            ]
          },
          "metadata": {
            "tags": []
          },
          "execution_count": 121
        }
      ]
    },
    {
      "cell_type": "code",
      "metadata": {
        "colab_type": "code",
        "id": "0NQh3iFwgXCQ",
        "colab": {}
      },
      "source": [
        "# 라벨인코딩 숫자가 많아지니 함수로 만들어버립니다.\n",
        "\n",
        "def label_encoding(train_, test_, columns, number):\n",
        "  length = range(number)\n",
        "  for c, i in zip(columns, length):\n",
        "    # 라벨인코더 피팅\n",
        "    globals()['encoder_{}:'.format(i)] = LabelEncoder()\n",
        "    globals()['encoder_{}:'.format(i)].fit(train_[c].values)\n",
        "        \n",
        "    # 트레인셋에 트랜스폼\n",
        "    train_['encoding_{}:'.format(c)] = globals()['encoder_{}:'.format(i)].transform(train_[c])\n",
        "        \n",
        "    # 테스트셋에 트랜스폼\n",
        "    for label in np.unique(test_[c]):\n",
        "      if label not in globals()['encoder_{}:'.format(i)].classes_: # unseen label 데이터인 경우( )\n",
        "        globals()['encoder_{}:'.format(i)].classes_ = np.append(globals()['encoder_{}:'.format(i)].classes_, label) # 미처리 시 ValueError발생\n",
        "    test_['encoding_{}:'.format(c)] = globals()['encoder_{}:'.format(i)].transform(test_[c])"
      ],
      "execution_count": null,
      "outputs": []
    },
    {
      "cell_type": "code",
      "metadata": {
        "colab_type": "code",
        "id": "fY4OXup_gXCX",
        "colab": {
          "base_uri": "https://localhost:8080/",
          "height": 1000
        },
        "outputId": "6c2abdbb-6ad1-45e4-a57b-cdddbe32d823"
      },
      "source": [
        "# 인코딩할 컬럼을 리스트로 넣어줍니다.\n",
        "columns = ['상품명', '상품군', '상품명_brand', 'cat1', 'cat2', 'cat3', 'new_상품명']\n",
        "number = len(columns)\n",
        "\n",
        "# 함수로 바로 처리.\n",
        "label_encoding(train_, test_, columns, number)\n",
        "train_.info()"
      ],
      "execution_count": null,
      "outputs": [
        {
          "output_type": "stream",
          "text": [
            "<class 'pandas.core.frame.DataFrame'>\n",
            "Int64Index: 28150 entries, 17937 to 6025\n",
            "Data columns (total 54 columns):\n",
            " #   Column               Non-Null Count  Dtype   \n",
            "---  ------               --------------  -----   \n",
            " 0   방송일시                 28150 non-null  object  \n",
            " 1   노출(분)                28150 non-null  float64 \n",
            " 2   마더코드                 28150 non-null  int64   \n",
            " 3   상품코드                 28150 non-null  int64   \n",
            " 4   상품명                  28150 non-null  object  \n",
            " 5   상품군                  28150 non-null  object  \n",
            " 6   판매단가                 28150 non-null  int32   \n",
            " 7   취급액                  28150 non-null  int32   \n",
            " 8   cast_time            28150 non-null  float64 \n",
            " 9   cast_count           28150 non-null  int16   \n",
            " 10  cast_time_sum        28150 non-null  float64 \n",
            " 11  cast_count_sum       28150 non-null  float64 \n",
            " 12  cast_time_ratio      28150 non-null  float64 \n",
            " 13  상품명_plan             28150 non-null  category\n",
            " 14  상품명_add              28150 non-null  category\n",
            " 15  상품명_maker            28150 non-null  category\n",
            " 16  상품명_set              28150 non-null  category\n",
            " 17  상품명_sex              28150 non-null  category\n",
            " 18  fake_weight          28150 non-null  int64   \n",
            " 19  fake_weight2         28150 non-null  float64 \n",
            " 20  ratings_mean         28150 non-null  float64 \n",
            " 21  cat1                 28150 non-null  object  \n",
            " 22  cat2                 28150 non-null  object  \n",
            " 23  cat3                 28150 non-null  object  \n",
            " 24  방송일시_dow             28150 non-null  int16   \n",
            " 25  방송일시_MM              28150 non-null  category\n",
            " 26  방송일시_DD              28150 non-null  category\n",
            " 27  방송일시_hh              28150 non-null  category\n",
            " 28  방송일시_mm              28150 non-null  category\n",
            " 29  방송일시_MMDD            28150 non-null  object  \n",
            " 30  방송일시_DDhh            28150 non-null  category\n",
            " 31  방송일시_hhmm            28150 non-null  category\n",
            " 32  방송일시_MMDDhh          28150 non-null  object  \n",
            " 33  방송일시_mmmm_1          28150 non-null  int64   \n",
            " 34  방송일시_mmmm_2          28150 non-null  int64   \n",
            " 35  방송일시_mmmm_3          28150 non-null  int64   \n",
            " 36  방송일시_dow2            28150 non-null  category\n",
            " 37  new_상품명              28150 non-null  object  \n",
            " 38  상품명_brand            28150 non-null  object  \n",
            " 39  review_counts        28150 non-null  int64   \n",
            " 40  internet_price       28150 non-null  int64   \n",
            " 41  price_minus          28150 non-null  int64   \n",
            " 42  search_naver         28150 non-null  int64   \n",
            " 43  temperature          28150 non-null  float64 \n",
            " 44  변동 %                 28150 non-null  float64 \n",
            " 45  com                  28150 non-null  int64   \n",
            " 46  fake_weight3         28150 non-null  int64   \n",
            " 47  encoding_상품명:        28150 non-null  int64   \n",
            " 48  encoding_상품군:        28150 non-null  int64   \n",
            " 49  encoding_상품명_brand:  28150 non-null  int64   \n",
            " 50  encoding_cat1:       28150 non-null  int64   \n",
            " 51  encoding_cat2:       28150 non-null  int64   \n",
            " 52  encoding_cat3:       28150 non-null  int64   \n",
            " 53  encoding_new_상품명:    28150 non-null  int64   \n",
            "dtypes: category(12), float64(9), int16(2), int32(2), int64(19), object(10)\n",
            "memory usage: 9.1+ MB\n"
          ],
          "name": "stdout"
        }
      ]
    },
    {
      "cell_type": "code",
      "metadata": {
        "colab_type": "code",
        "id": "Oyj7WGhYgXCf",
        "colab": {}
      },
      "source": [
        "# rating_mean 은 일단 제외하고 학습합니다.\n",
        "# 변수 순서가 바뀌면 점수가 바뀝니다.\n",
        "\n",
        "X_train = train_[['노출(분)', '마더코드', '상품코드', '판매단가','cast_time', 'cast_count', 'cast_time_sum', 'cast_count_sum', 'cast_time_ratio','fake_weight',\n",
        "       '상품명_plan', '상품명_add', '상품명_maker',\n",
        "       '상품명_set', '상품명_sex', '방송일시_dow', '방송일시_MM', '방송일시_DD', '방송일시_hh',\n",
        "       '방송일시_mm', '방송일시_MMDD', '방송일시_DDhh', '방송일시_hhmm', '방송일시_mmmm_1',\n",
        "       '방송일시_mmmm_2', '방송일시_mmmm_3', '방송일시_dow2', 'review_counts', 'price_minus', 'search_naver', 'temperature',\n",
        "       'encoding_상품명:', 'encoding_상품군:', 'encoding_상품명_brand:',\n",
        "       'encoding_cat1:', 'encoding_cat2:', 'encoding_cat3:','fake_weight2','fake_weight3',\n",
        "       'encoding_new_상품명:']].values \n",
        "y_train = train_['취급액'].values\n",
        "X_test = test_[['노출(분)', '마더코드', '상품코드', '판매단가','cast_time', 'cast_count', 'cast_time_sum', 'cast_count_sum','cast_time_ratio','fake_weight',\n",
        "       '상품명_plan', '상품명_add', '상품명_maker',\n",
        "       '상품명_set', '상품명_sex', '방송일시_dow', '방송일시_MM', '방송일시_DD', '방송일시_hh',\n",
        "       '방송일시_mm', '방송일시_MMDD', '방송일시_DDhh', '방송일시_hhmm', '방송일시_mmmm_1',\n",
        "       '방송일시_mmmm_2', '방송일시_mmmm_3', '방송일시_dow2', 'review_counts', 'price_minus', 'search_naver','temperature',\n",
        "       'encoding_상품명:', 'encoding_상품군:', 'encoding_상품명_brand:',\n",
        "       'encoding_cat1:', 'encoding_cat2:', 'encoding_cat3:','fake_weight2','fake_weight3',\n",
        "      'encoding_new_상품명:']].values \n",
        "y_test = test_['취급액'].values"
      ],
      "execution_count": null,
      "outputs": []
    },
    {
      "cell_type": "code",
      "metadata": {
        "colab_type": "code",
        "id": "86JqbGJQgXCm",
        "colab": {}
      },
      "source": [
        "y_train_log = np.log(y_train)\n",
        "\n",
        "# np.exp(1)**np.log(10)"
      ],
      "execution_count": null,
      "outputs": []
    },
    {
      "cell_type": "code",
      "metadata": {
        "colab_type": "code",
        "id": "5VHTkynZgXCw",
        "colab": {}
      },
      "source": [
        "# 로그 표준화한 값을 학습(예측용)\n",
        "rf = RandomForestRegressor(n_jobs=3, random_state=592)\n",
        "rf.fit(X_train, y_train_log)\n",
        "pred_log = rf.predict(X_test)"
      ],
      "execution_count": null,
      "outputs": []
    },
    {
      "cell_type": "code",
      "metadata": {
        "colab_type": "code",
        "id": "cOErhB3dgXC4",
        "colab": {}
      },
      "source": [
        "def mape(y_true, y_pred):\n",
        "    assert len(y_true) == len(y_pred)\n",
        "    y_true, y_pred = np.array(y_true), np.array(y_pred)\n",
        "    return np.mean(np.abs((y_true - y_pred) / y_true)) * 100\n",
        "\n",
        "pred_log_T = np.exp(1)**pred_log"
      ],
      "execution_count": null,
      "outputs": []
    },
    {
      "cell_type": "code",
      "metadata": {
        "colab_type": "code",
        "id": "HH6TULgegXC_",
        "colab": {
          "base_uri": "https://localhost:8080/",
          "height": 35
        },
        "outputId": "fe880835-e7f2-4ddf-e23a-6c5c12829646"
      },
      "source": [
        "mape(y_test, pred_log_T)"
      ],
      "execution_count": null,
      "outputs": [
        {
          "output_type": "execute_result",
          "data": {
            "text/plain": [
              "35.17989806535745"
            ]
          },
          "metadata": {
            "tags": []
          },
          "execution_count": 154
        }
      ]
    },
    {
      "cell_type": "code",
      "metadata": {
        "colab_type": "code",
        "id": "1kIUnpzIgXDG",
        "colab": {
          "base_uri": "https://localhost:8080/",
          "height": 620
        },
        "outputId": "5ca2ceae-dd1a-4607-d1a8-11f1da45e654"
      },
      "source": [
        "features = ['노출(분)', '마더코드', '상품코드', '판매단가','cast_time', 'cast_count', 'cast_time_sum', 'cast_count_sum', 'cast_time_ratio','fake_weight',\n",
        "       '상품명_plan', '상품명_add', '상품명_maker',\n",
        "       '상품명_set', '상품명_sex', '방송일시_dow', '방송일시_MM', '방송일시_DD', '방송일시_hh',\n",
        "       '방송일시_mm', '방송일시_MMDD', '방송일시_DDhh', '방송일시_hhmm', '방송일시_mmmm_1',\n",
        "       '방송일시_mmmm_2', '방송일시_mmmm_3', '방송일시_dow2', 'review_counts', 'price_minus', 'search_naver', 'temperature',\n",
        "       'encoding_상품명:', 'encoding_상품군:', 'encoding_상품명_brand:',\n",
        "       'encoding_cat1:', 'encoding_cat2:', 'encoding_cat3:','fake_weight2','fake_weight3',\n",
        "       'encoding_new_상품명:']\n",
        "importances = rf.feature_importances_\n",
        "indices = np.argsort(importances)\n",
        "\n",
        "plt.figure(figsize=(18,10))\n",
        "plt.title('Feature Importances')\n",
        "plt.barh(range(len(indices)), importances[indices], color='b', align='center')\n",
        "plt.yticks(range(len(indices)), [features[i] for i in indices])\n",
        "plt.xlabel('얼마나 중요하냐?')\n",
        "plt.show()"
      ],
      "execution_count": null,
      "outputs": [
        {
          "output_type": "display_data",
          "data": {
            "image/png": "[encoded data removed]",
            "text/plain": [
              "<Figure size 1296x720 with 1 Axes>"
            ]
          },
          "metadata": {
            "tags": [],
            "needs_background": "light"
          }
        }
      ]
    },
    {
      "cell_type": "code",
      "metadata": {
        "id": "m8Pgfm8WiF-P",
        "colab_type": "code",
        "colab": {}
      },
      "source": [
        ""
      ],
      "execution_count": null,
      "outputs": []
    },
    {
      "cell_type": "code",
      "metadata": {
        "colab_type": "code",
        "id": "WE1q0q-ij6pG",
        "colab": {
          "base_uri": "https://localhost:8080/",
          "height": 53
        },
        "outputId": "aadb03f4-14fa-474d-ce78-4a49ad49c036"
      },
      "source": [
        "train_, test_ = train_test_split(train, test_size=0.2, random_state=529)\n",
        "\n",
        "#train_ = train[train.방송일시_MM != '07']\n",
        "#test_ = train[train.방송일시_MM == '07']\n",
        "print(train_.shape)\n",
        "print(test_.shape)"
      ],
      "execution_count": null,
      "outputs": [
        {
          "output_type": "stream",
          "text": [
            "(28303, 49)\n",
            "(7076, 49)\n"
          ],
          "name": "stdout"
        }
      ]
    },
    {
      "cell_type": "code",
      "metadata": {
        "id": "kPUUzOKlklhr",
        "colab_type": "code",
        "colab": {
          "base_uri": "https://localhost:8080/",
          "height": 1000
        },
        "outputId": "e945f27d-3cba-4792-90c5-4186aa4f4324"
      },
      "source": [
        "# 인코딩할 컬럼을 리스트로 넣어줍니다.\n",
        "columns = ['상품명', '상품군', '상품명_brand', 'cat1', 'cat2', 'cat3', 'new_상품명']\n",
        "number = len(columns)\n",
        "\n",
        "# 함수로 바로 처리.\n",
        "label_encoding(train_, test_, columns, number)\n",
        "train_.info()"
      ],
      "execution_count": null,
      "outputs": [
        {
          "output_type": "stream",
          "text": [
            "<class 'pandas.core.frame.DataFrame'>\n",
            "Int64Index: 28303 entries, 17937 to 6025\n",
            "Data columns (total 56 columns):\n",
            " #   Column               Non-Null Count  Dtype   \n",
            "---  ------               --------------  -----   \n",
            " 0   방송일시                 28303 non-null  object  \n",
            " 1   노출(분)                28303 non-null  float64 \n",
            " 2   마더코드                 28303 non-null  int64   \n",
            " 3   상품코드                 28303 non-null  int64   \n",
            " 4   상품명                  28303 non-null  object  \n",
            " 5   상품군                  28303 non-null  object  \n",
            " 6   판매단가                 28303 non-null  int32   \n",
            " 7   취급액                  28303 non-null  int32   \n",
            " 8   cast_time            28303 non-null  float64 \n",
            " 9   cast_count           28303 non-null  int16   \n",
            " 10  cast_time_sum        28303 non-null  float64 \n",
            " 11  cast_count_sum       28303 non-null  float64 \n",
            " 12  cast_time_ratio      28303 non-null  float64 \n",
            " 13  상품명_plan             28303 non-null  category\n",
            " 14  상품명_add              28303 non-null  category\n",
            " 15  상품명_maker            28303 non-null  category\n",
            " 16  상품명_set              28303 non-null  category\n",
            " 17  상품명_sex              28303 non-null  category\n",
            " 18  fake_weight          28303 non-null  int64   \n",
            " 19  fake_weight2         28303 non-null  float64 \n",
            " 20  ratings_mean         28303 non-null  float64 \n",
            " 21  cat1                 28303 non-null  object  \n",
            " 22  cat2                 28303 non-null  object  \n",
            " 23  cat3                 28303 non-null  object  \n",
            " 24  방송일시_dow             28303 non-null  int16   \n",
            " 25  방송일시_MM              28303 non-null  category\n",
            " 26  방송일시_DD              28303 non-null  category\n",
            " 27  방송일시_hh              28303 non-null  category\n",
            " 28  방송일시_mm              28303 non-null  category\n",
            " 29  방송일시_MMDD            28303 non-null  object  \n",
            " 30  방송일시_DDhh            28303 non-null  category\n",
            " 31  방송일시_hhmm            28303 non-null  category\n",
            " 32  방송일시_MMDDhh          28303 non-null  object  \n",
            " 33  방송일시_mmmm_1          28303 non-null  int64   \n",
            " 34  방송일시_mmmm_2          28303 non-null  int64   \n",
            " 35  방송일시_mmmm_3          28303 non-null  int64   \n",
            " 36  방송일시_dow2            28303 non-null  category\n",
            " 37  new_상품명              28303 non-null  object  \n",
            " 38  상품명_brand            28303 non-null  object  \n",
            " 39  review_counts        28303 non-null  int64   \n",
            " 40  internet_price       28303 non-null  int64   \n",
            " 41  price_minus          28303 non-null  int64   \n",
            " 42  search_naver         28303 non-null  int64   \n",
            " 43  temperature          28303 non-null  float64 \n",
            " 44  변동 %                 28303 non-null  float64 \n",
            " 45  com                  28303 non-null  int64   \n",
            " 46  fake_weight3         28303 non-null  int64   \n",
            " 47  날짜                   28303 non-null  object  \n",
            " 48  search_compare       28303 non-null  float64 \n",
            " 49  encoding_상품명:        28303 non-null  int64   \n",
            " 50  encoding_상품군:        28303 non-null  int64   \n",
            " 51  encoding_상품명_brand:  28303 non-null  int64   \n",
            " 52  encoding_cat1:       28303 non-null  int64   \n",
            " 53  encoding_cat2:       28303 non-null  int64   \n",
            " 54  encoding_cat3:       28303 non-null  int64   \n",
            " 55  encoding_new_상품명:    28303 non-null  int64   \n",
            "dtypes: category(12), float64(10), int16(2), int32(2), int64(19), object(11)\n",
            "memory usage: 9.6+ MB\n"
          ],
          "name": "stdout"
        }
      ]
    },
    {
      "cell_type": "code",
      "metadata": {
        "colab_type": "code",
        "id": "xe7oc67Vj6pd",
        "colab": {}
      },
      "source": [
        "# rating_mean 은 일단 제외하고 학습합니다.\n",
        "# 변수 순서가 바뀌면 점수가 바뀝니다.\n",
        "\n",
        "X_train = train_[['노출(분)', '마더코드', '상품코드', '판매단가','cast_time', 'cast_count', 'cast_time_sum', 'cast_count_sum', 'cast_time_ratio','fake_weight',\n",
        "       '상품명_plan', '상품명_add', '상품명_maker',\n",
        "       '상품명_set', '상품명_sex', '방송일시_dow', '방송일시_MM', '방송일시_DD', '방송일시_hh',\n",
        "       '방송일시_mm', '방송일시_MMDD', '방송일시_DDhh', '방송일시_hhmm', '방송일시_mmmm_1',\n",
        "       '방송일시_mmmm_2', '방송일시_mmmm_3', '방송일시_dow2', 'review_counts', 'price_minus', 'search_naver', 'temperature',\n",
        "       'encoding_상품명:', 'encoding_상품군:', 'encoding_상품명_brand:',\n",
        "       'encoding_cat1:', 'encoding_cat2:', 'encoding_cat3:','fake_weight2','com',\n",
        "       'encoding_new_상품명:']].values \n",
        "y_train = train_['취급액'].values\n",
        "X_test = test_[['노출(분)', '마더코드', '상품코드', '판매단가','cast_time', 'cast_count', 'cast_time_sum', 'cast_count_sum','cast_time_ratio','fake_weight',\n",
        "       '상품명_plan', '상품명_add', '상품명_maker',\n",
        "       '상품명_set', '상품명_sex', '방송일시_dow', '방송일시_MM', '방송일시_DD', '방송일시_hh',\n",
        "       '방송일시_mm', '방송일시_MMDD', '방송일시_DDhh', '방송일시_hhmm', '방송일시_mmmm_1',\n",
        "       '방송일시_mmmm_2', '방송일시_mmmm_3', '방송일시_dow2', 'review_counts', 'price_minus', 'search_naver','temperature',\n",
        "       'encoding_상품명:', 'encoding_상품군:', 'encoding_상품명_brand:',\n",
        "       'encoding_cat1:', 'encoding_cat2:', 'encoding_cat3:','fake_weight2','com',\n",
        "      'encoding_new_상품명:']].values \n",
        "y_test = test_['취급액'].values"
      ],
      "execution_count": null,
      "outputs": []
    },
    {
      "cell_type": "code",
      "metadata": {
        "colab_type": "code",
        "id": "y1ICcb1-j6pg",
        "colab": {}
      },
      "source": [
        "y_train_log = np.log(y_train)\n",
        "\n",
        "# np.exp(1)**np.log(10)"
      ],
      "execution_count": null,
      "outputs": []
    },
    {
      "cell_type": "code",
      "metadata": {
        "colab_type": "code",
        "id": "m8QRnV_Xj6pj",
        "colab": {}
      },
      "source": [
        "# 로그 표준화한 값을 학습(예측용)\n",
        "rf = RandomForestRegressor(n_jobs=3, random_state=592)\n",
        "rf.fit(X_train, y_train_log)\n",
        "pred_log = rf.predict(X_test)"
      ],
      "execution_count": null,
      "outputs": []
    },
    {
      "cell_type": "code",
      "metadata": {
        "colab_type": "code",
        "id": "mtNOGmhaj6pl",
        "colab": {}
      },
      "source": [
        "def mape(y_true, y_pred):\n",
        "    assert len(y_true) == len(y_pred)\n",
        "    y_true, y_pred = np.array(y_true), np.array(y_pred)\n",
        "    return np.mean(np.abs((y_true - y_pred) / y_true)) * 100\n",
        "\n",
        "pred_log_T = np.exp(1)**pred_log"
      ],
      "execution_count": null,
      "outputs": []
    },
    {
      "cell_type": "code",
      "metadata": {
        "colab_type": "code",
        "id": "q8NMIRXtj6pn",
        "colab": {
          "base_uri": "https://localhost:8080/",
          "height": 35
        },
        "outputId": "66ea046c-ba78-42db-d3b9-f7bfcfd5c793"
      },
      "source": [
        "mape(y_test, pred_log_T)"
      ],
      "execution_count": null,
      "outputs": [
        {
          "output_type": "execute_result",
          "data": {
            "text/plain": [
              "34.232734995486375"
            ]
          },
          "metadata": {
            "tags": []
          },
          "execution_count": 164
        }
      ]
    },
    {
      "cell_type": "code",
      "metadata": {
        "colab_type": "code",
        "id": "Sm6Kap9bj6po",
        "colab": {
          "base_uri": "https://localhost:8080/",
          "height": 620
        },
        "outputId": "ed52556b-977e-43c5-b558-88015ca8ed70"
      },
      "source": [
        "features = ['노출(분)', '마더코드', '상품코드', '판매단가','cast_time', 'cast_count', 'cast_time_sum', 'cast_count_sum', 'cast_time_ratio','fake_weight',\n",
        "       '상품명_plan', '상품명_add', '상품명_maker',\n",
        "       '상품명_set', '상품명_sex', '방송일시_dow', '방송일시_MM', '방송일시_DD', '방송일시_hh',\n",
        "       '방송일시_mm', '방송일시_MMDD', '방송일시_DDhh', '방송일시_hhmm', '방송일시_mmmm_1',\n",
        "       '방송일시_mmmm_2', '방송일시_mmmm_3', '방송일시_dow2', 'review_counts', 'price_minus', 'search_naver', 'temperature',\n",
        "       'encoding_상품명:', 'encoding_상품군:', 'encoding_상품명_brand:',\n",
        "       'encoding_cat1:', 'encoding_cat2:', 'encoding_cat3:','fake_weight2','com',\n",
        "       'encoding_new_상품명:']\n",
        "importances = rf.feature_importances_\n",
        "indices = np.argsort(importances)\n",
        "\n",
        "plt.figure(figsize=(18,10))\n",
        "plt.title('Feature Importances')\n",
        "plt.barh(range(len(indices)), importances[indices], color='b', align='center')\n",
        "plt.yticks(range(len(indices)), [features[i] for i in indices])\n",
        "plt.xlabel('얼마나 중요하냐?')\n",
        "plt.show()"
      ],
      "execution_count": null,
      "outputs": [
        {
          "output_type": "display_data",
          "data": {
            "image/png": "[encoded data removed]",
            "text/plain": [
              "<Figure size 1296x720 with 1 Axes>"
            ]
          },
          "metadata": {
            "tags": [],
            "needs_background": "light"
          }
        }
      ]
    },
    {
      "cell_type": "code",
      "metadata": {
        "id": "jg6sGb31jyQl",
        "colab_type": "code",
        "colab": {}
      },
      "source": [
        ""
      ],
      "execution_count": null,
      "outputs": []
    },
    {
      "cell_type": "code",
      "metadata": {
        "id": "Bgd3eXMsjyOP",
        "colab_type": "code",
        "colab": {}
      },
      "source": [
        ""
      ],
      "execution_count": null,
      "outputs": []
    },
    {
      "cell_type": "code",
      "metadata": {
        "id": "kMIVaVnXiPdv",
        "colab_type": "code",
        "colab": {
          "base_uri": "https://localhost:8080/",
          "height": 204
        },
        "outputId": "b85251a9-3bba-4920-b1f8-db17cbfc62b0"
      },
      "source": [
        "search = pd.read_excel('/gdrive/My Drive/datalab.xlsx',skiprows=6)\n",
        "search.head()"
      ],
      "execution_count": null,
      "outputs": [
        {
          "output_type": "execute_result",
          "data": {
            "text/html": [
              "<div>\n",
              "<style scoped>\n",
              "    .dataframe tbody tr th:only-of-type {\n",
              "        vertical-align: middle;\n",
              "    }\n",
              "\n",
              "    .dataframe tbody tr th {\n",
              "        vertical-align: top;\n",
              "    }\n",
              "\n",
              "    .dataframe thead th {\n",
              "        text-align: right;\n",
              "    }\n",
              "</style>\n",
              "<table border=\"1\" class=\"dataframe\">\n",
              "  <thead>\n",
              "    <tr style=\"text-align: right;\">\n",
              "      <th></th>\n",
              "      <th>날짜</th>\n",
              "      <th>NS홈쇼핑 NS</th>\n",
              "      <th>날짜.1</th>\n",
              "      <th>롯데홈쇼핑</th>\n",
              "      <th>날짜.2</th>\n",
              "      <th>GS홈쇼핑</th>\n",
              "      <th>날짜.3</th>\n",
              "      <th>현대홈쇼핑</th>\n",
              "      <th>날짜.4</th>\n",
              "      <th>CJ홈쇼핑</th>\n",
              "    </tr>\n",
              "  </thead>\n",
              "  <tbody>\n",
              "    <tr>\n",
              "      <th>0</th>\n",
              "      <td>2019-01-01</td>\n",
              "      <td>17.30971</td>\n",
              "      <td>2019-01-01</td>\n",
              "      <td>56.97459</td>\n",
              "      <td>2019-01-01</td>\n",
              "      <td>38.37021</td>\n",
              "      <td>2019-01-01</td>\n",
              "      <td>50.46388</td>\n",
              "      <td>2019-01-01</td>\n",
              "      <td>8.50646</td>\n",
              "    </tr>\n",
              "    <tr>\n",
              "      <th>1</th>\n",
              "      <td>2019-01-02</td>\n",
              "      <td>17.66025</td>\n",
              "      <td>2019-01-02</td>\n",
              "      <td>60.25098</td>\n",
              "      <td>2019-01-02</td>\n",
              "      <td>37.89114</td>\n",
              "      <td>2019-01-02</td>\n",
              "      <td>46.27374</td>\n",
              "      <td>2019-01-02</td>\n",
              "      <td>7.57869</td>\n",
              "    </tr>\n",
              "    <tr>\n",
              "      <th>2</th>\n",
              "      <td>2019-01-03</td>\n",
              "      <td>14.87696</td>\n",
              "      <td>2019-01-03</td>\n",
              "      <td>62.30282</td>\n",
              "      <td>2019-01-03</td>\n",
              "      <td>37.54060</td>\n",
              "      <td>2019-01-03</td>\n",
              "      <td>49.87263</td>\n",
              "      <td>2019-01-03</td>\n",
              "      <td>7.12766</td>\n",
              "    </tr>\n",
              "    <tr>\n",
              "      <th>3</th>\n",
              "      <td>2019-01-04</td>\n",
              "      <td>13.96087</td>\n",
              "      <td>2019-01-04</td>\n",
              "      <td>59.56159</td>\n",
              "      <td>2019-01-04</td>\n",
              "      <td>37.43310</td>\n",
              "      <td>2019-01-04</td>\n",
              "      <td>49.71606</td>\n",
              "      <td>2019-01-04</td>\n",
              "      <td>6.97576</td>\n",
              "    </tr>\n",
              "    <tr>\n",
              "      <th>4</th>\n",
              "      <td>2019-01-05</td>\n",
              "      <td>14.40957</td>\n",
              "      <td>2019-01-05</td>\n",
              "      <td>65.72410</td>\n",
              "      <td>2019-01-05</td>\n",
              "      <td>50.29562</td>\n",
              "      <td>2019-01-05</td>\n",
              "      <td>63.80313</td>\n",
              "      <td>2019-01-05</td>\n",
              "      <td>8.42466</td>\n",
              "    </tr>\n",
              "  </tbody>\n",
              "</table>\n",
              "</div>"
            ],
            "text/plain": [
              "           날짜  NS홈쇼핑 NS        날짜.1     롯데홈쇼핑        날짜.2     GS홈쇼핑  \\\n",
              "0  2019-01-01  17.30971  2019-01-01  56.97459  2019-01-01  38.37021   \n",
              "1  2019-01-02  17.66025  2019-01-02  60.25098  2019-01-02  37.89114   \n",
              "2  2019-01-03  14.87696  2019-01-03  62.30282  2019-01-03  37.54060   \n",
              "3  2019-01-04  13.96087  2019-01-04  59.56159  2019-01-04  37.43310   \n",
              "4  2019-01-05  14.40957  2019-01-05  65.72410  2019-01-05  50.29562   \n",
              "\n",
              "         날짜.3     현대홈쇼핑        날짜.4    CJ홈쇼핑  \n",
              "0  2019-01-01  50.46388  2019-01-01  8.50646  \n",
              "1  2019-01-02  46.27374  2019-01-02  7.57869  \n",
              "2  2019-01-03  49.87263  2019-01-03  7.12766  \n",
              "3  2019-01-04  49.71606  2019-01-04  6.97576  \n",
              "4  2019-01-05  63.80313  2019-01-05  8.42466  "
            ]
          },
          "metadata": {
            "tags": []
          },
          "execution_count": 142
        }
      ]
    },
    {
      "cell_type": "code",
      "metadata": {
        "id": "rN5GBv9UimVE",
        "colab_type": "code",
        "colab": {}
      },
      "source": [
        "search = search[['날짜','NS홈쇼핑 NS']]"
      ],
      "execution_count": null,
      "outputs": []
    },
    {
      "cell_type": "code",
      "metadata": {
        "id": "fvodCC-Pi-hL",
        "colab_type": "code",
        "colab": {
          "base_uri": "https://localhost:8080/",
          "height": 204
        },
        "outputId": "4ad8b403-c175-413d-fe43-19bdf781c063"
      },
      "source": [
        "search['날짜'] = search['날짜'].apply(lambda x: x[5:])\n",
        "search['날짜'] = search['날짜'].apply(lambda x: x.replace('-',''))\n",
        "search.head()"
      ],
      "execution_count": null,
      "outputs": [
        {
          "output_type": "execute_result",
          "data": {
            "text/html": [
              "<div>\n",
              "<style scoped>\n",
              "    .dataframe tbody tr th:only-of-type {\n",
              "        vertical-align: middle;\n",
              "    }\n",
              "\n",
              "    .dataframe tbody tr th {\n",
              "        vertical-align: top;\n",
              "    }\n",
              "\n",
              "    .dataframe thead th {\n",
              "        text-align: right;\n",
              "    }\n",
              "</style>\n",
              "<table border=\"1\" class=\"dataframe\">\n",
              "  <thead>\n",
              "    <tr style=\"text-align: right;\">\n",
              "      <th></th>\n",
              "      <th>날짜</th>\n",
              "      <th>NS홈쇼핑 NS</th>\n",
              "    </tr>\n",
              "  </thead>\n",
              "  <tbody>\n",
              "    <tr>\n",
              "      <th>0</th>\n",
              "      <td>0101</td>\n",
              "      <td>17.30971</td>\n",
              "    </tr>\n",
              "    <tr>\n",
              "      <th>1</th>\n",
              "      <td>0102</td>\n",
              "      <td>17.66025</td>\n",
              "    </tr>\n",
              "    <tr>\n",
              "      <th>2</th>\n",
              "      <td>0103</td>\n",
              "      <td>14.87696</td>\n",
              "    </tr>\n",
              "    <tr>\n",
              "      <th>3</th>\n",
              "      <td>0104</td>\n",
              "      <td>13.96087</td>\n",
              "    </tr>\n",
              "    <tr>\n",
              "      <th>4</th>\n",
              "      <td>0105</td>\n",
              "      <td>14.40957</td>\n",
              "    </tr>\n",
              "  </tbody>\n",
              "</table>\n",
              "</div>"
            ],
            "text/plain": [
              "     날짜  NS홈쇼핑 NS\n",
              "0  0101  17.30971\n",
              "1  0102  17.66025\n",
              "2  0103  14.87696\n",
              "3  0104  13.96087\n",
              "4  0105  14.40957"
            ]
          },
          "metadata": {
            "tags": []
          },
          "execution_count": 146
        }
      ]
    },
    {
      "cell_type": "code",
      "metadata": {
        "id": "bRbo_KvljAo9",
        "colab_type": "code",
        "colab": {}
      },
      "source": [
        "train = pd.merge(train, search, left_on ='방송일시_MMDD', right_on = '날짜', how = 'left')\n",
        "train.rename({'NS홈쇼핑 NS':'search_compare'},axis=1, inplace= True)"
      ],
      "execution_count": null,
      "outputs": []
    },
    {
      "cell_type": "code",
      "metadata": {
        "id": "h3_358dxjH-9",
        "colab_type": "code",
        "colab": {}
      },
      "source": [
        ""
      ],
      "execution_count": null,
      "outputs": []
    },
    {
      "cell_type": "code",
      "metadata": {
        "colab_type": "code",
        "id": "eqvud2nXk1Fa",
        "colab": {
          "base_uri": "https://localhost:8080/",
          "height": 53
        },
        "outputId": "3a622420-7c7f-4ef1-86dc-72407ee03fbd"
      },
      "source": [
        "train_, test_ = train_test_split(train, test_size=0.2, random_state=529)\n",
        "\n",
        "#train_ = train[train.방송일시_MM != '07']\n",
        "#test_ = train[train.방송일시_MM == '07']\n",
        "print(train_.shape)\n",
        "print(test_.shape)"
      ],
      "execution_count": null,
      "outputs": [
        {
          "output_type": "stream",
          "text": [
            "(28303, 49)\n",
            "(7076, 49)\n"
          ],
          "name": "stdout"
        }
      ]
    },
    {
      "cell_type": "code",
      "metadata": {
        "colab_type": "code",
        "id": "M_zvhlYmk1Fo",
        "colab": {
          "base_uri": "https://localhost:8080/",
          "height": 1000
        },
        "outputId": "89f322ce-a4c4-4e37-9b7d-be798337204f"
      },
      "source": [
        "# 인코딩할 컬럼을 리스트로 넣어줍니다.\n",
        "columns = ['상품명', '상품군', '상품명_brand', 'cat1', 'cat2', 'cat3', 'new_상품명']\n",
        "number = len(columns)\n",
        "\n",
        "# 함수로 바로 처리.\n",
        "label_encoding(train_, test_, columns, number)\n",
        "train_.info()"
      ],
      "execution_count": null,
      "outputs": [
        {
          "output_type": "stream",
          "text": [
            "<class 'pandas.core.frame.DataFrame'>\n",
            "Int64Index: 28303 entries, 17937 to 6025\n",
            "Data columns (total 56 columns):\n",
            " #   Column               Non-Null Count  Dtype   \n",
            "---  ------               --------------  -----   \n",
            " 0   방송일시                 28303 non-null  object  \n",
            " 1   노출(분)                28303 non-null  float64 \n",
            " 2   마더코드                 28303 non-null  int64   \n",
            " 3   상품코드                 28303 non-null  int64   \n",
            " 4   상품명                  28303 non-null  object  \n",
            " 5   상품군                  28303 non-null  object  \n",
            " 6   판매단가                 28303 non-null  int32   \n",
            " 7   취급액                  28303 non-null  int32   \n",
            " 8   cast_time            28303 non-null  float64 \n",
            " 9   cast_count           28303 non-null  int16   \n",
            " 10  cast_time_sum        28303 non-null  float64 \n",
            " 11  cast_count_sum       28303 non-null  float64 \n",
            " 12  cast_time_ratio      28303 non-null  float64 \n",
            " 13  상품명_plan             28303 non-null  category\n",
            " 14  상품명_add              28303 non-null  category\n",
            " 15  상품명_maker            28303 non-null  category\n",
            " 16  상품명_set              28303 non-null  category\n",
            " 17  상품명_sex              28303 non-null  category\n",
            " 18  fake_weight          28303 non-null  int64   \n",
            " 19  fake_weight2         28303 non-null  float64 \n",
            " 20  ratings_mean         28303 non-null  float64 \n",
            " 21  cat1                 28303 non-null  object  \n",
            " 22  cat2                 28303 non-null  object  \n",
            " 23  cat3                 28303 non-null  object  \n",
            " 24  방송일시_dow             28303 non-null  int16   \n",
            " 25  방송일시_MM              28303 non-null  category\n",
            " 26  방송일시_DD              28303 non-null  category\n",
            " 27  방송일시_hh              28303 non-null  category\n",
            " 28  방송일시_mm              28303 non-null  category\n",
            " 29  방송일시_MMDD            28303 non-null  object  \n",
            " 30  방송일시_DDhh            28303 non-null  category\n",
            " 31  방송일시_hhmm            28303 non-null  category\n",
            " 32  방송일시_MMDDhh          28303 non-null  object  \n",
            " 33  방송일시_mmmm_1          28303 non-null  int64   \n",
            " 34  방송일시_mmmm_2          28303 non-null  int64   \n",
            " 35  방송일시_mmmm_3          28303 non-null  int64   \n",
            " 36  방송일시_dow2            28303 non-null  category\n",
            " 37  new_상품명              28303 non-null  object  \n",
            " 38  상품명_brand            28303 non-null  object  \n",
            " 39  review_counts        28303 non-null  int64   \n",
            " 40  internet_price       28303 non-null  int64   \n",
            " 41  price_minus          28303 non-null  int64   \n",
            " 42  search_naver         28303 non-null  int64   \n",
            " 43  temperature          28303 non-null  float64 \n",
            " 44  변동 %                 28303 non-null  float64 \n",
            " 45  com                  28303 non-null  int64   \n",
            " 46  fake_weight3         28303 non-null  int64   \n",
            " 47  날짜                   28303 non-null  object  \n",
            " 48  search_compare       28303 non-null  float64 \n",
            " 49  encoding_상품명:        28303 non-null  int64   \n",
            " 50  encoding_상품군:        28303 non-null  int64   \n",
            " 51  encoding_상품명_brand:  28303 non-null  int64   \n",
            " 52  encoding_cat1:       28303 non-null  int64   \n",
            " 53  encoding_cat2:       28303 non-null  int64   \n",
            " 54  encoding_cat3:       28303 non-null  int64   \n",
            " 55  encoding_new_상품명:    28303 non-null  int64   \n",
            "dtypes: category(12), float64(10), int16(2), int32(2), int64(19), object(11)\n",
            "memory usage: 9.6+ MB\n"
          ],
          "name": "stdout"
        }
      ]
    },
    {
      "cell_type": "code",
      "metadata": {
        "colab_type": "code",
        "id": "VxH7TBWbk1Fs",
        "colab": {}
      },
      "source": [
        "# rating_mean 은 일단 제외하고 학습합니다.\n",
        "# 변수 순서가 바뀌면 점수가 바뀝니다.\n",
        "\n",
        "X_train = train_[['노출(분)', '마더코드', '상품코드', '판매단가','cast_time', 'cast_count', 'cast_time_sum', 'cast_count_sum', 'cast_time_ratio','fake_weight',\n",
        "       '상품명_plan', '상품명_add', '상품명_maker',\n",
        "       '상품명_set', '상품명_sex', '방송일시_dow', '방송일시_MM', '방송일시_DD', '방송일시_hh',\n",
        "       '방송일시_mm', '방송일시_MMDD', '방송일시_DDhh', '방송일시_hhmm', '방송일시_mmmm_1',\n",
        "       '방송일시_mmmm_2', '방송일시_mmmm_3', '방송일시_dow2', 'review_counts', 'price_minus', 'search_naver', 'temperature',\n",
        "       'encoding_상품명:', 'encoding_상품군:', 'encoding_상품명_brand:',\n",
        "       'encoding_cat1:', 'encoding_cat2:', 'encoding_cat3:','fake_weight2','search_compare',\n",
        "       'encoding_new_상품명:']].values \n",
        "y_train = train_['취급액'].values\n",
        "X_test = test_[['노출(분)', '마더코드', '상품코드', '판매단가','cast_time', 'cast_count', 'cast_time_sum', 'cast_count_sum','cast_time_ratio','fake_weight',\n",
        "       '상품명_plan', '상품명_add', '상품명_maker',\n",
        "       '상품명_set', '상품명_sex', '방송일시_dow', '방송일시_MM', '방송일시_DD', '방송일시_hh',\n",
        "       '방송일시_mm', '방송일시_MMDD', '방송일시_DDhh', '방송일시_hhmm', '방송일시_mmmm_1',\n",
        "       '방송일시_mmmm_2', '방송일시_mmmm_3', '방송일시_dow2', 'review_counts', 'price_minus', 'search_naver','temperature',\n",
        "       'encoding_상품명:', 'encoding_상품군:', 'encoding_상품명_brand:',\n",
        "       'encoding_cat1:', 'encoding_cat2:', 'encoding_cat3:','fake_weight2','search_compare',\n",
        "      'encoding_new_상품명:']].values \n",
        "y_test = test_['취급액'].values"
      ],
      "execution_count": null,
      "outputs": []
    },
    {
      "cell_type": "code",
      "metadata": {
        "colab_type": "code",
        "id": "zJKPtB84k1Fv",
        "colab": {}
      },
      "source": [
        "y_train_log = np.log(y_train)\n",
        "\n",
        "# np.exp(1)**np.log(10)"
      ],
      "execution_count": null,
      "outputs": []
    },
    {
      "cell_type": "code",
      "metadata": {
        "colab_type": "code",
        "id": "5U-FFJqUk1Fy",
        "colab": {}
      },
      "source": [
        "# 로그 표준화한 값을 학습(예측용)\n",
        "rf = RandomForestRegressor(n_jobs=3, random_state=592)\n",
        "rf.fit(X_train, y_train_log)\n",
        "pred_log = rf.predict(X_test)"
      ],
      "execution_count": null,
      "outputs": []
    },
    {
      "cell_type": "code",
      "metadata": {
        "colab_type": "code",
        "id": "tekogplek1F2",
        "colab": {
          "base_uri": "https://localhost:8080/",
          "height": 35
        },
        "outputId": "7bf4e4f9-21f8-4c44-9ca5-511b6312130c"
      },
      "source": [
        "mape(y_test, pred_log_T)"
      ],
      "execution_count": null,
      "outputs": [
        {
          "output_type": "execute_result",
          "data": {
            "text/plain": [
              "34.232734995486375"
            ]
          },
          "metadata": {
            "tags": []
          },
          "execution_count": 171
        }
      ]
    },
    {
      "cell_type": "code",
      "metadata": {
        "colab_type": "code",
        "id": "47I0p6pok1F5",
        "colab": {
          "base_uri": "https://localhost:8080/",
          "height": 620
        },
        "outputId": "7e936df8-93a7-473c-8a95-d1b84dee6ef4"
      },
      "source": [
        "features = ['노출(분)', '마더코드', '상품코드', '판매단가','cast_time', 'cast_count', 'cast_time_sum', 'cast_count_sum', 'cast_time_ratio','fake_weight',\n",
        "       '상품명_plan', '상품명_add', '상품명_maker',\n",
        "       '상품명_set', '상품명_sex', '방송일시_dow', '방송일시_MM', '방송일시_DD', '방송일시_hh',\n",
        "       '방송일시_mm', '방송일시_MMDD', '방송일시_DDhh', '방송일시_hhmm', '방송일시_mmmm_1',\n",
        "       '방송일시_mmmm_2', '방송일시_mmmm_3', '방송일시_dow2', 'review_counts', 'price_minus', 'search_naver', 'temperature',\n",
        "       'encoding_상품명:', 'encoding_상품군:', 'encoding_상품명_brand:',\n",
        "       'encoding_cat1:', 'encoding_cat2:', 'encoding_cat3:','fake_weight2','search_compare',\n",
        "       'encoding_new_상품명:']\n",
        "importances = rf.feature_importances_\n",
        "indices = np.argsort(importances)\n",
        "\n",
        "plt.figure(figsize=(18,10))\n",
        "plt.title('Feature Importances')\n",
        "plt.barh(range(len(indices)), importances[indices], color='b', align='center')\n",
        "plt.yticks(range(len(indices)), [features[i] for i in indices])\n",
        "plt.xlabel('얼마나 중요하냐?')\n",
        "plt.show()"
      ],
      "execution_count": null,
      "outputs": [
        {
          "output_type": "display_data",
          "data": {
            "image/png": "[encoded data removed]",
            "text/plain": [
              "<Figure size 1296x720 with 1 Axes>"
            ]
          },
          "metadata": {
            "tags": [],
            "needs_background": "light"
          }
        }
      ]
    },
    {
      "cell_type": "code",
      "metadata": {
        "id": "X75eO9glk9ZE",
        "colab_type": "code",
        "colab": {}
      },
      "source": [
        ""
      ],
      "execution_count": null,
      "outputs": []
    }
  ]
}
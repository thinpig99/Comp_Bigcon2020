{
 "cells": [
  {
   "cell_type": "markdown",
   "metadata": {},
   "source": [
    "# 1. 데이터 전처리"
   ]
  },
  {
   "cell_type": "markdown",
   "metadata": {},
   "source": [
    "## 필요 라이브러리를 로드합니다."
   ]
  },
  {
   "cell_type": "code",
   "execution_count": 1,
   "metadata": {},
   "outputs": [],
   "source": [
    "import pandas as pd\n",
    "import requests\n",
    "from bs4 import BeautifulSoup\n",
    "import re\n",
    "import numpy as np\n",
    "from datetime import datetime\n",
    "import datetime\n",
    "import time\n",
    "from sklearn.preprocessing import LabelEncoder\n",
    "from sklearn.model_selection import train_test_split\n",
    "from matplotlib import font_manager, rc\n",
    "import matplotlib as mpl\n",
    "import matplotlib.pyplot as plt\n",
    "import matplotlib.font_manager as fm\n",
    "import lightgbm as lgb\n",
    "from sklearn.ensemble import RandomForestRegressor\n",
    "\n",
    "pd.set_option('display.max_columns', None)\n",
    "\n",
    "from tqdm import tqdm_notebook\n",
    "from tqdm import tqdm\n",
    "import os\n",
    "import sys\n",
    "import urllib.request\n",
    "import json\n",
    "from tabulate import tabulate\n",
    "from konlpy.tag import Kkma"
   ]
  },
  {
   "cell_type": "markdown",
   "metadata": {},
   "source": [
    "## 시각화를 위한 기초 설정을 합니다."
   ]
  },
  {
   "cell_type": "code",
   "execution_count": 2,
   "metadata": {},
   "outputs": [],
   "source": [
    "import warnings\n",
    "warnings.filterwarnings('ignore')\n",
    "%matplotlib inline\n",
    "mpl.rcParams['axes.unicode_minus'] = False\n",
    "import platform\n",
    "plt.rc('font', family='NanumBarunGothic') "
   ]
  },
  {
   "cell_type": "markdown",
   "metadata": {},
   "source": [
    "## 데이터를 불러들어와 전처리를 시작합니다."
   ]
  },
  {
   "cell_type": "code",
   "execution_count": 3,
   "metadata": {},
   "outputs": [],
   "source": [
    "train = pd.read_excel('./01_제공데이터/2020 빅콘테스트 데이터분석분야-챔피언리그_2019년 실적데이터_v1_200818.xlsx', skiprows=1)\n",
    "test = pd.read_excel('./02_평가데이터/2020 빅콘테스트 데이터분석분야-챔피언리그_2020년 6월 판매실적예측데이터(평가데이터).xlsx', skiprows=1)"
   ]
  },
  {
   "cell_type": "code",
   "execution_count": 4,
   "metadata": {},
   "outputs": [],
   "source": [
    "# train셋의 취급액 이름 공백을 지워줍니다.\n",
    "train = train.rename(columns = {' 취급액 ':'취급액'})\n",
    "# 전처리를 한 번에 해주기 위해서 train, test를 합쳐줍니다.\n",
    "df_all = pd.concat([train, test]).reset_index()"
   ]
  },
  {
   "cell_type": "markdown",
   "metadata": {},
   "source": [
    "## 방송 편성 관련 변수를 생성합니다."
   ]
  },
  {
   "cell_type": "code",
   "execution_count": 5,
   "metadata": {},
   "outputs": [],
   "source": [
    "# 방송노출 시간 및 횟수와 관련된 변수를 생성합니다.\n",
    "def make_cast_time(train):\n",
    "    train['취급액'] = train['취급액'].fillna('0') # 취급액이 nan값인 경우 0으로 대체합니다.\n",
    "    train = train[train.상품군 != '무형'] # 상품군이 무형인 경우 취급액이 0이므로 제외하고 분석을 진행합니다.\n",
    "    # nan값이 있는 데이터를 따로 저장해둡니다.\n",
    "    train_yes_nan = train[train['노출(분)'].isnull()]\n",
    "    # nan값 없는 데이터를 저장해줍니다.\n",
    "    train_not_nan = train.dropna()\n",
    "\n",
    "    train_not_nan_index = train_not_nan.index\n",
    "    train_not_nan_reset_index = train_not_nan.reset_index(drop=True)\n",
    "\n",
    "    cast_time = []\n",
    "    cast_count = []\n",
    "    time = 0.\n",
    "    count = 1\n",
    "    # 방송 누적 노출을 cast_time, 방송 누적 횟수를 cast_count에 저장합니다.\n",
    "    for i in range(len(train_not_nan_reset_index)):\n",
    "        if i == 0:\n",
    "            time = train_not_nan_reset_index['노출(분)'][i] \n",
    "            count = 1\n",
    "            cast_time.append(time)\n",
    "            cast_count.append(count)\n",
    "        elif train_not_nan_reset_index['상품코드'][i] == train_not_nan_reset_index['상품코드'][i-1]:\n",
    "            time += train_not_nan_reset_index['노출(분)'][i]\n",
    "            count += 1 \n",
    "            cast_time.append(time) \n",
    "            cast_count.append(count) \n",
    "        else: \n",
    "            time = train_not_nan_reset_index['노출(분)'][i]\n",
    "            count = 1\n",
    "            cast_time.append(time) \n",
    "            cast_count.append(count)\n",
    "\n",
    "    train_not_nan_reset_index['cast_time'] = cast_time\n",
    "    train_not_nan_reset_index['cast_count'] = cast_count\n",
    "    \n",
    "    # 해당 방송의 전체 편성 시간 및 편성 횟수를 저장합니다.\n",
    "    cast_time_sum = []\n",
    "    cast_count_sum = []\n",
    "\n",
    "    for i in range(len(train_not_nan_reset_index)):\n",
    "        if i == max(train_not_nan_reset_index.index):\n",
    "            cast_time_sum.append(train_not_nan_reset_index['cast_time'][i])\n",
    "            cast_count_sum.append(train_not_nan_reset_index['cast_count'][i])\n",
    "        elif train_not_nan_reset_index['상품코드'][i] == train_not_nan_reset_index['상품코드'][i+1]:\n",
    "            cast_time_sum.append(np.nan)\n",
    "            cast_count_sum.append(np.nan)\n",
    "        else: \n",
    "            cast_time_sum.append(train_not_nan_reset_index['cast_time'][i])\n",
    "            cast_count_sum.append(train_not_nan_reset_index['cast_count'][i])\n",
    "            \n",
    "    train_not_nan_reset_index['cast_time_sum'] = cast_time_sum\n",
    "    train_not_nan_reset_index['cast_count_sum'] = cast_count_sum\n",
    "    train_not_nan_reset_index.fillna(method='bfill', inplace=True)\n",
    "    \n",
    "\n",
    "    train_not_nan_reset_index.index = train_not_nan_index\n",
    "    train_concat = pd.concat([train_not_nan_reset_index, train_yes_nan], axis=0)\n",
    "    train_concat_sort_index = train_concat.sort_index()\n",
    "    train = train_concat_sort_index.fillna(method='ffill')\n",
    "    \n",
    "    train['cast_time_ratio'] = train.cast_time / train.cast_time_sum # 누적 방송 시간 비율 칼럼을 만들어줍니다.\n",
    "    train = train.reset_index(drop=True)\n",
    "    train['cast_count'] = train.cast_count.astype(np.int16)\n",
    "    \n",
    "    return train\n",
    "\n",
    "df_all = make_cast_time(df_all)"
   ]
  },
  {
   "cell_type": "code",
   "execution_count": 6,
   "metadata": {},
   "outputs": [
    {
     "data": {
      "text/plain": [
       "(40088, 17)"
      ]
     },
     "execution_count": 6,
     "metadata": {},
     "output_type": "execute_result"
    }
   ],
   "source": [
    "# 기본 전처리 함수입니다.\n",
    "# 취급액과 판매단가의 불필요 요소를 삭제한 후 int 형식으로 데이터 타입을 맞춰줍니다.\n",
    "\n",
    "def preprocessing_1(train):\n",
    "    train['취급액'] = train['취급액'].astype(str)\n",
    "    train['판매단가'] = train['판매단가'].astype(str)\n",
    "    train['취급액'] = train['취급액'].apply(lambda x: x.replace(',', ''))\n",
    "    train['판매단가'] = train['판매단가'].apply(lambda x: x.replace(',', ''))\n",
    "    train['취급액'] = train['취급액'].astype(float) # 소수점 이하 단위를 읽기 위해 임시로 실수형태로 변환합니다.\n",
    "    train['판매단가'] = train['판매단가'].astype(float) # 소수점 이하 단위를 읽기 위해 임시로 실수형태로 변환합니다.\n",
    "    train['취급액'] = train['취급액'].astype(np.int32)\n",
    "    train['판매단가'] = train['판매단가'].astype(np.int32)\n",
    "    train['판매단가_cat'] = train['판매단가'].apply(lambda x: 0 if x <= 15000 else # 판매단가의 구간을 분할합니다.\n",
    "                                             (1 if x<=30000 else (2 if x <=45000 else (3 if x <= 60000 else 4))))\n",
    "    \n",
    "    # 상품별 최대 판매단가 및 할인정보를 추가합니다.\n",
    "    tmp = train.groupby('상품명').max()[['판매단가']].reset_index()\n",
    "    train = pd.merge(train, tmp, on='상품명', how='left')\n",
    "    train.rename({'판매단가_x':'판매단가','판매단가_y':'할인'}, axis=1, inplace= True)\n",
    "    train['할인여부'] = train['할인'] - train['판매단가']\n",
    "    train.drop(['할인'], axis=1, inplace=True)\n",
    "    \n",
    "    # 가격이 끝에 9xxxx 으로 끝나는 상품을 컬럼화합니다.\n",
    "    train['판매단가'] = train['판매단가'].astype(str)\n",
    "    train.loc[train['판매단가'].str.contains('900') == True, \"가격_9x\"] = '1'\n",
    "    train.loc[train['판매단가'].str.contains('900') == False, \"가격_9x\"] = '0'\n",
    "    train['판매단가'] = train['판매단가'].astype(int)\n",
    "    return train\n",
    "\n",
    "df_all = preprocessing_1(df_all)\n",
    "df_all.shape"
   ]
  },
  {
   "cell_type": "code",
   "execution_count": 7,
   "metadata": {},
   "outputs": [],
   "source": [
    "# 상품별 최대 판매단가 및 할인정보를 추가합니다.\n",
    "tmp = df_all.groupby('상품명').max()[['판매단가']].reset_index()\n",
    "df_all = pd.merge(df_all, tmp, on='상품명', how='left')\n",
    "df_all.rename({'판매단가_x':'판매단가','판매단가_y':'할인'}, axis=1, inplace= True)\n",
    "df_all['할인여부'] = df_all['할인'] - df_all['판매단가']\n",
    "df_all.drop(['할인'], axis=1, inplace=True)"
   ]
  },
  {
   "cell_type": "code",
   "execution_count": 8,
   "metadata": {},
   "outputs": [
    {
     "data": {
      "text/plain": [
       "(40088, 23)"
      ]
     },
     "execution_count": 8,
     "metadata": {},
     "output_type": "execute_result"
    }
   ],
   "source": [
    "# 상품명을 전처리해 새로운 칼럼을 생성합니다.\n",
    "def preprocessing_3(train):\n",
    "    # 1. 일시불/무이자/없음\n",
    "    train.loc[train['상품명'].str.contains('일시불') == True, \"상품명_plan\"] = '1'\n",
    "    train.loc[train['상품명'].str.contains('일\\)') == True, \"상품명_plan\"] = '1'\n",
    "    train.loc[train['상품명'].str.contains('무이자') == True, \"상품명_plan\"] = '2'\n",
    "    train.loc[train['상품명'].str.contains('무\\)') == True, \"상품명_plan\"] = '2'\n",
    "    train['상품명_plan'] = train['상품명_plan'].fillna('0')\n",
    "\n",
    "    # 2. 추가구성/단품구성\n",
    "    train.loc[train['상품명'].str.contains('\\+') == True, \"상품명_add\"] = '1'\n",
    "    train['상품명_add'] = train['상품명_add'].fillna('0')\n",
    "\n",
    "    # 3. 기타/삼성/LG\n",
    "    train.loc[train['상품명'].str.contains('삼성') == True, \"상품명_maker\"] = '1'\n",
    "    train.loc[train['상품명'].str.contains('LG') == True, \"상품명_maker\"] = '2'\n",
    "    train['상품명_maker'] = train['상품명_maker'].fillna('0')\n",
    "\n",
    "    # 4. 세트구성/단품구성\n",
    "    train.loc[train['상품명'].str.contains('세트') == True, \"상품명_set\"] = '1'\n",
    "    train['상품명_set'] = train['상품명_set'].fillna('0')\n",
    "\n",
    "    # 5. 여성/남성/없음\n",
    "    train.loc[train['상품명'].str.contains('여성') == True, \"상품명_sex\"] = '1'\n",
    "    train.loc[train['상품명'].str.contains('브라') == True, \"상품명_sex\"] = '1'\n",
    "    train.loc[train['상품명'].str.contains('란쥬') == True, \"상품명_sex\"] = '1'\n",
    "    train.loc[train['상품명'].str.contains('블라우스') == True, \"상품명_sex\"] = '1'\n",
    "    train.loc[train['상품명'].str.contains('밍크') == True, \"상품명_sex\"] = '1'\n",
    "    train.loc[train['상품명'].str.contains('남성') == True, \"상품명_sex\"] = '2'\n",
    "    train.loc[train['상품명'].str.contains('드로즈') == True, \"상품명_sex\"] = '2'\n",
    "    train.loc[train['상품명'].str.contains('트렁크') == True, \"상품명_sex\"] = '2'\n",
    "    train['상품명_sex'] = train['상품명_sex'].fillna('0')\n",
    "    \n",
    "    # 6. 아동/성인\n",
    "    train.loc[train['상품명'].str.contains('주니어') == True, \"상품명_kid\"] = '1'\n",
    "    train.loc[train['상품명'].str.contains('여아') == True, \"상품명_kid\"] = '1'\n",
    "    train.loc[train['상품명'].str.contains('남아') == True, \"상품명_kid\"] = '1'\n",
    "    train.loc[train['상품명'].str.contains('아동') == True, \"상품명_kid\"] = '1'\n",
    "    train['상품명_kid'] = train['상품명_kid'].fillna('0')\n",
    "\n",
    "    # 데이터 타입을 category로 변경합니다.\n",
    "    train['상품명_plan'] = train['상품명_plan'].astype('category')\n",
    "    train['상품명_add'] = train['상품명_add'].astype('category')\n",
    "    train['상품명_maker'] = train['상품명_maker'].astype('category')\n",
    "    train['상품명_set'] = train['상품명_set'].astype('category')\n",
    "    train['상품명_sex'] = train['상품명_sex'].astype('category')\n",
    "    \n",
    "    return train\n",
    "\n",
    "df_all = preprocessing_3(df_all)\n",
    "df_all.shape"
   ]
  },
  {
   "cell_type": "code",
   "execution_count": 9,
   "metadata": {},
   "outputs": [
    {
     "data": {
      "text/plain": [
       "(40088, 24)"
      ]
     },
     "execution_count": 9,
     "metadata": {},
     "output_type": "execute_result"
    }
   ],
   "source": [
    "# 동일 방송에서 여러 상품을 판매하는 경우를 구분하기 위한 칼럼을 생성합니다.\n",
    "\n",
    "def make_fake_weight(train):\n",
    "    fake_weight = []\n",
    "    weight = 1\n",
    "    for i in range(len(train)):\n",
    "        if i == 0:\n",
    "            weight = 1 \n",
    "            fake_weight.append(weight) \n",
    "            \n",
    "        elif train['마더코드'][i] == train['마더코드'][i-1]: # 자기의 마더코드가 앞행의 것과 같을 때\n",
    "            if train['판매단가'][i] < train['판매단가'][i-1]: # 자기의 단가가 앞행의 것보다 작으면\n",
    "                weight +=1 \n",
    "                fake_weight.append(weight) \n",
    "            else: \n",
    "                weight = 1 \n",
    "                fake_weight.append(weight)\n",
    "        else: \n",
    "            weight = 1 \n",
    "            fake_weight.append(weight)\n",
    "            \n",
    "    train['fake_weight'] = fake_weight\n",
    "    train['fake_weight'] = train.fake_weight.apply(lambda x: -(x*x))\n",
    "    \n",
    "    return train\n",
    "\n",
    "df_all = make_fake_weight(df_all)\n",
    "df_all.shape"
   ]
  },
  {
   "cell_type": "code",
   "execution_count": 10,
   "metadata": {},
   "outputs": [],
   "source": [
    "# 더 정확한 변수 생성을 위해 기계가 걸러내지 못하는 조건을 필터링합니다.\n",
    "\n",
    "def make_train_fake(train):\n",
    "    train_fake = train[train.상품명_plan == '0'] # 할부플랜이 다른 데이터 추리기\n",
    "    train_fake = train_fake[train_fake.상품명_sex == '0'] # 성별이 다른 데이터 추리기\n",
    "    train_fake.reset_index(drop=True, inplace=True)\n",
    "\n",
    "    return train_fake"
   ]
  },
  {
   "cell_type": "code",
   "execution_count": 11,
   "metadata": {},
   "outputs": [],
   "source": [
    "# 동일 방송에서 여러 상품을 판매하는 경우에 대한 두 번째 변수를 생성합니다.\n",
    "\n",
    "def make_fake_weight2(train):\n",
    "    fake_weight = []\n",
    "    weight = 0\n",
    "    for i in range(len(train)):\n",
    "        if i == 0:\n",
    "            weight = 0 \n",
    "            fake_weight.append(weight) \n",
    "            \n",
    "        elif train['마더코드'][i] == train['마더코드'][i-1]: # 자기의 마더코드가 앞행의 것과 같을 때\n",
    "            if train['판매단가'][i] == train['판매단가'][i-1]: # 자기의 단가가 앞행의 것과 같을 때\n",
    "                if train['방송일시'][i] == train['방송일시'][i-1]:\n",
    "                    if train['상품코드'][i] != train['상품코드'][i-1]:\n",
    "                        weight -=1 \n",
    "                        fake_weight.append(weight) \n",
    "                    else:\n",
    "                        weight = 0\n",
    "                        fake_weight.append(weight)\n",
    "                else: \n",
    "                    weight = 0 \n",
    "                    fake_weight.append(weight)\n",
    "            else:\n",
    "                weight = 0 \n",
    "                fake_weight.append(weight)\n",
    "        else: \n",
    "            weight = 0\n",
    "            fake_weight.append(weight)\n",
    "            \n",
    "    train['fake_weight2'] = fake_weight\n",
    "    \n",
    "    return train"
   ]
  },
  {
   "cell_type": "code",
   "execution_count": 12,
   "metadata": {},
   "outputs": [],
   "source": [
    "# 변수를 만들기 위해 생성한 함수를 순서대로 적용합니다.\n",
    "df_fake = make_train_fake(df_all)\n",
    "df_fake = make_fake_weight2(df_fake)\n",
    "df_all.shape\n",
    "\n",
    "# 기존 데이터에 합쳐줍니다.\n",
    "df_all = pd.merge(df_all, df_fake[['방송일시','마더코드','상품코드','상품명','판매단가', 'fake_weight2']],\n",
    "                 on=['방송일시','마더코드','상품코드','상품명','판매단가'], how='left')\n",
    "\n",
    "# 빈 값은 전부 0으로 채워줍니다.\n",
    "df_all['fake_weight2'] = df_all['fake_weight2'].fillna(0)"
   ]
  },
  {
   "cell_type": "code",
   "execution_count": 13,
   "metadata": {
    "scrolled": false
   },
   "outputs": [
    {
     "data": {
      "application/vnd.jupyter.widget-view+json": {
       "model_id": "fa2f455061424875a063bc56f6a64518",
       "version_major": 2,
       "version_minor": 0
      },
      "text/plain": [
       "HBox(children=(FloatProgress(value=0.0, max=40087.0), HTML(value='')))"
      ]
     },
     "metadata": {},
     "output_type": "display_data"
    },
    {
     "name": "stdout",
     "output_type": "stream",
     "text": [
      "\n"
     ]
    },
    {
     "data": {
      "application/vnd.jupyter.widget-view+json": {
       "model_id": "09d4efd88e9241198b64380d475571bc",
       "version_major": 2,
       "version_minor": 0
      },
      "text/plain": [
       "HBox(children=(FloatProgress(value=0.0, max=26334.0), HTML(value='')))"
      ]
     },
     "metadata": {},
     "output_type": "display_data"
    },
    {
     "name": "stdout",
     "output_type": "stream",
     "text": [
      "\n"
     ]
    }
   ],
   "source": [
    "# 마지막 방송 편성 관련 변수를 생성합니다.\n",
    "\n",
    "def fake_weight3(train):\n",
    "    # 같은 시간에 방송한 상품에 같은 index를 부여합니다(same).\n",
    "    train['same'] = 1\n",
    "    for i in tqdm_notebook(range(1,len(train))):\n",
    "        if train['cast_count'][i] == train['cast_count'][i-1]:\n",
    "            train['same'][i] = train['same'][i-1]\n",
    "        else:\n",
    "            train['same'][i] = train['same'][i-1] + 1\n",
    "\n",
    "    # 같은 시간에 여러 품목 방송했는지 알기 위해 cast_count_com 변수를 새로 생성합니다.\n",
    "    train = pd.merge(train, train.groupby('same').sum().reset_index()[['same','cast_count']], on ='same', how='left')\n",
    "    train.rename({'cast_count_x':'cast_count', 'cast_count_y':'cast_count_com'}, axis=1, inplace= True)\n",
    "\n",
    "    # 최종 비교를 위해 com을 한 번 더 생성합니다.\n",
    "    train['com'] = train['cast_count'] - train['cast_count_com']\n",
    "\n",
    "    # 같은 방송 여러 품목에 fw라는 순번을 붙여줍니다.\n",
    "    tmp = train.copy()\n",
    "    tmp = tmp[tmp['com'] != 0]\n",
    "    tmp.reset_index(drop=True, inplace=True)\n",
    "    tmp['fw'] = 1\n",
    "    for i in tqdm_notebook(range(1, len(tmp))):\n",
    "        if tmp['same'][i] == tmp['same'][i-1]:\n",
    "            tmp['fw'][i] = tmp['fw'][i-1]+1\n",
    "        else:\n",
    "            pass\n",
    "\n",
    "    # 다시 데이터에 fw를 붙여주어 fake_weight3으로 이름을 붙입니다.\n",
    "    train = pd.merge(train, tmp[['방송일시','상품명','fw']], on =['방송일시','상품명'], how = 'left')\n",
    "    train.rename({'fw':'fake_weight3'},axis=1,inplace=True)\n",
    "    train.drop(['same','cast_count_com'], axis=1, inplace=True)\n",
    "\n",
    "    train['fake_weight3']=train['fake_weight3'].fillna(0)\n",
    "    train['fake_weight3'] = train['fake_weight3'].astype(int)\n",
    "\n",
    "    # 한 방송에 여러상품 포함하면 1 아니면 0이 되도록 com 변수를 조정합니다.\n",
    "    train['com'] = train['com'].apply(lambda x: 1 if x==0 else 0)\n",
    "    train['com'].value_counts()\n",
    "    \n",
    "    return train\n",
    "    \n",
    "df_all = fake_weight3(df_all)"
   ]
  },
  {
   "cell_type": "markdown",
   "metadata": {},
   "source": [
    "## 네이버 쇼핑몰 API를 이용하여 제품의 상세 카테고리를 다시 할당합니다."
   ]
  },
  {
   "cell_type": "code",
   "execution_count": 14,
   "metadata": {},
   "outputs": [],
   "source": [
    "# 혹여나 남아있을 취급액이 nan 값이거나 상품군이 무형인 경우를 처리합니다.\n",
    "def treatNA(df):\n",
    "    df = df[df['상품군']!='무형']\n",
    "    df['취급액'] = df['취급액'].fillna(0)\n",
    "    df = df.fillna(method='pad')\n",
    "    return df"
   ]
  },
  {
   "cell_type": "code",
   "execution_count": 15,
   "metadata": {},
   "outputs": [],
   "source": [
    "# Unique한 상품명을 추린 이후 상품명에 불필요 단어를 제거해 API를 통해 가져올 상품명 리스트를 저장합니다.\n",
    "def productnm_cleansing(df):\n",
    "    # 상품명 중복 제거\n",
    "    uniq_pname=df['상품명'].unique()\n",
    "    print('\\n<# of Unique pnameuct Name> : \\t{}건'.format(len(uniq_pname)))\n",
    "    np.set_printoptions(threshold=sys.maxsize)\n",
    "\n",
    "    # 추후 조합을 위해 전처리 이전 제품명과 이후 제품명을 저장합니다.\n",
    "    p_name = pd.DataFrame(data=uniq_pname, columns=['Before Process'])\n",
    "\n",
    "    # 제품명에서 불필요한 요소 전처리\n",
    "    ap=[]\n",
    "    re_stop = re.compile(\"\"\"\\([가-힣]{1,5}\\+[가-힣]{1,5}\\)|\\(?무이자\\)?\\s?|\\(?일시불\\)?\\s?|\\(?초특가\\)?\\s?|\\(?무\\)\\s?|\\(?유\\)\\s?|\\(?일\\)\\s?|무료체험|\n",
    "    |포함|국내[가-힣]+\\s|무료설치|\\s?신제품\\s?|\\s?패키지\\s?|[0-9]+종|풀코디|set|SET|풀세트|[0-9]+세트|더블팩|싱글팩|[0-9]{1,2}\\+[0-9]{1,2}|[0-9]{1,2}인용|[0-9]{1,2}박스|[0-9\\.]{1,4}미터|[0-9\\.]{1,4}kg|[0-9\\.]{1,4}[kKgG]|[0-9]{1,3}[벌롤종단구대P개통병포미봉팩장gL매]|\n",
    "    |\\s[0-9\\.]{1,4}[Mm]|\\(.{1,10}\\)$|^\\(.?\\)|^[0-9]{2,4}\\s|\\s+[0-9]{2,4}\\s|[0-9]{2,4}년\\s|[0-9]{2,4}년형\\s|시즌[0-9]|[0-9]{1,3}\\%|\\(.{1,20}\\)$|기본형|고급형|오리지널|[대중소大中小]형|.{1,10}by|,|\\s?총[0-9\\s]|^[가-힣a-zA-Z]{3,3}의|\n",
    "    |S\\/S|F\\/W|f\\/w|s\\/s|[가-힣]+형\\s|[슈퍼]{0,2}싱글|\\s[SQK퀸킹]{1,2}\\s|[SQK퀸킹]{1,2}$|[가-힣]{0,2}사이즈\"\"\")\n",
    "\n",
    "    remnants = re.compile('[\",g\\+lL-]\\s|ml|_|\\sx|[\\[\\]\\］!\"#$%&\\'()*+,./:;<=>?@\\^_`{|}~-]|\\s종$|\\s[0-9]+\\s|\\s{2,}')\n",
    "\n",
    "    for i in p_name['Before Process']:\n",
    "        tmp = re_stop.sub(' ',i)\n",
    "        tmp = tmp.strip()\n",
    "        tmp = remnants.sub(' ',tmp)\n",
    "        ap.append(tmp.strip())\n",
    "\n",
    "    # 전처리된 제품명 중복제거\n",
    "    p_name['After Process'] = ap\n",
    "    p_name.to_html('tmp.html')\n",
    "\n",
    "    ap = list(set(ap))\n",
    "\n",
    "    display(p_name.head(5))\n",
    "    \n",
    "    return p_name"
   ]
  },
  {
   "cell_type": "code",
   "execution_count": 29,
   "metadata": {},
   "outputs": [],
   "source": [
    "# 조건을 설정한 이후 API를 호출합니다.\n",
    "def naver_shop(keyword):\n",
    "    client_id = \"tdrEWZrN1ZQp9u0yqy3e\"\n",
    "    client_secret = \"59Bl3ltKdX\"\n",
    "    keyword = keyword.strip()\n",
    "    encText = urllib.parse.quote(keyword)\n",
    "    url = \"https://openapi.naver.com/v1/search/shop.json?query=\" + encText + \"&display=1\" # json 결과\n",
    "    # url = \"https://openapi.naver.com/v1/search/shop.xml?query=\" + encText # xml 결과\n",
    "    request = urllib.request.Request(url)\n",
    "    request.add_header(\"X-Naver-Client-Id\",client_id)\n",
    "    request.add_header(\"X-Naver-Client-Secret\",client_secret)\n",
    "    response = urllib.request.urlopen(request)\n",
    "    rescode = response.getcode()\n",
    "    if(rescode==200):\n",
    "        response_body = response.read()\n",
    "        jsonString = response_body.decode('utf-8')\n",
    "        j = json.loads(jsonString)\n",
    "        if int(j['total']):\n",
    "            c1 = j[\"items\"][0]['category1']\n",
    "            c2 = j[\"items\"][0][\"category2\"]\n",
    "            c3 = j[\"items\"][0][\"category3\"]\n",
    "            c4 = j[\"items\"][0][\"category4\"]\n",
    "            keyword2=''\n",
    "        else : # 검색결과가 없을경우 모델명(숫자+알파벳 구성)과 사이즈(주로 한자어)를 제거하고 뒤에서부터 2개의 어절만으로 검색 재시도\n",
    "            p_code = re.compile('[0-9a-zA-Z]+$|[一-龥]+$')\n",
    "            keyword2 = p_code.sub(' ',keyword)\n",
    "            keyword2 = keyword2.strip()\n",
    "            keyword2 = p_code.sub(' ',keyword2)\n",
    "            keyword2 = ' '.join(keyword2.split()[-2:])\n",
    "            \n",
    "            encText = urllib.parse.quote(keyword2)\n",
    "            url = \"https://openapi.naver.com/v1/search/shop.json?query=\" + encText + \"&display=1\"\n",
    "            request = urllib.request.Request(url)\n",
    "            request.add_header(\"X-Naver-Client-Id\",client_id)\n",
    "            request.add_header(\"X-Naver-Client-Secret\",client_secret)\n",
    "            response = urllib.request.urlopen(request)\n",
    "            rescode = response.getcode()\n",
    "            \n",
    "            if(rescode==200):\n",
    "                response_body = response.read()\n",
    "                jsonString = response_body.decode('utf-8')\n",
    "                j = json.loads(jsonString)\n",
    "                if int(j['total']):\n",
    "                    c1 = j[\"items\"][0]['category1']\n",
    "                    c2 = j[\"items\"][0][\"category2\"]\n",
    "                    c3 = j[\"items\"][0][\"category3\"]\n",
    "                    c4 = j[\"items\"][0][\"category4\"]\n",
    "                else :\n",
    "                    print(keyword,'->',keyword2)\n",
    "                    print('>>>>>>>>>>>>>>>>>>>>Search Failed!<<<<<<<<<<<<<<<<<<<<')\n",
    "                    c1, c2, c3, c4 = '', '', '', ''\n",
    "            else :\n",
    "                print(\"Error Code:\" + rescode)\n",
    "    else:\n",
    "        print(\"Error Code:\" + rescode)\n",
    "    return [keyword,c1,c2,c3,c4,keyword2]"
   ]
  },
  {
   "cell_type": "code",
   "execution_count": 30,
   "metadata": {},
   "outputs": [],
   "source": [
    "# 형태소 분석기를 이용해 주요 단어만을 추출한 이후 결과를 비교합니다.\n",
    "def jaccard_sim(doc1, doc2):\n",
    "    kkma = Kkma()\n",
    "    doc1 = kkma.nouns(doc1)\n",
    "    doc2 = kkma.nouns(doc2)\n",
    "    u_doc1 = set(doc1)\n",
    "    u_doc2 = set(doc2)\n",
    "    return len(u_doc1 & u_doc2) / len(u_doc1 | u_doc2)"
   ]
  },
  {
   "cell_type": "code",
   "execution_count": 31,
   "metadata": {},
   "outputs": [],
   "source": [
    "# 생성한 함수를 기반으로 실제 API 사용을 위한 함수를 정의합니다.\n",
    "def cat_finder(df):\n",
    "    print(\"전처리중...\")\n",
    "    treated = treatNA(df)\n",
    "    df_clean = productnm_cleansing(treated)\n",
    "    pnames = set(df_clean['After Process'].tolist())\n",
    "    cat_df = pd.DataFrame(columns = ['pname','cat1','cat2','cat3','cat4','pname2'])\n",
    "    \n",
    "    print(\"1차 분류 시작...\")\n",
    "    for item in tqdm_notebook(pnames):\n",
    "        ns = naver_shop(item)\n",
    "        cat_df = cat_df.append(pd.DataFrame([ns],columns=['pname','cat1','cat2','cat3','cat4','pname2']), ignore_index=True)\n",
    "    unknown_ratio = len(cat_df[cat_df['cat1']==''])/len(cat_df)*100\n",
    "    print(\"1차 분류 완료 \\n1차 분류에서 알아내지 못한 카테고리 비율 : \", round(unknown_ratio,3),\"%\")\n",
    "    \n",
    "    print(\"2차 분류 시작...\")\n",
    "    unknown = cat_df[cat_df['cat1']=='']\n",
    "    known = cat_df[cat_df['cat1']!='']\n",
    "    \n",
    "    for i in tqdm_notebook(range(len(unknown))):\n",
    "        best_sim = 0\n",
    "        print(unknown.iloc[i].pname)\n",
    "        for j in tqdm_notebook(range(len(known))):\n",
    "            sim = jaccard_sim(unknown.iloc[i].pname,known.iloc[j].pname)\n",
    "            if sim > best_sim :\n",
    "                best_sim = sim\n",
    "                best_ind = j\n",
    "                print(best_sim)\n",
    "        unknown.iloc[i].cat1 = known.iloc[best_ind].cat1\n",
    "        unknown.iloc[i].cat2 = known.iloc[best_ind].cat2\n",
    "        unknown.iloc[i].cat3 = known.iloc[best_ind].cat3\n",
    "        unknown.iloc[i].cat4 = known.iloc[best_ind].cat4\n",
    "        print(known.iloc[best_ind].cat1, known.iloc[best_ind].cat2,known.iloc[best_ind].cat3,known.iloc[best_ind].cat4)\n",
    "    print(\"2차 분류 완료\")\n",
    "    print(\"원래 데이터와 병합중...\")\n",
    "    # 여기물어보기\n",
    "    tmp = pd.merge(df_clean,pd.concat([known,unknown]),left_on = 'After Process', right_on = 'pname').drop(['pname','pname2','After Process'],axis=1)\n",
    "    re_df = pd.merge(df,tmp,left_on='상품명',right_on='Before Process').drop(['Before Process'],axis=1)\n",
    "    display(re_df.head())\n",
    "    print(\"병합 완료!\")\n",
    "    return re_df\n"
   ]
  },
  {
   "cell_type": "code",
   "execution_count": 32,
   "metadata": {},
   "outputs": [
    {
     "name": "stdout",
     "output_type": "stream",
     "text": [
      "전처리중...\n",
      "\n",
      "<# of Unique pnameuct Name> : \t1998건\n"
     ]
    },
    {
     "data": {
      "text/html": [
       "<div>\n",
       "<style scoped>\n",
       "    .dataframe tbody tr th:only-of-type {\n",
       "        vertical-align: middle;\n",
       "    }\n",
       "\n",
       "    .dataframe tbody tr th {\n",
       "        vertical-align: top;\n",
       "    }\n",
       "\n",
       "    .dataframe thead th {\n",
       "        text-align: right;\n",
       "    }\n",
       "</style>\n",
       "<table border=\"1\" class=\"dataframe\">\n",
       "  <thead>\n",
       "    <tr style=\"text-align: right;\">\n",
       "      <th></th>\n",
       "      <th>Before Process</th>\n",
       "      <th>After Process</th>\n",
       "    </tr>\n",
       "  </thead>\n",
       "  <tbody>\n",
       "    <tr>\n",
       "      <th>0</th>\n",
       "      <td>테이트 남성 셀린니트3종</td>\n",
       "      <td>테이트 남성 셀린니트</td>\n",
       "    </tr>\n",
       "    <tr>\n",
       "      <th>1</th>\n",
       "      <td>테이트 여성 셀린니트3종</td>\n",
       "      <td>테이트 여성 셀린니트</td>\n",
       "    </tr>\n",
       "    <tr>\n",
       "      <th>2</th>\n",
       "      <td>오모떼 레이스 파운데이션 브라</td>\n",
       "      <td>오모떼 레이스 파운데이션 브라</td>\n",
       "    </tr>\n",
       "    <tr>\n",
       "      <th>3</th>\n",
       "      <td>CERINI by PAT 남성 소프트 기모 릴렉스팬츠</td>\n",
       "      <td>PAT 남성 소프트 기모 릴렉스팬츠</td>\n",
       "    </tr>\n",
       "    <tr>\n",
       "      <th>4</th>\n",
       "      <td>보코 리버시블 무스탕</td>\n",
       "      <td>보코 리버시블 무스탕</td>\n",
       "    </tr>\n",
       "  </tbody>\n",
       "</table>\n",
       "</div>"
      ],
      "text/plain": [
       "                  Before Process        After Process\n",
       "0                  테이트 남성 셀린니트3종          테이트 남성 셀린니트\n",
       "1                  테이트 여성 셀린니트3종          테이트 여성 셀린니트\n",
       "2               오모떼 레이스 파운데이션 브라     오모떼 레이스 파운데이션 브라\n",
       "3  CERINI by PAT 남성 소프트 기모 릴렉스팬츠  PAT 남성 소프트 기모 릴렉스팬츠\n",
       "4                    보코 리버시블 무스탕          보코 리버시블 무스탕"
      ]
     },
     "metadata": {},
     "output_type": "display_data"
    },
    {
     "name": "stdout",
     "output_type": "stream",
     "text": [
      "1차 분류 시작...\n"
     ]
    },
    {
     "data": {
      "application/vnd.jupyter.widget-view+json": {
       "model_id": "edc4495fd421480b9d48d1522b6ba492",
       "version_major": 2,
       "version_minor": 0
      },
      "text/plain": [
       "HBox(children=(FloatProgress(value=0.0, max=1514.0), HTML(value='')))"
      ]
     },
     "metadata": {},
     "output_type": "display_data"
    },
    {
     "name": "stdout",
     "output_type": "stream",
     "text": [
      "기간 제주바다자연산돔39마리 -> 기간 제주바다자연산돔39마리\n",
      ">>>>>>>>>>>>>>>>>>>>Search Failed!<<<<<<<<<<<<<<<<<<<<\n",
      "USPA화이트라벨 여성트랙수트 -> USPA화이트라벨 여성트랙수트\n",
      ">>>>>>>>>>>>>>>>>>>>Search Failed!<<<<<<<<<<<<<<<<<<<<\n",
      "우리바다 손질왕꼬막 -> 우리바다 손질왕꼬막\n",
      ">>>>>>>>>>>>>>>>>>>>Search Failed!<<<<<<<<<<<<<<<<<<<<\n",
      "The귀한 소한마리세트 -> The귀한 소한마리세트\n",
      ">>>>>>>>>>>>>>>>>>>>Search Failed!<<<<<<<<<<<<<<<<<<<<\n",
      "디키즈 썸머상하세트 -> 디키즈 썸머상하세트\n",
      ">>>>>>>>>>>>>>>>>>>>Search Failed!<<<<<<<<<<<<<<<<<<<<\n",
      "마르엘라로사티 에코무스탕 -> 마르엘라로사티 에코무스탕\n",
      ">>>>>>>>>>>>>>>>>>>>Search Failed!<<<<<<<<<<<<<<<<<<<<\n",
      "아가타 컬러풀에디션 -> 아가타 컬러풀에디션\n",
      ">>>>>>>>>>>>>>>>>>>>Search Failed!<<<<<<<<<<<<<<<<<<<<\n",
      "남해바다 손질왕꼬막살세트 -> 남해바다 손질왕꼬막살세트\n",
      ">>>>>>>>>>>>>>>>>>>>Search Failed!<<<<<<<<<<<<<<<<<<<<\n",
      "탕요일 -> 탕요일\n",
      ">>>>>>>>>>>>>>>>>>>>Search Failed!<<<<<<<<<<<<<<<<<<<<\n",
      "황제진액 철갑상어 -> 황제진액 철갑상어\n",
      ">>>>>>>>>>>>>>>>>>>>Search Failed!<<<<<<<<<<<<<<<<<<<<\n",
      "메이듀 여성 린넨 블렌디드 슬립온 -> 블렌디드 슬립온\n",
      ">>>>>>>>>>>>>>>>>>>>Search Failed!<<<<<<<<<<<<<<<<<<<<\n",
      "파격가 니봇 무선 진공 물걸레 로봇청소기  뉴헤어드라이어기 -> 로봇청소기 뉴헤어드라이어기\n",
      ">>>>>>>>>>>>>>>>>>>>Search Failed!<<<<<<<<<<<<<<<<<<<<\n",
      "USPA화이트라벨 여성모크넥세트 -> USPA화이트라벨 여성모크넥세트\n",
      ">>>>>>>>>>>>>>>>>>>>Search Failed!<<<<<<<<<<<<<<<<<<<<\n",
      "아리스토우 여성오가닉티셔츠 -> 아리스토우 여성오가닉티셔츠\n",
      ">>>>>>>>>>>>>>>>>>>>Search Failed!<<<<<<<<<<<<<<<<<<<<\n",
      "아리스토우 남성오가닉티셔츠 -> 아리스토우 남성오가닉티셔츠\n",
      ">>>>>>>>>>>>>>>>>>>>Search Failed!<<<<<<<<<<<<<<<<<<<<\n",
      "삼익가구 LED 제니비 침대 -> 제니비 침대\n",
      ">>>>>>>>>>>>>>>>>>>>Search Failed!<<<<<<<<<<<<<<<<<<<<\n",
      "더커진거창특등급사과 -> 더커진거창특등급사과\n",
      ">>>>>>>>>>>>>>>>>>>>Search Failed!<<<<<<<<<<<<<<<<<<<<\n",
      "마르엘라로사티 테일러드롱자켓 -> 마르엘라로사티 테일러드롱자켓\n",
      ">>>>>>>>>>>>>>>>>>>>Search Failed!<<<<<<<<<<<<<<<<<<<<\n",
      "USPA화이트라벨 남성모크넥세트 -> USPA화이트라벨 남성모크넥세트\n",
      ">>>>>>>>>>>>>>>>>>>>Search Failed!<<<<<<<<<<<<<<<<<<<<\n",
      "크리스티나앤코 기모밴딩팬츠 -> 크리스티나앤코 기모밴딩팬츠\n",
      ">>>>>>>>>>>>>>>>>>>>Search Failed!<<<<<<<<<<<<<<<<<<<<\n",
      "뽕셰프 이봉원 특갈비탕 -> 이봉원 특갈비탕\n",
      ">>>>>>>>>>>>>>>>>>>>Search Failed!<<<<<<<<<<<<<<<<<<<<\n",
      "코펜하겐럭스 판초니트 -> 코펜하겐럭스 판초니트\n",
      ">>>>>>>>>>>>>>>>>>>>Search Failed!<<<<<<<<<<<<<<<<<<<<\n",
      "뱅뱅 남성 간절기 데님팬츠  GQE772 GQE774 GQE776 -> 데님팬츠 GQE772\n",
      ">>>>>>>>>>>>>>>>>>>>Search Failed!<<<<<<<<<<<<<<<<<<<<\n",
      "진도기삼활전복25마리 -> 진도기삼활전복25마리\n",
      ">>>>>>>>>>>>>>>>>>>>Search Failed!<<<<<<<<<<<<<<<<<<<<\n",
      "비가린 배추김치 -> 비가린 배추김치\n",
      ">>>>>>>>>>>>>>>>>>>>Search Failed!<<<<<<<<<<<<<<<<<<<<\n",
      "PAT 남성 에어 카타티셔츠 -> 에어 카타티셔츠\n",
      ">>>>>>>>>>>>>>>>>>>>Search Failed!<<<<<<<<<<<<<<<<<<<<\n",
      "블링썸 데스트니 아이라이너 -> 데스트니 아이라이너\n",
      ">>>>>>>>>>>>>>>>>>>>Search Failed!<<<<<<<<<<<<<<<<<<<<\n",
      "잔다리 전두부세트 -> 잔다리 전두부세트\n",
      ">>>>>>>>>>>>>>>>>>>>Search Failed!<<<<<<<<<<<<<<<<<<<<\n",
      "레이프릴 더블엑스 매직니퍼팬티 -> 더블엑스 매직니퍼팬티\n",
      ">>>>>>>>>>>>>>>>>>>>Search Failed!<<<<<<<<<<<<<<<<<<<<\n",
      "크로커다일 에어스킨 감탄브라 -> 에어스킨 감탄브라\n",
      ">>>>>>>>>>>>>>>>>>>>Search Failed!<<<<<<<<<<<<<<<<<<<<\n",
      "아리스토우 남성기모티셔츠 -> 아리스토우 남성기모티셔츠\n",
      ">>>>>>>>>>>>>>>>>>>>Search Failed!<<<<<<<<<<<<<<<<<<<<\n",
      "리복 남성 스피드윅 웜웨어 -> 스피드윅 웜웨어\n",
      ">>>>>>>>>>>>>>>>>>>>Search Failed!<<<<<<<<<<<<<<<<<<<<\n",
      "산머루농원 머루원액 -> 산머루농원 머루원액\n",
      ">>>>>>>>>>>>>>>>>>>>Search Failed!<<<<<<<<<<<<<<<<<<<<\n",
      "가이거  제니스시계 주얼리세트 -> 제니스시계 주얼리세트\n",
      ">>>>>>>>>>>>>>>>>>>>Search Failed!<<<<<<<<<<<<<<<<<<<<\n",
      "메이듀 남성 린넨 블렌디드 슬립온 -> 블렌디드 슬립온\n",
      ">>>>>>>>>>>>>>>>>>>>Search Failed!<<<<<<<<<<<<<<<<<<<<\n",
      "USPA화이트라벨 남성트랙수트 -> USPA화이트라벨 남성트랙수트\n",
      ">>>>>>>>>>>>>>>>>>>>Search Failed!<<<<<<<<<<<<<<<<<<<<\n",
      "AAC녹두삼계탕 -> AAC녹두삼계탕\n",
      ">>>>>>>>>>>>>>>>>>>>Search Failed!<<<<<<<<<<<<<<<<<<<<\n",
      "크리스티나앤코 이지웨어세트 -> 크리스티나앤코 이지웨어세트\n",
      ">>>>>>>>>>>>>>>>>>>>Search Failed!<<<<<<<<<<<<<<<<<<<<\n",
      "창녕 마늘양파듬뿍삼계탕 -> 창녕 마늘양파듬뿍삼계탕\n",
      ">>>>>>>>>>>>>>>>>>>>Search Failed!<<<<<<<<<<<<<<<<<<<<\n",
      "리복 여성 스피드윅 웜웨어 -> 스피드윅 웜웨어\n",
      ">>>>>>>>>>>>>>>>>>>>Search Failed!<<<<<<<<<<<<<<<<<<<<\n",
      "한삼인순홍삼진 -> 한삼인순홍삼진\n",
      ">>>>>>>>>>>>>>>>>>>>Search Failed!<<<<<<<<<<<<<<<<<<<<\n",
      "에트로 프로푸미 웨이스트백 -> 프로푸미 웨이스트백\n",
      ">>>>>>>>>>>>>>>>>>>>Search Failed!<<<<<<<<<<<<<<<<<<<<\n",
      "\n",
      "1차 분류 완료 \n",
      "1차 분류에서 알아내지 못한 카테고리 비율 :  2.774 %\n",
      "2차 분류 시작...\n"
     ]
    },
    {
     "data": {
      "application/vnd.jupyter.widget-view+json": {
       "model_id": "9826b46955234c04bf249da5078b12de",
       "version_major": 2,
       "version_minor": 0
      },
      "text/plain": [
       "HBox(children=(FloatProgress(value=0.0, max=42.0), HTML(value='')))"
      ]
     },
     "metadata": {},
     "output_type": "display_data"
    },
    {
     "name": "stdout",
     "output_type": "stream",
     "text": [
      "기간 제주바다자연산돔39마리\n"
     ]
    },
    {
     "data": {
      "application/vnd.jupyter.widget-view+json": {
       "model_id": "1821907235074ddb85f9100f747fa91b",
       "version_major": 2,
       "version_minor": 0
      },
      "text/plain": [
       "HBox(children=(FloatProgress(value=0.0, max=1472.0), HTML(value='')))"
      ]
     },
     "metadata": {},
     "output_type": "display_data"
    },
    {
     "name": "stdout",
     "output_type": "stream",
     "text": [
      "0.058823529411764705\n",
      "0.06666666666666667\n",
      "0.07692307692307693\n",
      "0.09090909090909091\n",
      "0.1\n",
      "0.15384615384615385\n",
      "0.16666666666666666\n",
      "\n",
      "식품 수산 생선 갈치\n",
      "USPA화이트라벨 여성트랙수트\n"
     ]
    },
    {
     "data": {
      "application/vnd.jupyter.widget-view+json": {
       "model_id": "9af81b276be640c6a9a8e4df51b72e35",
       "version_major": 2,
       "version_minor": 0
      },
      "text/plain": [
       "HBox(children=(FloatProgress(value=0.0, max=1472.0), HTML(value='')))"
      ]
     },
     "metadata": {},
     "output_type": "display_data"
    },
    {
     "name": "stdout",
     "output_type": "stream",
     "text": [
      "0.08333333333333333\n",
      "0.3333333333333333\n",
      "0.4\n",
      "0.4444444444444444\n",
      "\n",
      "패션의류 여성의류 티셔츠 \n",
      "우리바다 손질왕꼬막\n"
     ]
    },
    {
     "data": {
      "application/vnd.jupyter.widget-view+json": {
       "model_id": "216ced4a2d76453c899d8ca6fb9b6105",
       "version_major": 2,
       "version_minor": 0
      },
      "text/plain": [
       "HBox(children=(FloatProgress(value=0.0, max=1472.0), HTML(value='')))"
      ]
     },
     "metadata": {},
     "output_type": "display_data"
    },
    {
     "name": "stdout",
     "output_type": "stream",
     "text": [
      "0.09090909090909091\n",
      "0.2\n",
      "0.25\n",
      "\n",
      "식품 수산 해산물/어패류 꼬막\n",
      "The귀한 소한마리세트\n"
     ]
    },
    {
     "data": {
      "application/vnd.jupyter.widget-view+json": {
       "model_id": "fad48e46ef27450e94af7b42f782541a",
       "version_major": 2,
       "version_minor": 0
      },
      "text/plain": [
       "HBox(children=(FloatProgress(value=0.0, max=1472.0), HTML(value='')))"
      ]
     },
     "metadata": {},
     "output_type": "display_data"
    },
    {
     "name": "stdout",
     "output_type": "stream",
     "text": [
      "0.07692307692307693\n",
      "0.14285714285714285\n",
      "0.16666666666666666\n",
      "0.2\n",
      "0.3333333333333333\n",
      "\n",
      "식품 축산 축산가공식품 갈비찜\n",
      "디키즈 썸머상하세트\n"
     ]
    },
    {
     "data": {
      "application/vnd.jupyter.widget-view+json": {
       "model_id": "d8c8157429a4447c96d134be18823570",
       "version_major": 2,
       "version_minor": 0
      },
      "text/plain": [
       "HBox(children=(FloatProgress(value=0.0, max=1472.0), HTML(value='')))"
      ]
     },
     "metadata": {},
     "output_type": "display_data"
    },
    {
     "name": "stdout",
     "output_type": "stream",
     "text": [
      "0.06666666666666667\n",
      "0.1111111111111111\n",
      "0.125\n",
      "0.16666666666666666\n",
      "0.2727272727272727\n",
      "0.36363636363636365\n",
      "\n",
      "출산/육아 유아동의류 점퍼 \n",
      "마르엘라로사티 에코무스탕\n"
     ]
    },
    {
     "data": {
      "application/vnd.jupyter.widget-view+json": {
       "model_id": "9229f186eaaa4c09a2d3c59207738d0f",
       "version_major": 2,
       "version_minor": 0
      },
      "text/plain": [
       "HBox(children=(FloatProgress(value=0.0, max=1472.0), HTML(value='')))"
      ]
     },
     "metadata": {},
     "output_type": "display_data"
    },
    {
     "name": "stdout",
     "output_type": "stream",
     "text": [
      "0.05555555555555555\n",
      "0.058823529411764705\n",
      "0.07692307692307693\n",
      "0.14285714285714285\n",
      "0.35714285714285715\n",
      "0.5\n",
      "0.5555555555555556\n",
      "\n",
      "패션의류 여성의류 청바지 \n",
      "아가타 컬러풀에디션\n"
     ]
    },
    {
     "data": {
      "application/vnd.jupyter.widget-view+json": {
       "model_id": "c6e9e2e88bef43aaa60980a53fb3a804",
       "version_major": 2,
       "version_minor": 0
      },
      "text/plain": [
       "HBox(children=(FloatProgress(value=0.0, max=1472.0), HTML(value='')))"
      ]
     },
     "metadata": {},
     "output_type": "display_data"
    },
    {
     "name": "stdout",
     "output_type": "stream",
     "text": [
      "0.07142857142857142\n",
      "0.07692307692307693\n",
      "0.08333333333333333\n",
      "0.23076923076923078\n",
      "0.3333333333333333\n",
      "0.5\n",
      "\n",
      "화장품/미용 베이스메이크업 파운데이션 쿠션형\n",
      "남해바다 손질왕꼬막살세트\n"
     ]
    },
    {
     "data": {
      "application/vnd.jupyter.widget-view+json": {
       "model_id": "66799bfea64c4f449c15f9050ca029ec",
       "version_major": 2,
       "version_minor": 0
      },
      "text/plain": [
       "HBox(children=(FloatProgress(value=0.0, max=1472.0), HTML(value='')))"
      ]
     },
     "metadata": {},
     "output_type": "display_data"
    },
    {
     "name": "stdout",
     "output_type": "stream",
     "text": [
      "0.058823529411764705\n",
      "0.09090909090909091\n",
      "0.1\n",
      "0.16666666666666666\n",
      "0.2\n",
      "\n",
      "식품 수산 생선 갈치\n",
      "탕요일\n"
     ]
    },
    {
     "data": {
      "application/vnd.jupyter.widget-view+json": {
       "model_id": "ac9e0f9ffdee4135a66a560414bee733",
       "version_major": 2,
       "version_minor": 0
      },
      "text/plain": [
       "HBox(children=(FloatProgress(value=0.0, max=1472.0), HTML(value='')))"
      ]
     },
     "metadata": {},
     "output_type": "display_data"
    },
    {
     "name": "stdout",
     "output_type": "stream",
     "text": [
      "0.14285714285714285\n",
      "\n",
      "식품 냉동/간편조리식품 즉석국/즉석탕 \n",
      "황제진액 철갑상어\n"
     ]
    },
    {
     "data": {
      "application/vnd.jupyter.widget-view+json": {
       "model_id": "221e75fbde6b448ca240df7e7129982a",
       "version_major": 2,
       "version_minor": 0
      },
      "text/plain": [
       "HBox(children=(FloatProgress(value=0.0, max=1472.0), HTML(value='')))"
      ]
     },
     "metadata": {},
     "output_type": "display_data"
    },
    {
     "name": "stdout",
     "output_type": "stream",
     "text": [
      "\n",
      "식품 냉동/간편조리식품 즉석국/즉석탕 \n",
      "메이듀 여성 린넨 블렌디드 슬립온\n"
     ]
    },
    {
     "data": {
      "application/vnd.jupyter.widget-view+json": {
       "model_id": "5530fca963e64eb1920e3c3bf7974c01",
       "version_major": 2,
       "version_minor": 0
      },
      "text/plain": [
       "HBox(children=(FloatProgress(value=0.0, max=1472.0), HTML(value='')))"
      ]
     },
     "metadata": {},
     "output_type": "display_data"
    },
    {
     "name": "stdout",
     "output_type": "stream",
     "text": [
      "0.08333333333333333\n",
      "0.1\n",
      "0.125\n",
      "0.2222222222222222\n",
      "0.2727272727272727\n",
      "\n",
      "패션의류 여성의류 블라우스/셔츠 \n",
      "파격가 니봇 무선 진공 물걸레 로봇청소기  뉴헤어드라이어기\n"
     ]
    },
    {
     "data": {
      "application/vnd.jupyter.widget-view+json": {
       "model_id": "cfe79cf01efa4debb7bae8a92fdfb125",
       "version_major": 2,
       "version_minor": 0
      },
      "text/plain": [
       "HBox(children=(FloatProgress(value=0.0, max=1472.0), HTML(value='')))"
      ]
     },
     "metadata": {},
     "output_type": "display_data"
    },
    {
     "name": "stdout",
     "output_type": "stream",
     "text": [
      "0.05\n",
      "0.1\n",
      "0.4666666666666667\n",
      "0.5263157894736842\n",
      "\n",
      "디지털/가전 이미용가전 드라이어 \n",
      "USPA화이트라벨 여성모크넥세트\n"
     ]
    },
    {
     "data": {
      "application/vnd.jupyter.widget-view+json": {
       "model_id": "caccd3f07ac24953bf0fc075c5111006",
       "version_major": 2,
       "version_minor": 0
      },
      "text/plain": [
       "HBox(children=(FloatProgress(value=0.0, max=1472.0), HTML(value='')))"
      ]
     },
     "metadata": {},
     "output_type": "display_data"
    },
    {
     "name": "stdout",
     "output_type": "stream",
     "text": [
      "0.07692307692307693\n",
      "0.09090909090909091\n",
      "0.1\n",
      "0.2727272727272727\n",
      "0.36363636363636365\n",
      "0.4\n",
      "\n",
      "패션의류 여성의류 티셔츠 \n",
      "아리스토우 여성오가닉티셔츠\n"
     ]
    },
    {
     "data": {
      "application/vnd.jupyter.widget-view+json": {
       "model_id": "b7c9d438602448ce90ae40222f71a46f",
       "version_major": 2,
       "version_minor": 0
      },
      "text/plain": [
       "HBox(children=(FloatProgress(value=0.0, max=1472.0), HTML(value='')))"
      ]
     },
     "metadata": {},
     "output_type": "display_data"
    },
    {
     "name": "stdout",
     "output_type": "stream",
     "text": [
      "0.07692307692307693\n",
      "0.08333333333333333\n",
      "0.1111111111111111\n",
      "0.16666666666666666\n",
      "0.2222222222222222\n",
      "0.25\n",
      "0.2727272727272727\n",
      "0.4\n",
      "\n",
      "패션의류 여성의류 티셔츠 \n",
      "아리스토우 남성오가닉티셔츠\n"
     ]
    },
    {
     "data": {
      "application/vnd.jupyter.widget-view+json": {
       "model_id": "290e493531744f0aa90f1ff3ffffea6b",
       "version_major": 2,
       "version_minor": 0
      },
      "text/plain": [
       "HBox(children=(FloatProgress(value=0.0, max=1472.0), HTML(value='')))"
      ]
     },
     "metadata": {},
     "output_type": "display_data"
    },
    {
     "name": "stdout",
     "output_type": "stream",
     "text": [
      "0.09090909090909091\n",
      "0.16666666666666666\n",
      "0.18181818181818182\n",
      "0.2222222222222222\n",
      "0.25\n",
      "0.4\n",
      "\n",
      "패션의류 남성의류 티셔츠 \n",
      "삼익가구 LED 제니비 침대\n"
     ]
    },
    {
     "data": {
      "application/vnd.jupyter.widget-view+json": {
       "model_id": "a80e8aabd1fe441294b43f3808962b6c",
       "version_major": 2,
       "version_minor": 0
      },
      "text/plain": [
       "HBox(children=(FloatProgress(value=0.0, max=1472.0), HTML(value='')))"
      ]
     },
     "metadata": {},
     "output_type": "display_data"
    },
    {
     "name": "stdout",
     "output_type": "stream",
     "text": [
      "0.08333333333333333\n",
      "0.1\n",
      "0.6666666666666666\n",
      "\n",
      "가구/인테리어 침실가구 침대 침대프레임\n",
      "더커진거창특등급사과\n"
     ]
    },
    {
     "data": {
      "application/vnd.jupyter.widget-view+json": {
       "model_id": "72a48fece0454772a0aef7e356b1a472",
       "version_major": 2,
       "version_minor": 0
      },
      "text/plain": [
       "HBox(children=(FloatProgress(value=0.0, max=1472.0), HTML(value='')))"
      ]
     },
     "metadata": {},
     "output_type": "display_data"
    },
    {
     "name": "stdout",
     "output_type": "stream",
     "text": [
      "0.18181818181818182\n",
      "0.625\n",
      "\n",
      "식품 농산물 과일 사과\n",
      "마르엘라로사티 테일러드롱자켓\n"
     ]
    },
    {
     "data": {
      "application/vnd.jupyter.widget-view+json": {
       "model_id": "6c479e48fdef4823af52bbc83ecaad24",
       "version_major": 2,
       "version_minor": 0
      },
      "text/plain": [
       "HBox(children=(FloatProgress(value=0.0, max=1472.0), HTML(value='')))"
      ]
     },
     "metadata": {},
     "output_type": "display_data"
    },
    {
     "name": "stdout",
     "output_type": "stream",
     "text": [
      "0.05263157894736842\n",
      "0.05555555555555555\n",
      "0.07142857142857142\n",
      "0.07692307692307693\n",
      "0.3333333333333333\n",
      "0.45454545454545453\n",
      "0.5\n",
      "\n",
      "패션의류 여성의류 청바지 \n",
      "USPA화이트라벨 남성모크넥세트\n"
     ]
    },
    {
     "data": {
      "application/vnd.jupyter.widget-view+json": {
       "model_id": "388c7d8b7a5e4234a1c73bc0b2eeb242",
       "version_major": 2,
       "version_minor": 0
      },
      "text/plain": [
       "HBox(children=(FloatProgress(value=0.0, max=1472.0), HTML(value='')))"
      ]
     },
     "metadata": {},
     "output_type": "display_data"
    },
    {
     "name": "stdout",
     "output_type": "stream",
     "text": [
      "0.09090909090909091\n",
      "0.1\n",
      "0.4\n",
      "\n",
      "패션의류 남성의류 티셔츠 \n",
      "크리스티나앤코 기모밴딩팬츠\n"
     ]
    },
    {
     "data": {
      "application/vnd.jupyter.widget-view+json": {
       "model_id": "94787b26a0394a8dbf7b554e48288637",
       "version_major": 2,
       "version_minor": 0
      },
      "text/plain": [
       "HBox(children=(FloatProgress(value=0.0, max=1472.0), HTML(value='')))"
      ]
     },
     "metadata": {},
     "output_type": "display_data"
    },
    {
     "name": "stdout",
     "output_type": "stream",
     "text": [
      "0.09090909090909091\n",
      "0.125\n",
      "0.15384615384615385\n",
      "0.38461538461538464\n",
      "0.4166666666666667\n",
      "0.5\n",
      "0.6363636363636364\n",
      "\n",
      "패션의류 여성의류 바지 \n",
      "뽕셰프 이봉원 특갈비탕\n"
     ]
    },
    {
     "data": {
      "application/vnd.jupyter.widget-view+json": {
       "model_id": "3ebd764f380444da94224dafac99c382",
       "version_major": 2,
       "version_minor": 0
      },
      "text/plain": [
       "HBox(children=(FloatProgress(value=0.0, max=1472.0), HTML(value='')))"
      ]
     },
     "metadata": {},
     "output_type": "display_data"
    },
    {
     "name": "stdout",
     "output_type": "stream",
     "text": [
      "0.07142857142857142\n",
      "0.07692307692307693\n",
      "0.08333333333333333\n",
      "0.09090909090909091\n",
      "0.1\n",
      "\n",
      "식품 냉동/간편조리식품 즉석국/즉석탕 \n",
      "코펜하겐럭스 판초니트\n"
     ]
    },
    {
     "data": {
      "application/vnd.jupyter.widget-view+json": {
       "model_id": "8b45f788ae4c48339eb076d3e1f54ce5",
       "version_major": 2,
       "version_minor": 0
      },
      "text/plain": [
       "HBox(children=(FloatProgress(value=0.0, max=1472.0), HTML(value='')))"
      ]
     },
     "metadata": {},
     "output_type": "display_data"
    },
    {
     "name": "stdout",
     "output_type": "stream",
     "text": [
      "0.07142857142857142\n",
      "0.1\n",
      "0.4166666666666667\n",
      "\n",
      "패션의류 여성의류 바지 \n",
      "뱅뱅 남성 간절기 데님팬츠  GQE772 GQE774 GQE776\n"
     ]
    },
    {
     "data": {
      "application/vnd.jupyter.widget-view+json": {
       "model_id": "78048f7e14544084967a904d3f740bc0",
       "version_major": 2,
       "version_minor": 0
      },
      "text/plain": [
       "HBox(children=(FloatProgress(value=0.0, max=1472.0), HTML(value='')))"
      ]
     },
     "metadata": {},
     "output_type": "display_data"
    },
    {
     "name": "stdout",
     "output_type": "stream",
     "text": [
      "0.07692307692307693\n",
      "0.08333333333333333\n",
      "0.16666666666666666\n",
      "0.18181818181818182\n",
      "0.2\n",
      "0.2857142857142857\n",
      "0.4\n",
      "0.42857142857142855\n",
      "\n",
      "패션의류 남성의류 청바지 \n",
      "진도기삼활전복25마리\n"
     ]
    },
    {
     "data": {
      "application/vnd.jupyter.widget-view+json": {
       "model_id": "96a1e3e1744a4a358cd28af510f71b21",
       "version_major": 2,
       "version_minor": 0
      },
      "text/plain": [
       "HBox(children=(FloatProgress(value=0.0, max=1472.0), HTML(value='')))"
      ]
     },
     "metadata": {},
     "output_type": "display_data"
    },
    {
     "name": "stdout",
     "output_type": "stream",
     "text": [
      "0.05555555555555555\n",
      "0.07142857142857142\n",
      "0.16666666666666666\n",
      "\n",
      "식품 수산 해산물/어패류 전복\n",
      "비가린 배추김치\n"
     ]
    },
    {
     "data": {
      "application/vnd.jupyter.widget-view+json": {
       "model_id": "dc7f5da3f9c2458885a31dab223f5bae",
       "version_major": 2,
       "version_minor": 0
      },
      "text/plain": [
       "HBox(children=(FloatProgress(value=0.0, max=1472.0), HTML(value='')))"
      ]
     },
     "metadata": {},
     "output_type": "display_data"
    },
    {
     "name": "stdout",
     "output_type": "stream",
     "text": [
      "0.1111111111111111\n",
      "0.16666666666666666\n",
      "\n",
      "식품 김치 포기김치 \n",
      "PAT 남성 에어 카타티셔츠\n"
     ]
    },
    {
     "data": {
      "application/vnd.jupyter.widget-view+json": {
       "model_id": "07fbc1f9fd3748f09360ffc73e7c587e",
       "version_major": 2,
       "version_minor": 0
      },
      "text/plain": [
       "HBox(children=(FloatProgress(value=0.0, max=1472.0), HTML(value='')))"
      ]
     },
     "metadata": {},
     "output_type": "display_data"
    },
    {
     "name": "stdout",
     "output_type": "stream",
     "text": [
      "0.14285714285714285\n",
      "0.16666666666666666\n",
      "0.2222222222222222\n",
      "0.5\n",
      "0.75\n",
      "\n",
      "패션의류 남성의류 티셔츠 \n",
      "블링썸 데스트니 아이라이너\n"
     ]
    },
    {
     "data": {
      "application/vnd.jupyter.widget-view+json": {
       "model_id": "b49a0c4f09374fa782b313ad8f4e1062",
       "version_major": 2,
       "version_minor": 0
      },
      "text/plain": [
       "HBox(children=(FloatProgress(value=0.0, max=1472.0), HTML(value='')))"
      ]
     },
     "metadata": {},
     "output_type": "display_data"
    },
    {
     "name": "stdout",
     "output_type": "stream",
     "text": [
      "0.0625\n",
      "0.09090909090909091\n",
      "0.125\n",
      "\n",
      "화장품/미용 색조메이크업 아이섀도 \n",
      "잔다리 전두부세트\n"
     ]
    },
    {
     "data": {
      "application/vnd.jupyter.widget-view+json": {
       "model_id": "ed651fc0dafb4ed89da87f9df3b2cb0a",
       "version_major": 2,
       "version_minor": 0
      },
      "text/plain": [
       "HBox(children=(FloatProgress(value=0.0, max=1472.0), HTML(value='')))"
      ]
     },
     "metadata": {},
     "output_type": "display_data"
    },
    {
     "name": "stdout",
     "output_type": "stream",
     "text": [
      "0.0625\n",
      "0.1\n",
      "0.1111111111111111\n",
      "0.125\n",
      "\n",
      "패션의류 여성의류 트레이닝복 \n",
      "레이프릴 더블엑스 매직니퍼팬티\n"
     ]
    },
    {
     "data": {
      "application/vnd.jupyter.widget-view+json": {
       "model_id": "f8f9c5acdf9745b3ab57e68cc8d7a23d",
       "version_major": 2,
       "version_minor": 0
      },
      "text/plain": [
       "HBox(children=(FloatProgress(value=0.0, max=1472.0), HTML(value='')))"
      ]
     },
     "metadata": {},
     "output_type": "display_data"
    },
    {
     "name": "stdout",
     "output_type": "stream",
     "text": [
      "0.0625\n",
      "0.06666666666666667\n",
      "0.2\n",
      "0.23529411764705882\n",
      "0.2857142857142857\n",
      "\n",
      "패션의류 여성언더웨어/잠옷 팬티 \n",
      "크로커다일 에어스킨 감탄브라\n"
     ]
    },
    {
     "data": {
      "application/vnd.jupyter.widget-view+json": {
       "model_id": "5c3b01f1ee4840bc83a7a9d3473c8ff1",
       "version_major": 2,
       "version_minor": 0
      },
      "text/plain": [
       "HBox(children=(FloatProgress(value=0.0, max=1472.0), HTML(value='')))"
      ]
     },
     "metadata": {},
     "output_type": "display_data"
    },
    {
     "name": "stdout",
     "output_type": "stream",
     "text": [
      "0.06666666666666667\n",
      "0.07692307692307693\n",
      "0.16666666666666666\n",
      "0.3\n",
      "\n",
      "패션의류 여성언더웨어/잠옷 브라팬티세트 \n",
      "아리스토우 남성기모티셔츠\n"
     ]
    },
    {
     "data": {
      "application/vnd.jupyter.widget-view+json": {
       "model_id": "b40c4f16b2ef406e9c4a5ebae7b92a68",
       "version_major": 2,
       "version_minor": 0
      },
      "text/plain": [
       "HBox(children=(FloatProgress(value=0.0, max=1472.0), HTML(value='')))"
      ]
     },
     "metadata": {},
     "output_type": "display_data"
    },
    {
     "name": "stdout",
     "output_type": "stream",
     "text": [
      "0.1\n",
      "0.18181818181818182\n",
      "0.2\n",
      "0.25\n",
      "0.2857142857142857\n",
      "0.5714285714285714\n",
      "\n",
      "패션의류 남성의류 티셔츠 \n",
      "리복 남성 스피드윅 웜웨어\n"
     ]
    },
    {
     "data": {
      "application/vnd.jupyter.widget-view+json": {
       "model_id": "3f3938793a7a4b06866b2786efefa91a",
       "version_major": 2,
       "version_minor": 0
      },
      "text/plain": [
       "HBox(children=(FloatProgress(value=0.0, max=1472.0), HTML(value='')))"
      ]
     },
     "metadata": {},
     "output_type": "display_data"
    },
    {
     "name": "stdout",
     "output_type": "stream",
     "text": [
      "0.07692307692307693\n",
      "0.08333333333333333\n",
      "0.13333333333333333\n",
      "0.5454545454545454\n",
      "\n",
      "패션의류 남성의류 트레이닝복 \n",
      "산머루농원 머루원액\n"
     ]
    },
    {
     "data": {
      "application/vnd.jupyter.widget-view+json": {
       "model_id": "c6e283507e804992aed634b7a6a20de3",
       "version_major": 2,
       "version_minor": 0
      },
      "text/plain": [
       "HBox(children=(FloatProgress(value=0.0, max=1472.0), HTML(value='')))"
      ]
     },
     "metadata": {},
     "output_type": "display_data"
    },
    {
     "name": "stdout",
     "output_type": "stream",
     "text": [
      "0.09090909090909091\n",
      "\n",
      "식품 건강식품 과일즙 기타과일즙\n",
      "가이거  제니스시계 주얼리세트\n"
     ]
    },
    {
     "data": {
      "application/vnd.jupyter.widget-view+json": {
       "model_id": "b6edbc6b2aaf4654bfe9785025f14ac4",
       "version_major": 2,
       "version_minor": 0
      },
      "text/plain": [
       "HBox(children=(FloatProgress(value=0.0, max=1472.0), HTML(value='')))"
      ]
     },
     "metadata": {},
     "output_type": "display_data"
    },
    {
     "name": "stdout",
     "output_type": "stream",
     "text": [
      "0.058823529411764705\n",
      "0.09090909090909091\n",
      "0.1\n",
      "0.21428571428571427\n",
      "0.2857142857142857\n",
      "0.3076923076923077\n",
      "\n",
      "패션잡화 주얼리 주얼리세트 14K세트\n",
      "메이듀 남성 린넨 블렌디드 슬립온\n"
     ]
    },
    {
     "data": {
      "application/vnd.jupyter.widget-view+json": {
       "model_id": "c4ef820ccccf46dfaa62ad9cd5a9e12b",
       "version_major": 2,
       "version_minor": 0
      },
      "text/plain": [
       "HBox(children=(FloatProgress(value=0.0, max=1472.0), HTML(value='')))"
      ]
     },
     "metadata": {},
     "output_type": "display_data"
    },
    {
     "name": "stdout",
     "output_type": "stream",
     "text": [
      "0.2222222222222222\n",
      "0.2727272727272727\n",
      "\n",
      "패션의류 여성의류 블라우스/셔츠 \n",
      "USPA화이트라벨 남성트랙수트\n"
     ]
    },
    {
     "data": {
      "application/vnd.jupyter.widget-view+json": {
       "model_id": "245518bd85c74ba6a4d92f71d1788909",
       "version_major": 2,
       "version_minor": 0
      },
      "text/plain": [
       "HBox(children=(FloatProgress(value=0.0, max=1472.0), HTML(value='')))"
      ]
     },
     "metadata": {},
     "output_type": "display_data"
    },
    {
     "name": "stdout",
     "output_type": "stream",
     "text": [
      "0.1\n",
      "0.1111111111111111\n",
      "0.2\n",
      "0.4444444444444444\n",
      "\n",
      "패션의류 남성의류 티셔츠 \n",
      "AAC녹두삼계탕\n"
     ]
    },
    {
     "data": {
      "application/vnd.jupyter.widget-view+json": {
       "model_id": "62eda39e046b47e1a3b01491884f2046",
       "version_major": 2,
       "version_minor": 0
      },
      "text/plain": [
       "HBox(children=(FloatProgress(value=0.0, max=1472.0), HTML(value='')))"
      ]
     },
     "metadata": {},
     "output_type": "display_data"
    },
    {
     "name": "stdout",
     "output_type": "stream",
     "text": [
      "0.14285714285714285\n",
      "0.3333333333333333\n",
      "\n",
      "식품 축산 축산가공식품 삼계탕\n",
      "크리스티나앤코 이지웨어세트\n"
     ]
    },
    {
     "data": {
      "application/vnd.jupyter.widget-view+json": {
       "model_id": "7c52cb5fc622478c95f31e620c9f85cb",
       "version_major": 2,
       "version_minor": 0
      },
      "text/plain": [
       "HBox(children=(FloatProgress(value=0.0, max=1472.0), HTML(value='')))"
      ]
     },
     "metadata": {},
     "output_type": "display_data"
    },
    {
     "name": "stdout",
     "output_type": "stream",
     "text": [
      "0.05555555555555555\n",
      "0.09090909090909091\n",
      "0.3076923076923077\n",
      "0.5\n",
      "0.5454545454545454\n",
      "\n",
      "패션의류 여성의류 코디세트 \n",
      "창녕 마늘양파듬뿍삼계탕\n"
     ]
    },
    {
     "data": {
      "application/vnd.jupyter.widget-view+json": {
       "model_id": "4006c92b532f4405a564bec4d825aa72",
       "version_major": 2,
       "version_minor": 0
      },
      "text/plain": [
       "HBox(children=(FloatProgress(value=0.0, max=1472.0), HTML(value='')))"
      ]
     },
     "metadata": {},
     "output_type": "display_data"
    },
    {
     "name": "stdout",
     "output_type": "stream",
     "text": [
      "0.1\n",
      "\n",
      "식품 축산 축산가공식품 삼계탕\n",
      "리복 여성 스피드윅 웜웨어\n"
     ]
    },
    {
     "data": {
      "application/vnd.jupyter.widget-view+json": {
       "model_id": "dd059277285242929a64851c6fdfa710",
       "version_major": 2,
       "version_minor": 0
      },
      "text/plain": [
       "HBox(children=(FloatProgress(value=0.0, max=1472.0), HTML(value='')))"
      ]
     },
     "metadata": {},
     "output_type": "display_data"
    },
    {
     "name": "stdout",
     "output_type": "stream",
     "text": [
      "0.06666666666666667\n",
      "0.07142857142857142\n",
      "0.5454545454545454\n",
      "\n",
      "패션의류 남성의류 트레이닝복 \n",
      "한삼인순홍삼진\n"
     ]
    },
    {
     "data": {
      "application/vnd.jupyter.widget-view+json": {
       "model_id": "e9e9fa6bfe134632bc24772fc03e8156",
       "version_major": 2,
       "version_minor": 0
      },
      "text/plain": [
       "HBox(children=(FloatProgress(value=0.0, max=1472.0), HTML(value='')))"
      ]
     },
     "metadata": {},
     "output_type": "display_data"
    },
    {
     "name": "stdout",
     "output_type": "stream",
     "text": [
      "\n",
      "패션의류 남성의류 트레이닝복 \n",
      "에트로 프로푸미 웨이스트백\n"
     ]
    },
    {
     "data": {
      "application/vnd.jupyter.widget-view+json": {
       "model_id": "037dcc5dca0e4458b476b01b3655ba0c",
       "version_major": 2,
       "version_minor": 0
      },
      "text/plain": [
       "HBox(children=(FloatProgress(value=0.0, max=1472.0), HTML(value='')))"
      ]
     },
     "metadata": {},
     "output_type": "display_data"
    },
    {
     "name": "stdout",
     "output_type": "stream",
     "text": [
      "0.07692307692307693\n",
      "0.08333333333333333\n",
      "0.09090909090909091\n",
      "0.2\n",
      "0.5555555555555556\n",
      "\n",
      "패션잡화 여성가방 크로스백 \n",
      "\n",
      "2차 분류 완료\n",
      "원래 데이터와 병합중...\n"
     ]
    },
    {
     "data": {
      "text/html": [
       "<div>\n",
       "<style scoped>\n",
       "    .dataframe tbody tr th:only-of-type {\n",
       "        vertical-align: middle;\n",
       "    }\n",
       "\n",
       "    .dataframe tbody tr th {\n",
       "        vertical-align: top;\n",
       "    }\n",
       "\n",
       "    .dataframe thead th {\n",
       "        text-align: right;\n",
       "    }\n",
       "</style>\n",
       "<table border=\"1\" class=\"dataframe\">\n",
       "  <thead>\n",
       "    <tr style=\"text-align: right;\">\n",
       "      <th></th>\n",
       "      <th>cast_count</th>\n",
       "      <th>cast_count_sum</th>\n",
       "      <th>cast_time</th>\n",
       "      <th>cast_time_sum</th>\n",
       "      <th>index</th>\n",
       "      <th>노출(분)</th>\n",
       "      <th>마더코드</th>\n",
       "      <th>방송일시</th>\n",
       "      <th>상품군</th>\n",
       "      <th>상품명</th>\n",
       "      <th>상품코드</th>\n",
       "      <th>취급액</th>\n",
       "      <th>판매단가</th>\n",
       "      <th>cast_time_ratio</th>\n",
       "      <th>판매단가_cat</th>\n",
       "      <th>할인여부</th>\n",
       "      <th>가격_9x</th>\n",
       "      <th>상품명_plan</th>\n",
       "      <th>상품명_add</th>\n",
       "      <th>상품명_maker</th>\n",
       "      <th>상품명_set</th>\n",
       "      <th>상품명_sex</th>\n",
       "      <th>상품명_kid</th>\n",
       "      <th>fake_weight</th>\n",
       "      <th>fake_weight2</th>\n",
       "      <th>com</th>\n",
       "      <th>fake_weight3</th>\n",
       "      <th>cat1</th>\n",
       "      <th>cat2</th>\n",
       "      <th>cat3</th>\n",
       "      <th>cat4</th>\n",
       "    </tr>\n",
       "  </thead>\n",
       "  <tbody>\n",
       "    <tr>\n",
       "      <th>0</th>\n",
       "      <td>1</td>\n",
       "      <td>3.0</td>\n",
       "      <td>20.0</td>\n",
       "      <td>60.0</td>\n",
       "      <td>0</td>\n",
       "      <td>20.0</td>\n",
       "      <td>100346</td>\n",
       "      <td>2019-01-01 06:00:00</td>\n",
       "      <td>의류</td>\n",
       "      <td>테이트 남성 셀린니트3종</td>\n",
       "      <td>201072</td>\n",
       "      <td>2099000</td>\n",
       "      <td>39900</td>\n",
       "      <td>0.333333</td>\n",
       "      <td>2</td>\n",
       "      <td>0</td>\n",
       "      <td>1</td>\n",
       "      <td>0</td>\n",
       "      <td>0</td>\n",
       "      <td>0</td>\n",
       "      <td>0</td>\n",
       "      <td>2</td>\n",
       "      <td>0</td>\n",
       "      <td>-1</td>\n",
       "      <td>0.0</td>\n",
       "      <td>0</td>\n",
       "      <td>1</td>\n",
       "      <td>패션의류</td>\n",
       "      <td>남성의류</td>\n",
       "      <td>니트/스웨터</td>\n",
       "      <td></td>\n",
       "    </tr>\n",
       "    <tr>\n",
       "      <th>1</th>\n",
       "      <td>2</td>\n",
       "      <td>3.0</td>\n",
       "      <td>40.0</td>\n",
       "      <td>60.0</td>\n",
       "      <td>2</td>\n",
       "      <td>20.0</td>\n",
       "      <td>100346</td>\n",
       "      <td>2019-01-01 06:20:00</td>\n",
       "      <td>의류</td>\n",
       "      <td>테이트 남성 셀린니트3종</td>\n",
       "      <td>201072</td>\n",
       "      <td>3262000</td>\n",
       "      <td>39900</td>\n",
       "      <td>0.666667</td>\n",
       "      <td>2</td>\n",
       "      <td>0</td>\n",
       "      <td>1</td>\n",
       "      <td>0</td>\n",
       "      <td>0</td>\n",
       "      <td>0</td>\n",
       "      <td>0</td>\n",
       "      <td>2</td>\n",
       "      <td>0</td>\n",
       "      <td>-1</td>\n",
       "      <td>0.0</td>\n",
       "      <td>0</td>\n",
       "      <td>1</td>\n",
       "      <td>패션의류</td>\n",
       "      <td>남성의류</td>\n",
       "      <td>니트/스웨터</td>\n",
       "      <td></td>\n",
       "    </tr>\n",
       "    <tr>\n",
       "      <th>2</th>\n",
       "      <td>3</td>\n",
       "      <td>3.0</td>\n",
       "      <td>60.0</td>\n",
       "      <td>60.0</td>\n",
       "      <td>4</td>\n",
       "      <td>20.0</td>\n",
       "      <td>100346</td>\n",
       "      <td>2019-01-01 06:40:00</td>\n",
       "      <td>의류</td>\n",
       "      <td>테이트 남성 셀린니트3종</td>\n",
       "      <td>201072</td>\n",
       "      <td>6672000</td>\n",
       "      <td>39900</td>\n",
       "      <td>1.000000</td>\n",
       "      <td>2</td>\n",
       "      <td>0</td>\n",
       "      <td>1</td>\n",
       "      <td>0</td>\n",
       "      <td>0</td>\n",
       "      <td>0</td>\n",
       "      <td>0</td>\n",
       "      <td>2</td>\n",
       "      <td>0</td>\n",
       "      <td>-1</td>\n",
       "      <td>0.0</td>\n",
       "      <td>0</td>\n",
       "      <td>1</td>\n",
       "      <td>패션의류</td>\n",
       "      <td>남성의류</td>\n",
       "      <td>니트/스웨터</td>\n",
       "      <td></td>\n",
       "    </tr>\n",
       "    <tr>\n",
       "      <th>3</th>\n",
       "      <td>1</td>\n",
       "      <td>2.0</td>\n",
       "      <td>20.0</td>\n",
       "      <td>40.0</td>\n",
       "      <td>164</td>\n",
       "      <td>20.0</td>\n",
       "      <td>100346</td>\n",
       "      <td>2019-01-03 00:00:00</td>\n",
       "      <td>의류</td>\n",
       "      <td>테이트 남성 셀린니트3종</td>\n",
       "      <td>201072</td>\n",
       "      <td>7329000</td>\n",
       "      <td>39900</td>\n",
       "      <td>0.500000</td>\n",
       "      <td>2</td>\n",
       "      <td>0</td>\n",
       "      <td>1</td>\n",
       "      <td>0</td>\n",
       "      <td>0</td>\n",
       "      <td>0</td>\n",
       "      <td>0</td>\n",
       "      <td>2</td>\n",
       "      <td>0</td>\n",
       "      <td>-1</td>\n",
       "      <td>0.0</td>\n",
       "      <td>0</td>\n",
       "      <td>1</td>\n",
       "      <td>패션의류</td>\n",
       "      <td>남성의류</td>\n",
       "      <td>니트/스웨터</td>\n",
       "      <td></td>\n",
       "    </tr>\n",
       "    <tr>\n",
       "      <th>4</th>\n",
       "      <td>2</td>\n",
       "      <td>2.0</td>\n",
       "      <td>40.0</td>\n",
       "      <td>40.0</td>\n",
       "      <td>166</td>\n",
       "      <td>20.0</td>\n",
       "      <td>100346</td>\n",
       "      <td>2019-01-03 00:20:00</td>\n",
       "      <td>의류</td>\n",
       "      <td>테이트 남성 셀린니트3종</td>\n",
       "      <td>201072</td>\n",
       "      <td>10481000</td>\n",
       "      <td>39900</td>\n",
       "      <td>1.000000</td>\n",
       "      <td>2</td>\n",
       "      <td>0</td>\n",
       "      <td>1</td>\n",
       "      <td>0</td>\n",
       "      <td>0</td>\n",
       "      <td>0</td>\n",
       "      <td>0</td>\n",
       "      <td>2</td>\n",
       "      <td>0</td>\n",
       "      <td>-1</td>\n",
       "      <td>0.0</td>\n",
       "      <td>0</td>\n",
       "      <td>1</td>\n",
       "      <td>패션의류</td>\n",
       "      <td>남성의류</td>\n",
       "      <td>니트/스웨터</td>\n",
       "      <td></td>\n",
       "    </tr>\n",
       "  </tbody>\n",
       "</table>\n",
       "</div>"
      ],
      "text/plain": [
       "   cast_count  cast_count_sum  cast_time  cast_time_sum  index  노출(분)    마더코드  \\\n",
       "0           1             3.0       20.0           60.0      0   20.0  100346   \n",
       "1           2             3.0       40.0           60.0      2   20.0  100346   \n",
       "2           3             3.0       60.0           60.0      4   20.0  100346   \n",
       "3           1             2.0       20.0           40.0    164   20.0  100346   \n",
       "4           2             2.0       40.0           40.0    166   20.0  100346   \n",
       "\n",
       "                 방송일시 상품군            상품명    상품코드       취급액   판매단가  \\\n",
       "0 2019-01-01 06:00:00  의류  테이트 남성 셀린니트3종  201072   2099000  39900   \n",
       "1 2019-01-01 06:20:00  의류  테이트 남성 셀린니트3종  201072   3262000  39900   \n",
       "2 2019-01-01 06:40:00  의류  테이트 남성 셀린니트3종  201072   6672000  39900   \n",
       "3 2019-01-03 00:00:00  의류  테이트 남성 셀린니트3종  201072   7329000  39900   \n",
       "4 2019-01-03 00:20:00  의류  테이트 남성 셀린니트3종  201072  10481000  39900   \n",
       "\n",
       "   cast_time_ratio  판매단가_cat  할인여부 가격_9x 상품명_plan 상품명_add 상품명_maker 상품명_set  \\\n",
       "0         0.333333         2     0     1        0       0         0       0   \n",
       "1         0.666667         2     0     1        0       0         0       0   \n",
       "2         1.000000         2     0     1        0       0         0       0   \n",
       "3         0.500000         2     0     1        0       0         0       0   \n",
       "4         1.000000         2     0     1        0       0         0       0   \n",
       "\n",
       "  상품명_sex 상품명_kid  fake_weight  fake_weight2  com  fake_weight3  cat1  cat2  \\\n",
       "0       2       0           -1           0.0    0             1  패션의류  남성의류   \n",
       "1       2       0           -1           0.0    0             1  패션의류  남성의류   \n",
       "2       2       0           -1           0.0    0             1  패션의류  남성의류   \n",
       "3       2       0           -1           0.0    0             1  패션의류  남성의류   \n",
       "4       2       0           -1           0.0    0             1  패션의류  남성의류   \n",
       "\n",
       "     cat3 cat4  \n",
       "0  니트/스웨터       \n",
       "1  니트/스웨터       \n",
       "2  니트/스웨터       \n",
       "3  니트/스웨터       \n",
       "4  니트/스웨터       "
      ]
     },
     "metadata": {},
     "output_type": "display_data"
    },
    {
     "name": "stdout",
     "output_type": "stream",
     "text": [
      "병합 완료!\n"
     ]
    }
   ],
   "source": [
    "category = cat_finder(df_all)"
   ]
  },
  {
   "cell_type": "code",
   "execution_count": 33,
   "metadata": {},
   "outputs": [],
   "source": [
    "# 결측치를 먼저 채워 줍니다.\n",
    "category['cat3'] = category.apply(lambda x: x['cat2'] if x['cat3'] != x['cat3'] else x['cat3'], axis=1)\n",
    "\n",
    "# 원래 데이터와 병합을 위해 key값을 생성해줍니다.\n",
    "def preprocessing_to_merge(df):\n",
    "    # merge를 위해 datetime으로 바꿔줍니다..\n",
    "    df['방송일시'] = pd.to_datetime(df['방송일시'], errors='coerce')\n",
    "    df['방송일시'] = df['방송일시'].astype(str)    \n",
    "    # key 칼럼을 만들어줍니다. 방송일시만으로는 안되니, 방송일시+상품명을 해줍니다.\n",
    "    df['key'] = df['방송일시'] + df['상품명']\n",
    "    return df\n",
    "\n",
    "# 두 데이터를 병합합니다.\n",
    "def preprocessing_merging(df1, df2):\n",
    "    # df1이 왼쪽, df2가 오른쪽입니다.\n",
    "    df3 = pd.merge(df1, df2[['key','cat1','cat2','cat3']], how='left', on=['key'])\n",
    "    df3 = df3.drop('key', axis=1) # key 칼럼은 드랍.\n",
    "    \n",
    "    return df3"
   ]
  },
  {
   "cell_type": "code",
   "execution_count": 34,
   "metadata": {},
   "outputs": [
    {
     "data": {
      "text/plain": [
       "(40088, 30)"
      ]
     },
     "execution_count": 34,
     "metadata": {},
     "output_type": "execute_result"
    }
   ],
   "source": [
    "# 생성한 함수를 이용해 두 데이터의 병합을 진행합니다.\n",
    "df_all = preprocessing_to_merge(df_all)\n",
    "category1 = preprocessing_to_merge(category)\n",
    "df_all = preprocessing_merging(df_all, category1)\n",
    "df_all.shape"
   ]
  },
  {
   "cell_type": "markdown",
   "metadata": {},
   "source": [
    "## 방송일시와 관련된 변수를 생성합니다."
   ]
  },
  {
   "cell_type": "code",
   "execution_count": 35,
   "metadata": {},
   "outputs": [
    {
     "data": {
      "text/plain": [
       "(40088, 43)"
      ]
     },
     "execution_count": 35,
     "metadata": {},
     "output_type": "execute_result"
    }
   ],
   "source": [
    "# 방송일시를 분할하여 변수를 새롭게 생성합니다.\n",
    "def preprocessing_4(train):\n",
    "    train['방송일시'] = pd.to_datetime(train['방송일시'], errors='coerce')\n",
    "\n",
    "    # 월일이 다음날로 넘어가는 것을 막기 위해서 3시간씩 앞으로 땡겨줍니다. 마지막에 다시 더해줘야 합니다.\n",
    "    delta = datetime.timedelta(hours=3)\n",
    "    train['방송일시'] = train.방송일시.apply(lambda x: x - delta)\n",
    "\n",
    "    # dayofweek는 날짜에서 요일(월~일)을 가져오는 기능입니다.\n",
    "    # 값은 0(월), 1(화), 2(수), 3(목), 4(금), 5(토), 6(일) 을 나타냅니다.\n",
    "    train[\"방송일시_dow\"] = train[\"방송일시\"].dt.dayofweek\n",
    "\n",
    "    # 요일 외에 다른 정보를 가져오기 위해서 다시 string으로 바꿔줍니다.\n",
    "    train['방송일시'] = train.방송일시.astype(str)\n",
    "\n",
    "    # MMDDhhmm 정보를 가져옵니다.\n",
    "    train['방송일시_MM'] = train['방송일시'].apply(lambda x: x[5:7])\n",
    "    train['방송일시_DD'] = train['방송일시'].apply(lambda x: x[8:10])\n",
    "    train['방송일시_hh'] = train['방송일시'].apply(lambda x: x[11:13])\n",
    "    train['방송일시_mm'] = train['방송일시'].apply(lambda x: x[14:16])\n",
    "\n",
    "    # schedule 관련 칼럼을 더 만들어보겠습니다. # MMDD # DDHH # HHMM # weekday/weekends\n",
    "    train['방송일시_MMDD'] = train['방송일시_MM'] + train['방송일시_DD']\n",
    "    train['방송일시_DDhh'] = train['방송일시_DD'] + train['방송일시_hh']\n",
    "    train['방송일시_hhmm'] = train['방송일시_hh'] + train['방송일시_mm']\n",
    "    train['방송일시_MMDDhh'] = train['방송일시_MM'] + train['방송일시_DD'] + train['방송일시_hh']\n",
    "\n",
    "    # mmmm_1 은 1일 사이클로 분단위로 환산한 것\n",
    "    # mmmm_2 는 1달 사이클로 분단위로 환산한 것\n",
    "    # mmmm_3 는 1년 사이클로 분단위로 환산한 것\n",
    "    train['방송일시_mmmm_1'] = train['방송일시_hh'].astype(int) * train['방송일시_mm'].astype(int) * 60\n",
    "    train['방송일시_mmmm_2'] = train['방송일시_DD'].astype(int) * train['방송일시_hh'].astype(int) * train['방송일시_mm'].astype(int) * 60\n",
    "    train['방송일시_mmmm_3'] = train['방송일시_MM'].astype(int) * train['방송일시_DD'].astype(int) * train['방송일시_hh'].astype(int) * train['방송일시_mm'].astype(int) * 60\n",
    "\n",
    "    # weekday = 1 / weekends = 0\n",
    "    train.loc[train.방송일시_dow == 5, '방송일시_dow2'] = '0'\n",
    "    train.loc[train.방송일시_dow == 6, '방송일시_dow2'] = '0'\n",
    "    train['방송일시_dow2'] = train.방송일시_dow2.fillna('1')\n",
    "    \n",
    "    # 데이터 타입을 변환합니다.\n",
    "    train['방송일시_dow'] = train.방송일시_dow.astype(np.int16)\n",
    "    train['방송일시_MM'] = train.방송일시_MM.astype('category')\n",
    "    train['방송일시_DD'] = train.방송일시_DD.astype('category')\n",
    "    train['방송일시_hh'] = train.방송일시_hh.astype('category')\n",
    "    train['방송일시_mm'] = train.방송일시_mm.astype('category')\n",
    "    train['방송일시_MMDD'] = train.방송일시_MMDD.astype('category')\n",
    "    train['방송일시_DDhh'] = train.방송일시_DDhh.astype('category')\n",
    "    train['방송일시_hhmm'] = train.방송일시_hhmm.astype('category')\n",
    "    train['방송일시_dow2'] = train.방송일시_dow2.astype('category')\n",
    "    \n",
    "    return train\n",
    "\n",
    "df_all = preprocessing_4(df_all)\n",
    "df_all.shape"
   ]
  },
  {
   "cell_type": "code",
   "execution_count": 36,
   "metadata": {},
   "outputs": [
    {
     "data": {
      "text/plain": [
       "(40088, 46)"
      ]
     },
     "execution_count": 36,
     "metadata": {},
     "output_type": "execute_result"
    }
   ],
   "source": [
    "# 방송시간을 기준으로 카테고리 변수를 새로 생성합니다.\n",
    "list_0 = ['03', '04', '05', '06', '07','08'] # 낮12시 이전\n",
    "list_1 = ['09', '10', '11', '12', '13','14', '15', '16', '17'] # 낮 12시부터\n",
    "list_2 = ['18', '19', '20', '21', '22', '23'] # 밤 9시부터\n",
    "list_4 = ['03', '21', '22', '23'] # 심야시간대, 03, 21, 22, 23\n",
    "list_5 = ['04', '05', '06', '07', '08', '09'] # 낮 12시까지 오전\n",
    "list_6 = ['10', '11', '12', '13', '14', '15'] # 저녁 18시 이전까지 오후, 나머진 저녁\n",
    "\n",
    "df_all['time_cat'] = df_all['방송일시_hh'].apply(lambda x:0 if x in list_0 else(1 if x in list_1 else (2 if x in list_2 else 3)))\n",
    "df_all['time_cat2'] = df_all['방송일시_hh'].apply(lambda x:0 if x in list_4 else(1 if x in list_5 else (2 if x in list_6 else 3)))\n",
    "\n",
    "# 시간대별 평균 취급액을 추가합니다.\n",
    "tmp = df_all.groupby('방송일시_hhmm').mean()[['취급액']].reset_index()\n",
    "df_all = pd.merge(df_all, tmp, on='방송일시_hhmm', how='left')\n",
    "df_all.rename({'취급액_y':'mean_amt_by_hhmm','취급액_x':'취급액'}, axis=1, inplace=True)\n",
    "df_all.shape"
   ]
  },
  {
   "cell_type": "markdown",
   "metadata": {},
   "source": [
    "## 상품명과 관련한 변수를 생성합니다."
   ]
  },
  {
   "cell_type": "code",
   "execution_count": 37,
   "metadata": {},
   "outputs": [
    {
     "data": {
      "text/plain": [
       "(40088, 48)"
      ]
     },
     "execution_count": 37,
     "metadata": {},
     "output_type": "execute_result"
    }
   ],
   "source": [
    "#상품명에서 불필요 단어를 제외한 새로운 상품명, 상품의 브랜드 정보를 추출합니다.\n",
    "\n",
    "def pre_nlp(train):\n",
    "    # 제품명에서 불필요한 요소 전처리\n",
    "    new_product_name = []\n",
    "    re_stop = re.compile(\"\"\"\\([가-힣]{1,5}\\+[가-힣]{1,5}\\)|\\(?무이자\\)?\\s?|\\(?일시불\\)?\\s?|\\(?초특가\\)?\\s?|\\(?무\\)\\s?|\\(?유\\)\\s?|\\(?일\\)\\s?|무료체험|\n",
    "    |포함|국내[가-힣]+\\s|무료설치|\\s?신제품\\s?|\\s?패키지\\s?|[0-9]+종|풀코디|set|SET|풀세트|[0-9]+세트|더블팩|싱글팩|[0-9]{1,2}\\+[0-9]{1,2}|[0-9]{1,2}인용|[0-9]{1,2}박스|[0-9\\.]{1,4}미터|[0-9\\.]{1,4}kg|[0-9\\.]{1,4}[kKgG]|[0-9]{1,3}[벌롤종단구대P개통병포미봉팩장gL매]|\n",
    "    |\\s[0-9\\.]{1,4}[Mm]|\\(.{1,10}\\)$|^\\(.?\\)|^[0-9]{2,4}\\s|\\s+[0-9]{2,4}\\s|[0-9]{2,4}년\\s|[0-9]{2,4}년형\\s|시즌[0-9]|[0-9]{1,3}\\%|\\(.{1,20}\\)$|기본형|고급형|오리지널|[대중소大中小]형|.{1,10}by|,|\\s?총[0-9\\s]|^[가-힣a-zA-Z]{3,3}의|\n",
    "    |S\\/S|F\\/W|f\\/w|s\\/s|[가-힣]+형\\s|[슈퍼]{0,2}싱글|\\s[SQK퀸킹]{1,2}\\s|[SQK퀸킹]{1,2}$|[가-힣]{0,2}사이즈\"\"\")\n",
    "    remnants = re.compile('[\",g\\+lL-]\\s|ml|_|\\sx|[\\[\\]\\］!\"#$%&\\'()*+,./:;<=>?@\\^_`{|}~-]|\\s종$|\\s[0-9]+\\s|\\s{2,}')\n",
    "\n",
    "    for i in train.상품명:\n",
    "        tmp = re_stop.sub(' ',i)\n",
    "        tmp = tmp.strip()\n",
    "        tmp = remnants.sub(' ',tmp)\n",
    "        new_product_name.append(tmp.strip())\n",
    "    \n",
    "    train['new_상품명'] = new_product_name\n",
    "\n",
    "    # 상품명에서 브랜드 추출\n",
    "    train['상품명_brand'] = train['new_상품명'].apply(lambda x: x[:2])\n",
    "    \n",
    "    return train\n",
    "\n",
    "df_all = pre_nlp(df_all)\n",
    "df_all.shape"
   ]
  },
  {
   "cell_type": "markdown",
   "metadata": {},
   "source": [
    "## 네이버 쇼핑의 데이터를 크롤링해 새로운 정보를 가져옵니다."
   ]
  },
  {
   "cell_type": "code",
   "execution_count": 38,
   "metadata": {},
   "outputs": [
    {
     "data": {
      "application/vnd.jupyter.widget-view+json": {
       "model_id": "65471ccfe1d545a29b60ee852e0f30f4",
       "version_major": 2,
       "version_minor": 0
      },
      "text/plain": [
       "HBox(children=(FloatProgress(value=0.0, max=1998.0), HTML(value='')))"
      ]
     },
     "metadata": {},
     "output_type": "display_data"
    },
    {
     "name": "stdout",
     "output_type": "stream",
     "text": [
      "\n"
     ]
    }
   ],
   "source": [
    "# 원 데이터의 상품명을 네이버 쇼핑에 검색하는 로직을 생성합니다.\n",
    "name = df_all['상품명'].unique().tolist()\n",
    "url1 = 'https://search.shopping.naver.com/search/all?query='\n",
    "url2 = '&cat_id=&frm=NVSHATC'\n",
    "\n",
    "# 네이버 쇼핑에서 같은 상품의 가격 정보와 리뷰 개수를 가져옵니다.\n",
    "price = []\n",
    "review = []\n",
    "for i in tqdm_notebook(range(len(name))):\n",
    "    r=requests.get(url1+name[i]+url2)\n",
    "    html = r.text\n",
    "    soup = BeautifulSoup(html, 'html.parser')\n",
    "    review1 = soup.find_all('em', 'basicList_num__1yXM9', limit=1)\n",
    "    price1 = soup.find_all('span', 'price_num__2WUXn', limit=1)\n",
    "    if len(price1) == 1:\n",
    "        price.append(price1[0].text)\n",
    "    else:\n",
    "        price.append(0)\n",
    "    if len(review1) == 1:\n",
    "        review.append(review1[0].text)\n",
    "    else:\n",
    "        review.append(0)"
   ]
  },
  {
   "cell_type": "code",
   "execution_count": 39,
   "metadata": {},
   "outputs": [],
   "source": [
    "# 가져온 정보를 새로운 Dataframe으로 변환합니다.\n",
    "naver = pd.DataFrame()\n",
    "naver['상품명'] = name\n",
    "naver['review_counts'] = review\n",
    "naver['internet_price'] = price\n",
    "\n",
    "# 중복 값은 제거합니다.\n",
    "naver = naver.drop_duplicates(subset=['상품명'])"
   ]
  },
  {
   "cell_type": "code",
   "execution_count": 40,
   "metadata": {},
   "outputs": [
    {
     "data": {
      "text/plain": [
       "(40088, 52)"
      ]
     },
     "execution_count": 40,
     "metadata": {},
     "output_type": "execute_result"
    }
   ],
   "source": [
    "# 크롤링 결과를 원 데이터에 합친 이후 전처리합니다.\n",
    "def outside_feature_naver(train, naver):\n",
    "    train = pd.merge(train, naver, on='상품명', how='left')\n",
    "    \n",
    "    # 불필요 요소를 삭제한 이후 데이터 타입을 int로 변경합니다.\n",
    "    train['review_counts'] = train['review_counts'].astype(str)\n",
    "    train['internet_price'] = train['internet_price'].astype(str)\n",
    "    train['review_counts'] = train['review_counts'].apply(lambda x: x.replace(',',''))\n",
    "    train['internet_price'] = train['internet_price'].apply(lambda x: x.replace(',',''))\n",
    "    train['internet_price'] = train['internet_price'].apply(lambda x: x.replace('원',''))\n",
    "    train['review_counts'] = train['review_counts'].astype(int)\n",
    "    train['internet_price'] = train['internet_price'].astype(int)\n",
    "\n",
    "    # 오차를 컬럼으로 만들어줍니다.\n",
    "    train['price_minus'] = train['판매단가'] - train['internet_price']\n",
    "\n",
    "    # 네이버에 서칭이 되는지 여부를 구분합니다.\n",
    "    train['search_naver'] = train['internet_price'] + train['review_counts']\n",
    "    train['search_naver'] = train['search_naver'].apply(lambda x: 0 if x == 0 else 1)\n",
    "    \n",
    "    return train\n",
    "\n",
    "df_all = outside_feature_naver(df_all, naver)\n",
    "df_all.shape"
   ]
  },
  {
   "cell_type": "markdown",
   "metadata": {},
   "source": [
    "## 기상 관련 정보를 이용해 새로운 변수를 생성합니다. (데이터는 기상청 제공 파일입니다.)"
   ]
  },
  {
   "cell_type": "code",
   "execution_count": 41,
   "metadata": {},
   "outputs": [],
   "source": [
    "# 기상청 통계 파일 읽기\n",
    "weather_train = pd.read_csv('weather_train.csv', encoding='latin1')\n",
    "weather_test = pd.read_csv('weather_test.csv', encoding='latin1')\n",
    "weather = pd.concat([weather_train, weather_test], ignore_index=True)\n",
    "columns = ['location_id','location','date','temperature']\n",
    "weather.columns = columns"
   ]
  },
  {
   "cell_type": "code",
   "execution_count": 42,
   "metadata": {},
   "outputs": [],
   "source": [
    "# 날씨 정보를 원 데이터와 합치기위해 시간을 기준으로 데이터를 분할합니다.\n",
    "def outside_feature_weather(weather):\n",
    "    \n",
    "    weather['date'] = pd.to_datetime(weather['date'], errors='coerce')\n",
    "\n",
    "    # 월일이 다음날로 넘어가는 것을 막기 위해서 3시간씩 앞으로 땡겨줍니다. 마지막에 다시 더해줘야 합니다.\n",
    "    delta = datetime.timedelta(hours=3)\n",
    "    weather['date'] = weather.date.apply(lambda x: x - delta)\n",
    "\n",
    "    # 요일 외에 다른 정보를 가져오기 위해서 다시 string으로 바꿔줍니다.\n",
    "    weather['date'] = weather.date.astype(str)\n",
    "    \n",
    "    # key column 만들어주어 데이터를 병합할 수 있도록 합니다.\n",
    "    weather['weather_key'] = (\n",
    "        weather['date'].apply(lambda x: x[2:4]) + \n",
    "        weather['date'].apply(lambda x: x[5:7]) + \n",
    "        weather['date'].apply(lambda x: x[8:10]) + \n",
    "        weather['date'].apply(lambda x: x[11:13])\n",
    "    )\n",
    "\n",
    "    # 필요없는 칼럼은 미리 버려줍니다.\n",
    "    weather.drop(['location_id', 'location', 'date'], axis=1, inplace=True)\n",
    "    \n",
    "    return weather"
   ]
  },
  {
   "cell_type": "code",
   "execution_count": 43,
   "metadata": {},
   "outputs": [
    {
     "data": {
      "text/plain": [
       "(40088, 53)"
      ]
     },
     "execution_count": 43,
     "metadata": {},
     "output_type": "execute_result"
    }
   ],
   "source": [
    "# 생성한 함수를 이용해 날씨 정보를 합쳐줍니다.\n",
    "weather = outside_feature_weather(weather)\n",
    "# key column 만들어주기\n",
    "df_all['weather_key'] = (\n",
    "    df_all['방송일시'].apply(lambda x: x[2:4]) + \n",
    "    df_all['방송일시'].apply(lambda x: x[5:7]) + \n",
    "    df_all['방송일시'].apply(lambda x: x[8:10]) + \n",
    "    df_all['방송일시'].apply(lambda x: x[11:13])\n",
    ")\n",
    "\n",
    "df_all = pd.merge(df_all, weather, on='weather_key', how='left')\n",
    "\n",
    "# 관측이 안 된 날이 있어 그 전 시점의 날씨로 대체합니다.\n",
    "df_all['temperature'] = df_all['temperature'].fillna(method='ffill')\n",
    "# key column을 지워줍니다.\n",
    "df_all.drop(['weather_key'], axis=1, inplace=True)\n",
    "df_all.shape"
   ]
  },
  {
   "cell_type": "markdown",
   "metadata": {},
   "source": [
    "## 코스피 지수를 이용한 외부 데이터를 생성합니다. (데이터는 investing.com 제공 파일입니다.)"
   ]
  },
  {
   "cell_type": "code",
   "execution_count": 44,
   "metadata": {},
   "outputs": [],
   "source": [
    "# train, test 시기의 KOSPI 데이터를 받은 후 이를 합쳐줍니다.\n",
    "kospi_train = pd.read_csv('KOSPI_train.csv')\n",
    "kospi_test = pd.read_csv('KOSPI_test.csv')\n",
    "kospi = pd.concat([kospi_train, kospi_test], ignore_index=True)"
   ]
  },
  {
   "cell_type": "code",
   "execution_count": 45,
   "metadata": {},
   "outputs": [],
   "source": [
    "# 코스피 지수를 원 데이터와 병합하기 위해 데이터를 처리합니다.\n",
    "df_all['kospi_key'] = (\n",
    "    df_all['방송일시'].apply(lambda x: x[2:4]) + \n",
    "    df_all['방송일시'].apply(lambda x: x[5:7]) + \n",
    "    df_all['방송일시'].apply(lambda x: x[8:10]))\n",
    "kospi['Date'] = pd.to_datetime(kospi['Date'], errors='coerce')\n",
    "kospi['Date'] = kospi['Date'].astype(str)\n",
    "kospi['kospi_key'] = kospi['Date'].apply(lambda x: x[2:4]) + kospi['Date'].apply(lambda x: x[5:7]) + kospi['Date'].apply(lambda x: x[8:10])\n",
    "\n",
    "def kospi_feature(kospi,df_all):\n",
    "    kospi = kospi[['Date','Change %','kospi_key']] # 날짜와 전날 대비 코스피 지수의 변동 정보를 가져옵니다.\n",
    "    kospi['Change %'] = kospi['Change %'].apply(lambda x: x[:-1]) # 변동에서 '%' 문자를 지워줍니다.\n",
    "    kospi['Change %'] = kospi['Change %'].astype(float) # float 형식으로 데이터 타입을 변경합니다.\n",
    "    df_all = pd.merge(df_all, kospi, on ='kospi_key',how='left')\n",
    "    df_all['Change %'] = df_all['Change %'].fillna(0) # 날짜가 없는 경우 변동이 없는 경우이므로 0을 넣습니다.\n",
    "    \n",
    "    return df_all"
   ]
  },
  {
   "cell_type": "code",
   "execution_count": 46,
   "metadata": {},
   "outputs": [
    {
     "data": {
      "text/plain": [
       "(40088, 56)"
      ]
     },
     "execution_count": 46,
     "metadata": {},
     "output_type": "execute_result"
    }
   ],
   "source": [
    "df_all = kospi_feature(kospi,df_all)\n",
    "df_all.shape"
   ]
  },
  {
   "cell_type": "markdown",
   "metadata": {},
   "source": [
    "## 네이버 datalab을 이용해 NS홈쇼핑 검색 관련 변수를 생성합니다. (데이터는 datalab에서 제공한 파일입니다.)"
   ]
  },
  {
   "cell_type": "code",
   "execution_count": 47,
   "metadata": {},
   "outputs": [],
   "source": [
    "# train, test 시기의 검색 데이터를 받은 후 이를 합쳐줍니다.\n",
    "search_train = pd.read_excel('datalab_train.xlsx',skiprows=6)\n",
    "search_test = pd.read_excel('datalab_test.xlsx',skiprows=6)\n",
    "search = pd.concat([search_train, search_test], ignore_index=True)"
   ]
  },
  {
   "cell_type": "code",
   "execution_count": 48,
   "metadata": {},
   "outputs": [],
   "source": [
    "df_all['날짜'] = df_all['방송일시'].apply(lambda x: x[2:4]) + df_all['방송일시'].apply(lambda x: x[5:7]) + df_all['방송일시'].apply(lambda x: x[8:10])"
   ]
  },
  {
   "cell_type": "code",
   "execution_count": 49,
   "metadata": {},
   "outputs": [
    {
     "data": {
      "text/plain": [
       "(40088, 58)"
      ]
     },
     "execution_count": 49,
     "metadata": {},
     "output_type": "execute_result"
    }
   ],
   "source": [
    "# 검색 데이터를 원 데이터와 합치기 위해 함수를 생성합니다.\n",
    "def search_data(search, df_all):\n",
    "    search = search[['날짜','NS홈쇼핑']] # NS 홈쇼핑의 상대적 검생량만을 가져옵니다.\n",
    "    search['날짜'] = search['날짜'].apply(lambda x: x[2:])\n",
    "    search['날짜'] = search['날짜'].apply(lambda x: x.replace('-',''))\n",
    "    df_all = pd.merge(df_all, search, on = '날짜', how = 'left') # 원 데이터와 병합해줍니다.\n",
    "    df_all.rename({'NS홈쇼핑':'search_compare'},axis=1, inplace= True)\n",
    "    return df_all\n",
    "\n",
    "df_all = search_data(search, df_all)\n",
    "df_all.shape"
   ]
  },
  {
   "cell_type": "markdown",
   "metadata": {},
   "source": [
    "## 카테고리 데이터 인코딩"
   ]
  },
  {
   "cell_type": "code",
   "execution_count": 50,
   "metadata": {},
   "outputs": [],
   "source": [
    "# 데이터에 category 형식의 변수가 많이 쌓였습니다.\n",
    "# one-hot encoding을 이용할 경우 변수가 너무 많아질 수 있으므로 label encoding을 준비합니다.\n",
    "def label_encoding(train_, columns, number):\n",
    "    length = range(number)\n",
    "    for c, i in zip(columns, length):\n",
    "        globals()['encoder_{}:'.format(i)] = LabelEncoder()\n",
    "        globals()['encoder_{}:'.format(i)].fit(train_[c].values)\n",
    "        train_['encoding_{}:'.format(c)] = globals()['encoder_{}:'.format(i)].transform(train_[c])\n",
    "\n",
    "# 인코딩할 컬럼을 리스트로 넣어줍니다.\n",
    "columns = ['상품명', '상품군', 'cat1', 'cat2', 'cat3', '상품명_brand', 'new_상품명']\n",
    "number = len(columns)\n",
    "\n",
    "# 생성한 함수로 인코딩을 처리합니다.\n",
    "label_encoding(df_all, columns, number)"
   ]
  },
  {
   "cell_type": "markdown",
   "metadata": {},
   "source": [
    "## 데이터 재분할"
   ]
  },
  {
   "cell_type": "code",
   "execution_count": 57,
   "metadata": {},
   "outputs": [
    {
     "name": "stdout",
     "output_type": "stream",
     "text": [
      "(40088, 64)\n",
      "(37372, 64)\n",
      "(35196, 64)\n",
      "(2716, 64)\n"
     ]
    }
   ],
   "source": [
    "# 생성한 데이터를 다시 train test 데이터로 분할합니다.\n",
    "df_all.drop(['index'], axis=1, inplace=True)\n",
    "print(df_all.shape)\n",
    "train = df_all.iloc[:37372]\n",
    "test = df_all.iloc[37372:]\n",
    "print(train.shape)\n",
    "# 예측 값 추정이 불가능한 취급액이 0원인 데이터를 제거해줍니다.\n",
    "train = train[train.취급액 != 0]\n",
    "\n",
    "# train 셋의 아웃라이어를 제거합니다.1억 이상의 취급액을 가진 데이터가 약 1% 정도 있습니다.\n",
    "train = train[train.취급액 < 100000000]\n",
    "print(train.shape)\n",
    "print(test.shape)"
   ]
  },
  {
   "cell_type": "markdown",
   "metadata": {},
   "source": [
    "# 2. 모델 학습"
   ]
  },
  {
   "cell_type": "code",
   "execution_count": 58,
   "metadata": {},
   "outputs": [],
   "source": [
    "# 학습에 이용할 변수를 정의합니다.\n",
    "# 변수 정의의 자세한 내용은 설명서 및 보조 설명서에 포함하였습니다.\n",
    "features = ['노출(분)','마더코드', '상품코드', '판매단가', 'cast_time', 'cast_count', 'cast_time_sum', 'cast_count_sum',\n",
    "             'cast_time_ratio', '상품명_plan', '상품명_add', '상품명_maker', '상품명_set', '상품명_sex', '상품명_kid',\n",
    "              'fake_weight', 'fake_weight2', '방송일시_hh', '방송일시_MMDD', '방송일시_hhmm', '방송일시_MMDDhh', '방송일시_dow2',\n",
    "              'review_counts', 'internet_price', 'price_minus', 'search_naver', '가격_9x', '할인여부', 'mean_amt_by_hhmm',\n",
    "              'time_cat2', '판매단가_cat', 'encoding_상품명:', 'encoding_상품군:', 'encoding_상품명_brand:', 'encoding_new_상품명:',\n",
    "              'encoding_cat1:', 'encoding_cat2:', 'encoding_cat3:', 'com', 'fake_weight3']\n",
    "\n",
    "# 종속변수의 이상치를 제거합니다.\n",
    "train = train[train['취급액'] < 100000000]\n",
    "\n",
    "# 독립변수와 종속변수를 할당해 학습 준비를 합니다.\n",
    "X_train = train[features]\n",
    "y_train = train['취급액'].values\n",
    "X_test = test[features]\n",
    "\n",
    "# 로그 변환을 적용합니다.\n",
    "y_train_log = np.log(y_train)"
   ]
  },
  {
   "cell_type": "code",
   "execution_count": 59,
   "metadata": {},
   "outputs": [
    {
     "data": {
      "text/plain": [
       "XGBRegressor(base_score=0.5, booster='gbtree', colsample_bylevel=1,\n",
       "             colsample_bynode=1, colsample_bytree=0.31, gamma=0, gpu_id=-1,\n",
       "             importance_type='gain', interaction_constraints='',\n",
       "             learning_rate=0.247, max_delta_step=0, max_depth=7,\n",
       "             min_child_weight=1, missing=nan, monotone_constraints='()',\n",
       "             n_estimators=300, n_jobs=0, num_parallel_tree=1, random_state=529,\n",
       "             reg_alpha=0, reg_lambda=1, scale_pos_weight=1, subsample=1,\n",
       "             tree_method='exact', validate_parameters=1, verbosity=None)"
      ]
     },
     "execution_count": 59,
     "metadata": {},
     "output_type": "execute_result"
    }
   ],
   "source": [
    "# XGBoost 모델을 이용해 학습을 진행합니다.\n",
    "# 최적 하이퍼 파라미터 관련 설명은 설명서에 포함했습니다.\n",
    "from xgboost import XGBRegressor\n",
    "X_train = np.array(X_train)\n",
    "X_test = np.array(X_test)\n",
    "xgb = XGBRegressor(learning_rate=0.247,\n",
    "                  max_depth=7,\n",
    "                  n_estimators=300,\n",
    "                    colsample_bytree=0.31,\n",
    "                  random_state=529)\n",
    "\n",
    "xgb.fit(X_train, y_train_log)"
   ]
  },
  {
   "cell_type": "code",
   "execution_count": 72,
   "metadata": {},
   "outputs": [],
   "source": [
    "# 테스트 데이터에 예측 결과를 도출한 후 다시 지수변환을 시행합니다.\n",
    "pred_log = xgb.predict(X_test)\n",
    "pred_log_T = np.exp(1)**pred_log"
   ]
  },
  {
   "cell_type": "code",
   "execution_count": 73,
   "metadata": {},
   "outputs": [],
   "source": [
    "# 예측된 수치를 test 데이터에 적용합니다.\n",
    "test['취급액'] = pred_log_T"
   ]
  },
  {
   "cell_type": "code",
   "execution_count": 74,
   "metadata": {},
   "outputs": [],
   "source": [
    "# 최종 Submission 파일을 저장합니다.\n",
    "submission = pd.read_excel('./02_평가데이터/2020 빅콘테스트 데이터분석분야-챔피언리그_2020년 6월 판매실적예측데이터(평가데이터).xlsx', skiprows=1)\n",
    "\n",
    "# 다시 데이터의 시간을 원상복구 시킵니다.\n",
    "test['방송일시'] = pd.to_datetime(test['방송일시'], errors='coerce')\n",
    "delta = datetime.timedelta(hours=3)\n",
    "test['방송일시'] = test['방송일시'].apply(lambda x: x + delta)"
   ]
  },
  {
   "cell_type": "code",
   "execution_count": 75,
   "metadata": {},
   "outputs": [
    {
     "name": "stdout",
     "output_type": "stream",
     "text": [
      "(2891, 8)\n",
      "(2891, 9)\n"
     ]
    }
   ],
   "source": [
    "# 두 데이터를 병합시킵니다.\n",
    "print(submission.shape)\n",
    "final = pd.merge(submission, test[['방송일시','상품명','취급액']], on =['방송일시','상품명'], how= 'left')\n",
    "print(final.shape)"
   ]
  },
  {
   "cell_type": "code",
   "execution_count": 76,
   "metadata": {},
   "outputs": [],
   "source": [
    "# 데이터 변수를 정리합니다.\n",
    "final.rename({'취급액_y':'취급액'}, axis=1, inplace=True)\n",
    "del final['취급액_x']"
   ]
  },
  {
   "cell_type": "code",
   "execution_count": 77,
   "metadata": {},
   "outputs": [
    {
     "name": "stdout",
     "output_type": "stream",
     "text": [
      "(2716, 8)\n"
     ]
    },
    {
     "data": {
      "text/plain": [
       "방송일시        0\n",
       "노출(분)    1111\n",
       "마더코드        0\n",
       "상품코드        0\n",
       "상품명         0\n",
       "상품군         0\n",
       "판매단가        0\n",
       "취급액         0\n",
       "dtype: int64"
      ]
     },
     "execution_count": 77,
     "metadata": {},
     "output_type": "execute_result"
    }
   ],
   "source": [
    "# 최종적으로 submission file을 확인합니다.\n",
    "print(final[final['취급액']>1].shape)\n",
    "final['취급액'] = final['취급액'].fillna(0)\n",
    "final.isnull().sum()"
   ]
  },
  {
   "cell_type": "code",
   "execution_count": 80,
   "metadata": {},
   "outputs": [],
   "source": [
    "final.to_csv('submission.csv',header=True, index = False, encoding = 'cp949')"
   ]
  },
  {
   "cell_type": "code",
   "execution_count": null,
   "metadata": {},
   "outputs": [],
   "source": []
  }
 ],
 "metadata": {
  "kernelspec": {
   "display_name": "Python 3",
   "language": "python",
   "name": "python3"
  },
  "language_info": {
   "codemirror_mode": {
    "name": "ipython",
    "version": 3
   },
   "file_extension": ".py",
   "mimetype": "text/x-python",
   "name": "python",
   "nbconvert_exporter": "python",
   "pygments_lexer": "ipython3",
   "version": "3.6.10"
  }
 },
 "nbformat": 4,
 "nbformat_minor": 2
}
